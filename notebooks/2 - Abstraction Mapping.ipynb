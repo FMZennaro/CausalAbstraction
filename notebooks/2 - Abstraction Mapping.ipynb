{
 "cells": [
  {
   "cell_type": "markdown",
   "metadata": {},
   "source": [
    "# Abstraction Mapping\n",
    "\n",
    "In this notebook we take a closer look to the definition of abstraction between causal models presented in [Rischel2020] and reviewed in the previous notebook *Categorical Abstraction.ipynb*. Along with the theoretical discussion we also define classes to encode SCMs and abstractions.\n",
    "\n",
    "This notebook was developed in order to get a deeper insight into the framework introduced in [Rischel2020], and it may hopefully be of help to develop a better understanding of such a framework. The notebook is structured as follows: \n",
    "- Review of the definition of abstraction (Section 2)\n",
    "- Analysis of the properties of abstractions at the level of mapping between variables (Section 3)\n",
    "- Analysis of the properties of abstractions at the level of mapping between domains (Section 4)\n",
    "- Summary of the properties of an abstraction (Section 5)\n",
    "- Discussion of some limitations in the definition of abstraction (Section 6)\n",
    "- Implementation of classes for SCMs and abstraction, and review of previous examples (Section 7)\n",
    "\n",
    "DISCLAIMER 1: the notebook refers to ideas from *causality* and *category theory* for which only a quick definition is offered. Useful references for causality are [Pearl2009,Peters2017], while for category theory are [Spivak2014,Fong2018].\n",
    "\n",
    "DISCLAIMER 2: mistakes are in all likelihood due to misunderstandings by the notebook author in reading [Rischel2020]. Feedback very welcome! :)"
   ]
  },
  {
   "cell_type": "markdown",
   "metadata": {},
   "source": [
    "# Definition of Abstraction\n",
    "\n",
    "Let us first recall the definition of abstraction from [Rischel2020].\n",
    "\n",
    "\n",
    "## Original definition\n",
    "Let $\\mathcal{M}$ and $\\mathcal{M'}$ be two **structural causal models (SCM)** defined on a finite number of (random) variables, each one with a finite domain of outcomes. (For a more precise definition of SCMs, see the previous notebook *Categorical Abstraction.ipynb*).\n",
    "\n",
    "Following [Rischel2020], an **abstraction** from a **low-level base model** $\\mathcal{M}$ to a **high-level abstracted model** $\\mathcal{M}'$ is defined as follows:\n",
    "\n",
    "1. A subset $R \\subseteq \\mathcal{X}_\\mathcal{M}$ of relevant (endogenous) variables of $\\mathcal{M}$;\n",
    "2. A surjective map $a: R \\rightarrow \\mathcal{X}_{\\mathcal{M}'}$ mapping the relevant (endogenous) variables of $\\mathcal{M}$ to the (endogenous) variables of $\\mathcal{M}'$ surjectively, so that all the (endogenous) variables in $\\mathcal{M}'$ have a pre-image in $\\mathcal{M}$;\n",
    "3. $\\forall X' \\in \\mathcal{X}_{\\mathcal{M}'}$, a surjective function $\\alpha_{X'}: \\mathcal{M}[a^{-1}(X')] \\rightarrow \\mathcal{M}'[X']$; that is, for every variable $X'$ in $\\mathcal{M}'$ with associated set $\\mathcal{M}'[X']$, there is a surjective mapping from the set $\\mathcal{M}[a^{-1}(X')]$ associated with the pre-image of $X'$ in $\\mathcal{M}$ along $a$. In other words, any outcome of the variable $X'$ in $\\mathcal{M}'$ is reachable from the pre-image of the outcomes of variables picked in $\\mathcal{M}$ by $a$.\n",
    "\n",
    "## Rephrasing\n",
    "\n",
    "For clarity, we rephrase this definition in two parts. An **abstraction** from a **low-level base model** $\\mathcal{M}$ to a **high-level abstracted model** $\\mathcal{M}'$ is defined by two parts:\n",
    "\n",
    "1. A **variable-level mapping $a$**: a surjective map $a: R \\rightarrow \\mathcal{X}_{\\mathcal{M}'}$, where $R \\subseteq \\mathcal{X}_\\mathcal{M}$, mapping the set $R$ of relevant (endogenous) variables of $\\mathcal{M}$ to the (endogenous) variables of $\\mathcal{M}'$ surjectively, so that all the (endogenous) variables in $\\mathcal{M}'$ have a pre-image in $\\mathcal{M}$;\n",
    "\n",
    "2. A **collection of domain-level mappings $\\alpha_{X'}$**: $\\forall X' \\in \\mathcal{X}_{\\mathcal{M}'}$, a surjective function $\\alpha_{X'}: \\mathcal{M}[a^{-1}(X')] \\rightarrow \\mathcal{M}'[X']$; that is, for every variable $X'$ in $\\mathcal{M}'$ with associated set $\\mathcal{M}'[X']$, there is a surjective mapping from the set $\\mathcal{M}[a^{-1}(X')]$ associated with the pre-image of $X'$ in $\\mathcal{M}$ along $a$. In other words, any outcome of the variable $X'$ in $\\mathcal{M}'$ is reachable from the pre-image of the outcomes of variables picked in $\\mathcal{M}$ by $a$.\n",
    "\n",
    "These two levels corresponds to the *structural layer* and the *distributional layer* discussed in [Zennaro2022b]. We now analyze the mappings on the two levels."
   ]
  },
  {
   "cell_type": "markdown",
   "metadata": {},
   "source": [
    "# Variable-level Mapping $a$\n",
    "\n",
    "Let us investigate the meaning and the implications of the definition of the mapping $a: R \\rightarrow \\mathcal{X}_{\\mathcal{M}'}$, especially in relation to its domain $R$ and codomain $\\mathcal{X}_{\\mathcal{M}'}$.\n",
    "\n",
    "Here, we have a single mapping that connects two sets: a set of relevant variables in the base model, and a set of endogenous variables in the abstracted model."
   ]
  },
  {
   "cell_type": "markdown",
   "metadata": {},
   "source": [
    "## Properties of $a$\n",
    "\n",
    "The mapping $a$ has three main properties: (i) it is applied *after a restriction*, (ii) it is a *function*, (iii) and it is *surjective*. This has the following consequences:\n",
    "\n",
    "1. Through restriction, we select only a subset of relevant variables $R \\subseteq \\mathcal{X}_{\\mathcal{M}}$ that we care about. This allows us to **ignore variables** when defining our variable-level mapping.\n",
    "2. By functionality, a variable in $\\mathcal{M}$ is mapped at most to a variable in $\\mathcal{M}'$, and, specifically **a variable in $R$ is mapped to a single variable in $\\mathcal{M}'$**. Ergo, variables in $\\mathcal{M}$ can not be *'split'* across variables in $\\mathcal{M'}$. This makes sense as abstraction implies simplification, and 'splitting' seems contrary to this notion.\n",
    "3. By surjectivity, $|R| \\geq |\\mathcal{X}_{\\mathcal{M}'}|$. We must select at least as many relevant variables as the endogenous variables in $\\mathcal{M}'$; or, equivalently, **the abstracted model $\\mathcal{M'}$ must have at most as many variables as the restriction $R$** (and the base model $\\mathcal{M}$). This also makes sense as abstraction implies simplification which, in this case, is interpreted as a reduction of the number of variables."
   ]
  },
  {
   "cell_type": "markdown",
   "metadata": {},
   "source": [
    "## Role of the restriction $R$\n",
    "\n",
    "The selection of relevant variables through a restriction allows to define the actual domain of the variable-level mapping (and, implicitly, what variables from the base model we discard).\n",
    "\n",
    "Intuitively, we can picture this process as such:\n",
    "- The set of endogenous variables $\\mathcal{X}_{\\mathcal{M}}$ in the original model defines the *origin* of the abstraction, the set of variables *from which* we abstract (but not, mathematically, the domain of the mapping $a$!)\n",
    "- The set of relevant variables $R$ in the original model defines the *object* of the abstraction, the set of variables *which* we abstract (mathematically this is a restriction that defines the domain of the mapping $a$)\n",
    "- The set of endogenous variables $\\mathcal{X}_{\\mathcal{M'}}$ in the abstracted model defines the *target* of the abstraction, the set of variables *to which* we abstract (mathematically this is the codomain, and by surjectivity, the range of the mapping $a$)\n",
    "\n",
    "The set $ \\mathcal{X}_{\\mathcal{M}} \\setminus R $ contains the variables that will be simply ignored by the variable-level mapping $a$."
   ]
  },
  {
   "cell_type": "markdown",
   "metadata": {},
   "source": [
    "## Choices for the domain $R$\n",
    "\n",
    "Let us consider limit cases for the choice of $R$.\n",
    "\n",
    "- If $R = \\emptyset$, we claim that there are no relevant variables in $\\mathcal{M}$. There is only the trivial absurd mapping $!: \\emptyset \\rightarrow \\mathcal{X}_{\\mathcal{M}'}$ which does not provide us with a surjective map $a$. Abstracting nothingness thus does not make sense.\n",
    "- If $R = \\{*\\}$, we claim that only one variable or quantity in $\\mathcal{M}$ is really important to us. The set of endogenous variables $\\mathcal{X}_{\\mathcal{M}'}$ is bound to have dimensionality $0$ or $1$. If the dimensionality is $0$ then there is no function $a$. Therefore the actual dimensionality of $\\mathcal{X}_{\\mathcal{M}'}$ must be $1$.\n",
    "- If $R \\subset \\mathcal{X}_{\\mathcal{M}}$, we claim that only a limited set of variables in the original model ${\\mathcal{M}}$ are of interest, while others may be discarded. In a proper abstraction process, we would probably expect that discarding means abstracting away (e.g., averaging out) more than simply throwing away. The dimensionality of $\\mathcal{X}_{\\mathcal{M}'}$ may range from $1$ to $|R|$.\n",
    "- If $R = \\mathcal{X}_{\\mathcal{M}}$, we claim that all variables in the original model are relevant. The dimensionality of $\\mathcal{X}_{\\mathcal{M}'}$ may range from $1$ to $|\\mathcal{X}_{\\mathcal{M}}|$."
   ]
  },
  {
   "cell_type": "markdown",
   "metadata": {},
   "source": [
    "## Choices for the codomain $\\mathcal{X}_{\\mathcal{M}'}$\n",
    "\n",
    "Let us consider limit cases for the choice of $\\mathcal{X}_{\\mathcal{M}'}$.\n",
    "\n",
    "- If $\\mathcal{X}_{\\mathcal{M}'} = \\emptyset$, we claim that the abstracted model $\\mathcal{M'}$ is null. No function $a$ can then be found (except for $R = \\emptyset$, which we have already discussed as not meaningful). Abstracting to nothingness thus does not make sense.\n",
    "- If $\\mathcal{X}_{\\mathcal{M}'} = \\{*\\}$, we claim that everything we care about may be modelled by a single variable. This amounts to forgetting any sort of explicit causal structure, and preserving only statistical behaviour.\n",
    "- If $|\\mathcal{X}_{\\mathcal{M}'}| < |R|$, we claim that less variables are required in the abstracted model $\\mathcal{M}'$ than the number of relevant variables $R$. This means that the contribution of certain variables will be merged (and, consequently, local causal structure forgotten).\n",
    "- If $|\\mathcal{X}_{\\mathcal{M}'}| = |R|$, we claim the each relevant variable will be mapped to a corresponding variable in the abstracted model $\\mathcal{M}'$. This makes the mapping $a$ both surjective (by definition) and injective. We then have an isomorphism between $\\mathcal{X}_{\\mathcal{M}'}$ and $R$ (but not necessarily between $\\mathcal{X}_{\\mathcal{M}'}$ and $\\mathcal{X}_{\\mathcal{M}}$).\n",
    "- If $|\\mathcal{X}_{\\mathcal{M}'}| > |R|$, we can not have a surjective mapping $a$."
   ]
  },
  {
   "cell_type": "markdown",
   "metadata": {},
   "source": [
    "## Pre-images under $a$\n",
    "\n",
    "Let us consider a variable in the set of endogenous variables of the abstracted model, $X' \\in \\mathcal{X}_\\mathcal{M'}$. By surjectivity, it must have a pre-image $a^{-1}(X')$. Let us analyze this pre-image.\n",
    "\n",
    "- $a^{-1}(X') = \\emptyset$; by surjectivity, this is not possible; each abstracted variable must have a pre-image. This again corresponds to saying that we can not abstract *from nothingness*, or that new variables in the abstracted model can not be created from thin air.\n",
    "\n",
    "- $a^{-1}(X') = X$; in the simplest case an abstracted variable has a single variable as a pre-image. This suggests that a specific low-level variable $X$ is deemed important enough to be preserved individually (although its mechanism/dynamics might be modified).\n",
    "\n",
    "- $a^{-1}(X') = \\{X_1, X_2,..., X_i\\}$; in this case an abstracted variables has a set of variables as a pre-image. This means that multiple low-level variables $X_1, X_2,..., X_i$ are somehow collapsed in a single high-level variable."
   ]
  },
  {
   "cell_type": "markdown",
   "metadata": {},
   "source": [
    "## Recap\n",
    "\n",
    "We can summarize the possible settings of the mapping $a$ in the following table, with the domain m=$|R|$ and the codomain n=$|\\mathcal{X}_{\\mathcal{M}'}|$:\n",
    "\n",
    "Domain m | Codomain n | Notes\n",
    ":---:|:---:|:---\n",
    "m=0 | n=0 | Abstracting no variable to no variable (not meaningful)\n",
    "m=0 | n>0 | Abstracting nothingness (no surjectivity)\n",
    "m>0 | n=0 | Abstracting to nothingness (no $a$ function)\n",
    "m=1 | n=1 | Abstracting a single variable\n",
    "m=1 | n>1 | Not an abstraction (no surjectivity)\n",
    "0<m<$\\vert\\mathcal{X}_{\\mathcal{M}}\\vert$ | n<m | Abstracting a set of relevant variables into a smaller set of abstracted variables\n",
    "0<m<$\\vert\\mathcal{X}_{\\mathcal{M}}\\vert$ | n=m | Isomorphic abstraction ($a$ is surjective and injective)\n",
    "0<m<$\\vert\\mathcal{X}_{\\mathcal{M}}\\vert$ | n>m | Not an abstraction (no surjectivity)\n",
    "m=$\\vert\\mathcal{X}_{\\mathcal{M}}\\vert$ | n<m | Abstracting all base variables into a smaller set of abstracted variables\n",
    "m=$\\vert\\mathcal{X}_{\\mathcal{M}}\\vert$ | n=m | Isomorphic abstraction ($a$ is surjective and injective)\n",
    "m=$\\vert\\mathcal{X}_{\\mathcal{M}}\\vert$ | n>m | Not an abstraction (no surjectivity)\n",
    "m>$\\vert\\mathcal{X}_{\\mathcal{M}}\\vert$ | n>0 | Impossible (no subset)\n",
    "\n",
    "There are in total four legal settings of interest, which may be summarized in the following four cases:\n",
    "- *Partial non-isomorphic* ($|\\mathcal{X}_{\\mathcal{M}}|$>m>n): when the relevant variables *m* are less than the original variables, and the abstracted variables *n* are less than the relevant variables; \n",
    "- *Partial isomorphic* ($|\\mathcal{X}_{\\mathcal{M}}|$>m=n): when the relevant variables *m* are less than the original variables, and the abstracted variables *n* are as many as the relevant variables (m=n=1 is a specific sub-case);\n",
    "- *Complete non-isomorphic* ($|\\mathcal{X}_{\\mathcal{M}}|$=m>n): when the relevant variables *m* are as many as the original variables, and the abstracted variables *n* are less than the relevant variables; \n",
    "- *Complete isomorphic* ($|\\mathcal{X}_{\\mathcal{M}}|$=m=n): when the relevant variables *m* are as many as the original variables, and the abstracted variables *n* are as many as the relevant variables.\n",
    "\n",
    "Moreover, for each high-level variable $X'$ we have two legal settings:\n",
    "- *One-to-one mapping*: when the pre-image of $X'$ is a single variable in the low-level model;\n",
    "- *Many-to-one mapping*: when the pre-image of $X'$ is a set of variables in the low-level model."
   ]
  },
  {
   "cell_type": "markdown",
   "metadata": {},
   "source": [
    "# Domain-level Mapping $\\alpha$\n",
    "\n",
    "Let us now consider meaning and implications of the definition of the mapping $\\alpha_{X'}: \\mathcal{M}[a^{-1}(X')] \\rightarrow \\mathcal{M}'[X']$, once again in relation to its domain $\\mathcal{M}[a^{-1}(X')]$ and codomain $\\mathcal{M}'[X']$.\n",
    "\n",
    "Here, we have a collection of mappings (one for each endogenous variable in the abstracted model), each one connecting two sets: the set of outcomes for variable(s) in the base model, and the set of outcomes for a variable in the abstracted model."
   ]
  },
  {
   "cell_type": "markdown",
   "metadata": {},
   "source": [
    "## Properties of $\\alpha$\n",
    "\n",
    "The mapping $\\alpha$ has three main properties: (i) there is *no restriction*, (ii) it is a *function*, (iii) and it is *surjective*. This has the following consequences:\n",
    "\n",
    "1. Without restriction, each and every element in the domain $\\mathcal{M}[a^{-1}(X')]$ must be mapped to the codomain $\\mathcal{M'}[X']$, that is, every outcome at low-level must have a representation at high-level. Differently from the variable-level abstraction, **we can not ignore elements (outcomes)**.\n",
    "2. By functionality, an element in $\\mathcal{M}[a^{-1}(X')]$ is mapped at most to an element in $\\mathcal{M'}[X']$. **A single outcome at low-level deterministically correspond to a single outcome at high-level**.\n",
    "3. By surjectivity, $|\\mathcal{M}[a^{-1}(X')]| \\geq |\\mathcal{M'}[X']|$. **The number of outcomes of an abstracted variable must be equal or lower than the number of outcomes of the corresponding variable(s) at low-level**. This also makes sense as abstraction implies simplification which, in this case, is interpreted as a reduction in the granularity of variable outcomes."
   ]
  },
  {
   "cell_type": "markdown",
   "metadata": {},
   "source": [
    "## Role of the absence of restriction\n",
    "\n",
    "Differently from the variable-level mapping $a$, domain-level mappings $\\alpha_{X'}$ are not preceded by a restriction subselecting *relevant* outcomes. This means that *all* possible outcomes at low-level must be mapped to outcomes at high-level, and none can be ignored. "
   ]
  },
  {
   "cell_type": "markdown",
   "metadata": {},
   "source": [
    "## Choices for the domain $\\mathcal{M}[a^{-1}(X')]$\n",
    "\n",
    "Let us consider limit cases for the choice of $\\mathcal{M}[a^{-1}(X')]$.\n",
    "\n",
    "Let us first suppose that the pre-image $a^{-1}(X')$ is a single variable $X \\in R$. Then the mapping can be simplified as $\\alpha_{X'}: \\mathcal{M}[X] \\rightarrow \\mathcal{M'}[X']$, that is a mapping from the set of outcomes of $X$ to the set of outcomes of $X'$. \n",
    "\n",
    "- If $\\mathcal{M}[X] = \\emptyset$, we claim that the low-level variable has no outcome. There is only the trivial absurd mapping $!: \\emptyset \\rightarrow \\mathcal{M'}[X']$ which does not provide us with a surjective map $\\alpha_{X'}$. Abstracting nothingness thus does not make sense.\n",
    "\n",
    "- If $\\mathcal{M}[X] = \\{*\\}$, we claim that the low-level variable has a single outcome. The set of high-level outcomes $\\mathcal{M'}[X']$ is bound to have dimensionality $0$ or $1$. If the dimensionality is $0$ then there is no function $\\alpha_{X'}$. Therefore the actual dimensionality of $\\mathcal{M'}[X']$ must be $1$. This corresponds to a low-level deterministic (or intervened?) variable that must be mapped to a similarly-deterministic high-level variable.\n",
    "\n",
    "- If $\\mathcal{M}[X] = \\{x_1, x_2, ..., x_n\\}$, we claim that the low-level variable has a finite number of outcomes (by assumption we consider only SCMs with variables defined on finite domains), and each one must be mapped to an outcome of the high-level variable. The dimensionality of $\\mathcal{M'}[X']$ can then range from $1$ to $n$.\n",
    "\n",
    "Let us now consider the case in which the pre-image $a^{-1}(X')$ is a set of variables $\\{X_1,X_2,...X_i\\} \\subseteq R$. Then, by definition [Rischel2020], the mapping can be simplified as $\\alpha_{X'}: \\mathcal{M}[X_1 \\times X_2 \\times ... \\times X_i] \\rightarrow \\mathcal{M'}[X']$, that is a mapping from the Cartesian product of the outcomes of the variables $X_1,X_2,...X_i$ to the set of outcomes of $X'$.\n",
    "\n",
    "- If $\\mathcal{M}[X_1 \\times X_2 \\times ... \\times X_i] = \\emptyset$, we claim that all the low-level variables have no outcome. As already discussed, abstracting nothingness does not make sense.\n",
    "\n",
    "- If $\\mathcal{M}[X_1 \\times X_2 \\times ... \\times X_i] = \\{*\\}$, we claim that all the low-level variables have a single joint outcome. This corresponds to having a subpart of the low-level model that is deterministic (or intervened?) and that will be mapped to a similarly-deterministic high-level variable.\n",
    "\n",
    "- If $\\mathcal{M}[X_1 \\times X_2 \\times ... \\times X_i] = \\{(x_1, x_2, ..., x_i)_1, (x_1, x_2, ..., x_i)_2, ..., (x_1, x_2, ..., x_i)_n\\}$, we claim that the low-level variables have a finite number of joint outcomes (by assumption we consider only SCMs with variables defined on finite domains), and each tuple of joint outcomes must be mapped to an outcome of the high-level variable. The dimensionality of $\\mathcal{M'}[X']$ can then range from $1$ to the cardinality of the Cartesian product set $|X_1 \\times X_2 \\times ... \\times X_i|$.\n",
    "\n",
    "(**TODO**: how can we formally discuss of deterministic/intervened variables?)"
   ]
  },
  {
   "cell_type": "markdown",
   "metadata": {},
   "source": [
    "## Choices for the codomain $\\mathcal{M'}[X']$\n",
    "\n",
    "Let us consider limit cases for the choice of the codomain $\\mathcal{M'}[(X')]$.\n",
    "\n",
    "- If $\\mathcal{M'}[(X')] = \\emptyset$, we claim that the outcomes of the abstracted variables $X'$ are none. This would intuitively correspond to discarding information, but no function $\\alpha_{X'}$ can then be found. Abstracting to nothingness thus does not make sense.\n",
    "\n",
    "- If $\\mathcal{M'}[(X')] = \\{*\\}$, we claim that all the outcomes from the low-level variable(s) can be mapped to a single outcome in the high-level variable. This amounts to forgetting any sort of stochasticity (intervention?) in the low-level variable(s) and map it/them to a constant.\n",
    "\n",
    "- If $\\mathcal{M'}[X'] = \\{x'_1, x'_2, ..., x'_n\\}$, we claim that outcomes from the low-level variables are mapped to outcomes in the high-level variables. The dimensionality of the pre-image set of outcomes must be at least $n$."
   ]
  },
  {
   "cell_type": "markdown",
   "metadata": {},
   "source": [
    "## Pre-images under $\\alpha$\n",
    "\n",
    "Analogously to what we have done before, let us also take a look at pre-images under a domain-level mapping $\\alpha_{X'}$. Let $x' \\in \\mathcal{M'}[X']$ be an outcome for the variable $X'$ in the abstracted model. By surjectivity, it must have a pre-image $\\alpha_{X'}^{-1}(x')$. Let us analyze this pre-image.\n",
    "\n",
    "- $\\alpha_{X'}^{-1}(x') = \\emptyset$; by surjectivity, this is not possible; each abstracted outcome must have a pre-image. This corresponds to saying that we can not abstract *from nothingness*, or that new outcomes in the abstracted model can not be created from thin air.\n",
    "\n",
    "- $\\alpha_{X'}^{-1}(x') = x$; in the simplest case an abstracted outcome has a single outcome as a pre-image. This means a 1:1 mapping which suggests that a specific low-level outcome $X$ is deemed important enough to be preserved individually (although multiple outcomes of $X$ may be mapped to $x'$).\n",
    "\n",
    "- $\\alpha_{X'}^{-1}(x') = \\{x_1, x_2,..., x_n\\}$; in this case an abstracted outcome has a set of outcomes as a pre-image. This means that the abstracted outcome summarizes or collapses multiple outcomes at low-level, making them undifferentiated."
   ]
  },
  {
   "cell_type": "markdown",
   "metadata": {},
   "source": [
    "## Recap\n",
    "\n",
    "We can summarize the possible settings of the mapping $\\alpha_{X'}$ in the following table, with the domain m = $|\\mathcal{M}[a^{-1}(X')]|$ and the codomain n=$|\\mathcal{M'}[X']|$:\n",
    "\n",
    "Domain m | Codomain n | Notes\n",
    ":---:|:---:|:---\n",
    "m=0 | n=0 | Abstracting no outcome to no outcome (not meaningful)\n",
    "m=0 | n>0 | Abstracting nothingness (no surjectivity)\n",
    "m>0 | n=0 | Abstracting to nothingness (no $\\alpha_{X'}$ function)\n",
    "m=1 | n=1 | Abstracting a deterministic outcome\n",
    "m=1 | n>1 | Not an abstraction (no surjectivity)\n",
    "m>1 | n=1 | Abstracting a set of outcomes to a deterministic (intervened?) outcome\n",
    "m>1 | 1<n<m | Abstracting all outcomes into a smaller set of abstracted outcomes\n",
    "m>1 | n=m | Isomorphic abstracting ($\\alpha_{X'}$ is surjective and injective)\n",
    "m>1 | n>m | Not an abstraction (no surjectivity)\n",
    "\n",
    "There are in total 3 legal settings, which may be summarized in the following cases:\n",
    "- *Non-isomorphic* (m>n): when the original outcomes *m* are more than the abstracted outcomes *n*, meaning that some base outcomes are collapsed;\n",
    "- *Isomorphic* (m=n): when the original outcomes *m* are as many as the abstracted outcomes *n*, meaning that we have a 1:1 correspondance between outcomes;\n",
    "- *Interventional(?)* (n=1): when all the original outcomes *m* are mapped to a single abstracted outcome *n*."
   ]
  },
  {
   "cell_type": "markdown",
   "metadata": {},
   "source": [
    "# Summary of properties\n",
    "\n",
    "We now summarize the properties we have highlighted so far.\n",
    "\n",
    "- The **variable-level mapping** $a$ allows us to control abstraction interpreted as the number of variables of interest. The definition of map $a$ implies:\n",
    "    1. the abstracted model has as many or fewer endogenous variables than the base model (by surjectivity); abstraction simplifies in the sense that it does not increase the number of variables.\n",
    "    2. every high-level variable has a pre-image (by surjectivity); abstraction simplifies in the sense that new variables can not be created out of thin air without grounding in the base model.\n",
    "    3. low-level variables can be ignored (by restriction); abstraction simplifies in the sense that we can forget some variables.\n",
    "    4. relevant low-level variables are deterministically mapped (by functionality); abstraction simplifies in the sense that it does not introduce stochasticity.\n",
    "    5. relevant low-level variables can not be *'split'* across abstracted endogenous variables (by functionality); abstraction simplifies in the sense that it does not add specification of variables.\n",
    "    \n",
    "- The **domain-level mapping** $\\alpha_{X'}$ allows us to control abstraction interpreted as the granularity of the outcomes of variables of interest. The definition of map $\\alpha_{X'}$ implies:\n",
    "    1. an abstracted variable has as many or fewer outcomes than the base variable(s) (by surjectivity); abstraction simplifies in the sense that it does not increase the number of outcomes.\n",
    "    2. every high-level outcome has a pre-image (by surjectivity); abstraction simplifies in the sense that new outcomes can not be created out of thin air without grounding in the base model.\n",
    "    3. low-level outcomes can not be ignored (by absence of restriction); abstraction here does not simplifies in the sense that we can forget some outcomes.\n",
    "    4. low-level outcomes are deterministically mapped (by functionality); abstraction simplifies in the sense that it does not introduce stochasticity.\n",
    "    5. low-level outcomes can not be *'split'* across abstracted outcomes (by functionality); abstraction simplifies in the sense that it does not add specification of outcomes."
   ]
  },
  {
   "cell_type": "markdown",
   "metadata": {},
   "source": [
    "# Limitations\n",
    "\n",
    "Notice how the definition of abstraction is rooted in an idea of abstraction as a **simplification of a model wrt to the number of variables and the dimensionality of their outcomes**. Indeed in the definition of the abstraction, the variable-level mapping is concerned with variables and their number (through $R$ and $a$) while the domain-level mapping is concerned with the outcome and their number (through $\\alpha_{X'}$).\n",
    "\n",
    "No requirement on the mechanisms of the model is taken into consideration in the definition. The definition is **heavily concerned with variables**, neglecting almost completely the mechanisms. This bias may make sense, as, normally, variables are what we observe and what we try to abstract.\n",
    "\n",
    "However, focusing only on variables leaves open the problem whether an abstraction between two models $\\mathcal{M}$ and $\\mathcal{M'}$ as defined by $(R,a,\\alpha_X)$ captures what we intuitively mean by abstraction. Specifically, we may wonder if, in spite of or by virtue of the abstraction $(R,a,\\alpha_X)$, *the behaviour of the two models is consistent*. This lead us to consider the problem of consistency.\n",
    "\n",
    "It is important to remark that this limitation is properly acknowledged in [Rischel2020], and it is not an original observation in this notebook. Here we will just make a couple of observations on the issue of consistency, leaving a detailed analysis to another notebook. "
   ]
  },
  {
   "cell_type": "markdown",
   "metadata": {},
   "source": [
    "## Consistency\n",
    "\n",
    "The issue of consistency is raised and addressed [Rischel2020] through the idea of evaluating abstraction error (see the previous notebook *Categorical Abstraction.ipynb*). An abstracted model may have simplified mechanisms and may thus provide different results from a base model; a proper measure, defined abstraction error, may then be used to quantify the gap between the base model and the abstracted model.\n",
    "\n",
    "However the definition of abstraction allows for a violation in consistency between a base model and an abstracted model not only in the sense of mismatching results between two compatible models. It also allows to put into a relationship of abstractions models that are incompatible or not consistent with respect to the the directionality of the causal effects."
   ]
  },
  {
   "cell_type": "markdown",
   "metadata": {},
   "source": [
    "### Example of abstraction between incompatible models\n",
    "\n",
    "The definition of abstraction that we used allows us to have an abstraction between two models that reverse cause-effect relationships. \n",
    "\n",
    "For instance, let $\\mathcal{M}$ be the SCM with underlying graph $X_1 \\rightarrow X_2$, with $\\mathcal{M}[X_1] = \\mathcal{M}[X_2]$ and arbitrary $\\mathcal{M}[\\phi_{X_1}]: * \\rightarrow \\mathcal{M}[X_1]$ and $\\mathcal{M}[\\phi_{X_2}]: \\mathcal{M}[X_1] \\rightarrow \\mathcal{M}[X_2]$.\n",
    "\n",
    "Let us consider now $\\mathcal{M'}$, a SCM with underlying graph $X'_1 \\leftarrow X'_2$, with $\\mathcal{M'}[X'_1] = \\mathcal{M'}[X_2'] = \\mathcal{M}[X_1]$ and arbitrary $\\mathcal{M'}[\\phi_{X'_1}]: \\mathcal{M'}[X'_2] \\rightarrow \\mathcal{M'}[X'_1]$ and $\\mathcal{M'}[\\phi_{X'_2}]: * \\rightarrow \\mathcal{M'}[X'_2]$.\n",
    "\n",
    "It is simple to define an abstraction between the two models $\\mathcal{M}$ and $\\mathcal{M'}$. Take $R = \\mathcal{X}_{\\mathcal{M}} = \\{X_1,X_2\\}$. Take the trivial $a$ mapping $X_1 \\mapsto X'_1$ and $X_2 \\mapsto X'_2$. Last, take the mappings $\\alpha_{X'_1}$ and $\\alpha_{X'_2}$ to be identities.\n",
    "\n",
    "$\\mathcal{M'}$ can be seen as an abstraction of $\\mathcal{M}$, although what it mainly does is reversing cause and effect. $\\mathcal{M'}$ seems more an *alternative* model to $\\mathcal{M}$: a model, built on the same variables and outcome spaces, that proposes a different hypothetical dynamics. \n",
    "\n",
    "In a sense, then, the definition of abstraction works more as a **necessary condition for abstraction**. It says: *given a base model $\\mathcal{M}$ and a second model $\\mathcal{M'}$, if the number of variables in $\\mathcal{M'}$ is less or equal to the number of variables in $\\mathcal{M}$, and if for every variable in $\\mathcal{M'}$ its cardinality is less or equal to the cardinality of the abstracting variables in $\\mathcal{M}$, then $\\mathcal{M'}$ can be an abstraction of $\\mathcal{M}$.*\n",
    "\n",
    "However, the condition is not sufficient. Another condition vouching for the consistency of the dynamics may be in order."
   ]
  },
  {
   "cell_type": "markdown",
   "metadata": {},
   "source": [
    "### Dealing with consistency\n",
    "\n",
    "Within the framework of [Rischel2020] the possibility of causality-reversing abstractions may be of little concern, as such abstractions may simply weeded out once we compute the abstraction error, which will simply result to be $\\infty$.\n",
    "\n",
    "Alternatively, we may strenghthen the definition to take into consideration a minimum requirement of consistency: not consistency of observational or interventional distributions, but simply consistency of causal direction. This form of consistency may be assessed directly from the graphs. We consider this approach in another notebook.\n",
    "\n",
    "Graph consistency is assumed in [Otsuka2022]."
   ]
  },
  {
   "cell_type": "markdown",
   "metadata": {},
   "source": [
    "# Implementation\n",
    "\n",
    "We now consider the implementation of the ideas of SCMs and abstractions."
   ]
  },
  {
   "cell_type": "markdown",
   "metadata": {},
   "source": [
    "## Setup\n",
    "\n",
    "Let us start importing basic libraries:"
   ]
  },
  {
   "cell_type": "code",
   "execution_count": 1,
   "metadata": {},
   "outputs": [],
   "source": [
    "import numpy as np\n",
    "import networkx as nx\n",
    "import itertools"
   ]
  },
  {
   "cell_type": "markdown",
   "metadata": {},
   "source": [
    "For reproducibility, and for discussing our results in this notebook, we set a random seed to $1985$."
   ]
  },
  {
   "cell_type": "code",
   "execution_count": 2,
   "metadata": {},
   "outputs": [],
   "source": [
    "np.random.seed(1985)"
   ]
  },
  {
   "cell_type": "markdown",
   "metadata": {},
   "source": [
    "### FinStochSCM Class\n",
    "\n",
    "We start defining a class to represent our SCM objects in their $\\mathtt{FinStoch}$ representation (for a more detailed discussion of this representation see the previous notebook *Categorical Abstraction.ipynb*).\n",
    "\n",
    "An object of our class will represent a SCM $\\mathcal{M}$ and will have the following attributes:\n",
    "- *X*: an array of endogenous variables, each one labeled with an integer number starting from zero. Mathematically, this is the set $\\mathcal{X}_\\mathcal{M}$ of elements $X_i$.\n",
    "- *nX*: the length of the array of endogenous variables. Mathematically, this is the cardinality $|\\mathcal{X}_\\mathcal{M}|$.\n",
    "- *MX*: a list of arrays, each one corresponding to the finite set associated with one of the endogenous variable. Mathematically, each element is a set $\\mathcal{M}[X_i]$.\n",
    "- *links*: a list of links. This attribute is a support attribute to easily instantiate a DAG and compute mechanisms. \n",
    "- *DAG*: a networkx graph. This attribute provides an encoding of information about the structure of the SCM.\n",
    "- *MphiX*: a dictionary of stochastic matrices, one for each node/mechanism in the SCM. Mathematically, each element is a stochastic matrix $\\mathcal{M}[\\phi_{X_i}]$.\n",
    "\n",
    "The methods are:\n",
    "- *\\__init__()*: a versatile constructor that can either set up a specific SCM (passing the necessary parameters) or generate a random SCM (passing random generator functions);\n",
    "- *set\\_...()*: a series of setters to setup manually the attributes of the SCM;\n",
    "- *build_DAG()*: a support method generating a networkx DAG; this DAG is used to store data about the model and retrieve it efficiently;\n",
    "- *copy()*: a method to create a deep copy of the model;\n",
    "- *plot()*: a plotting method showing the underlying DAG.\n",
    "\n",
    "**WARNING:** A properly implemented class would implement the checks that have been here left as comments. In this notebook, a proper check of the dimensionality of the parameters is left to the user."
   ]
  },
  {
   "cell_type": "code",
   "execution_count": 3,
   "metadata": {},
   "outputs": [],
   "source": [
    "class FinStochSCM():\n",
    "    def __init__(self,n_endogenous, \n",
    "                 sets=None, links=None, stochmatrices=None,\n",
    "                 f_sets=None, f_links=None, f_stochmatrices=None):\n",
    "                \n",
    "        self.X = np.arange(n_endogenous)\n",
    "        self.nX = n_endogenous\n",
    "        \n",
    "        self.MX = self.set_sets(sets,f_sets)\n",
    "        self.links = self.set_links(links,f_links)    \n",
    "        self.G = self.build_DAG()\n",
    "        \n",
    "        self.MphiX = self.set_stochmatrices(stochmatrices,f_stochmatrices)\n",
    "                    \n",
    "        \n",
    "    def set_sets(self,sets,f_sets):\n",
    "        if sets is None:\n",
    "            # TODO:check instantiate_random_sets is not null\n",
    "            MX = f_sets(self.nX)\n",
    "        else:\n",
    "            # TODO:check sets is a list/array of length n_endogenous containing arrays\n",
    "            MX = sets\n",
    "        return MX\n",
    "    \n",
    "    def set_links(self,links,f_links):\n",
    "        if links is None:\n",
    "            # TODO:check instantiate_random_sets is not null\n",
    "            L = f_links(self.X)\n",
    "        else:\n",
    "            # TODO:check sets is a list/array of length n_endogenous containing arrays\n",
    "            L = links\n",
    "        return L\n",
    "            \n",
    "    def set_stochmatrices(self,stochmatrices,f_stochmatrices):\n",
    "        if stochmatrices is None:\n",
    "            # TODO:check instantiate_random_stochmatrices is not null\n",
    "            MphiX = f_stochmatrices(self.G,self.MX)\n",
    "        else:\n",
    "            # TODO:check\n",
    "            MphiX = stochmatrices\n",
    "        return MphiX\n",
    "    \n",
    "    def build_DAG(self):\n",
    "        G = nx.DiGraph()\n",
    "        G.graph['dpi'] = 120\n",
    "\n",
    "        nodes = [str(i) for i in list(self.X)]\n",
    "        edges = self.links\n",
    "        G.add_nodes_from(nodes)\n",
    "        G.add_edges_from(edges)\n",
    "        \n",
    "        return G\n",
    "    \n",
    "    def copy(self):\n",
    "        Mcopy = FinStochSCM(self.nX, sets=self.MX.copy(), links=self.links.copy(), stochmatrices=self.MphiX.copy())\n",
    "        return Mcopy\n",
    "    \n",
    "    def plot(self):\n",
    "        _ = nx.draw_networkx(self.G)"
   ]
  },
  {
   "cell_type": "markdown",
   "metadata": {},
   "source": [
    "### Random SCMs functions\n",
    "\n",
    "We can now use our class to instantiate specific SCMs by defining all their attributes; however this approach is burdensome as it requires to define every node, every domain, every link, and every stochastic matrix. \n",
    "\n",
    "For convenience we define three functions to randomly instantiate SCMs:\n",
    "- *instantiate_random_sets()*: given a number of variables/nodes, it instantiates a set with a random finite dimension for each one.\n",
    "- *instantiate_random_links()*: given a set of variables, it instantiates a set of links/edges.\n",
    "- *instantiate_random_stochmatrices()*: given a graph and the set of the sets of variables, it instantiates a random stochastic matrix for each variable/node taking into account the incoming edges.\n",
    "\n",
    "Notice that in these implementations all the parameters regulating randomness (maximum cardinality for a set, number of links, sampling of the random matrix...) are hard-coded. Alternative functions (with an equivalent signature) may be prepared and passed seamlessly to the class FinStochSCM."
   ]
  },
  {
   "cell_type": "code",
   "execution_count": 4,
   "metadata": {},
   "outputs": [],
   "source": [
    "def instantiate_random_sets(n_sets):\n",
    "    cardinalities = np.random.randint(1,10,n_sets)\n",
    "    return [np.arange(cardinalities[i]) for i in range(len(cardinalities))]\n",
    "\n",
    "def instantiate_random_links(X):\n",
    "    n_links = np.max([2,int(np.floor(len(X)/1.5))])\n",
    "    links = []\n",
    "    \n",
    "    for i in range(n_links):\n",
    "        link = np.random.choice(X,2,replace=False)\n",
    "        links.append((str(link[0]), str(link[1])))\n",
    "    \n",
    "    return links\n",
    "\n",
    "def instantiate_random_stochmatrices(G,MX):\n",
    "    stochmatrices = {}\n",
    "    \n",
    "    for n in G.nodes():\n",
    "        in_edges = (G.in_edges(n))\n",
    "\n",
    "        card_domains = 1\n",
    "        for ie in in_edges:\n",
    "            card_domains = card_domains * len(MX[int(ie[0])])\n",
    "            \n",
    "        card_codomain = len(MX[int(n)])\n",
    "        \n",
    "        matrix = np.random.rand(card_domains,card_codomain)\n",
    "        stochmatrix = matrix / np.sum(matrix,axis=1)[:,None]\n",
    "        stochmatrices[n] = stochmatrix\n",
    "    \n",
    "    return stochmatrices"
   ]
  },
  {
   "cell_type": "markdown",
   "metadata": {},
   "source": [
    "We can now generate a random SCM with 6 nodes:"
   ]
  },
  {
   "cell_type": "code",
   "execution_count": 5,
   "metadata": {},
   "outputs": [],
   "source": [
    "M0 = FinStochSCM(6,\n",
    "                 f_sets=instantiate_random_sets,\n",
    "                 f_links=instantiate_random_links,\n",
    "                 f_stochmatrices=instantiate_random_stochmatrices)"
   ]
  },
  {
   "cell_type": "markdown",
   "metadata": {},
   "source": [
    "We can check out the domain of each node (these correspond to $\\mathcal{M}[X_i]$ or set objects in $\\mathtt{FinStoch}$):"
   ]
  },
  {
   "cell_type": "code",
   "execution_count": 6,
   "metadata": {},
   "outputs": [
    {
     "data": {
      "text/plain": [
       "[array([0, 1, 2, 3, 4, 5]),\n",
       " array([0, 1, 2, 3, 4, 5]),\n",
       " array([0, 1, 2, 3, 4, 5, 6]),\n",
       " array([0]),\n",
       " array([0, 1, 2, 3, 4, 5, 6, 7]),\n",
       " array([0])]"
      ]
     },
     "execution_count": 6,
     "metadata": {},
     "output_type": "execute_result"
    }
   ],
   "source": [
    "M0.MX"
   ]
  },
  {
   "cell_type": "markdown",
   "metadata": {},
   "source": [
    "and the stochastic matrices for each node (these correspond to $\\mathcal{M}[\\phi_{X_i}]$ or morphisms in $\\mathtt{FinStoch}$):"
   ]
  },
  {
   "cell_type": "code",
   "execution_count": 7,
   "metadata": {},
   "outputs": [
    {
     "data": {
      "text/plain": [
       "{'0': array([[0.25574865, 0.2571311 , 0.02086243, 0.00410491, 0.2169711 ,\n",
       "         0.24518182]]),\n",
       " '1': array([[0.01187879, 0.15825818, 0.05058027, 0.34613944, 0.16955932,\n",
       "         0.26358401]]),\n",
       " '2': array([[0.18923966, 0.09861824, 0.12410694, 0.09058013, 0.00188109,\n",
       "         0.23076102, 0.26481291]]),\n",
       " '3': array([[1.]]),\n",
       " '4': array([[0.17781205, 0.03745636, 0.02350533, 0.00306573, 0.21872648,\n",
       "         0.23394995, 0.11535318, 0.19013091],\n",
       "        [0.00783325, 0.01466399, 0.30647337, 0.00585746, 0.12370282,\n",
       "         0.2355525 , 0.18674618, 0.11917043],\n",
       "        [0.18534473, 0.04345278, 0.12560718, 0.02482529, 0.1352752 ,\n",
       "         0.14062018, 0.19573873, 0.14913591],\n",
       "        [0.01836164, 0.1922998 , 0.10829952, 0.07770576, 0.10132963,\n",
       "         0.19180102, 0.09793757, 0.21226505],\n",
       "        [0.12046304, 0.0132817 , 0.19208454, 0.09943169, 0.12434558,\n",
       "         0.2135727 , 0.06119968, 0.17562106],\n",
       "        [0.08147798, 0.13210911, 0.1012556 , 0.24896325, 0.10614989,\n",
       "         0.06752571, 0.03032614, 0.23219232]]),\n",
       " '5': array([[1.],\n",
       "        [1.],\n",
       "        [1.],\n",
       "        [1.],\n",
       "        [1.],\n",
       "        [1.]])}"
      ]
     },
     "execution_count": 7,
     "metadata": {},
     "output_type": "execute_result"
    }
   ],
   "source": [
    "M0.MphiX"
   ]
  },
  {
   "cell_type": "markdown",
   "metadata": {},
   "source": [
    "Finally we can plot the actual DAG for our SCM:"
   ]
  },
  {
   "cell_type": "code",
   "execution_count": 8,
   "metadata": {},
   "outputs": [
    {
     "data": {
      "image/png": "[encoded data removed]",
      "text/plain": [
       "<Figure size 432x288 with 1 Axes>"
      ]
     },
     "metadata": {},
     "output_type": "display_data"
    }
   ],
   "source": [
    "M0.plot()"
   ]
  },
  {
   "cell_type": "markdown",
   "metadata": {},
   "source": [
    "## Variable-level mappings\n",
    "\n",
    "We now use our objects to explore variable-level mappings. As discussed above, the variable-level mapping is defined by a *set of relevant variables* $R \\subseteq \\mathcal{X}_{\\mathcal{M}}$ and a surjective mapping $a: R \\rightarrow \\mathcal{X}_{\\mathcal{M'}}$."
   ]
  },
  {
   "cell_type": "markdown",
   "metadata": {},
   "source": [
    "### Random variable-level mappings\n",
    "\n",
    "As before, to simplify the instantiation of variable-level mappings, we define two functions that randomly generate what we need:\n",
    "\n",
    "- *generate_random_R()*: given a model and a number of relevant variables, it randomly selects a subset of relevant variables from the model; $R$ is a sorted numpy array of relevant variables.\n",
    "- *generate_random_a()*: given a set of relevant variables and a model, it randomly defines a surjective function from the relevant variables to the variables in the model. $a$ is encoded as a binary matrix. "
   ]
  },
  {
   "cell_type": "code",
   "execution_count": 9,
   "metadata": {},
   "outputs": [],
   "source": [
    "def generate_random_R(M0,nR):\n",
    "    # Check nR is less or equal to the variables in M0\n",
    "    return np.sort(np.random.choice(M0.X,nR,replace=False))\n",
    "\n",
    "def generate_random_a(R,M1):\n",
    "    # Check R is greater or equal to the variables in M1\n",
    "    diff = len(R) - M1.nX\n",
    "    codomain = list(M1.X.copy()) + list(np.random.choice(M1.X,diff))\n",
    "    np.random.shuffle(codomain)\n",
    "    \n",
    "    a = np.zeros((len(R),M1.nX))\n",
    "    a[np.arange(len(R)),codomain] = 1\n",
    "    \n",
    "    return a"
   ]
  },
  {
   "cell_type": "markdown",
   "metadata": {},
   "source": [
    "We now instantiate a second model with $5$ nodes/variables."
   ]
  },
  {
   "cell_type": "code",
   "execution_count": 10,
   "metadata": {},
   "outputs": [],
   "source": [
    "M1 = FinStochSCM(5,\n",
    "                 f_sets=instantiate_random_sets,\n",
    "                 f_links=instantiate_random_links,\n",
    "                 f_stochmatrices=instantiate_random_stochmatrices)"
   ]
  },
  {
   "cell_type": "markdown",
   "metadata": {},
   "source": [
    "This will allow us to create a variable-level mapping between the base model $\\mathcal{M}/\\mathtt{M0}$ and $\\mathcal{M'}/\\mathtt{M1}$.\n",
    "\n",
    "We start randomly sampling a subset of relevant variables in $\\mathcal{M}/\\mathtt{M0}$ of cardinality $5$:"
   ]
  },
  {
   "cell_type": "code",
   "execution_count": 11,
   "metadata": {},
   "outputs": [
    {
     "name": "stdout",
     "output_type": "stream",
     "text": [
      "[0 2 3 4 5]\n"
     ]
    }
   ],
   "source": [
    "R = generate_random_R(M0,5)\n",
    "print(R)"
   ]
  },
  {
   "cell_type": "markdown",
   "metadata": {},
   "source": [
    "Then we set up the mapping $a$:"
   ]
  },
  {
   "cell_type": "code",
   "execution_count": 12,
   "metadata": {
    "scrolled": true
   },
   "outputs": [
    {
     "name": "stdout",
     "output_type": "stream",
     "text": [
      "[[0. 0. 0. 0. 1.]\n",
      " [0. 1. 0. 0. 0.]\n",
      " [0. 0. 1. 0. 0.]\n",
      " [0. 0. 0. 1. 0.]\n",
      " [1. 0. 0. 0. 0.]]\n"
     ]
    }
   ],
   "source": [
    "a = generate_random_a(R,M1)\n",
    "print(a)"
   ]
  },
  {
   "cell_type": "markdown",
   "metadata": {},
   "source": [
    "where rows encode relevant variables and the columns variables in the model $\\mathcal{M'}/\\mathtt{M1}$."
   ]
  },
  {
   "cell_type": "markdown",
   "metadata": {},
   "source": [
    "### Plotting variable-level mappings\n",
    "\n",
    "To get an intuitive feel of the variable-level mapping we setup a plotting function. This function does some not-very-important work with the networkx DAG in order to rename nodes and plot vertices and edges in different colors. "
   ]
  },
  {
   "cell_type": "code",
   "execution_count": 13,
   "metadata": {},
   "outputs": [],
   "source": [
    "def plot_variable_level_mapping(M0,M1,R,a):\n",
    "    G = M0.G.copy()\n",
    "    relabel_map = {}\n",
    "    for n in G.nodes():\n",
    "        relabel_map[n] = 'M0_'+str(n)\n",
    "    G0 = nx.relabel.relabel_nodes(G,relabel_map)\n",
    "    \n",
    "    G = M1.G.copy()\n",
    "    relabel_map = {}\n",
    "    for n in G.nodes():\n",
    "        relabel_map[n] = 'M1_'+str(n)\n",
    "    G1 = nx.relabel.relabel_nodes(G,relabel_map)\n",
    "    \n",
    "    U = nx.union(G0,G1)\n",
    "    \n",
    "    #edge_color=['k']*U.number_of_edges() + ['r']*len(a[0])\n",
    "    \n",
    "    edge_list = [('M0_'+str(R[i]), 'M1_'+str(np.where(a[i,:]==1)[0][0])) for i in range(a.shape[0])]\n",
    "    U.add_edges_from(edge_list)\n",
    "    \n",
    "    #for i in range(len(a[0])):\n",
    "    #    U.add_edge('M0_'+str(a[0][i]), 'M1_'+str(a[1][i])) \n",
    "    \n",
    "    pos = nx.shell_layout(U)\n",
    "    \n",
    "    for k in pos.keys():\n",
    "        if 'M1' in k:\n",
    "            pos[k] = pos[k] + [10,0]\n",
    "    \n",
    "    R_list = np.array(['M0_'+str(R[i]) for i in range(len(R))])\n",
    "    nR = np.array(list(set(M0.X)-set(R)))\n",
    "    nR_list = np.array(['M0_'+str(nR[i]) for i in range(len(nR))])\n",
    "    \n",
    "    nx.draw_networkx_nodes(U,pos,nodelist=R_list,node_color='b',alpha=.5)\n",
    "    nx.draw_networkx_nodes(U,pos,nodelist=nR_list,node_color='b',alpha=.2)\n",
    "    nx.draw_networkx_labels(U,pos)\n",
    "    nx.draw_networkx_edges(U,pos,edgelist=G0.edges(),edge_color='k')\n",
    "    \n",
    "    nx.draw_networkx_nodes(U,pos,nodelist=G1.nodes(),node_color='g',alpha=.5)\n",
    "    nx.draw_networkx_labels(U,pos)\n",
    "    nx.draw_networkx_edges(U,pos,edgelist=G1.edges(),edge_color='k')\n",
    "    \n",
    "    nx.draw_networkx_edges(U,pos,edgelist=edge_list,edge_color='r',style='dashed')\n",
    "    #_ = nx.draw(U,pos,with_labels=True,edge_color=['k']*U.number_of_edges())    "
   ]
  },
  {
   "cell_type": "markdown",
   "metadata": {},
   "source": [
    "We can now show our variable-level mapping:"
   ]
  },
  {
   "cell_type": "code",
   "execution_count": 14,
   "metadata": {},
   "outputs": [
    {
     "data": {
      "image/png": "[encoded data removed]",
      "text/plain": [
       "<Figure size 432x288 with 1 Axes>"
      ]
     },
     "metadata": {},
     "output_type": "display_data"
    }
   ],
   "source": [
    "plot_variable_level_mapping(M0,M1,R,a)"
   ]
  },
  {
   "cell_type": "markdown",
   "metadata": {},
   "source": [
    "Here variables of the base model are shown in blue, dark if relevant ($\\in R$) light if not relevant ($\\notin R$); variables of the abstracted model are shown in green; internal edges of each model are shown in black; the mapping $a$ is shown in dashed red."
   ]
  },
  {
   "cell_type": "markdown",
   "metadata": {},
   "source": [
    "The interpretation of this graph with respect to the category $\\mathtt{FinStoch}$ is examined in the following notebook *Abstraction Mapping in FinStoch.ipynb*."
   ]
  },
  {
   "cell_type": "markdown",
   "metadata": {},
   "source": [
    "It is easy now to consider and visualize the different types of variable-level mappings we distinguished."
   ]
  },
  {
   "cell_type": "markdown",
   "metadata": {},
   "source": [
    "### Complete isomorphic variable-level mapping\n",
    "\n",
    "A *complete isomorphic* is defined by \n",
    "\n",
    "$$|\\mathcal{X}_{\\mathcal{M}}| = R = |\\mathcal{X}_{\\mathcal{M'}}|,$$ \n",
    "\n",
    "that is (nodes in M0) = (relevant nodes) = (nodes in M1)."
   ]
  },
  {
   "cell_type": "code",
   "execution_count": 15,
   "metadata": {},
   "outputs": [
    {
     "data": {
      "image/png": "[encoded data removed]",
      "text/plain": [
       "<Figure size 432x288 with 1 Axes>"
      ]
     },
     "metadata": {},
     "output_type": "display_data"
    }
   ],
   "source": [
    "M0 = FinStochSCM(6,\n",
    "                 f_sets=instantiate_random_sets,\n",
    "                 f_links=instantiate_random_links,\n",
    "                 f_stochmatrices=instantiate_random_stochmatrices)\n",
    "M1 = FinStochSCM(6,\n",
    "                 f_sets=instantiate_random_sets,\n",
    "                 f_links=instantiate_random_links,\n",
    "                 f_stochmatrices=instantiate_random_stochmatrices)\n",
    "\n",
    "R = generate_random_R(M0,6)\n",
    "a = generate_random_a(R,M1)\n",
    "\n",
    "plot_variable_level_mapping(M0,M1,R,a)"
   ]
  },
  {
   "cell_type": "markdown",
   "metadata": {},
   "source": [
    "Notice how each node in $\\mathtt{M0}$ is relevant (dark blue) and the mapping $a$ is bijective."
   ]
  },
  {
   "cell_type": "markdown",
   "metadata": {},
   "source": [
    "### Incomplete isomorphic variable-level mapping\n",
    "\n",
    "A *incomplete isomorphic* is defined by \n",
    "\n",
    "$$|\\mathcal{X}_{\\mathcal{M}}| > R = |\\mathcal{X}_{\\mathcal{M'}}|,$$ \n",
    "\n",
    "that is (nodes in M0) > (relevant nodes) = (nodes in M1)."
   ]
  },
  {
   "cell_type": "code",
   "execution_count": 16,
   "metadata": {},
   "outputs": [
    {
     "data": {
      "image/png": "[encoded data removed]",
      "text/plain": [
       "<Figure size 432x288 with 1 Axes>"
      ]
     },
     "metadata": {},
     "output_type": "display_data"
    }
   ],
   "source": [
    "M0 = FinStochSCM(6,\n",
    "                 f_sets=instantiate_random_sets,\n",
    "                 f_links=instantiate_random_links,\n",
    "                 f_stochmatrices=instantiate_random_stochmatrices)\n",
    "M1 = FinStochSCM(4,\n",
    "                 f_sets=instantiate_random_sets,\n",
    "                 f_links=instantiate_random_links,\n",
    "                 f_stochmatrices=instantiate_random_stochmatrices)\n",
    "\n",
    "R = generate_random_R(M0,4)\n",
    "a = generate_random_a(R,M1)\n",
    "\n",
    "plot_variable_level_mapping(M0,M1,R,a)"
   ]
  },
  {
   "cell_type": "markdown",
   "metadata": {},
   "source": [
    "Notice how only a subset of nodes in $\\mathtt{M0}$ is relevant (dark blue), and still the mapping $a$ between these relevant nodes and nodes in $\\mathtt{M1}$ is bijective."
   ]
  },
  {
   "cell_type": "markdown",
   "metadata": {},
   "source": [
    "### Complete non-isomorphic variable-level mapping\n",
    "\n",
    "A *complete non-isomorphic* is defined by \n",
    "\n",
    "$$|\\mathcal{X}_{\\mathcal{M}}| = R > |\\mathcal{X}_{\\mathcal{M'}}|,$$ \n",
    "\n",
    "that is (nodes in M0) = (relevant nodes) > (nodes in M1)."
   ]
  },
  {
   "cell_type": "code",
   "execution_count": 17,
   "metadata": {},
   "outputs": [
    {
     "data": {
      "image/png": "[encoded data removed]",
      "text/plain": [
       "<Figure size 432x288 with 1 Axes>"
      ]
     },
     "metadata": {},
     "output_type": "display_data"
    }
   ],
   "source": [
    "M0 = FinStochSCM(6,\n",
    "                 f_sets=instantiate_random_sets,\n",
    "                 f_links=instantiate_random_links,\n",
    "                 f_stochmatrices=instantiate_random_stochmatrices)\n",
    "M1 = FinStochSCM(4,\n",
    "                 f_sets=instantiate_random_sets,\n",
    "                 f_links=instantiate_random_links,\n",
    "                 f_stochmatrices=instantiate_random_stochmatrices)\n",
    "\n",
    "R = generate_random_R(M0,6)\n",
    "a = generate_random_a(R,M1)\n",
    "\n",
    "plot_variable_level_mapping(M0,M1,R,a)"
   ]
  },
  {
   "cell_type": "markdown",
   "metadata": {},
   "source": [
    "Notice how each node in $\\mathtt{M0}$ is relevant (dark blue) and the mapping $a$ is surjective, but, by necessity, not injective."
   ]
  },
  {
   "cell_type": "markdown",
   "metadata": {},
   "source": [
    "### Incomplete non-isomorphic variable-level mapping\n",
    "\n",
    "A *incomplete non-isomorphic* is defined by \n",
    "\n",
    "$$|\\mathcal{X}_{\\mathcal{M}}| > R > |\\mathcal{X}_{\\mathcal{M'}}|,$$ \n",
    "\n",
    "that is (nodes in M0) > (relevant nodes) > (nodes in M1)."
   ]
  },
  {
   "cell_type": "code",
   "execution_count": 18,
   "metadata": {},
   "outputs": [
    {
     "data": {
      "image/png": "[encoded data removed]",
      "text/plain": [
       "<Figure size 432x288 with 1 Axes>"
      ]
     },
     "metadata": {},
     "output_type": "display_data"
    }
   ],
   "source": [
    "M0 = FinStochSCM(6,\n",
    "                 f_sets=instantiate_random_sets,\n",
    "                 f_links=instantiate_random_links,\n",
    "                 f_stochmatrices=instantiate_random_stochmatrices)\n",
    "M1 = FinStochSCM(4,\n",
    "                 f_sets=instantiate_random_sets,\n",
    "                 f_links=instantiate_random_links,\n",
    "                 f_stochmatrices=instantiate_random_stochmatrices)\n",
    "\n",
    "R = generate_random_R(M0,5)\n",
    "a = generate_random_a(R,M1)\n",
    "\n",
    "plot_variable_level_mapping(M0,M1,R,a)"
   ]
  },
  {
   "cell_type": "markdown",
   "metadata": {},
   "source": [
    "Notice how only a subset of nodes in $\\mathtt{M0}$ is relevant (dark blue) and the mapping $a$ is surjective, but, by necessity, not injective."
   ]
  },
  {
   "cell_type": "markdown",
   "metadata": {},
   "source": [
    "## Domain-level mappings\n",
    "\n",
    "The variable-level mapping provides only a first insight on the abstraction, telling us which relevant variables are mapped where.\n",
    "\n",
    "The domain-level mapping provides a more detailed view. Variables/nodes are now substituted by the set of outcomes underlying each variable, and the connection between base model and abstracted model is now expressed by the stochastic matrices $\\alpha_{X'}: \\mathcal{M}[a^{-1}(X')] \\rightarrow \\mathcal{M'}[X']$."
   ]
  },
  {
   "cell_type": "markdown",
   "metadata": {},
   "source": [
    "### Random domain-level mapping\n",
    "\n",
    "We create here too a function to generate random domain-level mappings:\n",
    "\n",
    "- *generate_random_alphas()*: given two models and a variable-level mapping, it creates the necessary domain-level mappings alpha for each variable in the high-level model. $\\alpha$ is a dictionary with an entry for each varialbe in $\\mathtt{M1}$; each entry $\\alpha_{X'}$ is encoded as a binary matrix."
   ]
  },
  {
   "cell_type": "code",
   "execution_count": 19,
   "metadata": {},
   "outputs": [],
   "source": [
    "def generate_random_alphas(M0,M1,R,a):\n",
    "\n",
    "    alphas = {}\n",
    "    for n in M1.X:\n",
    "        incoming_vars = np.where(a[:,n]==1)[0]\n",
    "\n",
    "        domain = M0.MX[R[incoming_vars[0]]]\n",
    "\n",
    "        for v in incoming_vars[1:]:\n",
    "            domain = [x for x in itertools.product(domain,M0.MX[R[int(v)]])]\n",
    "\n",
    "        if len(domain) < len(M1.MX[n]):\n",
    "            raise Exception('Can not define a surjective alpha with this a!')\n",
    "            \n",
    "        else:\n",
    "            diff = len(domain) - len(M1.MX[n])\n",
    "            codomain = list(M1.MX[n].copy()) + list(np.random.choice(M1.MX[n],diff))\n",
    "            np.random.shuffle(codomain)\n",
    "        \n",
    "            alpha = np.zeros((len(domain),len(M1.MX[n])))\n",
    "            alpha[np.arange(len(domain)),codomain] = 1\n",
    "\n",
    "            alphas[n] = alpha\n",
    "\n",
    "    return alphas"
   ]
  },
  {
   "cell_type": "markdown",
   "metadata": {},
   "source": [
    "### Plotting domain-level mappings\n",
    "\n",
    "Plotting domain-level mapping is more tricky. We now have a set of functions $\\alpha_{X'}: \\mathcal{M}[a^{-1}(X')] \\rightarrow \\mathcal{M'}[X']$, where each function goes from a (Cartesian product of) set(s) to a set. We will rely for the moment on numerical outputs and printouts.  "
   ]
  },
  {
   "cell_type": "markdown",
   "metadata": {},
   "source": [
    "### First abstraction\n",
    "\n",
    "We can now instantiate two models $\\mathcal{M}/\\mathtt{M0}$ and $\\mathcal{M'}/\\mathtt{M1}$, a complete (random) abstraction defined by the variable-level mapping ($R,a$) and the domain-level mappings ($\\alpha_{X'}$).\n",
    "\n",
    "Notice that we surround the call to the generation of random $\\alpha_{X'}$ with a *try... except...* statement."
   ]
  },
  {
   "cell_type": "code",
   "execution_count": 20,
   "metadata": {},
   "outputs": [
    {
     "name": "stdout",
     "output_type": "stream",
     "text": [
      "Can not define a surjective alpha with this a!\n"
     ]
    }
   ],
   "source": [
    "M0 = FinStochSCM(6,\n",
    "                 f_sets=instantiate_random_sets,\n",
    "                 f_links=instantiate_random_links,\n",
    "                 f_stochmatrices=instantiate_random_stochmatrices)\n",
    "M1 = FinStochSCM(4,\n",
    "                 f_sets=instantiate_random_sets,\n",
    "                 f_links=instantiate_random_links,\n",
    "                 f_stochmatrices=instantiate_random_stochmatrices)\n",
    "\n",
    "R = generate_random_R(M0,5)\n",
    "a = generate_random_a(R,M1)\n",
    "\n",
    "try:\n",
    "    alphas = generate_random_alphas(M0,M1,R,a)\n",
    "except Exception as err:\n",
    "    print(err)"
   ]
  },
  {
   "cell_type": "markdown",
   "metadata": {},
   "source": [
    "We can not actually generate an abstraction in our case because one or more of the alpha mapping can not be surjective. \n",
    "\n",
    "**WARNING:** this behaviour and the following analysis written here depends on the specific random seed (1985) and may differ if the seed is changed.\n",
    "\n",
    "Let us do some troubleshooting here. Let us look at the variable-level mapping:"
   ]
  },
  {
   "cell_type": "code",
   "execution_count": 21,
   "metadata": {},
   "outputs": [
    {
     "name": "stdout",
     "output_type": "stream",
     "text": [
      "[[0. 0. 0. 1.]\n",
      " [1. 0. 0. 0.]\n",
      " [0. 0. 1. 0.]\n",
      " [0. 0. 1. 0.]\n",
      " [0. 1. 0. 0.]]\n"
     ]
    }
   ],
   "source": [
    "print(a)"
   ]
  },
  {
   "cell_type": "markdown",
   "metadata": {},
   "source": [
    "Remember that the rows are indexed by $R$, while the column are indexed by $\\mathcal{X}_{\\mathcal{M'}}$:"
   ]
  },
  {
   "cell_type": "code",
   "execution_count": 22,
   "metadata": {},
   "outputs": [
    {
     "name": "stdout",
     "output_type": "stream",
     "text": [
      "Row indexes: X0, X2, X3, X4, X5\n",
      "Col indexes: X'0, X'1, X'2, X'3\n"
     ]
    }
   ],
   "source": [
    "print('Row indexes: {0}'.format(', '.join([\"X\"+str(r) for r in R])))\n",
    "print('Col indexes: {0}'.format(', '.join([\"X'\"+str(x) for x in M1.X])))"
   ]
  },
  {
   "cell_type": "markdown",
   "metadata": {},
   "source": [
    "Let us extract from $a$ all the mappings:"
   ]
  },
  {
   "cell_type": "code",
   "execution_count": 23,
   "metadata": {},
   "outputs": [
    {
     "name": "stdout",
     "output_type": "stream",
     "text": [
      "Mapping alpha_X'0: X2 -> X'0\n",
      "Mapping alpha_X'1: X5 -> X'1\n",
      "Mapping alpha_X'2: X3, X4 -> X'2\n",
      "Mapping alpha_X'3: X0 -> X'3\n"
     ]
    }
   ],
   "source": [
    "for i in range(a.shape[1]):\n",
    "    print(\"Mapping alpha_X'{0}: {1} -> {2}\".format(i, ', '.join([\"X\"+str(r) for r in R[np.where(a[:,i]==1)[0]]]), \"X'\"+str(i)))"
   ]
  },
  {
   "cell_type": "markdown",
   "metadata": {},
   "source": [
    "And let us check the cardinalities of domains and codomains in these mappings:"
   ]
  },
  {
   "cell_type": "code",
   "execution_count": 24,
   "metadata": {},
   "outputs": [
    {
     "name": "stdout",
     "output_type": "stream",
     "text": [
      "Cardinalities in mapping alpha_X'0: 4 -> 1\n",
      "Cardinalities in mapping alpha_X'1: 2 -> 2\n",
      "Cardinalities in mapping alpha_X'2: 28 -> 5\n",
      "Cardinalities in mapping alpha_X'3: 5 -> 6\n"
     ]
    }
   ],
   "source": [
    "for i in range(a.shape[1]):\n",
    "    domains = R[np.where(a[:,i]==1)[0]]\n",
    "    card_domains = 1\n",
    "    for d in domains:\n",
    "        card_domains = card_domains * len(M0.MX[d])\n",
    "    card_codomains = len(M1.MX[i])\n",
    "    \n",
    "    print(\"Cardinalities in mapping alpha_X'{0}: {1} -> {2}\".format(i, card_domains, card_codomains))"
   ]
  },
  {
   "cell_type": "markdown",
   "metadata": {},
   "source": [
    "It is the last mapping $\\alpha_{X'_3}$ that is problematic. In our random generation we have stumbled in a situation in which the cardinality of the domain is smaller that the cardinality of the codomain, and hence we can not have a surjective mapping."
   ]
  },
  {
   "cell_type": "markdown",
   "metadata": {},
   "source": [
    "### Second abstraction\n",
    "\n",
    "Our first attempt to abstraction failed not because of a conceptual error, but because of our random generation procedure. To bypass the problem we simply re-define the function *instantiate_random_sets()*. We implement two functions, one that likely generates large sets (for the low-level model $\\mathcal{M}/\\mathtt{M0}$) and one that generates small sets (for the high-level model $\\mathcal{M'}/\\mathtt{M1}$). This will not definitively solve the problem, but it will significantly increase the probability that we will be able to define a surjective mapping $\\alpha_{X'}$."
   ]
  },
  {
   "cell_type": "code",
   "execution_count": 25,
   "metadata": {},
   "outputs": [],
   "source": [
    "def instantiate_random_sets_large(n_sets):\n",
    "    cardinalities = np.random.randint(1,12,n_sets)\n",
    "    return [np.arange(cardinalities[i]) for i in range(len(cardinalities))]\n",
    "\n",
    "def instantiate_random_sets_small(n_sets):\n",
    "    cardinalities = np.random.randint(1,3,n_sets)\n",
    "    return [np.arange(cardinalities[i]) for i in range(len(cardinalities))]"
   ]
  },
  {
   "cell_type": "markdown",
   "metadata": {},
   "source": [
    "We now re-instantiate the abstraction:"
   ]
  },
  {
   "cell_type": "code",
   "execution_count": 26,
   "metadata": {},
   "outputs": [],
   "source": [
    "M0 = FinStochSCM(6,\n",
    "                 f_sets=instantiate_random_sets_large,\n",
    "                 f_links=instantiate_random_links,\n",
    "                 f_stochmatrices=instantiate_random_stochmatrices)\n",
    "M1 = FinStochSCM(4,\n",
    "                 f_sets=instantiate_random_sets_small,\n",
    "                 f_links=instantiate_random_links,\n",
    "                 f_stochmatrices=instantiate_random_stochmatrices)\n",
    "\n",
    "R = generate_random_R(M0,5)\n",
    "a = generate_random_a(R,M1)\n",
    "alphas = generate_random_alphas(M0,M1,R,a)"
   ]
  },
  {
   "cell_type": "markdown",
   "metadata": {},
   "source": [
    "This time the instantiation worked. Let's have a peek at what abstraction we have defined, as we did before. We start analyzing $a$:"
   ]
  },
  {
   "cell_type": "code",
   "execution_count": 27,
   "metadata": {},
   "outputs": [
    {
     "name": "stdout",
     "output_type": "stream",
     "text": [
      "[[0. 1. 0. 0.]\n",
      " [0. 0. 0. 1.]\n",
      " [0. 0. 0. 1.]\n",
      " [1. 0. 0. 0.]\n",
      " [0. 0. 1. 0.]]\n"
     ]
    }
   ],
   "source": [
    "print(a)"
   ]
  },
  {
   "cell_type": "markdown",
   "metadata": {},
   "source": [
    "Notice that $a$ is now different. Let us look at the indexes for the rows ($R$) and the columns ($\\mathcal{X}_{\\mathcal{M'}}$):"
   ]
  },
  {
   "cell_type": "code",
   "execution_count": 28,
   "metadata": {},
   "outputs": [
    {
     "name": "stdout",
     "output_type": "stream",
     "text": [
      "Row indexes: X0, X2, X3, X4, X5\n",
      "Col indexes: X'0, X'1, X'2, X'3\n"
     ]
    }
   ],
   "source": [
    "print('Row indexes: {0}'.format(', '.join([\"X\"+str(r) for r in R])))\n",
    "print('Col indexes: {0}'.format(', '.join([\"X'\"+str(x) for x in M1.X])))"
   ]
  },
  {
   "cell_type": "markdown",
   "metadata": {},
   "source": [
    "Let us extract from $a$ all the mappings:"
   ]
  },
  {
   "cell_type": "code",
   "execution_count": 29,
   "metadata": {},
   "outputs": [
    {
     "name": "stdout",
     "output_type": "stream",
     "text": [
      "Mapping alpha_X'0: X4 -> X'0\n",
      "Mapping alpha_X'1: X0 -> X'1\n",
      "Mapping alpha_X'2: X5 -> X'2\n",
      "Mapping alpha_X'3: X2, X3 -> X'3\n"
     ]
    }
   ],
   "source": [
    "for i in range(a.shape[1]):\n",
    "    print(\"Mapping alpha_X'{0}: {1} -> {2}\".format(i, ', '.join([\"X\"+str(r) for r in R[np.where(a[:,i]==1)[0]]]), \"X'\"+str(i)))"
   ]
  },
  {
   "cell_type": "markdown",
   "metadata": {},
   "source": [
    "And let us check the cardinalities of domains and codomains in these mappings:"
   ]
  },
  {
   "cell_type": "code",
   "execution_count": 30,
   "metadata": {},
   "outputs": [
    {
     "name": "stdout",
     "output_type": "stream",
     "text": [
      "Cardinalities in mapping alpha_X'0: 1 -> 1\n",
      "Cardinalities in mapping alpha_X'1: 10 -> 2\n",
      "Cardinalities in mapping alpha_X'2: 9 -> 2\n",
      "Cardinalities in mapping alpha_X'3: 40 -> 2\n"
     ]
    }
   ],
   "source": [
    "for i in range(a.shape[1]):\n",
    "    domains = R[np.where(a[:,i]==1)[0]]\n",
    "    card_domains = 1\n",
    "    for d in domains:\n",
    "        card_domains = card_domains * len(M0.MX[d])\n",
    "    card_codomains = len(M1.MX[i])\n",
    "    \n",
    "    print(\"Cardinalities in mapping alpha_X'{0}: {1} -> {2}\".format(i, card_domains, card_codomains))"
   ]
  },
  {
   "cell_type": "markdown",
   "metadata": {},
   "source": [
    "Now thanks to the small cardinality of the sets in the high-level model that we have imposed with the function *instantiate_random_sets_small()*, it is trivial to have surjective mappings.\n",
    "\n",
    "We can last look at the actual mappings in $\\alpha$:"
   ]
  },
  {
   "cell_type": "code",
   "execution_count": 31,
   "metadata": {},
   "outputs": [
    {
     "data": {
      "text/plain": [
       "{0: array([[1.]]),\n",
       " 1: array([[1., 0.],\n",
       "        [0., 1.],\n",
       "        [0., 1.],\n",
       "        [0., 1.],\n",
       "        [0., 1.],\n",
       "        [0., 1.],\n",
       "        [0., 1.],\n",
       "        [1., 0.],\n",
       "        [0., 1.],\n",
       "        [1., 0.]]),\n",
       " 2: array([[1., 0.],\n",
       "        [1., 0.],\n",
       "        [1., 0.],\n",
       "        [0., 1.],\n",
       "        [1., 0.],\n",
       "        [1., 0.],\n",
       "        [1., 0.],\n",
       "        [0., 1.],\n",
       "        [1., 0.]]),\n",
       " 3: array([[1., 0.],\n",
       "        [1., 0.],\n",
       "        [0., 1.],\n",
       "        [0., 1.],\n",
       "        [0., 1.],\n",
       "        [0., 1.],\n",
       "        [1., 0.],\n",
       "        [0., 1.],\n",
       "        [1., 0.],\n",
       "        [0., 1.],\n",
       "        [0., 1.],\n",
       "        [0., 1.],\n",
       "        [1., 0.],\n",
       "        [0., 1.],\n",
       "        [1., 0.],\n",
       "        [0., 1.],\n",
       "        [1., 0.],\n",
       "        [0., 1.],\n",
       "        [1., 0.],\n",
       "        [1., 0.],\n",
       "        [0., 1.],\n",
       "        [0., 1.],\n",
       "        [1., 0.],\n",
       "        [0., 1.],\n",
       "        [1., 0.],\n",
       "        [0., 1.],\n",
       "        [0., 1.],\n",
       "        [1., 0.],\n",
       "        [0., 1.],\n",
       "        [1., 0.],\n",
       "        [0., 1.],\n",
       "        [0., 1.],\n",
       "        [1., 0.],\n",
       "        [1., 0.],\n",
       "        [0., 1.],\n",
       "        [0., 1.],\n",
       "        [1., 0.],\n",
       "        [1., 0.],\n",
       "        [1., 0.],\n",
       "        [0., 1.]])}"
      ]
     },
     "execution_count": 31,
     "metadata": {},
     "output_type": "execute_result"
    }
   ],
   "source": [
    "alphas"
   ]
  },
  {
   "cell_type": "markdown",
   "metadata": {},
   "source": [
    "## Abstraction\n",
    "\n",
    "We can now encapsulate variable-level mappings and domain-level mappings into an *Abstraction* class."
   ]
  },
  {
   "cell_type": "markdown",
   "metadata": {},
   "source": [
    "### Abstraction class\n",
    "\n",
    "An abstraction object will have the following attributes:\n",
    "- *M0*: the base or low-level model; this is an object of class *FinStochSCM*. Mathematically, this is the SCM $\\mathcal{M}$.\n",
    "- *M1*: the abstracted or high-level model; this is an object of class *FinStochSCM*. Mathematically, this is the SCM $\\mathcal{M'}$.\n",
    "- *nR*: the number of relevant variables in M0. Mathematically, this is the cardinality $|R|$.\n",
    "- *R*: an array of relevant variables. Mathematically, this is the set $R$.\n",
    "- *a*: a binary matrix encoding the mapping between relevant variables and high-level variables. Mathematically, this is the surjective mapping $a: R \\rightarrow \\mathcal{X}_{\\mathcal{M'}}$.\n",
    "- *alphas*: a dictionary of binary matrices, each one encoding the mapping from outcomes of low-level variable(s) to outcomes of a high-level variable. Mathematically, this is the collection of surjective mappings $\\alpha_{X'}: \\mathcal{M}[a^{-1}(X')] \\rightarrow \\mathcal{M'}[X']$.\n",
    "\n",
    "The methods are:\n",
    "- *\\__init__()*: a versatile constructor that can either set up a specific abstraction (passing a the necessary parameters) or generate a random abstraction (passing random generator functions);\n",
    "- *set\\_...()*: a series of setters to manually setup the abstraction;\n",
    "- *copy()*: a method to create a deep copy of the abstraction;\n",
    "- *is\\_...*: a series of tests on the properties of the abstraction;\n",
    "- *print\\_...()*: a series of function to print out details about the abstraction;\n",
    "- *plot\\_()*: method to plot the variable-level abstraction."
   ]
  },
  {
   "cell_type": "code",
   "execution_count": 32,
   "metadata": {},
   "outputs": [],
   "source": [
    "class Abstraction():\n",
    "    def __init__(self,M0,M1, nR, \n",
    "                 R=None, a=None, alphas=None,\n",
    "                 f_R=None, f_a=None, f_alphas=None):\n",
    "                       \n",
    "        self.M0 = M0\n",
    "        self.M1 = M1\n",
    "        self.nR = nR\n",
    "        \n",
    "        self.R = self.set_R(R,f_R)\n",
    "        self.a = self.set_a(a,f_a)\n",
    "        self.alphas = self.set_alphas(alphas,f_alphas)\n",
    "        \n",
    "    def set_R(self,R,f_R):\n",
    "        if R is None:\n",
    "            # TODO:check nR is less or equal to length of M0.X\n",
    "            R = f_R(self.M0,self.nR)\n",
    "        \n",
    "        # TODO:check length of R matches nR\n",
    "        return R\n",
    "\n",
    "    def set_a(self,a,f_a):\n",
    "        if a is None:\n",
    "            # TODO:check \n",
    "            a = f_a(self.R,self.M1)\n",
    "        \n",
    "        # TODO:check dimensions of a\n",
    "        return a\n",
    "\n",
    "    def set_alphas(self,alphas,f_alphas):\n",
    "        if alphas is None:\n",
    "            # TODO:check\n",
    "            alphas = f_alphas(self.M0,self.M1,self.R,self.a)\n",
    "        \n",
    "        # TODO:check dimensions of alpha\n",
    "        return alphas\n",
    "        \n",
    "    def copy(self):\n",
    "        Acopy = Abstraction(self.M0, self.M1, self.nR, \n",
    "                            R=self.R.copy(), a=self.a.copy(), alphas=self.alphas.copy())\n",
    "        return Acopy\n",
    "    \n",
    "    def is_varlevel_complete(self):\n",
    "        return self.M0.nX == self.nR\n",
    "    \n",
    "    def is_varlevel_isomorphic(self):\n",
    "        return self.a.shape[0] == self.a.shape[1]\n",
    "    \n",
    "    def is_domlevel_isomorphic(self):\n",
    "        for alpha in self.alphas.values():\n",
    "            print(\"Mapping alpha_X'{0}: {1}\".format(i, alpha.shape[0]==alpha.shape[1]))\n",
    "    \n",
    "    def print_M0_cardinalites(self):\n",
    "        for i in range(self.M0.nX):\n",
    "            print('M0: cardinality of X{0}: {1}'.format(i,len(self.M0.MX[i])))\n",
    "    \n",
    "    def print_R_cardinalites(self):\n",
    "        for i in range(self.nR):\n",
    "            print('R: cardinality of X{0}: {1}'.format(self.R[i],len(self.M0.MX[R[i]])))\n",
    "            \n",
    "    def print_M1_cardinalites(self):\n",
    "        for i in range(self.M1.nX):\n",
    "            print(\"M1: cardinality of X'{0}: {1}\".format(i,len(self.M1.MX[i])))\n",
    "    \n",
    "    def print_relevant_vars(self):\n",
    "        print('R = {0}'.format(', '.join(['X_'+str(r) for r in self.R])))\n",
    "    \n",
    "    def print_mapping_a(self):\n",
    "        print(self.a)\n",
    "        print('\\n')\n",
    "        print('Row indexes: {0}'.format(', '.join([\"X\"+str(r) for r in self.R])))\n",
    "        print('Col indexes: {0}'.format(', '.join([\"X'\"+str(x) for x in self.M1.X])))\n",
    "        \n",
    "    def print_mappings_alphas(self):\n",
    "        for i in range(self.a.shape[1]):\n",
    "            domain = self.R[np.where(self.a[:,i]==1)[0]]\n",
    "            print(\"Mapping alpha_X'{0}: {1} -> {2}\".format(i, ', '.join([\"X_\"+str(d) for d in domain]), \"X'_\"+str(i)))\n",
    "            \n",
    "    def print_mappings_alphas_cardinalities(self):\n",
    "        for i in range(self.a.shape[1]):\n",
    "            domain = self.R[np.where(self.a[:,i]==1)[0]]\n",
    "            card_domain = 1\n",
    "            for d in domain:\n",
    "                card_domain = card_domain * len(self.M0.MX[d])\n",
    "            card_codomain = len(self.M1.MX[i])\n",
    "\n",
    "            print(\"Cardinalities in mapping alpha_X'{0}: {1} -> {2}\".format(i, card_domain, card_codomain))\n",
    "            \n",
    "    def plot_variable_level_mapping(self):\n",
    "        G = self.M0.G.copy()\n",
    "        relabel_map = {}\n",
    "        for n in G.nodes():\n",
    "            relabel_map[n] = 'M0_'+str(n)\n",
    "        G0 = nx.relabel.relabel_nodes(G,relabel_map)\n",
    "\n",
    "        G = self.M1.G.copy()\n",
    "        relabel_map = {}\n",
    "        for n in G.nodes():\n",
    "            relabel_map[n] = 'M1_'+str(n)\n",
    "        G1 = nx.relabel.relabel_nodes(G,relabel_map)\n",
    "\n",
    "        U = nx.union(G0,G1)\n",
    "\n",
    "        #edge_color=['k']*U.number_of_edges() + ['r']*len(a[0])\n",
    "\n",
    "        edge_list = [('M0_'+str(self.R[i]), 'M1_'+str(np.where(self.a[i,:]==1)[0][0])) for i in range(self.a.shape[0])]\n",
    "        U.add_edges_from(edge_list)\n",
    "\n",
    "        #for i in range(len(a[0])):\n",
    "        #    U.add_edge('M0_'+str(a[0][i]), 'M1_'+str(a[1][i])) \n",
    "\n",
    "        pos = nx.shell_layout(U)\n",
    "\n",
    "        for k in pos.keys():\n",
    "            if 'M1' in k:\n",
    "                pos[k] = pos[k] + [10,0]\n",
    "\n",
    "        R_list = np.array(['M0_'+str(self.R[i]) for i in range(len(self.R))])\n",
    "        nR = np.array(list(set(self.M0.X)-set(self.R)))\n",
    "        nR_list = np.array(['M0_'+str(nR[i]) for i in range(len(nR))])\n",
    "\n",
    "        nx.draw_networkx_nodes(U,pos,nodelist=R_list,node_color='b',alpha=.5)\n",
    "        nx.draw_networkx_nodes(U,pos,nodelist=nR_list,node_color='b',alpha=.2)\n",
    "        nx.draw_networkx_labels(U,pos)\n",
    "        nx.draw_networkx_edges(U,pos,edgelist=G0.edges(),edge_color='k')\n",
    "\n",
    "        nx.draw_networkx_nodes(U,pos,nodelist=G1.nodes(),node_color='g',alpha=.5)\n",
    "        nx.draw_networkx_labels(U,pos)\n",
    "        nx.draw_networkx_edges(U,pos,edgelist=G1.edges(),edge_color='k')\n",
    "\n",
    "        nx.draw_networkx_edges(U,pos,edgelist=edge_list,edge_color='r',style='dashed')"
   ]
  },
  {
   "cell_type": "markdown",
   "metadata": {},
   "source": [
    "We can test this class by re-running the previous example:"
   ]
  },
  {
   "cell_type": "code",
   "execution_count": 33,
   "metadata": {},
   "outputs": [],
   "source": [
    "M0 = FinStochSCM(6,\n",
    "                 f_sets=instantiate_random_sets_large,\n",
    "                 f_links=instantiate_random_links,\n",
    "                 f_stochmatrices=instantiate_random_stochmatrices)\n",
    "M1 = FinStochSCM(4,\n",
    "                 f_sets=instantiate_random_sets_small,\n",
    "                 f_links=instantiate_random_links,\n",
    "                 f_stochmatrices=instantiate_random_stochmatrices)\n",
    "\n",
    "A = Abstraction(M0,M1,5,\n",
    "               f_R=generate_random_R,\n",
    "               f_a=generate_random_a,\n",
    "               f_alphas=generate_random_alphas)"
   ]
  },
  {
   "cell_type": "markdown",
   "metadata": {},
   "source": [
    "The *print_...()* function of the *Abstraction* object gives us an easy way to check our abstraction:"
   ]
  },
  {
   "cell_type": "code",
   "execution_count": 34,
   "metadata": {},
   "outputs": [
    {
     "name": "stdout",
     "output_type": "stream",
     "text": [
      "Cardinalities in mapping alpha_X'0: 7 -> 1\n",
      "Cardinalities in mapping alpha_X'1: 8 -> 2\n",
      "Cardinalities in mapping alpha_X'2: 10 -> 1\n",
      "Cardinalities in mapping alpha_X'3: 48 -> 1\n"
     ]
    }
   ],
   "source": [
    "A.print_mappings_alphas_cardinalities()"
   ]
  },
  {
   "cell_type": "markdown",
   "metadata": {},
   "source": [
    "## Example (I)\n",
    "\n",
    "We now take a look again at the running example in the notebook *Categorical Abstraction.ipynb*, which corresponded to the example in Sections 4.11-4.13 of [Rischel2020]."
   ]
  },
  {
   "cell_type": "markdown",
   "metadata": {},
   "source": [
    "### Model M0\n",
    "\n",
    "First, we define model $\\mathcal{M}/\\mathtt{M0}$. We relabel the *smoking* node as $S \\mapsto 0$; the *tar deposit* node as $T \\mapsto 1$; and the *cancer* node as $C \\mapsto 2$."
   ]
  },
  {
   "cell_type": "markdown",
   "metadata": {},
   "source": [
    "Every node has a binary domain, which we define through *sets*."
   ]
  },
  {
   "cell_type": "code",
   "execution_count": 35,
   "metadata": {},
   "outputs": [],
   "source": [
    "sets = [np.arange(2),np.arange(2),np.arange(2)]"
   ]
  },
  {
   "cell_type": "markdown",
   "metadata": {},
   "source": [
    "In *links* we specify the edges of the underlying graph, that is $S \\rightarrow T \\rightarrow C$ or $0 \\rightarrow 1 \\rightarrow 2$."
   ]
  },
  {
   "cell_type": "code",
   "execution_count": 36,
   "metadata": {},
   "outputs": [],
   "source": [
    "links = [('0','1'),('1','2')]"
   ]
  },
  {
   "cell_type": "markdown",
   "metadata": {},
   "source": [
    "Finally, in *stochmatrices* we define the stochastic matrices corresponding to the mechanism of every node (see the previous notebook *Categorical Abstraction.ipynb* for details on these matrices)."
   ]
  },
  {
   "cell_type": "code",
   "execution_count": 37,
   "metadata": {},
   "outputs": [],
   "source": [
    "stochmatrices = {'0': np.array([.8,.2]),\n",
    "                '1': np.array([[1,0],[.2,.8]]),\n",
    "                '2': np.array([[.9,.1],[.6,.4]])}"
   ]
  },
  {
   "cell_type": "markdown",
   "metadata": {},
   "source": [
    "Finally we can instantiate the model and plot it."
   ]
  },
  {
   "cell_type": "code",
   "execution_count": 38,
   "metadata": {},
   "outputs": [],
   "source": [
    "M0 = FinStochSCM(3, sets=sets, links= links, stochmatrices=stochmatrices)"
   ]
  },
  {
   "cell_type": "code",
   "execution_count": 39,
   "metadata": {},
   "outputs": [
    {
     "data": {
      "image/png": "[encoded data removed]",
      "text/plain": [
       "<Figure size 432x288 with 1 Axes>"
      ]
     },
     "metadata": {},
     "output_type": "display_data"
    }
   ],
   "source": [
    "M0.plot()"
   ]
  },
  {
   "cell_type": "markdown",
   "metadata": {},
   "source": [
    "### Model M1\n",
    "\n",
    "We now follow the same approach to define model $\\mathcal{M'}/\\mathtt{M1}$. In this case we have only two nodes: the *smoking* node relabeled as $S \\mapsto 0$; and the *cancer* node relabeled as $C \\mapsto 1$."
   ]
  },
  {
   "cell_type": "markdown",
   "metadata": {},
   "source": [
    "We then define *sets*, *links*, and *stochmatrices*."
   ]
  },
  {
   "cell_type": "code",
   "execution_count": 40,
   "metadata": {},
   "outputs": [],
   "source": [
    "sets = [np.arange(2),np.arange(2)]"
   ]
  },
  {
   "cell_type": "code",
   "execution_count": 41,
   "metadata": {},
   "outputs": [],
   "source": [
    "links = [('0','1')]"
   ]
  },
  {
   "cell_type": "code",
   "execution_count": 42,
   "metadata": {},
   "outputs": [],
   "source": [
    "stochmatrices = {'0': np.array([.8,.2]),\n",
    "                '1': np.array([[.9,.1],[.66,.34]])}"
   ]
  },
  {
   "cell_type": "markdown",
   "metadata": {},
   "source": [
    "We instantiate the new model, and plot it."
   ]
  },
  {
   "cell_type": "code",
   "execution_count": 43,
   "metadata": {},
   "outputs": [],
   "source": [
    "M1 = FinStochSCM(2, sets=sets, links= links, stochmatrices=stochmatrices)"
   ]
  },
  {
   "cell_type": "code",
   "execution_count": 44,
   "metadata": {},
   "outputs": [
    {
     "data": {
      "image/png": "[encoded data removed]",
      "text/plain": [
       "<Figure size 432x288 with 1 Axes>"
      ]
     },
     "metadata": {},
     "output_type": "display_data"
    }
   ],
   "source": [
    "M1.plot()"
   ]
  },
  {
   "cell_type": "markdown",
   "metadata": {},
   "source": [
    "### Variable-level mapping\n",
    "\n",
    "Next, we implement an abstraction between the two models, $\\mathcal{M}/\\mathtt{M0}$ being the base or low-level model and $\\mathcal{M'}/\\mathtt{M1}$ being the abstracted or high-level model.\n",
    "\n",
    "We start defining the variable-level mapping."
   ]
  },
  {
   "cell_type": "markdown",
   "metadata": {},
   "source": [
    "First, we need to define the restriction $R$. The nodes in $\\mathcal{M}/\\mathtt{M0}$ we are interested in are the *smoking* node ($0$) and the *cancer* node ($2$)."
   ]
  },
  {
   "cell_type": "code",
   "execution_count": 45,
   "metadata": {},
   "outputs": [],
   "source": [
    "R = np.array([0,2])"
   ]
  },
  {
   "cell_type": "markdown",
   "metadata": {},
   "source": [
    "Next we need a surjective mapping $a: R \\rightarrow \\mathcal{X}_{\\mathcal{M'}}$. This is the trivial mapping that sends the *smoking* variable in $\\mathtt{M0}$ ($0$) to the *smoking* variable in $\\mathtt{M1}$ ($0$), and the *cancer* variable in $\\mathtt{M0}$ ($2$) to the *cancer* variable in $\\mathtt{M1}$ ($1$). (Remember that while the *cancer* variable in $\\mathtt{M0}$ has index $2$, it has index $1$ in $R$). The mapping is then given by an identity matrix. "
   ]
  },
  {
   "cell_type": "code",
   "execution_count": 46,
   "metadata": {},
   "outputs": [],
   "source": [
    "a = np.eye(2)"
   ]
  },
  {
   "cell_type": "markdown",
   "metadata": {},
   "source": [
    "Notice that, overall, we have a *variable-level mapping* that is **incomplete** (as we dropped $T$) and **isomorphic** (as we have a surjective and injective mapping between $R$ and $\\mathcal{X}_{\\mathcal{M'}}$)."
   ]
  },
  {
   "cell_type": "markdown",
   "metadata": {},
   "source": [
    "### Domain-level mapping\n",
    "\n",
    "We then move to specify the domain-level mapping by defining the collection of surjective mappings $\\alpha_{X'}: \\mathcal{M}[a^{-1}(X')] \\rightarrow \\mathcal{M'}[X']$. These mappings too are trivial since they map each outcome in the low-level model to the equivalent outcome in the high-level model."
   ]
  },
  {
   "cell_type": "code",
   "execution_count": 47,
   "metadata": {},
   "outputs": [],
   "source": [
    "alphas = {'0': np.eye(2),\n",
    "         '1': np.eye(2)}"
   ]
  },
  {
   "cell_type": "markdown",
   "metadata": {},
   "source": [
    "Overall we have a *domain-level mapping* that is **isomorphic** for each map $\\alpha_{X'}$, since each one is surjective and injective."
   ]
  },
  {
   "cell_type": "markdown",
   "metadata": {},
   "source": [
    "### Abstraction\n",
    "\n",
    "Finally, we put everything together to define our abstraction."
   ]
  },
  {
   "cell_type": "code",
   "execution_count": 48,
   "metadata": {},
   "outputs": [],
   "source": [
    "A = Abstraction(M0,M1,2,R,a,alphas)"
   ]
  },
  {
   "cell_type": "markdown",
   "metadata": {},
   "source": [
    "We can now test properties of the abstraction, as well as plot the variable-level mapping."
   ]
  },
  {
   "cell_type": "code",
   "execution_count": 49,
   "metadata": {},
   "outputs": [
    {
     "name": "stdout",
     "output_type": "stream",
     "text": [
      "R: cardinality of X0: 2\n",
      "R: cardinality of X2: 2\n"
     ]
    }
   ],
   "source": [
    "A.print_R_cardinalites()"
   ]
  },
  {
   "cell_type": "code",
   "execution_count": 50,
   "metadata": {},
   "outputs": [
    {
     "name": "stdout",
     "output_type": "stream",
     "text": [
      "Mapping alpha_X'0: X_0 -> X'_0\n",
      "Mapping alpha_X'1: X_2 -> X'_1\n"
     ]
    }
   ],
   "source": [
    "A.print_mappings_alphas()"
   ]
  },
  {
   "cell_type": "code",
   "execution_count": 51,
   "metadata": {},
   "outputs": [
    {
     "data": {
      "text/plain": [
       "False"
      ]
     },
     "execution_count": 51,
     "metadata": {},
     "output_type": "execute_result"
    }
   ],
   "source": [
    "A.is_varlevel_complete()"
   ]
  },
  {
   "cell_type": "code",
   "execution_count": 52,
   "metadata": {},
   "outputs": [
    {
     "data": {
      "text/plain": [
       "True"
      ]
     },
     "execution_count": 52,
     "metadata": {},
     "output_type": "execute_result"
    }
   ],
   "source": [
    "A.is_varlevel_isomorphic()"
   ]
  },
  {
   "cell_type": "code",
   "execution_count": 53,
   "metadata": {},
   "outputs": [
    {
     "name": "stdout",
     "output_type": "stream",
     "text": [
      "Mapping alpha_X'3: True\n",
      "Mapping alpha_X'3: True\n"
     ]
    }
   ],
   "source": [
    "A.is_domlevel_isomorphic()"
   ]
  },
  {
   "cell_type": "code",
   "execution_count": 54,
   "metadata": {},
   "outputs": [
    {
     "data": {
      "image/png": "[encoded data removed]",
      "text/plain": [
       "<Figure size 432x288 with 1 Axes>"
      ]
     },
     "metadata": {},
     "output_type": "display_data"
    }
   ],
   "source": [
    "A.plot_variable_level_mapping()"
   ]
  },
  {
   "cell_type": "markdown",
   "metadata": {},
   "source": [
    "## Example (II)\n",
    "\n",
    "We can also implement and have a look to the example that we introduced in our discussion above about the limitations of the definition of abstraction."
   ]
  },
  {
   "cell_type": "markdown",
   "metadata": {},
   "source": [
    "### Model M0\n",
    "\n",
    "Model $\\mathcal{M}/\\mathtt{M0}$ is a simple model defined over to binary variables with arbitrary stochastic matrices."
   ]
  },
  {
   "cell_type": "code",
   "execution_count": 55,
   "metadata": {},
   "outputs": [],
   "source": [
    "sets = [np.arange(2),np.arange(2)]"
   ]
  },
  {
   "cell_type": "code",
   "execution_count": 56,
   "metadata": {},
   "outputs": [],
   "source": [
    "links = [('0','1')]"
   ]
  },
  {
   "cell_type": "code",
   "execution_count": 57,
   "metadata": {},
   "outputs": [],
   "source": [
    "rvals = np.random.randn(3)\n",
    "\n",
    "stochmatrices = {'0': np.array([rvals[0],1-rvals[0]]),\n",
    "                '1': np.array([[rvals[1],1-rvals[1]],[rvals[2],1-rvals[2]]])}"
   ]
  },
  {
   "cell_type": "markdown",
   "metadata": {},
   "source": [
    "Finally we can instantiate the model and plot it."
   ]
  },
  {
   "cell_type": "code",
   "execution_count": 58,
   "metadata": {},
   "outputs": [],
   "source": [
    "M0 = FinStochSCM(2, sets=sets, links= links, stochmatrices=stochmatrices)"
   ]
  },
  {
   "cell_type": "code",
   "execution_count": 59,
   "metadata": {},
   "outputs": [
    {
     "data": {
      "image/png": "[encoded data removed]",
      "text/plain": [
       "<Figure size 432x288 with 1 Axes>"
      ]
     },
     "metadata": {},
     "output_type": "display_data"
    }
   ],
   "source": [
    "M0.plot()"
   ]
  },
  {
   "cell_type": "markdown",
   "metadata": {},
   "source": [
    "### Model M1\n",
    "\n",
    "Model $\\mathcal{M'}/\\mathtt{M1}$ is identical to $\\mathcal{M}/\\mathtt{M0}$ except that it reverts the direction of the causality."
   ]
  },
  {
   "cell_type": "code",
   "execution_count": 60,
   "metadata": {},
   "outputs": [],
   "source": [
    "sets = [np.arange(2),np.arange(2)]"
   ]
  },
  {
   "cell_type": "code",
   "execution_count": 61,
   "metadata": {},
   "outputs": [],
   "source": [
    "links = [('1','0')]"
   ]
  },
  {
   "cell_type": "code",
   "execution_count": 62,
   "metadata": {},
   "outputs": [],
   "source": [
    "rvals = np.random.randn(3)\n",
    "\n",
    "stochmatrices = {'0': np.array([rvals[0],1-rvals[0]]),\n",
    "                '1': np.array([[rvals[1],1-rvals[1]],[rvals[2],1-rvals[2]]])}"
   ]
  },
  {
   "cell_type": "markdown",
   "metadata": {},
   "source": [
    "We instantiate the new model, and plot it."
   ]
  },
  {
   "cell_type": "code",
   "execution_count": 63,
   "metadata": {},
   "outputs": [],
   "source": [
    "M1 = FinStochSCM(2, sets=sets, links= links, stochmatrices=stochmatrices)"
   ]
  },
  {
   "cell_type": "code",
   "execution_count": 64,
   "metadata": {},
   "outputs": [
    {
     "data": {
      "image/png": "[encoded data removed]",
      "text/plain": [
       "<Figure size 432x288 with 1 Axes>"
      ]
     },
     "metadata": {},
     "output_type": "display_data"
    }
   ],
   "source": [
    "M1.plot()"
   ]
  },
  {
   "cell_type": "markdown",
   "metadata": {},
   "source": [
    "### Variable-level mapping\n",
    "\n",
    "Next, we implement the abstraction between the two models that we described above, starting with the variable-level mapping."
   ]
  },
  {
   "cell_type": "markdown",
   "metadata": {},
   "source": [
    "The restriction $R$ is simply the whole set of variables in the base model."
   ]
  },
  {
   "cell_type": "code",
   "execution_count": 65,
   "metadata": {},
   "outputs": [],
   "source": [
    "R = np.array([0,1])"
   ]
  },
  {
   "cell_type": "markdown",
   "metadata": {},
   "source": [
    "The surjective mapping $a: R \\rightarrow \\mathcal{X}_{\\mathcal{M'}}$ is then given by an identity matrix, mapping variables $0 \\mapsto 0$ and $1 \\mapsto 1$. "
   ]
  },
  {
   "cell_type": "code",
   "execution_count": 66,
   "metadata": {},
   "outputs": [],
   "source": [
    "a = np.eye(2)"
   ]
  },
  {
   "cell_type": "markdown",
   "metadata": {},
   "source": [
    "Overall, this is a *variable-level mapping* that is **complete** and **isomorphic**."
   ]
  },
  {
   "cell_type": "markdown",
   "metadata": {},
   "source": [
    "### Domain-level mapping\n",
    "\n",
    "The domain-level mapping $\\alpha_{X'}: \\mathcal{M}[a^{-1}(X')] \\rightarrow \\mathcal{M'}[X']$ is simply a collection of identity matrices."
   ]
  },
  {
   "cell_type": "code",
   "execution_count": 67,
   "metadata": {},
   "outputs": [],
   "source": [
    "alphas = {'0': np.eye(2),\n",
    "         '1': np.eye(2)}"
   ]
  },
  {
   "cell_type": "markdown",
   "metadata": {},
   "source": [
    "Overall the *domain-level mapping* that is **isomorphic**."
   ]
  },
  {
   "cell_type": "markdown",
   "metadata": {},
   "source": [
    "### Abstraction\n",
    "\n",
    "Finally, we put everything together to define our abstraction."
   ]
  },
  {
   "cell_type": "code",
   "execution_count": 68,
   "metadata": {},
   "outputs": [],
   "source": [
    "A = Abstraction(M0,M1,2,R,a,alphas)"
   ]
  },
  {
   "cell_type": "markdown",
   "metadata": {},
   "source": [
    "We can now test properties of the abstraction, as well as plot the variable-level mapping."
   ]
  },
  {
   "cell_type": "code",
   "execution_count": 69,
   "metadata": {},
   "outputs": [
    {
     "name": "stdout",
     "output_type": "stream",
     "text": [
      "R: cardinality of X0: 2\n",
      "R: cardinality of X1: 2\n"
     ]
    }
   ],
   "source": [
    "A.print_R_cardinalites()"
   ]
  },
  {
   "cell_type": "code",
   "execution_count": 70,
   "metadata": {},
   "outputs": [
    {
     "name": "stdout",
     "output_type": "stream",
     "text": [
      "Mapping alpha_X'0: X_0 -> X'_0\n",
      "Mapping alpha_X'1: X_1 -> X'_1\n"
     ]
    }
   ],
   "source": [
    "A.print_mappings_alphas()"
   ]
  },
  {
   "cell_type": "code",
   "execution_count": 71,
   "metadata": {},
   "outputs": [
    {
     "data": {
      "text/plain": [
       "True"
      ]
     },
     "execution_count": 71,
     "metadata": {},
     "output_type": "execute_result"
    }
   ],
   "source": [
    "A.is_varlevel_complete()"
   ]
  },
  {
   "cell_type": "code",
   "execution_count": 72,
   "metadata": {},
   "outputs": [
    {
     "data": {
      "text/plain": [
       "True"
      ]
     },
     "execution_count": 72,
     "metadata": {},
     "output_type": "execute_result"
    }
   ],
   "source": [
    "A.is_varlevel_isomorphic()"
   ]
  },
  {
   "cell_type": "code",
   "execution_count": 73,
   "metadata": {},
   "outputs": [
    {
     "name": "stdout",
     "output_type": "stream",
     "text": [
      "Mapping alpha_X'3: True\n",
      "Mapping alpha_X'3: True\n"
     ]
    }
   ],
   "source": [
    "A.is_domlevel_isomorphic()"
   ]
  },
  {
   "cell_type": "code",
   "execution_count": 74,
   "metadata": {},
   "outputs": [
    {
     "data": {
      "image/png": "[encoded data removed]",
      "text/plain": [
       "<Figure size 432x288 with 1 Axes>"
      ]
     },
     "metadata": {},
     "output_type": "display_data"
    }
   ],
   "source": [
    "A.plot_variable_level_mapping()"
   ]
  },
  {
   "cell_type": "markdown",
   "metadata": {},
   "source": [
    "The definition of abstraction is legitimate then, although, as clear from the plot, our abstraction ends up distorting the directionality of cause and effect."
   ]
  },
  {
   "cell_type": "markdown",
   "metadata": {},
   "source": [
    "# Conclusion\n",
    "\n",
    "In this notebook we have dived deep in the definition of abstraction proposed in [Rischel2020]. We have split the idea of abstraction in two levels, a *variable-level mapping* and a *domain-level mapping*, and we have discussed properties and implications of each mapping. We have also highlighted some limitations implicit in the definition, which introduced us to the further issue of *consistency among causal models*. Finally, we have provided class implementations for SCMs and abstractions that offer a programmatic way to analyze abstractions between causal models.\n",
    "\n",
    "**DISCLAIMER:** More flexible implementations of an *Abstraction* class will be discussed in following notebooks."
   ]
  },
  {
   "cell_type": "markdown",
   "metadata": {},
   "source": [
    "## Bibliography\n",
    "\n",
    "[Rischel2020] Rischel, Eigil Fjeldgren. \"The Category Theory of Causal Models.\" (2020).\n",
    "\n",
    "[Pearl2009] Pearl, Judea. Causality. Cambridge university press, 2009.\n",
    "\n",
    "[Peters2017] Peters, Jonas, Dominik Janzing, and Bernhard Schölkopf. Elements of causal inference: foundations and learning algorithms. The MIT Press, 2017.\n",
    "\n",
    "[Spivak2014] Spivak, David I. Category theory for the sciences. MIT Press, 2014.\n",
    "\n",
    "[Fong2018] Fong, Brendan, and David I. Spivak. \"Seven sketches in compositionality: An invitation to applied category theory.\" arXiv preprint arXiv:1803.05316 (2018).\n",
    "\n",
    "[Otsuka2022] Otsuka, Jun, and Hayato Saigo. \"On the Equivalence of Causal Models: A Category-Theoretic Approach.\" arXiv preprint arXiv:2201.06981 (2022).\n",
    "\n",
    "[Zennaro2022b] Zennaro, Fabio Massimo. \"Abstraction between Structural Causal Models: A Review of Definitions and Properties.\" UAI 2022 Workshop on Causal Representation Learning."
   ]
  },
  {
   "cell_type": "code",
   "execution_count": null,
   "metadata": {},
   "outputs": [],
   "source": []
  }
 ],
 "metadata": {
  "kernelspec": {
   "display_name": "Python 3",
   "language": "python",
   "name": "python3"
  },
  "language_info": {
   "codemirror_mode": {
    "name": "ipython",
    "version": 3
   },
   "file_extension": ".py",
   "mimetype": "text/x-python",
   "name": "python",
   "nbconvert_exporter": "python",
   "pygments_lexer": "ipython3",
   "version": "3.9.16"
  },
  "toc": {
   "base_numbering": 1,
   "nav_menu": {},
   "number_sections": true,
   "sideBar": true,
   "skip_h1_title": false,
   "title_cell": "Table of Contents",
   "title_sidebar": "Contents",
   "toc_cell": false,
   "toc_position": {
    "height": "calc(100% - 180px)",
    "left": "10px",
    "top": "150px",
    "width": "219.429px"
   },
   "toc_section_display": true,
   "toc_window_display": false
  }
 },
 "nbformat": 4,
 "nbformat_minor": 4
}
