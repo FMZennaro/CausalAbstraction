{
 "cells": [
  {
   "cell_type": "markdown",
   "metadata": {},
   "source": [
    "# Compositional Abstraction Error\n",
    "\n",
    "One of the key requirements that was imposed on abstraction is *compositionality*. We have two forms of compositionality:\n",
    "- If $\\alpha_1$ is a zero-error abstraction from $\\mathcal{M}$ to $\\mathcal{M'}$, and $\\alpha_2$ is a zero-error abstraction from $\\mathcal{M'}$ to $\\mathcal{M''}$, then we want the composition $\\alpha_2 \\circ \\alpha_1$ to be a zero-error abstraction from $\\mathcal{M}$ to $\\mathcal{M''}$.\n",
    "- If $\\alpha_1$ is an abstraction from $\\mathcal{M}$ to $\\mathcal{M'}$ with error $e_1$, and $\\alpha_2$ is an abstraction from $\\mathcal{M'}$ to $\\mathcal{M''}$ with error $e_2$, then we want the composition $\\alpha_2 \\circ \\alpha_1$ to be an abstraction from $\\mathcal{M}$ to $\\mathcal{M''}$ with error bounded by $e_1+e_2$.\n",
    "\n",
    "In this notebook we show the importance of selecting a proper metric to evaluate the abstraction error by showing how different metrics may fail in guaranteeing compositionality. To do this we  implement the example of SCM abstraction presented in Section 1 of [Rischel2021]. In particular we confirm experimentally that measures of abstraction error relying on KL divergence are not composable, while JS distance may provide a suitable measure.\n",
    "\n",
    "This notebook was developed in order to offer a practical implementation of the ideas about abstraction error discussed in [Rischel2020] and [Rischel2021], and to lay stonger foundations to further work with the idea of abstraction of causal models. The notebook is structured as follows: \n",
    "- Setup of standard and custom libraries (Section 2)\n",
    "- Definition of the models M0 and M1 (Section 3)\n",
    "- Evaluation of abstraction error between M0 and M1 using different metrics (Section 4)\n",
    "- Introduction of model M2 (Section 5)\n",
    "- Evaluation of abstraction error between M1 and M2 using different metrics (Section 6)\n",
    "- Evaluation of composed abstraction error computed as the sum of the abstraction error from M0 to M1 plus the abstraction error from M1 to M2 against the abstraction error from M0 to M2 (Section 7)\n",
    "- Theoretical considerations about the choice of the metrics (Section 8)\n",
    "\n",
    "DISCLAIMER 1: the notebook refers to ideas from *causality* and *category theory* for which only a quick definition is offered. Useful references for causality are [Pearl2009,Peters2017], while for category theory are [Spivak2014,Fong2018].\n",
    "\n",
    "DISCLAIMER 2: mistakes are in all likelihood due to misunderstandings by the notebook author in reading [Rischel2020] and [Rischel2021]. Feedback very welcome! :)"
   ]
  },
  {
   "cell_type": "markdown",
   "metadata": {},
   "source": [
    "# Setup"
   ]
  },
  {
   "cell_type": "markdown",
   "metadata": {},
   "source": [
    "## Importing libraries and defining parameters\n",
    "\n",
    "We start by importing libraries."
   ]
  },
  {
   "cell_type": "code",
   "execution_count": 1,
   "metadata": {},
   "outputs": [],
   "source": [
    "import scipy\n",
    "import numpy as np\n",
    "import matplotlib.pyplot as plt\n",
    "from tqdm.notebook import tqdm\n",
    "from scipy import stats\n",
    "from scipy.spatial import distance\n",
    "import networkx as nx"
   ]
  },
  {
   "cell_type": "markdown",
   "metadata": {},
   "source": [
    "We select a number of samples for our simulations."
   ]
  },
  {
   "cell_type": "code",
   "execution_count": 2,
   "metadata": {},
   "outputs": [],
   "source": [
    "n_samples = 10**6"
   ]
  },
  {
   "cell_type": "markdown",
   "metadata": {},
   "source": [
    "For reproducibility, and for discussing our results in this notebook, we set a random seed to $1985$."
   ]
  },
  {
   "cell_type": "code",
   "execution_count": 3,
   "metadata": {},
   "outputs": [],
   "source": [
    "np.random.seed(1985)"
   ]
  },
  {
   "cell_type": "markdown",
   "metadata": {},
   "source": [
    "Notice that in this notebook we write simple implementations of our models without relying on *pgmpy*. Also we do not import our own Abstraction objects from *src.SCMMappings* because all abstractions will be trivial identities."
   ]
  },
  {
   "cell_type": "markdown",
   "metadata": {},
   "source": [
    "# Models M0 and M1\n",
    "\n",
    "## SCM M0\n",
    "\n",
    "We start by defining the SCM for model $\\mathcal{M}$ specified in the example in Section 1.4 of [Rischel2021].\n",
    "\n",
    "A SCM [Pearl2009] is defined by a set of *exogenous variables* $\\mathcal{E}$, a set of *endogenous variables* $\\mathcal{X}$, a set of structural functions $\\mathcal{F}$ associated with the endogenous variables, and a set of probability distribution $\\mathcal{P}$ associated with the exogenous variables.\n",
    "\n",
    "In the case of our model $\\mathcal{M}$ we have:\n",
    "- $\\mathcal{E} = \\{E_{A1}, E_{A2}, E_{T}\\}$\n",
    "- $\\mathcal{X} = \\{{A1}, {A2}, {T}\\}$\n",
    "- $\\mathcal{F} = \\{f_{A1}(E_{A1}), f_{A2}(E_{A2}), f_{T}({A1}, {A2}, E_{T})\\}$\n",
    "- $\\mathcal{P} = \\{P_{E_{A1}}, P_{E_{A2}}, P_{E_T}\\}$\n",
    "\n",
    "Let's visualize the DAG associated with $\\mathcal{M}$:"
   ]
  },
  {
   "cell_type": "code",
   "execution_count": 4,
   "metadata": {},
   "outputs": [
    {
     "data": {
      "image/png": "[encoded data removed]",
      "text/plain": [
       "<Figure size 432x288 with 1 Axes>"
      ]
     },
     "metadata": {},
     "output_type": "display_data"
    }
   ],
   "source": [
    "G = nx.DiGraph()\n",
    "G.graph['dpi'] = 120\n",
    "\n",
    "nodes = ['E_A1', 'E_A2', 'E_T', 'A1', 'A2', 'T']\n",
    "edges = [('E_A1','A1'), ('E_A2','A2'), ('E_T','T'), ('A1','T'), ('A2','T')]\n",
    "nodes_pos = {'E_A1':(-1, 2), 'E_A2':(1, 2), 'E_T':(-1, 0), 'A1':(-1, 1), 'A2':(1, 1), 'T':(0, 0)}\n",
    "nodes_lbl = {'E_A1':'E_A1', 'E_A2':'E_A2', 'E_T':'E_T', 'A1':'A1', 'A2':'A2', 'T':'T'}\n",
    "\n",
    "G.add_nodes_from(nodes)\n",
    "G.add_edges_from(edges)\n",
    "nx.draw(G,nodes_pos,node_size=800,node_color='white')\n",
    "_ = nx.draw_networkx_labels(G,nodes_pos,nodes_lbl)"
   ]
  },
  {
   "cell_type": "markdown",
   "metadata": {},
   "source": [
    "In model $\\mathcal{M}$, the probability distributions are specified as:\n",
    "- $P_{E_{A1}} = \\mathtt{Unif}(1,100)$\n",
    "- $P_{E_{A2}} = \\mathtt{Unif}(1,100)$\n",
    "- $P_{E_{T}} = p_T$\n",
    "\n",
    "where $\\mathtt{Unif}(1,100)$ is a uniform discrete distribution on $\\{1,2,...,100\\}$, and $p_T$ is a custom distribution.\n",
    "\n",
    "Moreover, the structural function are specified as:\n",
    "- $f_{A1}(E_{A1}) = E_{A1}$\n",
    "- $f_{A2}(E_{A2}) = E_{A2}$\n",
    "- $f_{T}(E_{A1},E_{A2},T) = f_T$"
   ]
  },
  {
   "cell_type": "markdown",
   "metadata": {},
   "source": [
    "### Simplified SCM M0\n",
    "\n",
    "Performing a push-forward of the probability distributions from the exogenous nodes over the endogenous nodes, we can simplify the model and consider only the set of variables $\\mathcal{X}$. We can then represent the same model $\\mathcal{M}$ as:"
   ]
  },
  {
   "cell_type": "code",
   "execution_count": 5,
   "metadata": {},
   "outputs": [
    {
     "data": {
      "image/png": "[encoded data removed]",
      "text/plain": [
       "<Figure size 432x288 with 1 Axes>"
      ]
     },
     "metadata": {},
     "output_type": "display_data"
    }
   ],
   "source": [
    "G = nx.DiGraph()\n",
    "G.graph['dpi'] = 120\n",
    "\n",
    "nodes = ['A1', 'A2', 'T']\n",
    "edges = [('A1','T'), ('A2','T')]\n",
    "nodes_pos = {'A1':(-1, 1), 'A2':(1, 1), 'T':(0, 0)}\n",
    "nodes_lbl = {'A1':'A1', 'A2':'A2', 'T':'T'}\n",
    "\n",
    "G.add_nodes_from(nodes)\n",
    "G.add_edges_from(edges)\n",
    "nx.draw(G,nodes_pos,node_size=800,node_color='white')\n",
    "_ = nx.draw_networkx_labels(G,nodes_pos,nodes_lbl)"
   ]
  },
  {
   "cell_type": "markdown",
   "metadata": {},
   "source": [
    "Consistently with [Rischel2021], we have:\n",
    "- $A1$ and $A2$ as random variables with distribution $\\mathtt{Unif}(1,100)$\n",
    "- $T$ as a random variable with a probability distribution specified by:\n",
    "\n",
    "$$\n",
    "\\begin{cases}\n",
    "P(T=n\\vert A{1}=100,A{2}=100)=\\frac{1}{Z_{1}}\\frac{1}{n^{2}}\\\\\n",
    "P(T=n\\vert A{1}=100,A{2}\\neq100)=\\frac{1}{Z_{2}}\\frac{1}{n^{3}}\\\\\n",
    "P(T=n\\vert A{1}\\neq100)=\\frac{1}{Z_{3}}\\frac{1}{100^{n}}\n",
    "\\end{cases}\n",
    "$$\n",
    "\n",
    "where $Z_1,Z_2,Z_3$ are normalizing constants."
   ]
  },
  {
   "cell_type": "markdown",
   "metadata": {},
   "source": [
    "### Implementation of M0\n",
    "\n",
    "We can now implement the model as a simple class with two methods:\n",
    "- *\\__init__()*: setting up the probability distributions of interest by computing normalizing constants and the distributions; notice that because of underflow the probability distribution *px3* has to be cut and manually set to zero.\n",
    "- *sample()*: returning a sample from the model."
   ]
  },
  {
   "cell_type": "code",
   "execution_count": 6,
   "metadata": {},
   "outputs": [],
   "source": [
    "class model0():\n",
    "    def __init__(self):\n",
    "        Ts = np.array(list(range(100)))+1\n",
    "        Z1 = np.sum((1./Ts)**2)\n",
    "        Z2 = np.sum((1./Ts)**3)\n",
    "        Z3 = np.sum((1./100)**Ts)\n",
    "        \n",
    "        self.px1 = (1/Z1) / Ts**2\n",
    "        self.px2 = (1/Z2) / Ts**3\n",
    "        self.px3 = (1/Z3) / 100**Ts\n",
    "        self.px3[np.isinf(self.px3)]=0\n",
    "        self.px3[self.px3<5e-15]=0\n",
    "        \n",
    "    def sample(self):\n",
    "        A1 = np.random.randint(1,101)\n",
    "        A2 = np.random.randint(1,101)\n",
    "        \n",
    "        if(A1==100 and A2==100): \n",
    "            sample = np.random.multinomial(1,self.px1)\n",
    "                    \n",
    "        elif(A1==100):\n",
    "            sample = np.random.multinomial(1,self.px2)\n",
    "        \n",
    "        else:\n",
    "            sample = np.random.multinomial(1,self.px3)\n",
    "        \n",
    "        return A1, A2, np.where(sample==1)[0][0] + 1"
   ]
  },
  {
   "cell_type": "markdown",
   "metadata": {},
   "source": [
    "We instantiate model $\\mathcal{M}$."
   ]
  },
  {
   "cell_type": "code",
   "execution_count": 7,
   "metadata": {
    "scrolled": true
   },
   "outputs": [
    {
     "name": "stderr",
     "output_type": "stream",
     "text": [
      "<ipython-input-6-4381b5b70bb6>:10: RuntimeWarning: divide by zero encountered in divide\n",
      "  self.px3 = (1/Z3) / 100**Ts\n"
     ]
    }
   ],
   "source": [
    "M0 = model0()"
   ]
  },
  {
   "cell_type": "markdown",
   "metadata": {},
   "source": [
    "### Running M0\n",
    "\n",
    "To examine the model we run a Monte Carlo-like simulation collecting $10^6$ samples."
   ]
  },
  {
   "cell_type": "code",
   "execution_count": 8,
   "metadata": {},
   "outputs": [
    {
     "data": {
      "application/vnd.jupyter.widget-view+json": {
       "model_id": "befc8fada9f84cb5b440e03e5455df6b",
       "version_major": 2,
       "version_minor": 0
      },
      "text/plain": [
       "  0%|          | 0/1000000 [00:00<?, ?it/s]"
      ]
     },
     "metadata": {},
     "output_type": "display_data"
    }
   ],
   "source": [
    "data0 = np.zeros((n_samples,3))\n",
    "\n",
    "for i in tqdm(range(n_samples)):\n",
    "    data0[i,:] = M0.sample()"
   ]
  },
  {
   "cell_type": "markdown",
   "metadata": {},
   "source": [
    "We plot the distributions of $A1$, $A2$ and $T$."
   ]
  },
  {
   "cell_type": "code",
   "execution_count": 9,
   "metadata": {},
   "outputs": [
    {
     "data": {
      "text/plain": [
       "Text(0.5, 1.0, 'P(T)')"
      ]
     },
     "execution_count": 9,
     "metadata": {},
     "output_type": "execute_result"
    },
    {
     "data": {
      "image/png": "[encoded data removed]",
      "text/plain": [
       "<Figure size 1008x288 with 3 Axes>"
      ]
     },
     "metadata": {
      "needs_background": "light"
     },
     "output_type": "display_data"
    }
   ],
   "source": [
    "fig,ax = plt.subplots(1,3, figsize=(14,4))\n",
    "\n",
    "ax[0].hist(data0[:,0],bins=np.array(list(range(101)))+1,density=True)\n",
    "ax[0].set_title('P(A1)')\n",
    "\n",
    "ax[1].hist(data0[:,1],bins=np.array(list(range(101)))+1,density=True)\n",
    "ax[1].set_title('P(A2)')\n",
    "\n",
    "ax[2].hist(data0[:,2],bins=np.array(list(range(11)))+1,density=True)\n",
    "ax[2].set_title('P(T)')"
   ]
  },
  {
   "cell_type": "markdown",
   "metadata": {},
   "source": [
    "As obvious, $A1$ and $A2$ are approximately uniformly distributed in the interval $[1,100]$. $P(T)$ is heavily skewed towards $0$ and we plot it only on the sub-domain $[1,10]$.\n",
    "\n",
    "We can also analyze the conditional distribution of $P(T \\vert A1=k)$ for all the values of $k$ in $[1,100]$."
   ]
  },
  {
   "cell_type": "code",
   "execution_count": 10,
   "metadata": {},
   "outputs": [
    {
     "data": {
      "image/png": "[encoded data removed]",
      "text/plain": [
       "<Figure size 1080x1080 with 100 Axes>"
      ]
     },
     "metadata": {
      "needs_background": "light"
     },
     "output_type": "display_data"
    }
   ],
   "source": [
    "fig = plt.figure(figsize=(15,15))\n",
    "for i in range(1, 101):\n",
    "    plt.subplot(10, 10, i)\n",
    "    mask = (data0[:,0] == i)\n",
    "    plt.hist(data0[mask,2],bins=np.array(list(range(101)))+1,density=True)"
   ]
  },
  {
   "cell_type": "markdown",
   "metadata": {},
   "source": [
    "The graphs are sparse but show a similar distribution for almost all values of $k$ with the exception, as expected, of $k=100$."
   ]
  },
  {
   "cell_type": "markdown",
   "metadata": {},
   "source": [
    "## SCM M1\n",
    "\n",
    "Let's move on to consider an abstraction of $\\mathcal{M}$ obtained by suppressing the causal edge connecting $A2$ and $T$.\n",
    "\n",
    "Formally, the abstraction $(R,a,\\alpha)$ from $\\mathcal{M}$ to $\\mathcal{M'}$ is trivially:\n",
    "- $R=\\{A1,A2,T\\}$: all variables are relevant;\n",
    "- $a$: maps a low-level variable to the high-level variable with the same name;\n",
    "- $\\alpha_X$: all the $\\alpha_X$ mappings are identities."
   ]
  },
  {
   "cell_type": "markdown",
   "metadata": {},
   "source": [
    "### Simplified SCM M1\n",
    "\n",
    "The new abstracted model $\\mathcal{M'}$ is defined on the same nodes, but it has lost an edge. We can represent this new model as:"
   ]
  },
  {
   "cell_type": "code",
   "execution_count": 11,
   "metadata": {},
   "outputs": [
    {
     "data": {
      "image/png": "[encoded data removed]",
      "text/plain": [
       "<Figure size 432x288 with 1 Axes>"
      ]
     },
     "metadata": {},
     "output_type": "display_data"
    }
   ],
   "source": [
    "G = nx.DiGraph()\n",
    "G.graph['dpi'] = 120\n",
    "\n",
    "nodes = ['A1', 'A2', 'T']\n",
    "edges = [('A1','T')]\n",
    "nodes_pos = {'A1':(-1, 1), 'A2':(1, 1), 'T':(0, 0)}\n",
    "nodes_lbl = {'A1':'A1', 'A2':'A2', 'T':'T'}\n",
    "\n",
    "G.add_nodes_from(nodes)\n",
    "G.add_edges_from(edges)\n",
    "nx.draw(G,nodes_pos,node_size=800,node_color='white')\n",
    "_ = nx.draw_networkx_labels(G,nodes_pos,nodes_lbl)"
   ]
  },
  {
   "cell_type": "markdown",
   "metadata": {},
   "source": [
    "The two random variable $A1$ and $A2$ still have the same distribution $\\mathtt{Unif}(1,100)$. However the distribution on the random variable of $T$ is modified so that $P_\\mathcal{M'}(T \\vert A1)$ is as close as possible to $P_\\mathcal{M}(T \\vert A1)$. \n",
    "\n",
    "Let's then express $P_\\mathcal{M'}(T \\vert A1)$. For $A1 \\neq 100$ we simply have:\n",
    "\n",
    "$$\n",
    "P(T=n\\vert A{1}\\neq100)=\\frac{1}{Z_{3}}\\frac{1}{100^{n}}.\n",
    "$$\n",
    "\n",
    "For $A1 = 100$ we have:\n",
    "\n",
    "$$\\begin{cases}\n",
    "P(T=n\\vert A{1}=100)=\\frac{1}{Z_{1}}\\frac{1}{n^{2}} & \\textrm{with probability 0.01}\\\\\n",
    "P(T=n\\vert A{1}=100)=\\frac{1}{Z_{2}}\\frac{1}{n^{3}} & \\textrm{with probability 0.99}\n",
    "\\end{cases}$$\n",
    "\n",
    "with a proper normalization.\n"
   ]
  },
  {
   "cell_type": "markdown",
   "metadata": {},
   "source": [
    "### Implementation of M1\n",
    "\n",
    "We can now implement the model $\\mathcal{M'}$ as its own class. We still have two methods:\n",
    "- *\\__init__()*: setting up the probability distributions of interest; notice that we compute normalization constants, perform a mixture of distributions, and further normalize.\n",
    "- *sample()*: returning a sample from the model."
   ]
  },
  {
   "cell_type": "code",
   "execution_count": 12,
   "metadata": {},
   "outputs": [],
   "source": [
    "class model1():\n",
    "    def __init__(self):\n",
    "        Ts = np.array(list(range(100)))+1\n",
    "        Z1 = np.sum((1./Ts)**2)\n",
    "        Z2 = np.sum((1./Ts)**3)\n",
    "        Z3 = np.sum((1./100)**Ts)\n",
    "        \n",
    "        px1 = (1/Z1) / Ts**2\n",
    "        px2 = (1/Z2) / Ts**3\n",
    "        px = .01*px1 + .99*px2        \n",
    "        self.px = px / np.sum(px)\n",
    "        \n",
    "        Z3 = np.sum((1./100)**Ts)\n",
    "        self.px3 = (1/Z3) / 100**Ts\n",
    "        self.px3[np.isinf(self.px3)]=0\n",
    "        self.px3[self.px3<5e-15]=0\n",
    "        \n",
    "    def sample(self):\n",
    "        A1 = np.random.randint(1,101)\n",
    "        A2 = np.random.randint(1,101)\n",
    "        \n",
    "        if(A1==100): \n",
    "            sample = np.random.multinomial(1,self.px)\n",
    "                    \n",
    "        else:\n",
    "            sample = np.random.multinomial(1,self.px3)\n",
    "        \n",
    "        return A1, A2, np.where(sample==1)[0][0] + 1"
   ]
  },
  {
   "cell_type": "markdown",
   "metadata": {},
   "source": [
    "We instantiate model $\\mathcal{M'}$."
   ]
  },
  {
   "cell_type": "code",
   "execution_count": 13,
   "metadata": {
    "scrolled": false
   },
   "outputs": [
    {
     "name": "stderr",
     "output_type": "stream",
     "text": [
      "<ipython-input-12-97c7c65f827e>:14: RuntimeWarning: divide by zero encountered in divide\n",
      "  self.px3 = (1/Z3) / 100**Ts\n"
     ]
    }
   ],
   "source": [
    "M1 = model1()"
   ]
  },
  {
   "cell_type": "markdown",
   "metadata": {},
   "source": [
    "### Running M1\n",
    "\n",
    "To examine the model we run a Monte Carlo-like simulation collecting $10^6$ samples."
   ]
  },
  {
   "cell_type": "code",
   "execution_count": 14,
   "metadata": {},
   "outputs": [
    {
     "data": {
      "application/vnd.jupyter.widget-view+json": {
       "model_id": "29289c886fee46539c513c340a517976",
       "version_major": 2,
       "version_minor": 0
      },
      "text/plain": [
       "  0%|          | 0/1000000 [00:00<?, ?it/s]"
      ]
     },
     "metadata": {},
     "output_type": "display_data"
    }
   ],
   "source": [
    "data1 = np.zeros((n_samples,3))\n",
    "\n",
    "for i in tqdm(range(n_samples)):\n",
    "    data1[i,:] = M1.sample()"
   ]
  },
  {
   "cell_type": "markdown",
   "metadata": {},
   "source": [
    "We now plot the distributions of $A1$, $A2$ and $T$ computed by $\\mathcal{M}$ and $\\mathcal{M'}$ side by side."
   ]
  },
  {
   "cell_type": "code",
   "execution_count": 15,
   "metadata": {},
   "outputs": [
    {
     "data": {
      "text/plain": [
       "Text(0.5, 1.0, 'M2: P(T)')"
      ]
     },
     "execution_count": 15,
     "metadata": {},
     "output_type": "execute_result"
    },
    {
     "data": {
      "image/png": "[encoded data removed]",
      "text/plain": [
       "<Figure size 1008x576 with 6 Axes>"
      ]
     },
     "metadata": {
      "needs_background": "light"
     },
     "output_type": "display_data"
    }
   ],
   "source": [
    "fig,ax = plt.subplots(2,3, figsize=(14,8))\n",
    "\n",
    "ax[0,0].hist(data0[:,0],bins=np.array(list(range(101)))+1,density=True)\n",
    "ax[0,0].set_title('M1: P(A1)')\n",
    "\n",
    "ax[0,1].hist(data0[:,1],bins=np.array(list(range(101)))+1,density=True)\n",
    "ax[0,1].set_title('M1: P(A2)')\n",
    "\n",
    "ax[0,2].hist(data0[:,2],bins=np.array(list(range(10)))+1,density=True)\n",
    "ax[0,2].set_title('M1: P(T)')\n",
    "\n",
    "ax[1,0].hist(data1[:,0],bins=np.array(list(range(101)))+1,density=True)\n",
    "ax[1,0].set_title('M2: P(A1)')\n",
    "\n",
    "ax[1,1].hist(data1[:,1],bins=np.array(list(range(101)))+1,density=True)\n",
    "ax[1,1].set_title('M2: P(A2)')\n",
    "\n",
    "ax[1,2].hist(data1[:,2],bins=np.array(list(range(10)))+1,density=True)\n",
    "ax[1,2].set_title('M2: P(T)')"
   ]
  },
  {
   "cell_type": "markdown",
   "metadata": {},
   "source": [
    "The distributions in the two models look similar; specifically $P(A1)$ and $P(A2)$ are in both case are randomly uniform, while $P(T)$ is heavily skewed towards $1$."
   ]
  },
  {
   "cell_type": "markdown",
   "metadata": {},
   "source": [
    "## Models M0 and M1 under intervention\n",
    "\n",
    "When abstracting the model $\\mathcal{M}$ to $\\mathcal{M'}$ we are particularly interested in the (consistency of its) behaviour under (specific) interventions [Rubenstein2017].\n",
    "\n",
    "In our case, we are specifically interested in the intervention $do(A1=100,A2=100)$ and in the ensuing interventional distribution:\n",
    "\n",
    "$$ P(T \\vert do(A1=100,A2=100)). $$\n",
    "\n",
    "Recall that, in general, *observational* and *interventional* distribution are not identitical. In other words, $P(T \\vert do(A1=100,A2=100)) \\neq P(T \\vert A1=100,A2=100)$. \n",
    "\n",
    "The intervention $do(A1=100,A2=100)$ is best understood as an intervention on model $\\mathcal{M}$ (or $\\mathcal{M'}$) leading to the definition of a new model $\\mathcal{M_\\iota}$ (or $\\mathcal{M'_\\iota}$). \n",
    "In the PSCM of $\\mathcal{M}$, the intervention $do(A1=100,A2=100)$ corresponds to setting the values of the endogenous variables $A1$ and $A2$ to $100$, and cutting the edge from $E_{A1}$ to $A1$ and the edge from $E_{A2}$ to $A2$. Graphically this corresponds to the new model $\\mathcal{M_\\iota}$:"
   ]
  },
  {
   "cell_type": "code",
   "execution_count": 16,
   "metadata": {},
   "outputs": [
    {
     "data": {
      "image/png": "[encoded data removed]",
      "text/plain": [
       "<Figure size 432x288 with 1 Axes>"
      ]
     },
     "metadata": {},
     "output_type": "display_data"
    }
   ],
   "source": [
    "G = nx.DiGraph()\n",
    "G.graph['dpi'] = 120\n",
    "\n",
    "nodes = ['E_A1', 'E_A2', 'E_T', 'A1', 'A2', 'T']\n",
    "edges = [('E_T','T'), ('A1','T'), ('A2','T')]\n",
    "nodes_pos = {'E_A1':(-1, 2), 'E_A2':(1, 2), 'E_T':(-1, 0), 'A1':(-1, 1), 'A2':(1, 1), 'T':(0, 0)}\n",
    "nodes_lbl = {'E_A1':'E_A1', 'E_A2':'E_A2', 'E_T':'E_T', 'A1':'A1', 'A2':'A2', 'T':'T'}\n",
    "\n",
    "G.add_nodes_from(nodes)\n",
    "G.add_edges_from(edges)\n",
    "nx.draw(G,nodes_pos,node_size=800,node_color='white')\n",
    "_ = nx.draw_networkx_labels(G,nodes_pos,nodes_lbl)"
   ]
  },
  {
   "cell_type": "markdown",
   "metadata": {},
   "source": [
    "In the simplified PSCM, after the pushforward of the probability distributions in $\\mathcal{M_\\iota}$, this trivially correspond to the model where the random variables $A1$ and $A2$ are set to $100$."
   ]
  },
  {
   "cell_type": "markdown",
   "metadata": {},
   "source": [
    "### Implementation of intervened M0\n",
    "\n",
    "We now implement the model $\\mathcal{M}$ after the intervention $do(A1=100,A2=100)$. Notice that, while for computational reasons we could simplify and shorten the code, we opt for an implementation that follows the semantic of intervention more closely. That is, we keep exactly the same model, but in the *sample()* function we substitute the sampling of a uniform distribution with the fixed value of $100$.\n",
    "\n",
    "Because of the definition of the model $\\mathcal{M}$ we know the analytic formula for $P(T \\vert do(A1=100,A2=100))$ in $\\mathcal{M}$:\n",
    "\n",
    "$$ P_{\\mathcal{M}}(T \\vert do(A1=100,A2=100)) = \\frac{1}{Z_{1}}\\frac{1}{n^{2}} $$"
   ]
  },
  {
   "cell_type": "code",
   "execution_count": 17,
   "metadata": {},
   "outputs": [],
   "source": [
    "class model0_do():\n",
    "    def __init__(self):\n",
    "        Ts = np.array(list(range(100)))+1\n",
    "        Z1 = np.sum((1./Ts)**2)\n",
    "        Z2 = np.sum((1./Ts)**3)\n",
    "        Z3 = np.sum((1./100)**Ts)\n",
    "        \n",
    "        self.px1 = (1/Z1) / Ts**2\n",
    "        self.px2 = (1/Z2) / Ts**3\n",
    "        self.px3 = (1/Z3) / 100**Ts\n",
    "        self.px3[np.isinf(self.px3)]=0\n",
    "        self.px3[self.px3<5e-15]=0\n",
    "        \n",
    "    def sample(self):\n",
    "        A1 = 100\n",
    "        A2 = 100\n",
    "        \n",
    "        if(A1==100 and A2==100): \n",
    "            sample = np.random.multinomial(1,self.px1)\n",
    "                    \n",
    "        elif(A1==100):\n",
    "            sample = np.random.multinomial(1,self.px2)\n",
    "        \n",
    "        else:\n",
    "            sample = np.random.multinomial(1,self.px3)\n",
    "        \n",
    "        return A1, A2, np.where(sample==1)[0][0] + 1"
   ]
  },
  {
   "cell_type": "markdown",
   "metadata": {},
   "source": [
    "We instantiate model $\\mathcal{M}_\\iota$."
   ]
  },
  {
   "cell_type": "code",
   "execution_count": 18,
   "metadata": {
    "scrolled": false
   },
   "outputs": [
    {
     "name": "stderr",
     "output_type": "stream",
     "text": [
      "<ipython-input-17-2316c50a95ae>:10: RuntimeWarning: divide by zero encountered in divide\n",
      "  self.px3 = (1/Z3) / 100**Ts\n"
     ]
    }
   ],
   "source": [
    "M0_do = model0_do()"
   ]
  },
  {
   "cell_type": "markdown",
   "metadata": {},
   "source": [
    "### Running of intervened M0\n",
    "\n",
    "To examine the model we run a Monte Carlo-like simulation collecting $10^6$ samples."
   ]
  },
  {
   "cell_type": "code",
   "execution_count": 19,
   "metadata": {},
   "outputs": [
    {
     "data": {
      "application/vnd.jupyter.widget-view+json": {
       "model_id": "ab1dfb370c18494ab2a4eca5392e8183",
       "version_major": 2,
       "version_minor": 0
      },
      "text/plain": [
       "  0%|          | 0/1000000 [00:00<?, ?it/s]"
      ]
     },
     "metadata": {},
     "output_type": "display_data"
    }
   ],
   "source": [
    "data0_do = np.zeros((n_samples,3))\n",
    "\n",
    "for i in tqdm(range(n_samples)):\n",
    "    data0_do[i,:] = M0_do.sample()"
   ]
  },
  {
   "cell_type": "markdown",
   "metadata": {},
   "source": [
    "### Implementation of intervened M1\n",
    "\n",
    "In the same way we implement the model $\\mathcal{M'}$ after the intervention $do(A1=100,A2=100)$.\n",
    "\n",
    "Because of the definition of the model $\\mathcal{M'}$ we know the analytic formula for $P(T \\vert do(A1=100,A2=100))$ in $\\mathcal{M'}$:\n",
    "\n",
    "$$ P_{\\mathcal{M'}}(T \\vert do(A1=100,A2=100)) = \\frac{1}{Z} \\left[ 0.01\\frac{1}{Z_1}\\frac{1}{n^{2}} + 0.99\\frac{1}{Z_2}\\frac{1}{n^{3}} \\right] $$\n",
    "\n",
    "that is a mixture of the distribution $\\frac{1}{Z_{1}}\\frac{1}{n^{2}}$ (with weight $0.01$) and $\\frac{1}{Z_{2}}\\frac{1}{n^{3}}$ (with weight $0.99$)."
   ]
  },
  {
   "cell_type": "code",
   "execution_count": 20,
   "metadata": {},
   "outputs": [],
   "source": [
    "class model1_do():\n",
    "    def __init__(self):\n",
    "        Ts = np.array(list(range(100)))+1\n",
    "        Z1 = np.sum((1./Ts)**2)\n",
    "        Z2 = np.sum((1./Ts)**3)\n",
    "        Z3 = np.sum((1./100)**Ts)\n",
    "        \n",
    "        px1 = (1/Z1) / Ts**2\n",
    "        px2 = (1/Z2) / Ts**3\n",
    "        px = .01*px1 + .99*px2        \n",
    "        self.px = px / np.sum(px)\n",
    "        \n",
    "        self.px3 = (1/Z3) / 100**Ts\n",
    "        self.px3[np.isinf(self.px3)]=0\n",
    "        self.px3[self.px3<5e-15]=0\n",
    "        \n",
    "    def sample(self):\n",
    "        A1 = 100\n",
    "        A2 = 100\n",
    "        \n",
    "        if(A1==100): \n",
    "            sample = np.random.multinomial(1,self.px)\n",
    "                    \n",
    "        else:\n",
    "            sample = np.random.multinomial(1,self.px3)\n",
    "        \n",
    "        return A1, A2, np.where(sample==1)[0][0] + 1"
   ]
  },
  {
   "cell_type": "markdown",
   "metadata": {},
   "source": [
    "We instantiate model $\\mathcal{M'}_\\iota$."
   ]
  },
  {
   "cell_type": "code",
   "execution_count": 21,
   "metadata": {
    "scrolled": false
   },
   "outputs": [
    {
     "name": "stderr",
     "output_type": "stream",
     "text": [
      "<ipython-input-20-3dde6ed8872b>:13: RuntimeWarning: divide by zero encountered in divide\n",
      "  self.px3 = (1/Z3) / 100**Ts\n"
     ]
    }
   ],
   "source": [
    "M1_do = model1_do()"
   ]
  },
  {
   "cell_type": "markdown",
   "metadata": {},
   "source": [
    "### Running of intervened M1\n",
    "\n",
    "To examine the model we run a Monte Carlo-like simulation collecting $10^6$ samples."
   ]
  },
  {
   "cell_type": "code",
   "execution_count": 22,
   "metadata": {},
   "outputs": [
    {
     "data": {
      "application/vnd.jupyter.widget-view+json": {
       "model_id": "94866724ddde4210a070eb3909fac7f5",
       "version_major": 2,
       "version_minor": 0
      },
      "text/plain": [
       "  0%|          | 0/1000000 [00:00<?, ?it/s]"
      ]
     },
     "metadata": {},
     "output_type": "display_data"
    }
   ],
   "source": [
    "data1_do = np.zeros((n_samples,3))\n",
    "\n",
    "for i in tqdm(range(n_samples)):\n",
    "    data1_do[i,:] = M1_do.sample()"
   ]
  },
  {
   "cell_type": "markdown",
   "metadata": {},
   "source": [
    "### Comparison of M0 and M1 under intervention\n",
    "\n",
    "Before moving to the formal computation of the abstraction error, we want to get an intuition of the difference between our models by plotting side by side distributions of interest, that is, $P(A1 \\vert do(A1=100,A2=100))$, $P(A2 \\vert do(A1=100,A2=100))$ and $P(T \\vert do(A1=100,A2=100))$, both in for $\\mathcal{M}_\\iota$ and $\\mathcal{M'}_\\iota$."
   ]
  },
  {
   "cell_type": "code",
   "execution_count": 23,
   "metadata": {},
   "outputs": [
    {
     "data": {
      "text/plain": [
       "Text(0.5, 1.0, 'M2: P(T|do(A1=100,A2=100))')"
      ]
     },
     "execution_count": 23,
     "metadata": {},
     "output_type": "execute_result"
    },
    {
     "data": {
      "image/png": "[encoded data removed]",
      "text/plain": [
       "<Figure size 1008x576 with 6 Axes>"
      ]
     },
     "metadata": {
      "needs_background": "light"
     },
     "output_type": "display_data"
    }
   ],
   "source": [
    "fig,ax = plt.subplots(2,3, figsize=(14,8))\n",
    "\n",
    "ax[0,0].hist(data0_do[:,0],bins=np.array(list(range(101)))+1,density=True)\n",
    "ax[0,0].set_title('M1: P(A1|do(A1=100,A2=100))')\n",
    "\n",
    "ax[0,1].hist(data0_do[:,1],bins=np.array(list(range(101)))+1,density=True)\n",
    "ax[0,1].set_title('M1: P(A2|do(A1=100,A2=100))')\n",
    "\n",
    "ax[0,2].hist(data0_do[:,2],bins=np.array(list(range(101)))+1,density=True)\n",
    "ax[0,2].set_title('M1: P(T|do(A1=100,A2=100))')\n",
    "\n",
    "ax[1,0].hist(data1_do[:,0],bins=np.array(list(range(101)))+1,density=True)\n",
    "ax[1,0].set_title('M2: P(A1|do(A1=100,A2=100))')\n",
    "\n",
    "ax[1,1].hist(data1_do[:,1],bins=np.array(list(range(101)))+1,density=True)\n",
    "ax[1,1].set_title('M2: P(A2|do(A1=100,A2=100))')\n",
    "\n",
    "ax[1,2].hist(data1_do[:,2],bins=np.array(list(range(101)))+1,density=True)\n",
    "ax[1,2].set_title('M2: P(T|do(A1=100,A2=100))')"
   ]
  },
  {
   "cell_type": "markdown",
   "metadata": {},
   "source": [
    "Not surprisingly, $P(A1 \\vert do(A1=100,A2=100))$ and $P(A2 \\vert do(A1=100,A2=100))$ are trivially identical because both random variables $A1$ and $A2$ were intervened on in the same way in both models $\\mathcal{M}$ and $\\mathcal{M'}$.\n",
    "\n",
    "$P(T \\vert do(A1=100,A2=100))$, instead, shows a different distribution, which follows from the fact discussed above that:\n",
    "\n",
    "$$ P_{\\mathcal{M}}(T \\vert do(A1=100,A2=100)) \\neq P_{\\mathcal{M'}}(T \\vert do(A1=100,A2=100))$$\n",
    "\n",
    "This intuitively makes sense since intervening on $A2$ has effects in $\\mathcal{M}$ but not $\\mathcal{M'}$."
   ]
  },
  {
   "cell_type": "markdown",
   "metadata": {},
   "source": [
    "# Evaluating abstraction error\n",
    "\n",
    "In order to evaluate properly our abstraction error we will now consider the intervention of interest and measure the distance between the interventional distributions generated by following the upper and lower path in the following diagram:\n",
    "\n",
    "$$\n",
    "\\begin{array}{ccc}\n",
    "\\mathcal{\\mathcal{M}}\\left[A1,A2\\right] & \\overset{\\mathcal{\\mathcal{M}}\\left[\\phi_{T}\\right]}{\\longrightarrow} & \\mathcal{\\mathcal{M}}\\left[T\\right]\\\\\n",
    "\\sideset{}{\\alpha_{A1,A2}}\\downarrow &  & \\sideset{}{\\alpha_{T}}\\downarrow\\\\\n",
    "\\mathcal{\\mathcal{M}}'\\left[A1,A2\\right] & \\overset{\\mathcal{\\mathcal{M}}'\\left[\\phi_{T}\\right]}{\\longrightarrow} & \\mathcal{\\mathcal{M}}'\\left[T\\right]\n",
    "\\end{array}\n",
    "$$\n",
    " \n",
    "Notice that since $\\alpha_{A1,A2}$ and $\\alpha_{T}$ are identities, we will just compare the distance between the interventional distributions encoded by $\\mathcal{\\mathcal{M}}\\left[\\phi_{T}\\right]$ and $\\mathcal{\\mathcal{M'}}\\left[\\phi_{T}\\right]$."
   ]
  },
  {
   "cell_type": "markdown",
   "metadata": {},
   "source": [
    "## KL divergence\n",
    "\n",
    "We can quantitatively evaluate the difference between $ P_{\\mathcal{M}}(T \\vert do(A1=100,A2=100)) $ and $ P_{\\mathcal{M'}}(T \\vert do(A1=100,A2=100))$ computing the (empirical) KL divergence. To do this, we first compute the *empirical* distributions by simple binning:\n",
    "\n",
    "$$D_{KL}( \\hat{P}_{\\mathcal{M}}(T \\vert do) \\parallel \\hat{P}_{\\mathcal{M}'}(T \\vert do))$$\n",
    "\n",
    "where $D_{KL}$ is the KL divergence, $\\hat{P}$ is the empirical distribution, and $do$ is a shortening for $do(A1=100,A2=100)$.\n",
    "\n",
    "Notice that since some values of the empirical distribution of $\\mathcal{M'}$ are zero, we have to restrict the domain over which we compute the KL divergence."
   ]
  },
  {
   "cell_type": "code",
   "execution_count": 24,
   "metadata": {},
   "outputs": [
    {
     "name": "stdout",
     "output_type": "stream",
     "text": [
      "0.21759784431229037\n"
     ]
    },
    {
     "data": {
      "image/png": "[encoded data removed]",
      "text/plain": [
       "<Figure size 432x288 with 1 Axes>"
      ]
     },
     "metadata": {
      "needs_background": "light"
     },
     "output_type": "display_data"
    }
   ],
   "source": [
    "p_M0 = plt.hist(data0_do[:,2],bins=np.array(list(range(101)))+1,density=True)[0]\n",
    "p_M1 = plt.hist(data1_do[:,2],bins=np.array(list(range(101)))+1,density=True)[0]\n",
    "\n",
    "domain = np.where(p_M1!=0)\n",
    "\n",
    "KL_M0_M1 = scipy.stats.entropy(p_M0[domain],p_M1[domain])\n",
    "print(KL_M0_M1)"
   ]
  },
  {
   "cell_type": "markdown",
   "metadata": {},
   "source": [
    "This nicely fit with the expected KL value of $0.22$ (see [Rischel2021])."
   ]
  },
  {
   "cell_type": "markdown",
   "metadata": {},
   "source": [
    "## JSD distance\n",
    "We also carry the same quantitative analysis of the distribution of interest using the JSD distance:\n",
    "\n",
    "$$D_{JSD}( \\hat{P}_{\\mathcal{M}}(T \\vert do), \\hat{P}_{\\mathcal{M}'}(T \\vert do))$$\n",
    "\n",
    "where now $D_{JSD}$ is the Jensen-Shannon distance."
   ]
  },
  {
   "cell_type": "code",
   "execution_count": 25,
   "metadata": {
    "scrolled": true
   },
   "outputs": [
    {
     "name": "stdout",
     "output_type": "stream",
     "text": [
      "0.199117784122986\n"
     ]
    }
   ],
   "source": [
    "JSD_M0_M1 = distance.jensenshannon(p_M0,p_M1)\n",
    "print(JSD_M0_M1)"
   ]
  },
  {
   "cell_type": "markdown",
   "metadata": {},
   "source": [
    "## Wasserstein distance\n",
    "Finally we consider the use of the Wasserstein distance:\n",
    "\n",
    "$$D_{W}( \\hat{P}_{\\mathcal{M}}(T \\vert do), \\hat{P}_{\\mathcal{M}'}(T \\vert do))$$\n",
    "\n",
    "where $D_{W}$ is the Wasserstein distance."
   ]
  },
  {
   "cell_type": "code",
   "execution_count": 26,
   "metadata": {},
   "outputs": [
    {
     "name": "stdout",
     "output_type": "stream",
     "text": [
      "0.004350320000000003\n"
     ]
    }
   ],
   "source": [
    "WD_M0_M1 = stats.wasserstein_distance(p_M0,p_M1)\n",
    "print(WD_M0_M1)"
   ]
  },
  {
   "cell_type": "markdown",
   "metadata": {},
   "source": [
    "# Model M2\n",
    "\n",
    "We further abstract $\\mathcal{M'}$ by suppressing the causal edge connecting $A1$ and $T$. The new abstraction from $\\mathcal{M'}$ to $\\mathcal{M''}$ is also trivially defined by a new tuple $(R,a,\\alpha)$ where:\n",
    "- $R=\\{A1,A2,T\\}$: all variables are relevant;\n",
    "- $a$: maps a low-level variable to the high-level variable with the same name;\n",
    "- $\\alpha_X$: all the $\\alpha_X$ mappings are identities."
   ]
  },
  {
   "cell_type": "markdown",
   "metadata": {},
   "source": [
    "## SCM M2"
   ]
  },
  {
   "cell_type": "markdown",
   "metadata": {},
   "source": [
    "### Simplified SCM M2\n",
    "\n",
    "The new abstracted model $\\mathcal{M''}$ is defined on the same nodes, but it has no edges. We can represent this new model as:"
   ]
  },
  {
   "cell_type": "code",
   "execution_count": 27,
   "metadata": {},
   "outputs": [
    {
     "data": {
      "image/png": "[encoded data removed]",
      "text/plain": [
       "<Figure size 432x288 with 1 Axes>"
      ]
     },
     "metadata": {},
     "output_type": "display_data"
    }
   ],
   "source": [
    "G = nx.DiGraph()\n",
    "G.graph['dpi'] = 120\n",
    "\n",
    "nodes = ['A1', 'A2', 'T']\n",
    "edges = []\n",
    "nodes_pos = {'A1':(-1, 1), 'A2':(1, 1), 'T':(0, 0)}\n",
    "nodes_lbl = {'A1':'A1', 'A2':'A2', 'T':'T'}\n",
    "\n",
    "G.add_nodes_from(nodes)\n",
    "G.add_edges_from(edges)\n",
    "nx.draw(G,nodes_pos,node_size=800,node_color='white')\n",
    "_ = nx.draw_networkx_labels(G,nodes_pos,nodes_lbl)"
   ]
  },
  {
   "cell_type": "markdown",
   "metadata": {},
   "source": [
    "The two random variable $A1$ and $A2$ keep the same distribution $\\mathtt{Unif}(1,100)$. Instead we modify the distribution on the random variable of $T$ so that $P_\\mathcal{M''}(T)$ is as close as possible to $P_\\mathcal{M'}(T)$. \n",
    "\n",
    "Let's then express $P_\\mathcal{M''}(T)$:\n",
    "\n",
    "$$\n",
    "P(T=n)= \\frac{1}{100}\\frac{1}{100} \\left[ \\frac{1}{Z_{1}}\\frac{1}{n^{2}}  \\right] +\n",
    "        \\frac{1}{100}\\frac{99}{100} \\left[ \\frac{1}{Z_{2}}\\frac{1}{n^{3}}  \\right] + \n",
    "        \\frac{99}{100} \\left[ \\frac{1}{Z_{3}}\\frac{1}{100^{n}}  \\right]\n",
    "$$\n",
    "\n",
    "with a proper normalization.\n"
   ]
  },
  {
   "cell_type": "markdown",
   "metadata": {},
   "source": [
    "### Implementation M2\n",
    "\n",
    "We can now implement the model $\\mathcal{M''}$ as its own class. We still have two methods:\n",
    "- *\\__init__()*: setting up the probability distributions of interest.\n",
    "- *sample()*: returning a sample from the model."
   ]
  },
  {
   "cell_type": "code",
   "execution_count": 28,
   "metadata": {},
   "outputs": [],
   "source": [
    "class model2():\n",
    "    def __init__(self):\n",
    "        \n",
    "        Ts = np.array(list(range(100)))+1\n",
    "        Z1 = np.sum((1./Ts)**2)\n",
    "        Z2 = np.sum((1./Ts)**3)\n",
    "        Z3 = np.sum((1./100)**Ts)\n",
    "        \n",
    "        px1 = (1/Z1) / Ts**2\n",
    "        px2 = (1/Z2) / Ts**3\n",
    "        px3 = (1/Z3) / 100**Ts\n",
    "        px3[np.isinf(px3)]=0\n",
    "        px3[px3<5e-15]=0\n",
    "        \n",
    "        px = .01*.01*px1 + .01*.99*px2 + .99*px3        \n",
    "        self.px = px / np.sum(px)\n",
    "        \n",
    "    def sample(self):\n",
    "        A1 = np.random.randint(1,101)\n",
    "        A2 = np.random.randint(1,101)\n",
    "        \n",
    "        sample = np.random.multinomial(1,self.px)\n",
    "        \n",
    "        return A1, A2, np.where(sample==1)[0][0] + 1"
   ]
  },
  {
   "cell_type": "markdown",
   "metadata": {},
   "source": [
    "We instantiate model $\\mathcal{M''}$."
   ]
  },
  {
   "cell_type": "code",
   "execution_count": 29,
   "metadata": {
    "scrolled": false
   },
   "outputs": [
    {
     "name": "stderr",
     "output_type": "stream",
     "text": [
      "<ipython-input-28-e3610489e218>:11: RuntimeWarning: divide by zero encountered in divide\n",
      "  px3 = (1/Z3) / 100**Ts\n"
     ]
    }
   ],
   "source": [
    "M2 = model2()"
   ]
  },
  {
   "cell_type": "markdown",
   "metadata": {},
   "source": [
    "### Running M2\n",
    "\n",
    "To examine the model we run a Monte Carlo-like simulation collecting $10^6$ samples."
   ]
  },
  {
   "cell_type": "code",
   "execution_count": 30,
   "metadata": {},
   "outputs": [
    {
     "data": {
      "application/vnd.jupyter.widget-view+json": {
       "model_id": "c7b99c7cc6584c71aa792b2f9de9be0e",
       "version_major": 2,
       "version_minor": 0
      },
      "text/plain": [
       "  0%|          | 0/1000000 [00:00<?, ?it/s]"
      ]
     },
     "metadata": {},
     "output_type": "display_data"
    }
   ],
   "source": [
    "data2 = np.zeros((n_samples,3))\n",
    "\n",
    "for i in tqdm(range(n_samples)):\n",
    "    data2[i,:] = M2.sample()"
   ]
  },
  {
   "cell_type": "markdown",
   "metadata": {},
   "source": [
    "We now plot the distributions of $A1$, $A2$ and $T$ computed by $\\mathcal{M}$, $\\mathcal{M'}$, $\\mathcal{M''}$ side by side."
   ]
  },
  {
   "cell_type": "code",
   "execution_count": 31,
   "metadata": {},
   "outputs": [
    {
     "data": {
      "text/plain": [
       "Text(0.5, 1.0, 'M3: P(T)')"
      ]
     },
     "execution_count": 31,
     "metadata": {},
     "output_type": "execute_result"
    },
    {
     "data": {
      "image/png": "[encoded data removed]",
      "text/plain": [
       "<Figure size 1008x576 with 9 Axes>"
      ]
     },
     "metadata": {
      "needs_background": "light"
     },
     "output_type": "display_data"
    }
   ],
   "source": [
    "fig,ax = plt.subplots(3,3, figsize=(14,8))\n",
    "\n",
    "ax[0,0].hist(data0[:,0],bins=np.array(list(range(101)))+1,density=True)\n",
    "ax[0,0].set_title('M1: P(A1)')\n",
    "\n",
    "ax[0,1].hist(data0[:,1],bins=np.array(list(range(101)))+1,density=True)\n",
    "ax[0,1].set_title('M1: P(A2)')\n",
    "\n",
    "ax[0,2].hist(data0[:,2],bins=np.array(list(range(10)))+1,density=True)\n",
    "ax[0,2].set_title('M1: P(T)')\n",
    "\n",
    "ax[1,0].hist(data1[:,0],bins=np.array(list(range(101)))+1,density=True)\n",
    "ax[1,0].set_title('M2: P(A1)')\n",
    "\n",
    "ax[1,1].hist(data1[:,1],bins=np.array(list(range(101)))+1,density=True)\n",
    "ax[1,1].set_title('M2: P(A2)')\n",
    "\n",
    "ax[1,2].hist(data1[:,2],bins=np.array(list(range(10)))+1,density=True)\n",
    "ax[1,2].set_title('M2: P(T)')\n",
    "\n",
    "ax[2,0].hist(data2[:,0],bins=np.array(list(range(101)))+1,density=True)\n",
    "ax[2,0].set_title('M3: P(A1)')\n",
    "\n",
    "ax[2,1].hist(data2[:,1],bins=np.array(list(range(101)))+1,density=True)\n",
    "ax[2,1].set_title('M3: P(A2)')\n",
    "\n",
    "ax[2,2].hist(data2[:,2],bins=np.array(list(range(10)))+1,density=True)\n",
    "ax[2,2].set_title('M3: P(T)')"
   ]
  },
  {
   "cell_type": "markdown",
   "metadata": {},
   "source": [
    "Again, the distributions in the two models look similar: $P(A1)$ and $P(A2)$ are in both cases uniformly random, while $P(T)$ is heavily skewed towards $1$."
   ]
  },
  {
   "cell_type": "markdown",
   "metadata": {},
   "source": [
    "## Model M2 under intervention"
   ]
  },
  {
   "cell_type": "markdown",
   "metadata": {},
   "source": [
    "### Implementation of intervened M2\n",
    "We now consider the usual intervention $do(A1=100,A2=100)$ for model $\\mathcal{M''}$ too.\n",
    "\n",
    "Because of the graph of the model $\\mathcal{M''}$ we know that the distribution of $T$ is independent from $A1$ and $A2$; so, under the above intervention, we will still have:\n",
    "\n",
    "$$\n",
    "P_{\\mathcal{M''}}(T \\vert do(A1=100,A2=100))= \n",
    "        \\frac{1}{100}\\frac{1}{100} \\left[ \\frac{1}{Z_{1}}\\frac{1}{n^{2}}  \\right] +\n",
    "        \\frac{1}{100}\\frac{99}{100} \\left[ \\frac{1}{Z_{2}}\\frac{1}{n^{3}}  \\right] + \n",
    "        \\frac{99}{100} \\left[ \\frac{1}{Z_{3}}\\frac{1}{100^{n}}  \\right].\n",
    "$$\n",
    "\n",
    "We always implement the intervened model by simply hard-coding the setting of $A1$ and $A2$ to $100$."
   ]
  },
  {
   "cell_type": "code",
   "execution_count": 32,
   "metadata": {},
   "outputs": [],
   "source": [
    "class model2_do():\n",
    "    def __init__(self):\n",
    "        \n",
    "        Ts = np.array(list(range(100)))+1\n",
    "        Z1 = np.sum((1./Ts)**2)\n",
    "        Z2 = np.sum((1./Ts)**3)\n",
    "        Z3 = np.sum((1./100)**Ts)\n",
    "        \n",
    "        px1 = (1/Z1) / Ts**2\n",
    "        px2 = (1/Z2) / Ts**3\n",
    "        px3 = (1/Z3) / 100**Ts\n",
    "        px3[np.isinf(px3)]=0\n",
    "        px3[px3<5e-15]=0\n",
    "        \n",
    "        px = .01*.01*px1 + .01*.99*px2 + .99*px3        \n",
    "        self.px = px / np.sum(px)\n",
    "        \n",
    "    def sample(self):\n",
    "        A1 = 100\n",
    "        A2 = 100\n",
    "        \n",
    "        sample = np.random.multinomial(1,self.px)\n",
    "        \n",
    "        return A1, A2, np.where(sample==1)[0][0] + 1"
   ]
  },
  {
   "cell_type": "markdown",
   "metadata": {},
   "source": [
    "We instantiate model $\\mathcal{M''}_\\iota$."
   ]
  },
  {
   "cell_type": "code",
   "execution_count": 33,
   "metadata": {
    "scrolled": false
   },
   "outputs": [
    {
     "name": "stderr",
     "output_type": "stream",
     "text": [
      "<ipython-input-32-281d9a90ef19>:11: RuntimeWarning: divide by zero encountered in divide\n",
      "  px3 = (1/Z3) / 100**Ts\n"
     ]
    }
   ],
   "source": [
    "M2_do = model2_do()"
   ]
  },
  {
   "cell_type": "markdown",
   "metadata": {},
   "source": [
    "### Running intervened M2\n",
    "\n",
    "To examine the model we run a Monte Carlo-like simulation collecting $10^6$ samples."
   ]
  },
  {
   "cell_type": "code",
   "execution_count": 34,
   "metadata": {},
   "outputs": [
    {
     "data": {
      "application/vnd.jupyter.widget-view+json": {
       "model_id": "eec0f6fe88db4ecbb24078d0ef9794c1",
       "version_major": 2,
       "version_minor": 0
      },
      "text/plain": [
       "  0%|          | 0/1000000 [00:00<?, ?it/s]"
      ]
     },
     "metadata": {},
     "output_type": "display_data"
    }
   ],
   "source": [
    "data2_do = np.zeros((n_samples,3))\n",
    "\n",
    "for i in tqdm(range(n_samples)):\n",
    "    data2_do[i,:] = M2_do.sample()"
   ]
  },
  {
   "cell_type": "markdown",
   "metadata": {},
   "source": [
    "### Comparison of M0, M1 and M2 under intervention\n",
    "\n",
    "As before, let us get an intuition of how the distributions are behaving by plotting side by side the distributions of interest, that is, $P(A1 \\vert do(A1=100,A2=100))$, $P(A2 \\vert do(A1=100,A2=100))$ and $P(T \\vert do(A1=100,A2=100))$, for $\\mathcal{M}_\\iota$, $\\mathcal{M'}_\\iota$ and $\\mathcal{M''}_\\iota$."
   ]
  },
  {
   "cell_type": "code",
   "execution_count": 35,
   "metadata": {},
   "outputs": [
    {
     "data": {
      "text/plain": [
       "Text(0.5, 1.0, 'M3: P(T|do(A1=100,A2=100))')"
      ]
     },
     "execution_count": 35,
     "metadata": {},
     "output_type": "execute_result"
    },
    {
     "data": {
      "image/png": "[encoded data removed]",
      "text/plain": [
       "<Figure size 1008x576 with 9 Axes>"
      ]
     },
     "metadata": {
      "needs_background": "light"
     },
     "output_type": "display_data"
    }
   ],
   "source": [
    "fig,ax = plt.subplots(3,3, figsize=(14,8))\n",
    "\n",
    "ax[0,0].hist(data0_do[:,0],bins=np.array(list(range(101)))+1,density=True)\n",
    "ax[0,0].set_title('M1: P(A1|do(A1=100,A2=100))')\n",
    "\n",
    "ax[0,1].hist(data0_do[:,1],bins=np.array(list(range(101)))+1,density=True)\n",
    "ax[0,1].set_title('M1: P(A2|do(A1=100,A2=100))')\n",
    "\n",
    "ax[0,2].hist(data0_do[:,2],bins=np.array(list(range(101)))+1,density=True)\n",
    "ax[0,2].set_title('M1: P(T|do(A1=100,A2=100))')\n",
    "\n",
    "ax[1,0].hist(data1_do[:,0],bins=np.array(list(range(101)))+1,density=True)\n",
    "ax[1,0].set_title('M2: P(A1|do(A1=100,A2=100))')\n",
    "\n",
    "ax[1,1].hist(data1_do[:,1],bins=np.array(list(range(101)))+1,density=True)\n",
    "ax[1,1].set_title('M2: P(A2|do(A1=100,A2=100))')\n",
    "\n",
    "ax[1,2].hist(data1_do[:,2],bins=np.array(list(range(101)))+1,density=True)\n",
    "ax[1,2].set_title('M2: P(T|do(A1=100,A2=100))')\n",
    "\n",
    "ax[2,0].hist(data2_do[:,0],bins=np.array(list(range(101)))+1,density=True)\n",
    "ax[2,0].set_title('M3: P(A1|do(A1=100,A2=100))')\n",
    "\n",
    "ax[2,1].hist(data2_do[:,1],bins=np.array(list(range(101)))+1,density=True)\n",
    "ax[2,1].set_title('M3: P(A2|do(A1=100,A2=100))')\n",
    "\n",
    "ax[2,2].hist(data2_do[:,2],bins=np.array(list(range(101)))+1,density=True)\n",
    "ax[2,2].set_title('M3: P(T|do(A1=100,A2=100))')"
   ]
  },
  {
   "cell_type": "markdown",
   "metadata": {},
   "source": [
    "As before, $P(A1 \\vert do(A1=100,A2=100))$ and $P(A2 \\vert do(A1=100,A2=100))$ are trivially identical for all models.\n",
    "\n",
    "$P(T \\vert do(A1=100,A2=100))$, instead, shows a different distribution."
   ]
  },
  {
   "cell_type": "markdown",
   "metadata": {},
   "source": [
    "# Evaluating abstraction error\n",
    "\n",
    "Exactly as before we will evaluate distances along the upper and lower path of the following diagram:\n",
    "\n",
    "$$\n",
    "\\begin{array}{ccc}\n",
    "\\mathcal{\\mathcal{M}}\\left[A1,A2\\right] & \\overset{\\mathcal{\\mathcal{M}}\\left[\\phi_{T}\\right]}{\\longrightarrow} & \\mathcal{\\mathcal{M}}\\left[T\\right]\\\\\n",
    "\\sideset{}{\\alpha_{A1,A2}}\\downarrow &  & \\sideset{}{\\alpha_{T}}\\downarrow\\\\\n",
    "\\mathcal{\\mathcal{M}}'\\left[A1,A2\\right] & \\overset{\\mathcal{\\mathcal{M}}'\\left[\\phi_{T}\\right]}{\\longrightarrow} & \\mathcal{\\mathcal{M}}'\\left[T\\right]\n",
    "\\end{array}\n",
    "$$\n",
    " \n",
    "with the knowledge that $\\alpha_{A1,A2}$ and $\\alpha_{T}$ are identities."
   ]
  },
  {
   "cell_type": "markdown",
   "metadata": {},
   "source": [
    "## KL divergence\n",
    "\n",
    "We quantitatively evaluate the difference between $ P_{\\mathcal{M}}(T \\vert do(A1=100,A2=100)) $, $P_{\\mathcal{M'}}(T \\vert do(A1=100,A2=100))$ and $P_{\\mathcal{M''}}(T \\vert do(A1=100,A2=100))$ computing the (empirical) KL divergence.\n",
    "Let us first compute the *empirical* distributions for $\\mathcal{M''}$ and compute the KL divergence from $\\mathcal{M'}$ to $\\mathcal{M''}$:\n",
    "\n",
    "$$D_{KL}( \\hat{P}_{\\mathcal{M'}}(T \\vert do) \\parallel \\hat{P}_{\\mathcal{M}''}(T \\vert do)).$$"
   ]
  },
  {
   "cell_type": "code",
   "execution_count": 36,
   "metadata": {},
   "outputs": [
    {
     "name": "stdout",
     "output_type": "stream",
     "text": [
      "0.38111891699109246\n"
     ]
    },
    {
     "data": {
      "image/png": "[encoded data removed]",
      "text/plain": [
       "<Figure size 432x288 with 1 Axes>"
      ]
     },
     "metadata": {
      "needs_background": "light"
     },
     "output_type": "display_data"
    }
   ],
   "source": [
    "p_M2 = plt.hist(data2_do[:,2],bins=np.array(list(range(101)))+1,density=True)[0]\n",
    "\n",
    "domain = np.where(p_M2!=0)\n",
    "\n",
    "KL_M1_M2 = scipy.stats.entropy(p_M1[domain],p_M2[domain])\n",
    "print(KL_M1_M2)"
   ]
  },
  {
   "cell_type": "markdown",
   "metadata": {},
   "source": [
    "Again, the KL divergence we compute is very close to the value of $0.39$ in [Rischel2021]."
   ]
  },
  {
   "cell_type": "markdown",
   "metadata": {},
   "source": [
    "## JSD distance\n",
    "We now repeat the above analysis for the JSD distance using the empirical distributions estimated above. We first compute the distance between $\\mathcal{M}'$ and $\\mathcal{M}''$:\n",
    "\n",
    "$$D_{JSD}( \\hat{P}_{\\mathcal{M'}}(T \\vert do), \\hat{P}_{\\mathcal{M}''}(T \\vert do))$$"
   ]
  },
  {
   "cell_type": "code",
   "execution_count": 37,
   "metadata": {},
   "outputs": [
    {
     "name": "stdout",
     "output_type": "stream",
     "text": [
      "0.2151218853041973\n"
     ]
    }
   ],
   "source": [
    "JSD_M1_M2 = distance.jensenshannon(p_M1,p_M2)\n",
    "print(JSD_M1_M2)"
   ]
  },
  {
   "cell_type": "markdown",
   "metadata": {},
   "source": [
    "## Wasserstein distance\n",
    "Last we conduct the comparison using the Wasserstein distance. We start by computing the distance between $\\mathcal{M}'$ and $\\mathcal{M}''$:\n",
    "\n",
    "$$D_{W}( \\hat{P}_{\\mathcal{M}'}(T \\vert do), \\hat{P}_{\\mathcal{M}''}(T \\vert do))$$"
   ]
  },
  {
   "cell_type": "code",
   "execution_count": 38,
   "metadata": {},
   "outputs": [
    {
     "name": "stdout",
     "output_type": "stream",
     "text": [
      "0.0031672200000000027\n"
     ]
    }
   ],
   "source": [
    "WD_M1_M2 = stats.wasserstein_distance(p_M1,p_M2)\n",
    "print(WD_M1_M2)"
   ]
  },
  {
   "cell_type": "markdown",
   "metadata": {},
   "source": [
    "# Evaluating composed abstraction\n",
    "\n",
    "Now that we have computed the abstraction errors $e_1$ from $\\mathcal{M}$ to $\\mathcal{M'}$ and $e_2$ from $\\mathcal{M'}$ to $\\mathcal{M''}$, we can compare the sum of these distances with the direct distance $e_0$ from $\\mathcal{M}$ to $\\mathcal{M''}$, and verify if $e_1 + e_2$ provides a bound for $e_0$."
   ]
  },
  {
   "cell_type": "markdown",
   "metadata": {},
   "source": [
    "## KL distance\n",
    "\n",
    "Let us start with KL distance. We can assess the composed KL divergence as:\n",
    "\n",
    "$$D_{KL}( \\hat{P}_{\\mathcal{M}}(T \\vert do) \\parallel \\hat{P}_{\\mathcal{M}'}(T \\vert do))+\n",
    "D_{KL}( \\hat{P}_{\\mathcal{M'}}(T \\vert do) \\parallel \\hat{P}_{\\mathcal{M}''}(T \\vert do))$$"
   ]
  },
  {
   "cell_type": "code",
   "execution_count": 39,
   "metadata": {},
   "outputs": [
    {
     "name": "stdout",
     "output_type": "stream",
     "text": [
      "0.5987167613033828\n"
     ]
    }
   ],
   "source": [
    "print(KL_M0_M1 + KL_M1_M2)"
   ]
  },
  {
   "cell_type": "markdown",
   "metadata": {},
   "source": [
    "And try to compare it with the KL divergence from $\\mathcal{M}$ directly to $\\mathcal{M''}$:\n",
    "\n",
    "$$\n",
    "D_{KL}( \\hat{P}_{\\mathcal{M}}(T \\vert do) \\parallel \\hat{P}_{\\mathcal{M}''}(T \\vert do))\n",
    "$$"
   ]
  },
  {
   "cell_type": "code",
   "execution_count": 40,
   "metadata": {},
   "outputs": [
    {
     "name": "stdout",
     "output_type": "stream",
     "text": [
      "1.4205480999102162\n"
     ]
    }
   ],
   "source": [
    "KL_M0_M2 = scipy.stats.entropy(p_M0[domain],p_M2[domain])\n",
    "print(KL_M0_M2)"
   ]
  },
  {
   "cell_type": "markdown",
   "metadata": {},
   "source": [
    "This value is relatively close to the value of $1.52$ computed in [Rischel2021], and indeed it confirms that KL divergences do not compose to provide an upper bound for the distance between distributions of interest in different models, that is:\n",
    "\n",
    "$$ D_{KL}( P_{\\mathcal{M}}(T \\vert do) \\parallel P_{\\mathcal{M}''}(T \\vert do)) > \n",
    "   D_{KL}( P_{\\mathcal{M}}(T \\vert do) \\parallel P_{\\mathcal{M}'}(T \\vert do)) + \n",
    "   D_{KL}( P_{\\mathcal{M}'}(T \\vert do) \\parallel P_{\\mathcal{M}''}(T \\vert do)).$$"
   ]
  },
  {
   "cell_type": "markdown",
   "metadata": {},
   "source": [
    "## JSD distance\n",
    "\n",
    "We can now evaluate the composed distance using JSD distance from $\\mathcal{M}$ to $\\mathcal{M}''$:\n",
    "\n",
    "$$D_{JSD}( \\hat{P}_{\\mathcal{M}}(T \\vert do), \\hat{P}_{\\mathcal{M}'}(T \\vert do))+\n",
    "D_{JSD}( \\hat{P}_{\\mathcal{M}'}(T \\vert do), \\hat{P}_{\\mathcal{M}''}(T \\vert do))$$"
   ]
  },
  {
   "cell_type": "code",
   "execution_count": 41,
   "metadata": {},
   "outputs": [
    {
     "name": "stdout",
     "output_type": "stream",
     "text": [
      "0.41423966942718327\n"
     ]
    }
   ],
   "source": [
    "print(JSD_M0_M1 + JSD_M1_M2)"
   ]
  },
  {
   "cell_type": "markdown",
   "metadata": {},
   "source": [
    "And then compute directly the JSD distance from $\\mathcal{M}$ to $\\mathcal{M}''$:\n",
    "\n",
    "$$D_{JSD}( \\hat{P}_{\\mathcal{M}}(T \\vert do), \\hat{P}_{\\mathcal{M}''}(T \\vert do))$$"
   ]
  },
  {
   "cell_type": "code",
   "execution_count": 42,
   "metadata": {},
   "outputs": [
    {
     "name": "stdout",
     "output_type": "stream",
     "text": [
      "0.37158968973860923\n"
     ]
    }
   ],
   "source": [
    "JSD_M0_M2 = distance.jensenshannon(p_M0,p_M2)\n",
    "print(JSD_M0_M2)"
   ]
  },
  {
   "cell_type": "markdown",
   "metadata": {},
   "source": [
    "In this case composition seems to hold in the sense that we can estimate an upper bound on the error (wrt to the distribution of interest) of the direct abstraction (from $\\mathcal{M}$ to $\\mathcal{M}''$) through the composition of the error of intermediate abstractions:\n",
    "\n",
    "$$ D_{JSD}( P_{\\mathcal{M}}(T \\vert do), P_{\\mathcal{M}''}(T \\vert do)) \\leq \n",
    "   D_{JSD}( P_{\\mathcal{M}}(T \\vert do), P_{\\mathcal{M}'}(T \\vert do)) + \n",
    "   D_{JSD}( P_{\\mathcal{M}'}(T \\vert do), P_{\\mathcal{M}''}(T \\vert do)).$$"
   ]
  },
  {
   "cell_type": "markdown",
   "metadata": {},
   "source": [
    "## Wasserstein distance\n",
    "\n",
    "Finally we evaluate the composed Wasserstein distance from $\\mathcal{M}$ to $\\mathcal{M}''$:\n",
    "\n",
    "$$D_{W}( \\hat{P}_{\\mathcal{M}}(T \\vert do), \\hat{P}_{\\mathcal{M}'}(T \\vert do))+\n",
    "D_{W}( \\hat{P}_{\\mathcal{M}'}(T \\vert do), \\hat{P}_{\\mathcal{M}''}(T \\vert do))$$"
   ]
  },
  {
   "cell_type": "code",
   "execution_count": 43,
   "metadata": {},
   "outputs": [
    {
     "name": "stdout",
     "output_type": "stream",
     "text": [
      "0.007517540000000006\n"
     ]
    }
   ],
   "source": [
    "print(WD_M0_M1+WD_M1_M2)"
   ]
  },
  {
   "cell_type": "markdown",
   "metadata": {},
   "source": [
    "And compare to the Wasserstein distance from $\\mathcal{M}$ to $\\mathcal{M}''$:\n",
    "\n",
    "$$D_{W}( \\hat{P}_{\\mathcal{M}}(T \\vert do), \\hat{P}_{\\mathcal{M}''}(T \\vert do))$$"
   ]
  },
  {
   "cell_type": "code",
   "execution_count": 44,
   "metadata": {},
   "outputs": [
    {
     "name": "stdout",
     "output_type": "stream",
     "text": [
      "0.007517540000000006\n"
     ]
    }
   ],
   "source": [
    "WD_M0_M2 = stats.wasserstein_distance(p_M0,p_M2)\n",
    "print(WD_M0_M2)"
   ]
  },
  {
   "cell_type": "markdown",
   "metadata": {},
   "source": [
    "Interestingly, the two distances are equivalent, thus actually satisfying our requirement of bound on the error:\n",
    "\n",
    "$$ D_{W}( P_{\\mathcal{M}}(T \\vert do), P_{\\mathcal{M}''}(T \\vert do)) \\leq \n",
    "   D_{W}( P_{\\mathcal{M}}(T \\vert do), P_{\\mathcal{M}'}(T \\vert do)) + \n",
    "   D_{W}( P_{\\mathcal{M}'}(T \\vert do), P_{\\mathcal{M}''}(T \\vert do)).$$"
   ]
  },
  {
   "cell_type": "markdown",
   "metadata": {},
   "source": [
    "# Theoretical Considerations\n",
    "\n",
    "We have measured the *abstraction error* between SCM models as a *statistical distance* wrt to an interventional distribution of interest $P(T\\vert do)$. Our desideratum was to have a property of consistent composition between *abstraction errors*.\n",
    "\n",
    "As explained in Section 2.4 of [Rischel2021], the critical requirement to have this property is the existence of a bound on the composition of distances of the following form: given a distance $D$, $\\forall p_1, p_2, p_3$ we want $D(p_1,p_3)^t \\leq D(p_1,p_2)^t + D(p_2,p_3)^t$.\n",
    "\n",
    "A specific case of this property for $t=1$ is the *triangle inequality*. All proper metrics (like JSD or Wasserstein) satisfy this requirement, but not the KL divergence. "
   ]
  },
  {
   "cell_type": "markdown",
   "metadata": {},
   "source": [
    "# Conclusion"
   ]
  },
  {
   "cell_type": "markdown",
   "metadata": {},
   "source": [
    "## Bibliography\n",
    "\n",
    "[Rischel2021] Rischel, Eigil F., and Sebastian Weichwald. \"Compositional Abstraction Error and a Category of Causal Models.\" arXiv preprint arXiv:2103.15758 (2021).\n",
    "\n",
    "[Rischel2020] Rischel, Eigil Fjeldgren. \"The Category Theory of Causal Models.\" (2020).\n",
    "\n",
    "[Rubenstein2017] Rubenstein, Paul K., et al. \"Causal consistency of structural equation models.\" arXiv preprint arXiv:1707.00819 (2017).\n",
    "\n",
    "[Pearl2009] Pearl, Judea. Causality. Cambridge university press, 2009.\n",
    "\n",
    "[Peters2017] Peters, Jonas, Dominik Janzing, and Bernhard Schölkopf. Elements of causal inference: foundations and learning algorithms. The MIT Press, 2017.\n",
    "\n",
    "[Spivak2014] Spivak, David I. Category theory for the sciences. MIT Press, 2014.\n",
    "\n",
    "[Fong2018] Fong, Brendan, and David I. Spivak. \"Seven sketches in compositionality: An invitation to applied category theory.\" arXiv preprint arXiv:1803.05316 (2018)."
   ]
  },
  {
   "cell_type": "markdown",
   "metadata": {},
   "source": [
    "(**TODO**: work more on the theoretical justifications for different metrics.)"
   ]
  }
 ],
 "metadata": {
  "kernelspec": {
   "display_name": "Python 3",
   "language": "python",
   "name": "python3"
  },
  "language_info": {
   "codemirror_mode": {
    "name": "ipython",
    "version": 3
   },
   "file_extension": ".py",
   "mimetype": "text/x-python",
   "name": "python",
   "nbconvert_exporter": "python",
   "pygments_lexer": "ipython3",
   "version": "3.9.16"
  },
  "toc": {
   "base_numbering": 1,
   "nav_menu": {},
   "number_sections": true,
   "sideBar": true,
   "skip_h1_title": false,
   "title_cell": "Table of Contents",
   "title_sidebar": "Contents",
   "toc_cell": false,
   "toc_position": {
    "height": "calc(100% - 180px)",
    "left": "10px",
    "top": "150px",
    "width": "284px"
   },
   "toc_section_display": true,
   "toc_window_display": true
  }
 },
 "nbformat": 4,
 "nbformat_minor": 4
}
