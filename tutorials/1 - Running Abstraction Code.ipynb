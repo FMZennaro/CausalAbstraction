{
 "cells": [
  {
   "cell_type": "markdown",
   "id": "1a9afbc8",
   "metadata": {},
   "source": [
    "# Tutorial: Running Abstraction Code\n",
    "\n",
    "This notebook is a brief tutorial providing a summary illustration of how to use the code in *src/SCMMappings.py* to instantiate and work with abstractions."
   ]
  },
  {
   "cell_type": "code",
   "execution_count": 1,
   "id": "0df40437",
   "metadata": {},
   "outputs": [],
   "source": [
    "import os\n",
    "os.chdir(os.path.abspath(os.path.pardir))"
   ]
  },
  {
   "cell_type": "code",
   "execution_count": 2,
   "id": "d0d89c41",
   "metadata": {},
   "outputs": [],
   "source": [
    "import numpy as np"
   ]
  },
  {
   "cell_type": "markdown",
   "id": "5cf6819e",
   "metadata": {},
   "source": [
    "## Overview\n",
    "\n",
    "The code we provide is supposed to help the user work with $(R,a,\\alpha)$ abstractions [Rischel2020], and allow for a simple computation of relevant quantities.\n",
    "\n",
    "The overall ideal workflow is as follows:\n",
    "1. Definition of SCMs using the $\\mathtt{CBN}$ class, a wrapper for the *$\\mathtt{BN}$* class from the *[pgmpy](https://pgmpy.org/index.html)* library.\n",
    "2. Definition of an abstraction between two models using a $\\mathtt{Abstraction}$ object from *src/SCMMappings.py*.\n",
    "3. (Optional) Use of the $\\mathtt{Abstraction}$ object to perform basic computations on the abstraction.\n",
    "4. (Optional) Instantiation of a $\\mathtt{AbstractionPrinter}$ object to print out and plot the abstraction.\n",
    "5. (Optional) Instantiation of a $\\mathtt{ICEvaluator}$ object to compute abstraction error."
   ]
  },
  {
   "cell_type": "markdown",
   "id": "5c4b1a96",
   "metadata": {},
   "source": [
    "## Defintion of SCMs\n",
    "\n",
    "Finite SCMs with finite domain are implemented using the $\\mathtt{CBN}$ class, a simple wrapper the offer additional custom functions to the class $\\mathtt{BN}$ in the *pgmpy* library. Transition function/mechanisms/structural funcitons are implemented as stochastic matrices."
   ]
  },
  {
   "cell_type": "code",
   "execution_count": 3,
   "id": "24c4f8a1",
   "metadata": {},
   "outputs": [],
   "source": [
    "from src.CBN import CausalBayesianNetwork as CBN\n",
    "from pgmpy.factors.discrete import TabularCPD as cpd"
   ]
  },
  {
   "cell_type": "markdown",
   "id": "389d8db0",
   "metadata": {},
   "source": [
    "The following code implements and verifies the lung cancer toy model $\\mathcal{M}$ (see first notebook for a complete description of the model) [Rischel2020]."
   ]
  },
  {
   "cell_type": "code",
   "execution_count": 4,
   "id": "64c42a98",
   "metadata": {},
   "outputs": [
    {
     "data": {
      "text/plain": [
       "True"
      ]
     },
     "execution_count": 4,
     "metadata": {},
     "output_type": "execute_result"
    }
   ],
   "source": [
    "M0 = CBN([('Smoking','Tar'),('Tar','Cancer')])\n",
    "\n",
    "cpdS = cpd(variable='Smoking',\n",
    "          variable_card=2,\n",
    "          values=[[.8],[.2]],\n",
    "          evidence=None,\n",
    "          evidence_card=None)\n",
    "cpdT = cpd(variable='Tar',\n",
    "          variable_card=2,\n",
    "          values=[[1,.2],[0.,.8]],\n",
    "          evidence=['Smoking'],\n",
    "          evidence_card=[2])\n",
    "cpdC = cpd(variable='Cancer',\n",
    "          variable_card=2,\n",
    "          values=[[.9,.6],[.1,.4]],\n",
    "          evidence=['Tar'],\n",
    "          evidence_card=[2])\n",
    "\n",
    "M0.add_cpds(cpdS,cpdT,cpdC)\n",
    "M0.check_model()"
   ]
  },
  {
   "cell_type": "markdown",
   "id": "5a8247a1",
   "metadata": {},
   "source": [
    "Similarly, we implement a simpler lung cancer toy model $\\mathcal{M'}$ (see first notebook for a complete description of the model) [Rischel2020]."
   ]
  },
  {
   "cell_type": "code",
   "execution_count": 5,
   "id": "9b2a444d",
   "metadata": {},
   "outputs": [
    {
     "data": {
      "text/plain": [
       "True"
      ]
     },
     "execution_count": 5,
     "metadata": {},
     "output_type": "execute_result"
    }
   ],
   "source": [
    "M1 = CBN([('Smoking_','Cancer_')])\n",
    "\n",
    "cpdS = cpd(variable='Smoking_',\n",
    "          variable_card=2,\n",
    "          values=[[.8],[.2]],\n",
    "          evidence=None,\n",
    "          evidence_card=None)\n",
    "cpdC = cpd(variable='Cancer_',\n",
    "          variable_card=2,\n",
    "          values=[[.9,.66],[.1,.34]],\n",
    "          evidence=['Smoking_'],\n",
    "          evidence_card=[2])\n",
    "\n",
    "M1.add_cpds(cpdS,cpdC)\n",
    "M1.check_model()"
   ]
  },
  {
   "cell_type": "markdown",
   "id": "6571235d",
   "metadata": {},
   "source": [
    "## Definition of an abstraction\n",
    "\n",
    "An abstraction can be defined using the $\\mathtt{Abstraction}$ object from *src/SCMMappings.py*."
   ]
  },
  {
   "cell_type": "code",
   "execution_count": 6,
   "id": "18c63a92",
   "metadata": {},
   "outputs": [],
   "source": [
    "from src.SCMMappings import Abstraction"
   ]
  },
  {
   "cell_type": "markdown",
   "id": "8f1a4064",
   "metadata": {},
   "source": [
    "An abstraction is made up of three elements:\n",
    "- A set of relevant variable $R$ implemented as a list of nodes in $\\mathcal{M}$;\n",
    "- A surjective map from $R$ to the nodes in $\\mathcal{M'}$ implemented as a dictionary indexed by $R$;\n",
    "- A collection of maps $\\alpha_{X'}$ from the outcomes in $\\mathcal{M}$ to the outcomes in $\\mathcal{M'}$ implemented as a dictionary of binary matrices indexed by the variables in $\\mathcal{M'}$.\n",
    "\n",
    "A more detailed explanation of each element is available in the first notebook."
   ]
  },
  {
   "cell_type": "code",
   "execution_count": 7,
   "id": "912962e8",
   "metadata": {},
   "outputs": [],
   "source": [
    "R = ['Smoking','Cancer']\n",
    "\n",
    "a = {'Smoking': 'Smoking_',\n",
    "    'Cancer': 'Cancer_'}\n",
    "\n",
    "alphas = {'Smoking_': np.eye(2),\n",
    "         'Cancer_': np.eye(2)}"
   ]
  },
  {
   "cell_type": "markdown",
   "id": "74daf8dc",
   "metadata": {},
   "source": [
    "We can now instatiate an $\\mathtt{Abstraction}$ object."
   ]
  },
  {
   "cell_type": "code",
   "execution_count": 8,
   "id": "bb18b8f3",
   "metadata": {},
   "outputs": [],
   "source": [
    "A = Abstraction(M0,M1,R,a,alphas)"
   ]
  },
  {
   "cell_type": "markdown",
   "id": "20b4dc9a",
   "metadata": {},
   "source": [
    "Initialization of this object verifies that the elements $R,a,\\alpha$ are defined on existing variables, and that surjectivity is respected."
   ]
  },
  {
   "cell_type": "markdown",
   "id": "eda474de",
   "metadata": {},
   "source": [
    "## Using an abstraction\n",
    "\n",
    "The $\\mathtt{Abstraction}$ object provides a few basic functions to work with the abstraction."
   ]
  },
  {
   "cell_type": "markdown",
   "id": "fa6d65bd",
   "metadata": {},
   "source": [
    "First, we can access the property fields of the abstraction object or query advanced properties. For instance, we can query the cardinality of domain and codomain of a specific $\\alpha_{X'}$ map."
   ]
  },
  {
   "cell_type": "code",
   "execution_count": 9,
   "id": "9251d931",
   "metadata": {},
   "outputs": [
    {
     "data": {
      "text/plain": [
       "(2, 2)"
      ]
     },
     "execution_count": 9,
     "metadata": {},
     "output_type": "execute_result"
    }
   ],
   "source": [
    "A.get_cardinalities_alpha('Smoking_')"
   ]
  },
  {
   "cell_type": "markdown",
   "id": "26ddfc76",
   "metadata": {},
   "source": [
    "Second, elementary property of the abstraction may be verified. For instance, we can check whether there is an isomorphism between $R$ and the nodes in $\\mathcal{M'}$. Some of these properties are discussed in the second notebook."
   ]
  },
  {
   "cell_type": "code",
   "execution_count": 10,
   "id": "0df4cfd7",
   "metadata": {},
   "outputs": [
    {
     "data": {
      "text/plain": [
       "True"
      ]
     },
     "execution_count": 10,
     "metadata": {},
     "output_type": "execute_result"
    }
   ],
   "source": [
    "A.is_varlevel_isomorphic()"
   ]
  },
  {
   "cell_type": "markdown",
   "id": "1756e358",
   "metadata": {},
   "source": [
    "Third, we can compute statistical quantities from the models. For instance, we can compute the joint distributions over the variables in $\\mathcal{M}$."
   ]
  },
  {
   "cell_type": "code",
   "execution_count": 11,
   "id": "3ea90e2e",
   "metadata": {},
   "outputs": [
    {
     "name": "stdout",
     "output_type": "stream",
     "text": [
      "+------------+--------+-----------+---------------------------+\n",
      "| Smoking    | Tar    | Cancer    |   phi(Smoking,Tar,Cancer) |\n",
      "+============+========+===========+===========================+\n",
      "| Smoking(0) | Tar(0) | Cancer(0) |                    0.7200 |\n",
      "+------------+--------+-----------+---------------------------+\n",
      "| Smoking(0) | Tar(0) | Cancer(1) |                    0.0800 |\n",
      "+------------+--------+-----------+---------------------------+\n",
      "| Smoking(0) | Tar(1) | Cancer(0) |                    0.0000 |\n",
      "+------------+--------+-----------+---------------------------+\n",
      "| Smoking(0) | Tar(1) | Cancer(1) |                    0.0000 |\n",
      "+------------+--------+-----------+---------------------------+\n",
      "| Smoking(1) | Tar(0) | Cancer(0) |                    0.0360 |\n",
      "+------------+--------+-----------+---------------------------+\n",
      "| Smoking(1) | Tar(0) | Cancer(1) |                    0.0040 |\n",
      "+------------+--------+-----------+---------------------------+\n",
      "| Smoking(1) | Tar(1) | Cancer(0) |                    0.0960 |\n",
      "+------------+--------+-----------+---------------------------+\n",
      "| Smoking(1) | Tar(1) | Cancer(1) |                    0.0640 |\n",
      "+------------+--------+-----------+---------------------------+\n"
     ]
    }
   ],
   "source": [
    "print(A.M0.compute_observational_joint())"
   ]
  },
  {
   "cell_type": "markdown",
   "id": "ad495fd9",
   "metadata": {},
   "source": [
    "Finally, we can produce deep copies of an abstraction."
   ]
  },
  {
   "cell_type": "code",
   "execution_count": 12,
   "id": "3581cdf0",
   "metadata": {},
   "outputs": [],
   "source": [
    "Acopy = A.copy()"
   ]
  },
  {
   "cell_type": "markdown",
   "id": "9ab6cfea",
   "metadata": {},
   "source": [
    "## Printing an abstraction\n",
    "\n",
    "The tasks of printing out the content of an abstraction or visualize it through a plot is delegated to the $\\mathtt{AbstractionPrinter}$ class in *src/printing*."
   ]
  },
  {
   "cell_type": "code",
   "execution_count": 13,
   "id": "4b9fcb1a",
   "metadata": {},
   "outputs": [],
   "source": [
    "from src.printing import AbstractionPrinter"
   ]
  },
  {
   "cell_type": "markdown",
   "id": "7b026e33",
   "metadata": {},
   "source": [
    " We then need to instantiate such an object with our abstraction."
   ]
  },
  {
   "cell_type": "code",
   "execution_count": 14,
   "id": "a7201b1f",
   "metadata": {},
   "outputs": [],
   "source": [
    "Ap = AbstractionPrinter(A)"
   ]
  },
  {
   "cell_type": "markdown",
   "id": "3b7800cb",
   "metadata": {},
   "source": [
    "The $\\mathtt{AbstractionPrinter}$ object allows for listing elements of the abstraction (for instance, the nodes in the DAGs) or printing properties (for instance, the cardinalities of the nodes in $\\mathcal{M'}$)."
   ]
  },
  {
   "cell_type": "code",
   "execution_count": 15,
   "id": "f101a631",
   "metadata": {},
   "outputs": [
    {
     "name": "stdout",
     "output_type": "stream",
     "text": [
      "M0 - Nodes: ['Smoking', 'Tar', 'Cancer']\n",
      "M1 - Nodes: ['Smoking_', 'Cancer_']\n",
      "R  - Nodes: ['Smoking', 'Cancer']\n"
     ]
    }
   ],
   "source": [
    "Ap.list_DAG_nodes()"
   ]
  },
  {
   "cell_type": "code",
   "execution_count": 16,
   "id": "4e816c15",
   "metadata": {},
   "outputs": [
    {
     "name": "stdout",
     "output_type": "stream",
     "text": [
      "M1: cardinality of Smoking_: 2\n",
      "M1: cardinality of Cancer_: 2\n"
     ]
    }
   ],
   "source": [
    "Ap.print_M1_cardinalites()"
   ]
  },
  {
   "cell_type": "markdown",
   "id": "7cc629c3",
   "metadata": {},
   "source": [
    "Moreover, $\\mathtt{AbstractionPrinter}$ provides also plotting function, both of the individual SCMs or of the whole abstraction."
   ]
  },
  {
   "cell_type": "code",
   "execution_count": 17,
   "id": "4670bd30",
   "metadata": {},
   "outputs": [
    {
     "data": {
      "image/png": "[encoded data removed]",
      "text/plain": [
       "<Figure size 432x288 with 1 Axes>"
      ]
     },
     "metadata": {},
     "output_type": "display_data"
    }
   ],
   "source": [
    "Ap.plot_DAG_M0()"
   ]
  },
  {
   "cell_type": "code",
   "execution_count": 18,
   "id": "f1725724",
   "metadata": {},
   "outputs": [
    {
     "data": {
      "image/png": "[encoded data removed]",
      "text/plain": [
       "<Figure size 432x288 with 1 Axes>"
      ]
     },
     "metadata": {},
     "output_type": "display_data"
    }
   ],
   "source": [
    "Ap.plot_variable_level_mapping()"
   ]
  },
  {
   "cell_type": "markdown",
   "id": "62033267",
   "metadata": {},
   "source": [
    "## Evaluating abstraction error\n",
    "\n",
    "Last but not least, we can instantiate a $\\mathtt{ICEvaluator}$ class from *src/measuring* to compute the abstraction error. $\\mathtt{ICEvaluator}$ evaluates the abstraction error based on interventional consistency as in the first notebook. $\\mathtt{ICEvaluator}$ is implemented using the convention in [Zennaro2023b]. "
   ]
  },
  {
   "cell_type": "code",
   "execution_count": 19,
   "id": "c053efe8",
   "metadata": {},
   "outputs": [],
   "source": [
    "from src.measuring import ICEvaluator"
   ]
  },
  {
   "cell_type": "markdown",
   "id": "b65fec49",
   "metadata": {},
   "source": [
    "As before, we instantiate it passing our abstration object."
   ]
  },
  {
   "cell_type": "code",
   "execution_count": 20,
   "id": "1c7419b6",
   "metadata": {},
   "outputs": [],
   "source": [
    "Ae = ICEvaluator(A)"
   ]
  },
  {
   "cell_type": "markdown",
   "id": "7f60a40a",
   "metadata": {},
   "source": [
    "The $\\mathtt{ICEvaluator}$ has a number of optional parameters that allows to customize the computation of the error as discussed in [Zennaro2023b]."
   ]
  },
  {
   "cell_type": "markdown",
   "id": "c0a9199c",
   "metadata": {},
   "source": [
    "The main function in the $\\mathtt{ICEvaluator}$ is *Ae.compute_overall_error()* which computes the abstraction error using the algorithms detailed in the fourth notebook. The function has one required parameter:\n",
    "- *J*: a list of pair of nodes in the abstracted model over which to compute the error or an algorithm to produce the set of nodes.\n",
    "\n",
    "In order to compute $J$ we import the module *src/evaluationsets* which provides algorithms to compute evaluation sets, similarly to what done in the fourth notebook."
   ]
  },
  {
   "cell_type": "code",
   "execution_count": 21,
   "id": "6eebbe64",
   "metadata": {},
   "outputs": [],
   "source": [
    "import src.evaluationsets as esets"
   ]
  },
  {
   "cell_type": "code",
   "execution_count": 22,
   "id": "a073eec5",
   "metadata": {},
   "outputs": [
    {
     "data": {
      "text/plain": [
       "[[['Smoking_'], ['Cancer_']]]"
      ]
     },
     "execution_count": 22,
     "metadata": {},
     "output_type": "execute_result"
    }
   ],
   "source": [
    "J = esets.get_causal_sets_in_M1_with_directed_path_in_M1_and_M0(M0,M1,a)\n",
    "J"
   ]
  },
  {
   "cell_type": "markdown",
   "id": "e6d83baa",
   "metadata": {},
   "source": [
    "We can then compute the overall abstraction error:"
   ]
  },
  {
   "cell_type": "code",
   "execution_count": 23,
   "id": "7e35f2b7",
   "metadata": {},
   "outputs": [
    {
     "data": {
      "text/plain": [
       "0"
      ]
     },
     "execution_count": 23,
     "metadata": {},
     "output_type": "execute_result"
    }
   ],
   "source": [
    "Ae.compute_overall_error(J)"
   ]
  },
  {
   "cell_type": "markdown",
   "id": "86610f90",
   "metadata": {},
   "source": [
    "It is also possible to get a more detailed outcome using the *verbose* option:"
   ]
  },
  {
   "cell_type": "code",
   "execution_count": 24,
   "id": "bbedb75b",
   "metadata": {},
   "outputs": [
    {
     "name": "stdout",
     "output_type": "stream",
     "text": [
      "\n",
      "M1: ['Smoking_'] -> ['Cancer_']\n",
      "M0: ['Smoking'] -> ['Cancer']\n",
      "Args: CausalBayesianNetwork with 2 nodes and 1 edges\n",
      "M1 mechanism shape: (2, 2)\n",
      "M1 mechanism: [[0.9  0.66]\n",
      " [0.1  0.34]]\n",
      "M0 mechanism shape: (2, 2)\n",
      "Alpha_s shape: (2, 2)\n",
      "Alpha_t shape: (2, 2)\n",
      "\n",
      "Distances: [0, 0]\n",
      "\n",
      "Error: 0\n",
      "\n",
      "Error of pair [['Smoking_'], ['Cancer_']]: 0\n",
      "\n",
      "Overall error: 0\n"
     ]
    },
    {
     "data": {
      "text/plain": [
       "0"
      ]
     },
     "execution_count": 24,
     "metadata": {},
     "output_type": "execute_result"
    }
   ],
   "source": [
    "Ae.compute_overall_error(J,verbose=True)"
   ]
  },
  {
   "cell_type": "markdown",
   "id": "28f8c2f2",
   "metadata": {},
   "source": [
    "Alternatively, the individual abstraction error for a specific pair/diagram (remember we have a diagram for each element in *J*) can be explicitly requested through the function *Ae.compute_error()*:"
   ]
  },
  {
   "cell_type": "code",
   "execution_count": 25,
   "id": "7db74e2d",
   "metadata": {},
   "outputs": [
    {
     "data": {
      "text/plain": [
       "0"
      ]
     },
     "execution_count": 25,
     "metadata": {},
     "output_type": "execute_result"
    }
   ],
   "source": [
    "Ae.compute_error([['Smoking_'], ['Cancer_']])"
   ]
  },
  {
   "cell_type": "markdown",
   "id": "b8d90ef6",
   "metadata": {},
   "source": [
    "Notice that in this case we have a single diagram, and so we get back a list with a single element. Notice, also, that *Ae.evaluate_overall_abstraction_error()* simply gets the maximum out of *Ae.evaluate_abstraction_errors()*."
   ]
  },
  {
   "cell_type": "markdown",
   "id": "39be596f",
   "metadata": {},
   "source": [
    "## Conclusion\n",
    "\n",
    "We have seen a basic workflow for abstraction using the code available in *src/SCMMappings.py*. Additional functions are available and explained throughout the notebooks."
   ]
  },
  {
   "cell_type": "markdown",
   "id": "8cb4ffb2",
   "metadata": {},
   "source": [
    "## Bibliography\n",
    "\n",
    "[Rischel2020] Rischel, Eigil Fjeldgren. \"The Category Theory of Causal Models.\" (2020).\n",
    "\n",
    "[Zennaro2023b] Zennaro, Fabio Massimo, Paolo Turrini, and Theodoros Damoulas. \"Quantifying Consistency and Information Loss for Causal Abstraction Learning.\" arXiv preprint arXiv:2305.04357 (2023)."
   ]
  },
  {
   "cell_type": "code",
   "execution_count": null,
   "id": "5b0cf646",
   "metadata": {},
   "outputs": [],
   "source": []
  }
 ],
 "metadata": {
  "kernelspec": {
   "display_name": "Python 3",
   "language": "python",
   "name": "python3"
  },
  "language_info": {
   "codemirror_mode": {
    "name": "ipython",
    "version": 3
   },
   "file_extension": ".py",
   "mimetype": "text/x-python",
   "name": "python",
   "nbconvert_exporter": "python",
   "pygments_lexer": "ipython3",
   "version": "3.9.16"
  },
  "toc": {
   "base_numbering": 1,
   "nav_menu": {},
   "number_sections": true,
   "sideBar": true,
   "skip_h1_title": false,
   "title_cell": "Table of Contents",
   "title_sidebar": "Contents",
   "toc_cell": false,
   "toc_position": {},
   "toc_section_display": true,
   "toc_window_display": false
  }
 },
 "nbformat": 4,
 "nbformat_minor": 5
}
