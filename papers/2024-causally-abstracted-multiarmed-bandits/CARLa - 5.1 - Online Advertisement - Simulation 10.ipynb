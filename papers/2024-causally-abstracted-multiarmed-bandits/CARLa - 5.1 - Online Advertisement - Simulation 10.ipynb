{
 "cells": [
  {
   "cell_type": "markdown",
   "id": "9cfa79e3",
   "metadata": {},
   "source": [
    "# CARL Bandits\n",
    "\n",
    "Using an extension of $\\alpha_{Y'}$ to transfer $Q$."
   ]
  },
  {
   "cell_type": "markdown",
   "id": "72890c77",
   "metadata": {},
   "source": [
    "## Setup\n",
    "\n",
    "Let us start by importing a couple of generic libraries."
   ]
  },
  {
   "cell_type": "code",
   "execution_count": 1,
   "id": "443a8f5f",
   "metadata": {},
   "outputs": [],
   "source": [
    "import os\n",
    "os.chdir(os.path.abspath(os.path.pardir))\n",
    "\n",
    "import warnings\n",
    "warnings.simplefilter(action='ignore', category=FutureWarning)"
   ]
  },
  {
   "cell_type": "code",
   "execution_count": 2,
   "id": "a32e7c60",
   "metadata": {},
   "outputs": [
    {
     "name": "stderr",
     "output_type": "stream",
     "text": [
      "INFO:numexpr.utils:Note: NumExpr detected 12 cores but \"NUMEXPR_MAX_THREADS\" not set, so enforcing safe limit of 8.\n",
      "INFO:numexpr.utils:NumExpr defaulting to 8 threads.\n"
     ]
    }
   ],
   "source": [
    "import numpy as np\n",
    "import matplotlib.pyplot as plt\n",
    "import joblib\n",
    "import ot\n",
    "from tqdm import tqdm\n",
    "\n",
    "from src.SCMMappings import Abstraction\n",
    "from src.measuring import ICEvaluator\n",
    "from src.examples import smokingmodels as sm\n",
    "import src.evaluationsets as esets\n",
    "\n",
    "import src.bandit_envs as BE\n",
    "import src.bandit_agents as BA\n",
    "import CARLa_trials as CTr\n",
    "import CARLa_plots as Cplt\n",
    "import CARLa_abserr as Cae"
   ]
  },
  {
   "cell_type": "code",
   "execution_count": 3,
   "id": "e77713bb",
   "metadata": {},
   "outputs": [],
   "source": [
    "np.random.seed(0)"
   ]
  },
  {
   "cell_type": "markdown",
   "id": "bc308652",
   "metadata": {},
   "source": [
    "## Model setup"
   ]
  },
  {
   "cell_type": "code",
   "execution_count": 4,
   "id": "9b1c8669",
   "metadata": {},
   "outputs": [],
   "source": [
    "from src.CBN import CausalBayesianNetwork as CBN\n",
    "from pgmpy.factors.discrete import TabularCPD as cpd"
   ]
  },
  {
   "cell_type": "code",
   "execution_count": 5,
   "id": "7a9d8afa",
   "metadata": {},
   "outputs": [
    {
     "data": {
      "text/plain": [
       "True"
      ]
     },
     "execution_count": 5,
     "metadata": {},
     "output_type": "execute_result"
    }
   ],
   "source": [
    "X1 = 'Product'; X2 = 'Purpose'; Z1='Subject length'; Z2='Email template'; Z3='Time'; Y='Click'\n",
    "M0 = CBN([(X1,Z2),(X2,Z1),(X2,Z2),(Z1,Y),(Z2,Y),(Z3,Y)])\n",
    "\n",
    "cpdX1 = cpd(variable=X1,\n",
    "          variable_card=3,\n",
    "          values=np.array([[.2],[.2],[.6]]),\n",
    "          evidence=None,\n",
    "          evidence_card=None)\n",
    "cpdX2 = cpd(variable=X2,\n",
    "          variable_card=4,\n",
    "          values=np.array([[.05],[.6],[.3],[.05]]),\n",
    "          evidence=None,\n",
    "          evidence_card=None)\n",
    "muZ1 = np.array([.7,.7,.3,.3])\n",
    "cpdZ1 = cpd(variable=Z1,\n",
    "          variable_card=2,\n",
    "          values=np.array([1-muZ1,muZ1]),\n",
    "          evidence=[X2],\n",
    "          evidence_card=[4])\n",
    "muZ2 = np.array([.8,.9,.5,.2,.8,.9,.5,.2,.6,.7,.6,.5])\n",
    "cpdZ2 = cpd(variable=Z2,\n",
    "          variable_card=2,\n",
    "          values=np.array([1-muZ2,muZ2]),\n",
    "          evidence=[X1,X2],\n",
    "          evidence_card=[3,4])\n",
    "cpdZ3 = cpd(variable=Z3,\n",
    "          variable_card=3,\n",
    "          values=np.array([[.5],[.2],[.3]]),\n",
    "          evidence=None,\n",
    "          evidence_card=None)\n",
    "muY = 1 - np.array([3,4,5,4,5,6,4,5,6,5,6,7.])/9\n",
    "cpdY = cpd(variable=Y,\n",
    "          variable_card=2,\n",
    "          values=np.array([1-muY,muY]),\n",
    "          evidence=[Z1,Z2,Z3],\n",
    "          evidence_card=[2,2,3])\n",
    "\n",
    "M0.add_cpds(cpdX1,cpdX2,cpdZ1,cpdZ2,cpdZ3,cpdY)\n",
    "M0.check_model()"
   ]
  },
  {
   "cell_type": "code",
   "execution_count": 6,
   "id": "1979a68e",
   "metadata": {},
   "outputs": [
    {
     "data": {
      "text/plain": [
       "True"
      ]
     },
     "execution_count": 6,
     "metadata": {},
     "output_type": "execute_result"
    }
   ],
   "source": [
    "X1_ = 'Product_'; X2_ = 'Purpose_'; Z1_='Subject length_'; Z2_='Email template_'; Y_='Click_'\n",
    "M1 = CBN([(X1_,Z2_),(X2_,Z1_),(X2_,Z2_),(Z1_,Y_),(Z2_,Y_)])\n",
    "\n",
    "cpdX1 = cpd(variable=X1_,\n",
    "          variable_card=2,\n",
    "          values=np.array([[.8],[.2]]),\n",
    "          evidence=None,\n",
    "          evidence_card=None)\n",
    "cpdX2 = cpd(variable=X2_,\n",
    "          variable_card=2,\n",
    "          values=np.array([[.65],[.35]]),\n",
    "          evidence=None,\n",
    "          evidence_card=None)\n",
    "muZ1 = np.array([.7,.3])\n",
    "cpdZ1 = cpd(variable=Z1_,\n",
    "          variable_card=2,\n",
    "          values=np.array([1-muZ1,muZ1]),\n",
    "          evidence=[X2_],\n",
    "          evidence_card=[2])\n",
    "muZ2 = np.array([.7,.5,.85,.35])\n",
    "cpdZ2 = cpd(variable=Z2_,\n",
    "          variable_card=2,\n",
    "          values=np.array([1-muZ2,muZ2]),\n",
    "          evidence=[X1_,X2_],\n",
    "          evidence_card=[2,2])\n",
    "muY = 1 - np.array([4,5,5,6.])/9\n",
    "cpdY = cpd(variable=Y_,\n",
    "          variable_card=2,\n",
    "          values=np.array([1-muY,muY]),\n",
    "          evidence=[Z1_,Z2_],\n",
    "          evidence_card=[2,2])\n",
    "\n",
    "M1.add_cpds(cpdX1,cpdX2,cpdZ1,cpdZ2,cpdY)\n",
    "M1.check_model()"
   ]
  },
  {
   "cell_type": "code",
   "execution_count": 7,
   "id": "9e7ed111",
   "metadata": {},
   "outputs": [],
   "source": [
    "R = [X1,X2,Z1,Z2,Y]\n",
    "a = {X1: X1_,\n",
    "     X2: X2_,\n",
    "     Z1: Z1_,\n",
    "     Z2: Z2_,\n",
    "     Y: Y_}\n",
    "alphas = {X1_: np.array([[1,0,1],[0,1,0]]),\n",
    "          X2_: np.array([[1,1,0,0.],[0,0,1,1]]),\n",
    "          Z1_: np.eye(2),\n",
    "          Z2_: np.eye(2),\n",
    "          Y_: np.eye(2),}"
   ]
  },
  {
   "cell_type": "code",
   "execution_count": 8,
   "id": "f29355f4",
   "metadata": {},
   "outputs": [],
   "source": [
    "map_rewards = {i:np.argmax(alphas[Y_][:,i]) for i in range(alphas[Y_].shape[1])}\n",
    "    \n",
    "ydomain0 = lambda x:x\n",
    "ydomain1 = lambda x:x\n",
    "map_ydomains = {ydomain0(i):ydomain1(j) for i,j in map_rewards.items()}\n",
    "\n",
    "actions0=[{X1:0}, {X1:1}, {X2:0}, {X2:1}, {X2:2}, {X2:3}]\n",
    "actions1=[{X1_:0}, {X1_:1}, {X2_:0}, {X2_:1}]\n",
    "map_actions = {0:0, 1:1, 2:2, 3:2, 4:3, 5:3}"
   ]
  },
  {
   "cell_type": "code",
   "execution_count": 9,
   "id": "e50aa074",
   "metadata": {},
   "outputs": [],
   "source": [
    "def metricW2(p,q):\n",
    "    Dy1 = np.array([ydomain0(i) for i in map_rewards.values()])\n",
    "    \n",
    "    if p.ndim == 1:\n",
    "        return ot.wasserstein_1d(Dy1,Dy1,p,q,p=2)\n",
    "    else:\n",
    "        ws = []\n",
    "        for i in range(p.shape[1]):\n",
    "            w = ot.wasserstein_1d(Dy0,Dy1,p[:,i],q[:,i],p=2)\n",
    "            ws.append(w)\n",
    "        return ws"
   ]
  },
  {
   "cell_type": "code",
   "execution_count": 10,
   "id": "e83676e7",
   "metadata": {},
   "outputs": [
    {
     "data": {
      "text/plain": [
       "0.30000000000000004"
      ]
     },
     "execution_count": 10,
     "metadata": {},
     "output_type": "execute_result"
    }
   ],
   "source": [
    "Ab = Abstraction(M0,M1,R,a,alphas)\n",
    "Ae = ICEvaluator(Ab,metric=metricW2)\n",
    "J = esets.get_causal_sets_in_M0_with_directed_path_in_M1_and_M0(Ab.M0,Ab.M1,Ab.a)\n",
    "Ae.compute_overall_error(J)"
   ]
  },
  {
   "cell_type": "markdown",
   "id": "3090ec2d",
   "metadata": {},
   "source": [
    "## Experiment settings"
   ]
  },
  {
   "cell_type": "code",
   "execution_count": 11,
   "id": "f6d1ba62",
   "metadata": {},
   "outputs": [],
   "source": [
    "params_to_save_start = set(dir())\n",
    "simulname = 'simul_5_1'\n",
    "\n",
    "n_trials = 20\n",
    "n_steps = 1000"
   ]
  },
  {
   "cell_type": "markdown",
   "id": "ee6ab368",
   "metadata": {},
   "source": [
    "## CAMAB settings"
   ]
  },
  {
   "cell_type": "markdown",
   "id": "85243a97",
   "metadata": {},
   "source": [
    "### Bandits setting"
   ]
  },
  {
   "cell_type": "code",
   "execution_count": 12,
   "id": "32bac12b",
   "metadata": {},
   "outputs": [],
   "source": [
    "B0 = BE.SCMEnv(scm=Ab.M0, actions=actions0, target=Y, ydomain=ydomain0)\n",
    "B1 = BE.SCMEnv(scm=Ab.M1, actions=actions1, target=Y_, ydomain=ydomain1)"
   ]
  },
  {
   "cell_type": "markdown",
   "id": "a02be051",
   "metadata": {},
   "source": [
    "### Learning setting"
   ]
  },
  {
   "cell_type": "code",
   "execution_count": 13,
   "id": "241033d5",
   "metadata": {},
   "outputs": [],
   "source": [
    "bandits = [B0,B1,B1,B1,B1]\n",
    "\n",
    "labels = ['Base: ucb', 'Abs: ucb', 'Abs: transfer-optimum', 'Abs: imitation', 'Abs: $\\\\alpha$-ext']\n",
    "trainalg = ['ucb', 'ucb', 'transfer-optimum', 'imitation', 'transfer-expval']\n",
    "params = {}\n",
    "\n",
    "# Alg params\n",
    "params['Qinit'] = [BA.initialize_Q_ones,BA.initialize_Q_ones,None,BA.initialize_Q_ones,None]\n",
    "params['Qtransferstep'] = [None,None,None,None,-1]\n",
    "params['abserr'] = [None,None,None,None,Ae.compute_overall_error(J)]\n",
    "params['delta'] = [None,None,None,None,0.01]\n",
    "\n",
    "# UCB params\n",
    "params['c'] = [1.0] * len(labels)"
   ]
  },
  {
   "cell_type": "markdown",
   "id": "e63903ef",
   "metadata": {},
   "source": [
    "## Statistics settings"
   ]
  },
  {
   "cell_type": "code",
   "execution_count": 14,
   "id": "9740f807",
   "metadata": {},
   "outputs": [],
   "source": [
    "agents = [[] for _ in range(len(labels))]\n",
    "\n",
    "params_to_save = set(dir()) - params_to_save_start\n",
    "simulparams = [s for s in params_to_save if s[0]!='_']"
   ]
  },
  {
   "cell_type": "markdown",
   "id": "982c2f7a",
   "metadata": {},
   "source": [
    "# Abstraction Training"
   ]
  },
  {
   "cell_type": "code",
   "execution_count": 15,
   "id": "080c5c7f",
   "metadata": {
    "scrolled": true
   },
   "outputs": [
    {
     "name": "stderr",
     "output_type": "stream",
     "text": [
      "  0%|                                                                                                           | 0/20 [00:00<?, ?it/s]C:\\Users\\admin\\gits\\scratchbook\\CausalAbstraction\\src\\bandit_agents.py:146: RuntimeWarning: divide by zero encountered in log\n",
      "  U = self.c * np.sqrt( np.log(np.sum(self.action_counter)) / self.action_counter  )\n",
      "C:\\Users\\admin\\gits\\scratchbook\\CausalAbstraction\\src\\bandit_agents.py:146: RuntimeWarning: invalid value encountered in sqrt\n",
      "  U = self.c * np.sqrt( np.log(np.sum(self.action_counter)) / self.action_counter  )\n",
      "C:\\Users\\admin\\gits\\scratchbook\\CausalAbstraction\\src\\bandit_agents.py:146: RuntimeWarning: invalid value encountered in divide\n",
      "  U = self.c * np.sqrt( np.log(np.sum(self.action_counter)) / self.action_counter  )\n",
      "C:\\Users\\admin\\gits\\scratchbook\\CausalAbstraction\\src\\bandit_agents.py:146: RuntimeWarning: divide by zero encountered in divide\n",
      "  U = self.c * np.sqrt( np.log(np.sum(self.action_counter)) / self.action_counter  )\n",
      "C:\\Users\\admin\\gits\\scratchbook\\CausalAbstraction\\src\\bandit_agents.py:146: RuntimeWarning: divide by zero encountered in divide\n",
      "  U = self.c * np.sqrt( np.log(np.sum(self.action_counter)) / self.action_counter  )\n",
      "C:\\Users\\admin\\gits\\scratchbook\\CausalAbstraction\\src\\bandit_agents.py:146: RuntimeWarning: divide by zero encountered in divide\n",
      "  U = self.c * np.sqrt( np.log(np.sum(self.action_counter)) / self.action_counter  )\n",
      "C:\\Users\\admin\\gits\\scratchbook\\CausalAbstraction\\src\\bandit_agents.py:146: RuntimeWarning: divide by zero encountered in divide\n",
      "  U = self.c * np.sqrt( np.log(np.sum(self.action_counter)) / self.action_counter  )\n",
      "C:\\Users\\admin\\gits\\scratchbook\\CausalAbstraction\\src\\bandit_agents.py:146: RuntimeWarning: divide by zero encountered in log\n",
      "  U = self.c * np.sqrt( np.log(np.sum(self.action_counter)) / self.action_counter  )\n",
      "C:\\Users\\admin\\gits\\scratchbook\\CausalAbstraction\\src\\bandit_agents.py:146: RuntimeWarning: invalid value encountered in sqrt\n",
      "  U = self.c * np.sqrt( np.log(np.sum(self.action_counter)) / self.action_counter  )\n",
      "C:\\Users\\admin\\gits\\scratchbook\\CausalAbstraction\\src\\bandit_agents.py:146: RuntimeWarning: invalid value encountered in divide\n",
      "  U = self.c * np.sqrt( np.log(np.sum(self.action_counter)) / self.action_counter  )\n",
      "C:\\Users\\admin\\gits\\scratchbook\\CausalAbstraction\\src\\bandit_agents.py:146: RuntimeWarning: divide by zero encountered in divide\n",
      "  U = self.c * np.sqrt( np.log(np.sum(self.action_counter)) / self.action_counter  )\n",
      "C:\\Users\\admin\\gits\\scratchbook\\CausalAbstraction\\src\\bandit_agents.py:146: RuntimeWarning: divide by zero encountered in divide\n",
      "  U = self.c * np.sqrt( np.log(np.sum(self.action_counter)) / self.action_counter  )\n",
      "C:\\Users\\admin\\gits\\scratchbook\\CausalAbstraction\\src\\bandit_agents.py:146: RuntimeWarning: divide by zero encountered in log\n",
      "  U = self.c * np.sqrt( np.log(np.sum(self.action_counter)) / self.action_counter  )\n",
      "C:\\Users\\admin\\gits\\scratchbook\\CausalAbstraction\\src\\bandit_agents.py:146: RuntimeWarning: invalid value encountered in sqrt\n",
      "  U = self.c * np.sqrt( np.log(np.sum(self.action_counter)) / self.action_counter  )\n",
      "C:\\Users\\admin\\gits\\scratchbook\\CausalAbstraction\\src\\bandit_agents.py:146: RuntimeWarning: invalid value encountered in divide\n",
      "  U = self.c * np.sqrt( np.log(np.sum(self.action_counter)) / self.action_counter  )\n",
      "C:\\Users\\admin\\gits\\scratchbook\\CausalAbstraction\\src\\bandit_agents.py:146: RuntimeWarning: divide by zero encountered in divide\n",
      "  U = self.c * np.sqrt( np.log(np.sum(self.action_counter)) / self.action_counter  )\n",
      "C:\\Users\\admin\\gits\\scratchbook\\CausalAbstraction\\src\\bandit_agents.py:146: RuntimeWarning: divide by zero encountered in divide\n",
      "  U = self.c * np.sqrt( np.log(np.sum(self.action_counter)) / self.action_counter  )\n",
      "  5%|████▉                                                                                              | 1/20 [01:16<24:04, 76.05s/it]C:\\Users\\admin\\gits\\scratchbook\\CausalAbstraction\\src\\bandit_agents.py:146: RuntimeWarning: divide by zero encountered in log\n",
      "  U = self.c * np.sqrt( np.log(np.sum(self.action_counter)) / self.action_counter  )\n",
      "C:\\Users\\admin\\gits\\scratchbook\\CausalAbstraction\\src\\bandit_agents.py:146: RuntimeWarning: invalid value encountered in sqrt\n",
      "  U = self.c * np.sqrt( np.log(np.sum(self.action_counter)) / self.action_counter  )\n",
      "C:\\Users\\admin\\gits\\scratchbook\\CausalAbstraction\\src\\bandit_agents.py:146: RuntimeWarning: invalid value encountered in divide\n",
      "  U = self.c * np.sqrt( np.log(np.sum(self.action_counter)) / self.action_counter  )\n",
      "C:\\Users\\admin\\gits\\scratchbook\\CausalAbstraction\\src\\bandit_agents.py:146: RuntimeWarning: divide by zero encountered in divide\n",
      "  U = self.c * np.sqrt( np.log(np.sum(self.action_counter)) / self.action_counter  )\n",
      "C:\\Users\\admin\\gits\\scratchbook\\CausalAbstraction\\src\\bandit_agents.py:146: RuntimeWarning: divide by zero encountered in divide\n",
      "  U = self.c * np.sqrt( np.log(np.sum(self.action_counter)) / self.action_counter  )\n",
      "C:\\Users\\admin\\gits\\scratchbook\\CausalAbstraction\\src\\bandit_agents.py:146: RuntimeWarning: divide by zero encountered in divide\n",
      "  U = self.c * np.sqrt( np.log(np.sum(self.action_counter)) / self.action_counter  )\n",
      "C:\\Users\\admin\\gits\\scratchbook\\CausalAbstraction\\src\\bandit_agents.py:146: RuntimeWarning: divide by zero encountered in divide\n",
      "  U = self.c * np.sqrt( np.log(np.sum(self.action_counter)) / self.action_counter  )\n",
      "C:\\Users\\admin\\gits\\scratchbook\\CausalAbstraction\\src\\bandit_agents.py:146: RuntimeWarning: divide by zero encountered in log\n",
      "  U = self.c * np.sqrt( np.log(np.sum(self.action_counter)) / self.action_counter  )\n",
      "C:\\Users\\admin\\gits\\scratchbook\\CausalAbstraction\\src\\bandit_agents.py:146: RuntimeWarning: invalid value encountered in sqrt\n",
      "  U = self.c * np.sqrt( np.log(np.sum(self.action_counter)) / self.action_counter  )\n",
      "C:\\Users\\admin\\gits\\scratchbook\\CausalAbstraction\\src\\bandit_agents.py:146: RuntimeWarning: invalid value encountered in divide\n",
      "  U = self.c * np.sqrt( np.log(np.sum(self.action_counter)) / self.action_counter  )\n",
      "C:\\Users\\admin\\gits\\scratchbook\\CausalAbstraction\\src\\bandit_agents.py:146: RuntimeWarning: divide by zero encountered in divide\n",
      "  U = self.c * np.sqrt( np.log(np.sum(self.action_counter)) / self.action_counter  )\n",
      "C:\\Users\\admin\\gits\\scratchbook\\CausalAbstraction\\src\\bandit_agents.py:146: RuntimeWarning: divide by zero encountered in divide\n",
      "  U = self.c * np.sqrt( np.log(np.sum(self.action_counter)) / self.action_counter  )\n",
      "C:\\Users\\admin\\gits\\scratchbook\\CausalAbstraction\\src\\bandit_agents.py:146: RuntimeWarning: divide by zero encountered in log\n",
      "  U = self.c * np.sqrt( np.log(np.sum(self.action_counter)) / self.action_counter  )\n",
      "C:\\Users\\admin\\gits\\scratchbook\\CausalAbstraction\\src\\bandit_agents.py:146: RuntimeWarning: invalid value encountered in sqrt\n",
      "  U = self.c * np.sqrt( np.log(np.sum(self.action_counter)) / self.action_counter  )\n",
      "C:\\Users\\admin\\gits\\scratchbook\\CausalAbstraction\\src\\bandit_agents.py:146: RuntimeWarning: invalid value encountered in divide\n",
      "  U = self.c * np.sqrt( np.log(np.sum(self.action_counter)) / self.action_counter  )\n",
      "C:\\Users\\admin\\gits\\scratchbook\\CausalAbstraction\\src\\bandit_agents.py:146: RuntimeWarning: divide by zero encountered in divide\n",
      "  U = self.c * np.sqrt( np.log(np.sum(self.action_counter)) / self.action_counter  )\n",
      "C:\\Users\\admin\\gits\\scratchbook\\CausalAbstraction\\src\\bandit_agents.py:146: RuntimeWarning: divide by zero encountered in divide\n",
      "  U = self.c * np.sqrt( np.log(np.sum(self.action_counter)) / self.action_counter  )\n",
      " 10%|█████████▉                                                                                         | 2/20 [02:34<23:12, 77.35s/it]C:\\Users\\admin\\gits\\scratchbook\\CausalAbstraction\\src\\bandit_agents.py:146: RuntimeWarning: divide by zero encountered in log\n",
      "  U = self.c * np.sqrt( np.log(np.sum(self.action_counter)) / self.action_counter  )\n",
      "C:\\Users\\admin\\gits\\scratchbook\\CausalAbstraction\\src\\bandit_agents.py:146: RuntimeWarning: invalid value encountered in sqrt\n",
      "  U = self.c * np.sqrt( np.log(np.sum(self.action_counter)) / self.action_counter  )\n",
      "C:\\Users\\admin\\gits\\scratchbook\\CausalAbstraction\\src\\bandit_agents.py:146: RuntimeWarning: invalid value encountered in divide\n",
      "  U = self.c * np.sqrt( np.log(np.sum(self.action_counter)) / self.action_counter  )\n",
      "C:\\Users\\admin\\gits\\scratchbook\\CausalAbstraction\\src\\bandit_agents.py:146: RuntimeWarning: divide by zero encountered in divide\n",
      "  U = self.c * np.sqrt( np.log(np.sum(self.action_counter)) / self.action_counter  )\n",
      "C:\\Users\\admin\\gits\\scratchbook\\CausalAbstraction\\src\\bandit_agents.py:146: RuntimeWarning: divide by zero encountered in divide\n",
      "  U = self.c * np.sqrt( np.log(np.sum(self.action_counter)) / self.action_counter  )\n",
      "C:\\Users\\admin\\gits\\scratchbook\\CausalAbstraction\\src\\bandit_agents.py:146: RuntimeWarning: divide by zero encountered in divide\n",
      "  U = self.c * np.sqrt( np.log(np.sum(self.action_counter)) / self.action_counter  )\n",
      "C:\\Users\\admin\\gits\\scratchbook\\CausalAbstraction\\src\\bandit_agents.py:146: RuntimeWarning: divide by zero encountered in divide\n",
      "  U = self.c * np.sqrt( np.log(np.sum(self.action_counter)) / self.action_counter  )\n"
     ]
    },
    {
     "name": "stderr",
     "output_type": "stream",
     "text": [
      "C:\\Users\\admin\\gits\\scratchbook\\CausalAbstraction\\src\\bandit_agents.py:146: RuntimeWarning: divide by zero encountered in log\n",
      "  U = self.c * np.sqrt( np.log(np.sum(self.action_counter)) / self.action_counter  )\n",
      "C:\\Users\\admin\\gits\\scratchbook\\CausalAbstraction\\src\\bandit_agents.py:146: RuntimeWarning: invalid value encountered in sqrt\n",
      "  U = self.c * np.sqrt( np.log(np.sum(self.action_counter)) / self.action_counter  )\n",
      "C:\\Users\\admin\\gits\\scratchbook\\CausalAbstraction\\src\\bandit_agents.py:146: RuntimeWarning: invalid value encountered in divide\n",
      "  U = self.c * np.sqrt( np.log(np.sum(self.action_counter)) / self.action_counter  )\n",
      "C:\\Users\\admin\\gits\\scratchbook\\CausalAbstraction\\src\\bandit_agents.py:146: RuntimeWarning: divide by zero encountered in divide\n",
      "  U = self.c * np.sqrt( np.log(np.sum(self.action_counter)) / self.action_counter  )\n",
      "C:\\Users\\admin\\gits\\scratchbook\\CausalAbstraction\\src\\bandit_agents.py:146: RuntimeWarning: divide by zero encountered in divide\n",
      "  U = self.c * np.sqrt( np.log(np.sum(self.action_counter)) / self.action_counter  )\n",
      "C:\\Users\\admin\\gits\\scratchbook\\CausalAbstraction\\src\\bandit_agents.py:146: RuntimeWarning: divide by zero encountered in log\n",
      "  U = self.c * np.sqrt( np.log(np.sum(self.action_counter)) / self.action_counter  )\n",
      "C:\\Users\\admin\\gits\\scratchbook\\CausalAbstraction\\src\\bandit_agents.py:146: RuntimeWarning: invalid value encountered in sqrt\n",
      "  U = self.c * np.sqrt( np.log(np.sum(self.action_counter)) / self.action_counter  )\n",
      "C:\\Users\\admin\\gits\\scratchbook\\CausalAbstraction\\src\\bandit_agents.py:146: RuntimeWarning: invalid value encountered in divide\n",
      "  U = self.c * np.sqrt( np.log(np.sum(self.action_counter)) / self.action_counter  )\n",
      "C:\\Users\\admin\\gits\\scratchbook\\CausalAbstraction\\src\\bandit_agents.py:146: RuntimeWarning: divide by zero encountered in divide\n",
      "  U = self.c * np.sqrt( np.log(np.sum(self.action_counter)) / self.action_counter  )\n",
      "C:\\Users\\admin\\gits\\scratchbook\\CausalAbstraction\\src\\bandit_agents.py:146: RuntimeWarning: divide by zero encountered in divide\n",
      "  U = self.c * np.sqrt( np.log(np.sum(self.action_counter)) / self.action_counter  )\n",
      " 15%|██████████████▊                                                                                    | 3/20 [03:49<21:35, 76.23s/it]C:\\Users\\admin\\gits\\scratchbook\\CausalAbstraction\\src\\bandit_agents.py:146: RuntimeWarning: divide by zero encountered in log\n",
      "  U = self.c * np.sqrt( np.log(np.sum(self.action_counter)) / self.action_counter  )\n",
      "C:\\Users\\admin\\gits\\scratchbook\\CausalAbstraction\\src\\bandit_agents.py:146: RuntimeWarning: invalid value encountered in sqrt\n",
      "  U = self.c * np.sqrt( np.log(np.sum(self.action_counter)) / self.action_counter  )\n",
      "C:\\Users\\admin\\gits\\scratchbook\\CausalAbstraction\\src\\bandit_agents.py:146: RuntimeWarning: invalid value encountered in divide\n",
      "  U = self.c * np.sqrt( np.log(np.sum(self.action_counter)) / self.action_counter  )\n",
      "C:\\Users\\admin\\gits\\scratchbook\\CausalAbstraction\\src\\bandit_agents.py:146: RuntimeWarning: divide by zero encountered in divide\n",
      "  U = self.c * np.sqrt( np.log(np.sum(self.action_counter)) / self.action_counter  )\n",
      "C:\\Users\\admin\\gits\\scratchbook\\CausalAbstraction\\src\\bandit_agents.py:146: RuntimeWarning: divide by zero encountered in divide\n",
      "  U = self.c * np.sqrt( np.log(np.sum(self.action_counter)) / self.action_counter  )\n",
      "C:\\Users\\admin\\gits\\scratchbook\\CausalAbstraction\\src\\bandit_agents.py:146: RuntimeWarning: divide by zero encountered in divide\n",
      "  U = self.c * np.sqrt( np.log(np.sum(self.action_counter)) / self.action_counter  )\n",
      "C:\\Users\\admin\\gits\\scratchbook\\CausalAbstraction\\src\\bandit_agents.py:146: RuntimeWarning: divide by zero encountered in divide\n",
      "  U = self.c * np.sqrt( np.log(np.sum(self.action_counter)) / self.action_counter  )\n",
      "C:\\Users\\admin\\gits\\scratchbook\\CausalAbstraction\\src\\bandit_agents.py:146: RuntimeWarning: divide by zero encountered in log\n",
      "  U = self.c * np.sqrt( np.log(np.sum(self.action_counter)) / self.action_counter  )\n",
      "C:\\Users\\admin\\gits\\scratchbook\\CausalAbstraction\\src\\bandit_agents.py:146: RuntimeWarning: invalid value encountered in sqrt\n",
      "  U = self.c * np.sqrt( np.log(np.sum(self.action_counter)) / self.action_counter  )\n",
      "C:\\Users\\admin\\gits\\scratchbook\\CausalAbstraction\\src\\bandit_agents.py:146: RuntimeWarning: invalid value encountered in divide\n",
      "  U = self.c * np.sqrt( np.log(np.sum(self.action_counter)) / self.action_counter  )\n",
      "C:\\Users\\admin\\gits\\scratchbook\\CausalAbstraction\\src\\bandit_agents.py:146: RuntimeWarning: divide by zero encountered in divide\n",
      "  U = self.c * np.sqrt( np.log(np.sum(self.action_counter)) / self.action_counter  )\n",
      "C:\\Users\\admin\\gits\\scratchbook\\CausalAbstraction\\src\\bandit_agents.py:146: RuntimeWarning: divide by zero encountered in divide\n",
      "  U = self.c * np.sqrt( np.log(np.sum(self.action_counter)) / self.action_counter  )\n",
      "C:\\Users\\admin\\gits\\scratchbook\\CausalAbstraction\\src\\bandit_agents.py:146: RuntimeWarning: divide by zero encountered in log\n",
      "  U = self.c * np.sqrt( np.log(np.sum(self.action_counter)) / self.action_counter  )\n",
      "C:\\Users\\admin\\gits\\scratchbook\\CausalAbstraction\\src\\bandit_agents.py:146: RuntimeWarning: invalid value encountered in sqrt\n",
      "  U = self.c * np.sqrt( np.log(np.sum(self.action_counter)) / self.action_counter  )\n",
      "C:\\Users\\admin\\gits\\scratchbook\\CausalAbstraction\\src\\bandit_agents.py:146: RuntimeWarning: invalid value encountered in divide\n",
      "  U = self.c * np.sqrt( np.log(np.sum(self.action_counter)) / self.action_counter  )\n",
      "C:\\Users\\admin\\gits\\scratchbook\\CausalAbstraction\\src\\bandit_agents.py:146: RuntimeWarning: divide by zero encountered in divide\n",
      "  U = self.c * np.sqrt( np.log(np.sum(self.action_counter)) / self.action_counter  )\n",
      "C:\\Users\\admin\\gits\\scratchbook\\CausalAbstraction\\src\\bandit_agents.py:146: RuntimeWarning: divide by zero encountered in divide\n",
      "  U = self.c * np.sqrt( np.log(np.sum(self.action_counter)) / self.action_counter  )\n",
      " 20%|███████████████████▊                                                                               | 4/20 [05:03<20:06, 75.43s/it]C:\\Users\\admin\\gits\\scratchbook\\CausalAbstraction\\src\\bandit_agents.py:146: RuntimeWarning: divide by zero encountered in log\n",
      "  U = self.c * np.sqrt( np.log(np.sum(self.action_counter)) / self.action_counter  )\n",
      "C:\\Users\\admin\\gits\\scratchbook\\CausalAbstraction\\src\\bandit_agents.py:146: RuntimeWarning: invalid value encountered in sqrt\n",
      "  U = self.c * np.sqrt( np.log(np.sum(self.action_counter)) / self.action_counter  )\n",
      "C:\\Users\\admin\\gits\\scratchbook\\CausalAbstraction\\src\\bandit_agents.py:146: RuntimeWarning: invalid value encountered in divide\n",
      "  U = self.c * np.sqrt( np.log(np.sum(self.action_counter)) / self.action_counter  )\n",
      "C:\\Users\\admin\\gits\\scratchbook\\CausalAbstraction\\src\\bandit_agents.py:146: RuntimeWarning: divide by zero encountered in divide\n",
      "  U = self.c * np.sqrt( np.log(np.sum(self.action_counter)) / self.action_counter  )\n",
      "C:\\Users\\admin\\gits\\scratchbook\\CausalAbstraction\\src\\bandit_agents.py:146: RuntimeWarning: divide by zero encountered in divide\n",
      "  U = self.c * np.sqrt( np.log(np.sum(self.action_counter)) / self.action_counter  )\n",
      "C:\\Users\\admin\\gits\\scratchbook\\CausalAbstraction\\src\\bandit_agents.py:146: RuntimeWarning: divide by zero encountered in divide\n",
      "  U = self.c * np.sqrt( np.log(np.sum(self.action_counter)) / self.action_counter  )\n",
      "C:\\Users\\admin\\gits\\scratchbook\\CausalAbstraction\\src\\bandit_agents.py:146: RuntimeWarning: divide by zero encountered in divide\n",
      "  U = self.c * np.sqrt( np.log(np.sum(self.action_counter)) / self.action_counter  )\n",
      "C:\\Users\\admin\\gits\\scratchbook\\CausalAbstraction\\src\\bandit_agents.py:146: RuntimeWarning: divide by zero encountered in log\n",
      "  U = self.c * np.sqrt( np.log(np.sum(self.action_counter)) / self.action_counter  )\n",
      "C:\\Users\\admin\\gits\\scratchbook\\CausalAbstraction\\src\\bandit_agents.py:146: RuntimeWarning: invalid value encountered in sqrt\n",
      "  U = self.c * np.sqrt( np.log(np.sum(self.action_counter)) / self.action_counter  )\n",
      "C:\\Users\\admin\\gits\\scratchbook\\CausalAbstraction\\src\\bandit_agents.py:146: RuntimeWarning: invalid value encountered in divide\n",
      "  U = self.c * np.sqrt( np.log(np.sum(self.action_counter)) / self.action_counter  )\n",
      "C:\\Users\\admin\\gits\\scratchbook\\CausalAbstraction\\src\\bandit_agents.py:146: RuntimeWarning: divide by zero encountered in divide\n",
      "  U = self.c * np.sqrt( np.log(np.sum(self.action_counter)) / self.action_counter  )\n",
      "C:\\Users\\admin\\gits\\scratchbook\\CausalAbstraction\\src\\bandit_agents.py:146: RuntimeWarning: divide by zero encountered in divide\n",
      "  U = self.c * np.sqrt( np.log(np.sum(self.action_counter)) / self.action_counter  )\n"
     ]
    },
    {
     "name": "stderr",
     "output_type": "stream",
     "text": [
      "C:\\Users\\admin\\gits\\scratchbook\\CausalAbstraction\\src\\bandit_agents.py:146: RuntimeWarning: divide by zero encountered in log\n",
      "  U = self.c * np.sqrt( np.log(np.sum(self.action_counter)) / self.action_counter  )\n",
      "C:\\Users\\admin\\gits\\scratchbook\\CausalAbstraction\\src\\bandit_agents.py:146: RuntimeWarning: invalid value encountered in sqrt\n",
      "  U = self.c * np.sqrt( np.log(np.sum(self.action_counter)) / self.action_counter  )\n",
      "C:\\Users\\admin\\gits\\scratchbook\\CausalAbstraction\\src\\bandit_agents.py:146: RuntimeWarning: invalid value encountered in divide\n",
      "  U = self.c * np.sqrt( np.log(np.sum(self.action_counter)) / self.action_counter  )\n",
      "C:\\Users\\admin\\gits\\scratchbook\\CausalAbstraction\\src\\bandit_agents.py:146: RuntimeWarning: divide by zero encountered in divide\n",
      "  U = self.c * np.sqrt( np.log(np.sum(self.action_counter)) / self.action_counter  )\n",
      "C:\\Users\\admin\\gits\\scratchbook\\CausalAbstraction\\src\\bandit_agents.py:146: RuntimeWarning: divide by zero encountered in divide\n",
      "  U = self.c * np.sqrt( np.log(np.sum(self.action_counter)) / self.action_counter  )\n",
      " 25%|████████████████████████▊                                                                          | 5/20 [06:19<18:57, 75.84s/it]C:\\Users\\admin\\gits\\scratchbook\\CausalAbstraction\\src\\bandit_agents.py:146: RuntimeWarning: divide by zero encountered in log\n",
      "  U = self.c * np.sqrt( np.log(np.sum(self.action_counter)) / self.action_counter  )\n",
      "C:\\Users\\admin\\gits\\scratchbook\\CausalAbstraction\\src\\bandit_agents.py:146: RuntimeWarning: invalid value encountered in sqrt\n",
      "  U = self.c * np.sqrt( np.log(np.sum(self.action_counter)) / self.action_counter  )\n",
      "C:\\Users\\admin\\gits\\scratchbook\\CausalAbstraction\\src\\bandit_agents.py:146: RuntimeWarning: invalid value encountered in divide\n",
      "  U = self.c * np.sqrt( np.log(np.sum(self.action_counter)) / self.action_counter  )\n",
      "C:\\Users\\admin\\gits\\scratchbook\\CausalAbstraction\\src\\bandit_agents.py:146: RuntimeWarning: divide by zero encountered in divide\n",
      "  U = self.c * np.sqrt( np.log(np.sum(self.action_counter)) / self.action_counter  )\n",
      "C:\\Users\\admin\\gits\\scratchbook\\CausalAbstraction\\src\\bandit_agents.py:146: RuntimeWarning: divide by zero encountered in divide\n",
      "  U = self.c * np.sqrt( np.log(np.sum(self.action_counter)) / self.action_counter  )\n",
      "C:\\Users\\admin\\gits\\scratchbook\\CausalAbstraction\\src\\bandit_agents.py:146: RuntimeWarning: divide by zero encountered in divide\n",
      "  U = self.c * np.sqrt( np.log(np.sum(self.action_counter)) / self.action_counter  )\n",
      "C:\\Users\\admin\\gits\\scratchbook\\CausalAbstraction\\src\\bandit_agents.py:146: RuntimeWarning: divide by zero encountered in divide\n",
      "  U = self.c * np.sqrt( np.log(np.sum(self.action_counter)) / self.action_counter  )\n",
      "C:\\Users\\admin\\gits\\scratchbook\\CausalAbstraction\\src\\bandit_agents.py:146: RuntimeWarning: divide by zero encountered in log\n",
      "  U = self.c * np.sqrt( np.log(np.sum(self.action_counter)) / self.action_counter  )\n",
      "C:\\Users\\admin\\gits\\scratchbook\\CausalAbstraction\\src\\bandit_agents.py:146: RuntimeWarning: invalid value encountered in sqrt\n",
      "  U = self.c * np.sqrt( np.log(np.sum(self.action_counter)) / self.action_counter  )\n",
      "C:\\Users\\admin\\gits\\scratchbook\\CausalAbstraction\\src\\bandit_agents.py:146: RuntimeWarning: invalid value encountered in divide\n",
      "  U = self.c * np.sqrt( np.log(np.sum(self.action_counter)) / self.action_counter  )\n",
      "C:\\Users\\admin\\gits\\scratchbook\\CausalAbstraction\\src\\bandit_agents.py:146: RuntimeWarning: divide by zero encountered in divide\n",
      "  U = self.c * np.sqrt( np.log(np.sum(self.action_counter)) / self.action_counter  )\n",
      "C:\\Users\\admin\\gits\\scratchbook\\CausalAbstraction\\src\\bandit_agents.py:146: RuntimeWarning: divide by zero encountered in divide\n",
      "  U = self.c * np.sqrt( np.log(np.sum(self.action_counter)) / self.action_counter  )\n",
      "C:\\Users\\admin\\gits\\scratchbook\\CausalAbstraction\\src\\bandit_agents.py:146: RuntimeWarning: divide by zero encountered in log\n",
      "  U = self.c * np.sqrt( np.log(np.sum(self.action_counter)) / self.action_counter  )\n",
      "C:\\Users\\admin\\gits\\scratchbook\\CausalAbstraction\\src\\bandit_agents.py:146: RuntimeWarning: invalid value encountered in sqrt\n",
      "  U = self.c * np.sqrt( np.log(np.sum(self.action_counter)) / self.action_counter  )\n",
      "C:\\Users\\admin\\gits\\scratchbook\\CausalAbstraction\\src\\bandit_agents.py:146: RuntimeWarning: invalid value encountered in divide\n",
      "  U = self.c * np.sqrt( np.log(np.sum(self.action_counter)) / self.action_counter  )\n",
      "C:\\Users\\admin\\gits\\scratchbook\\CausalAbstraction\\src\\bandit_agents.py:146: RuntimeWarning: divide by zero encountered in divide\n",
      "  U = self.c * np.sqrt( np.log(np.sum(self.action_counter)) / self.action_counter  )\n",
      "C:\\Users\\admin\\gits\\scratchbook\\CausalAbstraction\\src\\bandit_agents.py:146: RuntimeWarning: divide by zero encountered in divide\n",
      "  U = self.c * np.sqrt( np.log(np.sum(self.action_counter)) / self.action_counter  )\n",
      " 30%|█████████████████████████████▋                                                                     | 6/20 [07:34<17:33, 75.23s/it]C:\\Users\\admin\\gits\\scratchbook\\CausalAbstraction\\src\\bandit_agents.py:146: RuntimeWarning: divide by zero encountered in log\n",
      "  U = self.c * np.sqrt( np.log(np.sum(self.action_counter)) / self.action_counter  )\n",
      "C:\\Users\\admin\\gits\\scratchbook\\CausalAbstraction\\src\\bandit_agents.py:146: RuntimeWarning: invalid value encountered in sqrt\n",
      "  U = self.c * np.sqrt( np.log(np.sum(self.action_counter)) / self.action_counter  )\n",
      "C:\\Users\\admin\\gits\\scratchbook\\CausalAbstraction\\src\\bandit_agents.py:146: RuntimeWarning: invalid value encountered in divide\n",
      "  U = self.c * np.sqrt( np.log(np.sum(self.action_counter)) / self.action_counter  )\n",
      "C:\\Users\\admin\\gits\\scratchbook\\CausalAbstraction\\src\\bandit_agents.py:146: RuntimeWarning: divide by zero encountered in divide\n",
      "  U = self.c * np.sqrt( np.log(np.sum(self.action_counter)) / self.action_counter  )\n",
      "C:\\Users\\admin\\gits\\scratchbook\\CausalAbstraction\\src\\bandit_agents.py:146: RuntimeWarning: divide by zero encountered in divide\n",
      "  U = self.c * np.sqrt( np.log(np.sum(self.action_counter)) / self.action_counter  )\n",
      "C:\\Users\\admin\\gits\\scratchbook\\CausalAbstraction\\src\\bandit_agents.py:146: RuntimeWarning: divide by zero encountered in divide\n",
      "  U = self.c * np.sqrt( np.log(np.sum(self.action_counter)) / self.action_counter  )\n",
      "C:\\Users\\admin\\gits\\scratchbook\\CausalAbstraction\\src\\bandit_agents.py:146: RuntimeWarning: divide by zero encountered in divide\n",
      "  U = self.c * np.sqrt( np.log(np.sum(self.action_counter)) / self.action_counter  )\n",
      "C:\\Users\\admin\\gits\\scratchbook\\CausalAbstraction\\src\\bandit_agents.py:146: RuntimeWarning: divide by zero encountered in log\n",
      "  U = self.c * np.sqrt( np.log(np.sum(self.action_counter)) / self.action_counter  )\n",
      "C:\\Users\\admin\\gits\\scratchbook\\CausalAbstraction\\src\\bandit_agents.py:146: RuntimeWarning: invalid value encountered in sqrt\n",
      "  U = self.c * np.sqrt( np.log(np.sum(self.action_counter)) / self.action_counter  )\n",
      "C:\\Users\\admin\\gits\\scratchbook\\CausalAbstraction\\src\\bandit_agents.py:146: RuntimeWarning: invalid value encountered in divide\n",
      "  U = self.c * np.sqrt( np.log(np.sum(self.action_counter)) / self.action_counter  )\n",
      "C:\\Users\\admin\\gits\\scratchbook\\CausalAbstraction\\src\\bandit_agents.py:146: RuntimeWarning: divide by zero encountered in divide\n",
      "  U = self.c * np.sqrt( np.log(np.sum(self.action_counter)) / self.action_counter  )\n",
      "C:\\Users\\admin\\gits\\scratchbook\\CausalAbstraction\\src\\bandit_agents.py:146: RuntimeWarning: divide by zero encountered in divide\n",
      "  U = self.c * np.sqrt( np.log(np.sum(self.action_counter)) / self.action_counter  )\n",
      "C:\\Users\\admin\\gits\\scratchbook\\CausalAbstraction\\src\\bandit_agents.py:146: RuntimeWarning: divide by zero encountered in log\n",
      "  U = self.c * np.sqrt( np.log(np.sum(self.action_counter)) / self.action_counter  )\n",
      "C:\\Users\\admin\\gits\\scratchbook\\CausalAbstraction\\src\\bandit_agents.py:146: RuntimeWarning: invalid value encountered in sqrt\n",
      "  U = self.c * np.sqrt( np.log(np.sum(self.action_counter)) / self.action_counter  )\n",
      "C:\\Users\\admin\\gits\\scratchbook\\CausalAbstraction\\src\\bandit_agents.py:146: RuntimeWarning: invalid value encountered in divide\n",
      "  U = self.c * np.sqrt( np.log(np.sum(self.action_counter)) / self.action_counter  )\n",
      "C:\\Users\\admin\\gits\\scratchbook\\CausalAbstraction\\src\\bandit_agents.py:146: RuntimeWarning: divide by zero encountered in divide\n",
      "  U = self.c * np.sqrt( np.log(np.sum(self.action_counter)) / self.action_counter  )\n",
      "C:\\Users\\admin\\gits\\scratchbook\\CausalAbstraction\\src\\bandit_agents.py:146: RuntimeWarning: divide by zero encountered in divide\n",
      "  U = self.c * np.sqrt( np.log(np.sum(self.action_counter)) / self.action_counter  )\n"
     ]
    },
    {
     "name": "stderr",
     "output_type": "stream",
     "text": [
      " 35%|██████████████████████████████████▋                                                                | 7/20 [08:48<16:15, 75.07s/it]C:\\Users\\admin\\gits\\scratchbook\\CausalAbstraction\\src\\bandit_agents.py:146: RuntimeWarning: divide by zero encountered in log\n",
      "  U = self.c * np.sqrt( np.log(np.sum(self.action_counter)) / self.action_counter  )\n",
      "C:\\Users\\admin\\gits\\scratchbook\\CausalAbstraction\\src\\bandit_agents.py:146: RuntimeWarning: invalid value encountered in sqrt\n",
      "  U = self.c * np.sqrt( np.log(np.sum(self.action_counter)) / self.action_counter  )\n",
      "C:\\Users\\admin\\gits\\scratchbook\\CausalAbstraction\\src\\bandit_agents.py:146: RuntimeWarning: invalid value encountered in divide\n",
      "  U = self.c * np.sqrt( np.log(np.sum(self.action_counter)) / self.action_counter  )\n",
      "C:\\Users\\admin\\gits\\scratchbook\\CausalAbstraction\\src\\bandit_agents.py:146: RuntimeWarning: divide by zero encountered in divide\n",
      "  U = self.c * np.sqrt( np.log(np.sum(self.action_counter)) / self.action_counter  )\n",
      "C:\\Users\\admin\\gits\\scratchbook\\CausalAbstraction\\src\\bandit_agents.py:146: RuntimeWarning: divide by zero encountered in divide\n",
      "  U = self.c * np.sqrt( np.log(np.sum(self.action_counter)) / self.action_counter  )\n",
      "C:\\Users\\admin\\gits\\scratchbook\\CausalAbstraction\\src\\bandit_agents.py:146: RuntimeWarning: divide by zero encountered in divide\n",
      "  U = self.c * np.sqrt( np.log(np.sum(self.action_counter)) / self.action_counter  )\n",
      "C:\\Users\\admin\\gits\\scratchbook\\CausalAbstraction\\src\\bandit_agents.py:146: RuntimeWarning: divide by zero encountered in divide\n",
      "  U = self.c * np.sqrt( np.log(np.sum(self.action_counter)) / self.action_counter  )\n",
      "C:\\Users\\admin\\gits\\scratchbook\\CausalAbstraction\\src\\bandit_agents.py:146: RuntimeWarning: divide by zero encountered in log\n",
      "  U = self.c * np.sqrt( np.log(np.sum(self.action_counter)) / self.action_counter  )\n",
      "C:\\Users\\admin\\gits\\scratchbook\\CausalAbstraction\\src\\bandit_agents.py:146: RuntimeWarning: invalid value encountered in sqrt\n",
      "  U = self.c * np.sqrt( np.log(np.sum(self.action_counter)) / self.action_counter  )\n",
      "C:\\Users\\admin\\gits\\scratchbook\\CausalAbstraction\\src\\bandit_agents.py:146: RuntimeWarning: invalid value encountered in divide\n",
      "  U = self.c * np.sqrt( np.log(np.sum(self.action_counter)) / self.action_counter  )\n",
      "C:\\Users\\admin\\gits\\scratchbook\\CausalAbstraction\\src\\bandit_agents.py:146: RuntimeWarning: divide by zero encountered in divide\n",
      "  U = self.c * np.sqrt( np.log(np.sum(self.action_counter)) / self.action_counter  )\n",
      "C:\\Users\\admin\\gits\\scratchbook\\CausalAbstraction\\src\\bandit_agents.py:146: RuntimeWarning: divide by zero encountered in divide\n",
      "  U = self.c * np.sqrt( np.log(np.sum(self.action_counter)) / self.action_counter  )\n",
      "C:\\Users\\admin\\gits\\scratchbook\\CausalAbstraction\\src\\bandit_agents.py:146: RuntimeWarning: divide by zero encountered in log\n",
      "  U = self.c * np.sqrt( np.log(np.sum(self.action_counter)) / self.action_counter  )\n",
      "C:\\Users\\admin\\gits\\scratchbook\\CausalAbstraction\\src\\bandit_agents.py:146: RuntimeWarning: invalid value encountered in sqrt\n",
      "  U = self.c * np.sqrt( np.log(np.sum(self.action_counter)) / self.action_counter  )\n",
      "C:\\Users\\admin\\gits\\scratchbook\\CausalAbstraction\\src\\bandit_agents.py:146: RuntimeWarning: invalid value encountered in divide\n",
      "  U = self.c * np.sqrt( np.log(np.sum(self.action_counter)) / self.action_counter  )\n",
      "C:\\Users\\admin\\gits\\scratchbook\\CausalAbstraction\\src\\bandit_agents.py:146: RuntimeWarning: divide by zero encountered in divide\n",
      "  U = self.c * np.sqrt( np.log(np.sum(self.action_counter)) / self.action_counter  )\n",
      "C:\\Users\\admin\\gits\\scratchbook\\CausalAbstraction\\src\\bandit_agents.py:146: RuntimeWarning: divide by zero encountered in divide\n",
      "  U = self.c * np.sqrt( np.log(np.sum(self.action_counter)) / self.action_counter  )\n",
      " 40%|███████████████████████████████████████▌                                                           | 8/20 [10:04<15:02, 75.21s/it]C:\\Users\\admin\\gits\\scratchbook\\CausalAbstraction\\src\\bandit_agents.py:146: RuntimeWarning: divide by zero encountered in log\n",
      "  U = self.c * np.sqrt( np.log(np.sum(self.action_counter)) / self.action_counter  )\n",
      "C:\\Users\\admin\\gits\\scratchbook\\CausalAbstraction\\src\\bandit_agents.py:146: RuntimeWarning: invalid value encountered in sqrt\n",
      "  U = self.c * np.sqrt( np.log(np.sum(self.action_counter)) / self.action_counter  )\n",
      "C:\\Users\\admin\\gits\\scratchbook\\CausalAbstraction\\src\\bandit_agents.py:146: RuntimeWarning: invalid value encountered in divide\n",
      "  U = self.c * np.sqrt( np.log(np.sum(self.action_counter)) / self.action_counter  )\n",
      "C:\\Users\\admin\\gits\\scratchbook\\CausalAbstraction\\src\\bandit_agents.py:146: RuntimeWarning: divide by zero encountered in divide\n",
      "  U = self.c * np.sqrt( np.log(np.sum(self.action_counter)) / self.action_counter  )\n",
      "C:\\Users\\admin\\gits\\scratchbook\\CausalAbstraction\\src\\bandit_agents.py:146: RuntimeWarning: divide by zero encountered in divide\n",
      "  U = self.c * np.sqrt( np.log(np.sum(self.action_counter)) / self.action_counter  )\n",
      "C:\\Users\\admin\\gits\\scratchbook\\CausalAbstraction\\src\\bandit_agents.py:146: RuntimeWarning: divide by zero encountered in divide\n",
      "  U = self.c * np.sqrt( np.log(np.sum(self.action_counter)) / self.action_counter  )\n",
      "C:\\Users\\admin\\gits\\scratchbook\\CausalAbstraction\\src\\bandit_agents.py:146: RuntimeWarning: divide by zero encountered in divide\n",
      "  U = self.c * np.sqrt( np.log(np.sum(self.action_counter)) / self.action_counter  )\n",
      "C:\\Users\\admin\\gits\\scratchbook\\CausalAbstraction\\src\\bandit_agents.py:146: RuntimeWarning: divide by zero encountered in log\n",
      "  U = self.c * np.sqrt( np.log(np.sum(self.action_counter)) / self.action_counter  )\n",
      "C:\\Users\\admin\\gits\\scratchbook\\CausalAbstraction\\src\\bandit_agents.py:146: RuntimeWarning: invalid value encountered in sqrt\n",
      "  U = self.c * np.sqrt( np.log(np.sum(self.action_counter)) / self.action_counter  )\n",
      "C:\\Users\\admin\\gits\\scratchbook\\CausalAbstraction\\src\\bandit_agents.py:146: RuntimeWarning: invalid value encountered in divide\n",
      "  U = self.c * np.sqrt( np.log(np.sum(self.action_counter)) / self.action_counter  )\n",
      "C:\\Users\\admin\\gits\\scratchbook\\CausalAbstraction\\src\\bandit_agents.py:146: RuntimeWarning: divide by zero encountered in divide\n",
      "  U = self.c * np.sqrt( np.log(np.sum(self.action_counter)) / self.action_counter  )\n",
      "C:\\Users\\admin\\gits\\scratchbook\\CausalAbstraction\\src\\bandit_agents.py:146: RuntimeWarning: divide by zero encountered in divide\n",
      "  U = self.c * np.sqrt( np.log(np.sum(self.action_counter)) / self.action_counter  )\n",
      "C:\\Users\\admin\\gits\\scratchbook\\CausalAbstraction\\src\\bandit_agents.py:146: RuntimeWarning: divide by zero encountered in log\n",
      "  U = self.c * np.sqrt( np.log(np.sum(self.action_counter)) / self.action_counter  )\n",
      "C:\\Users\\admin\\gits\\scratchbook\\CausalAbstraction\\src\\bandit_agents.py:146: RuntimeWarning: invalid value encountered in sqrt\n",
      "  U = self.c * np.sqrt( np.log(np.sum(self.action_counter)) / self.action_counter  )\n",
      "C:\\Users\\admin\\gits\\scratchbook\\CausalAbstraction\\src\\bandit_agents.py:146: RuntimeWarning: invalid value encountered in divide\n",
      "  U = self.c * np.sqrt( np.log(np.sum(self.action_counter)) / self.action_counter  )\n",
      "C:\\Users\\admin\\gits\\scratchbook\\CausalAbstraction\\src\\bandit_agents.py:146: RuntimeWarning: divide by zero encountered in divide\n",
      "  U = self.c * np.sqrt( np.log(np.sum(self.action_counter)) / self.action_counter  )\n",
      "C:\\Users\\admin\\gits\\scratchbook\\CausalAbstraction\\src\\bandit_agents.py:146: RuntimeWarning: divide by zero encountered in divide\n",
      "  U = self.c * np.sqrt( np.log(np.sum(self.action_counter)) / self.action_counter  )\n",
      " 45%|████████████████████████████████████████████▌                                                      | 9/20 [11:19<13:47, 75.23s/it]C:\\Users\\admin\\gits\\scratchbook\\CausalAbstraction\\src\\bandit_agents.py:146: RuntimeWarning: divide by zero encountered in log\n",
      "  U = self.c * np.sqrt( np.log(np.sum(self.action_counter)) / self.action_counter  )\n",
      "C:\\Users\\admin\\gits\\scratchbook\\CausalAbstraction\\src\\bandit_agents.py:146: RuntimeWarning: invalid value encountered in sqrt\n",
      "  U = self.c * np.sqrt( np.log(np.sum(self.action_counter)) / self.action_counter  )\n",
      "C:\\Users\\admin\\gits\\scratchbook\\CausalAbstraction\\src\\bandit_agents.py:146: RuntimeWarning: invalid value encountered in divide\n",
      "  U = self.c * np.sqrt( np.log(np.sum(self.action_counter)) / self.action_counter  )\n",
      "C:\\Users\\admin\\gits\\scratchbook\\CausalAbstraction\\src\\bandit_agents.py:146: RuntimeWarning: divide by zero encountered in divide\n",
      "  U = self.c * np.sqrt( np.log(np.sum(self.action_counter)) / self.action_counter  )\n",
      "C:\\Users\\admin\\gits\\scratchbook\\CausalAbstraction\\src\\bandit_agents.py:146: RuntimeWarning: divide by zero encountered in divide\n",
      "  U = self.c * np.sqrt( np.log(np.sum(self.action_counter)) / self.action_counter  )\n",
      "C:\\Users\\admin\\gits\\scratchbook\\CausalAbstraction\\src\\bandit_agents.py:146: RuntimeWarning: divide by zero encountered in divide\n",
      "  U = self.c * np.sqrt( np.log(np.sum(self.action_counter)) / self.action_counter  )\n",
      "C:\\Users\\admin\\gits\\scratchbook\\CausalAbstraction\\src\\bandit_agents.py:146: RuntimeWarning: divide by zero encountered in divide\n",
      "  U = self.c * np.sqrt( np.log(np.sum(self.action_counter)) / self.action_counter  )\n"
     ]
    },
    {
     "name": "stderr",
     "output_type": "stream",
     "text": [
      "C:\\Users\\admin\\gits\\scratchbook\\CausalAbstraction\\src\\bandit_agents.py:146: RuntimeWarning: divide by zero encountered in log\n",
      "  U = self.c * np.sqrt( np.log(np.sum(self.action_counter)) / self.action_counter  )\n",
      "C:\\Users\\admin\\gits\\scratchbook\\CausalAbstraction\\src\\bandit_agents.py:146: RuntimeWarning: invalid value encountered in sqrt\n",
      "  U = self.c * np.sqrt( np.log(np.sum(self.action_counter)) / self.action_counter  )\n",
      "C:\\Users\\admin\\gits\\scratchbook\\CausalAbstraction\\src\\bandit_agents.py:146: RuntimeWarning: invalid value encountered in divide\n",
      "  U = self.c * np.sqrt( np.log(np.sum(self.action_counter)) / self.action_counter  )\n",
      "C:\\Users\\admin\\gits\\scratchbook\\CausalAbstraction\\src\\bandit_agents.py:146: RuntimeWarning: divide by zero encountered in divide\n",
      "  U = self.c * np.sqrt( np.log(np.sum(self.action_counter)) / self.action_counter  )\n",
      "C:\\Users\\admin\\gits\\scratchbook\\CausalAbstraction\\src\\bandit_agents.py:146: RuntimeWarning: divide by zero encountered in divide\n",
      "  U = self.c * np.sqrt( np.log(np.sum(self.action_counter)) / self.action_counter  )\n",
      "C:\\Users\\admin\\gits\\scratchbook\\CausalAbstraction\\src\\bandit_agents.py:146: RuntimeWarning: divide by zero encountered in log\n",
      "  U = self.c * np.sqrt( np.log(np.sum(self.action_counter)) / self.action_counter  )\n",
      "C:\\Users\\admin\\gits\\scratchbook\\CausalAbstraction\\src\\bandit_agents.py:146: RuntimeWarning: invalid value encountered in sqrt\n",
      "  U = self.c * np.sqrt( np.log(np.sum(self.action_counter)) / self.action_counter  )\n",
      "C:\\Users\\admin\\gits\\scratchbook\\CausalAbstraction\\src\\bandit_agents.py:146: RuntimeWarning: invalid value encountered in divide\n",
      "  U = self.c * np.sqrt( np.log(np.sum(self.action_counter)) / self.action_counter  )\n",
      "C:\\Users\\admin\\gits\\scratchbook\\CausalAbstraction\\src\\bandit_agents.py:146: RuntimeWarning: divide by zero encountered in divide\n",
      "  U = self.c * np.sqrt( np.log(np.sum(self.action_counter)) / self.action_counter  )\n",
      "C:\\Users\\admin\\gits\\scratchbook\\CausalAbstraction\\src\\bandit_agents.py:146: RuntimeWarning: divide by zero encountered in divide\n",
      "  U = self.c * np.sqrt( np.log(np.sum(self.action_counter)) / self.action_counter  )\n",
      " 50%|█████████████████████████████████████████████████                                                 | 10/20 [12:35<12:35, 75.57s/it]C:\\Users\\admin\\gits\\scratchbook\\CausalAbstraction\\src\\bandit_agents.py:146: RuntimeWarning: divide by zero encountered in log\n",
      "  U = self.c * np.sqrt( np.log(np.sum(self.action_counter)) / self.action_counter  )\n",
      "C:\\Users\\admin\\gits\\scratchbook\\CausalAbstraction\\src\\bandit_agents.py:146: RuntimeWarning: invalid value encountered in sqrt\n",
      "  U = self.c * np.sqrt( np.log(np.sum(self.action_counter)) / self.action_counter  )\n",
      "C:\\Users\\admin\\gits\\scratchbook\\CausalAbstraction\\src\\bandit_agents.py:146: RuntimeWarning: invalid value encountered in divide\n",
      "  U = self.c * np.sqrt( np.log(np.sum(self.action_counter)) / self.action_counter  )\n",
      "C:\\Users\\admin\\gits\\scratchbook\\CausalAbstraction\\src\\bandit_agents.py:146: RuntimeWarning: divide by zero encountered in divide\n",
      "  U = self.c * np.sqrt( np.log(np.sum(self.action_counter)) / self.action_counter  )\n",
      "C:\\Users\\admin\\gits\\scratchbook\\CausalAbstraction\\src\\bandit_agents.py:146: RuntimeWarning: divide by zero encountered in divide\n",
      "  U = self.c * np.sqrt( np.log(np.sum(self.action_counter)) / self.action_counter  )\n",
      "C:\\Users\\admin\\gits\\scratchbook\\CausalAbstraction\\src\\bandit_agents.py:146: RuntimeWarning: divide by zero encountered in divide\n",
      "  U = self.c * np.sqrt( np.log(np.sum(self.action_counter)) / self.action_counter  )\n",
      "C:\\Users\\admin\\gits\\scratchbook\\CausalAbstraction\\src\\bandit_agents.py:146: RuntimeWarning: divide by zero encountered in divide\n",
      "  U = self.c * np.sqrt( np.log(np.sum(self.action_counter)) / self.action_counter  )\n",
      "C:\\Users\\admin\\gits\\scratchbook\\CausalAbstraction\\src\\bandit_agents.py:146: RuntimeWarning: divide by zero encountered in log\n",
      "  U = self.c * np.sqrt( np.log(np.sum(self.action_counter)) / self.action_counter  )\n",
      "C:\\Users\\admin\\gits\\scratchbook\\CausalAbstraction\\src\\bandit_agents.py:146: RuntimeWarning: invalid value encountered in sqrt\n",
      "  U = self.c * np.sqrt( np.log(np.sum(self.action_counter)) / self.action_counter  )\n",
      "C:\\Users\\admin\\gits\\scratchbook\\CausalAbstraction\\src\\bandit_agents.py:146: RuntimeWarning: invalid value encountered in divide\n",
      "  U = self.c * np.sqrt( np.log(np.sum(self.action_counter)) / self.action_counter  )\n",
      "C:\\Users\\admin\\gits\\scratchbook\\CausalAbstraction\\src\\bandit_agents.py:146: RuntimeWarning: divide by zero encountered in divide\n",
      "  U = self.c * np.sqrt( np.log(np.sum(self.action_counter)) / self.action_counter  )\n",
      "C:\\Users\\admin\\gits\\scratchbook\\CausalAbstraction\\src\\bandit_agents.py:146: RuntimeWarning: divide by zero encountered in divide\n",
      "  U = self.c * np.sqrt( np.log(np.sum(self.action_counter)) / self.action_counter  )\n",
      "C:\\Users\\admin\\gits\\scratchbook\\CausalAbstraction\\src\\bandit_agents.py:146: RuntimeWarning: divide by zero encountered in log\n",
      "  U = self.c * np.sqrt( np.log(np.sum(self.action_counter)) / self.action_counter  )\n",
      "C:\\Users\\admin\\gits\\scratchbook\\CausalAbstraction\\src\\bandit_agents.py:146: RuntimeWarning: invalid value encountered in sqrt\n",
      "  U = self.c * np.sqrt( np.log(np.sum(self.action_counter)) / self.action_counter  )\n",
      "C:\\Users\\admin\\gits\\scratchbook\\CausalAbstraction\\src\\bandit_agents.py:146: RuntimeWarning: invalid value encountered in divide\n",
      "  U = self.c * np.sqrt( np.log(np.sum(self.action_counter)) / self.action_counter  )\n",
      "C:\\Users\\admin\\gits\\scratchbook\\CausalAbstraction\\src\\bandit_agents.py:146: RuntimeWarning: divide by zero encountered in divide\n",
      "  U = self.c * np.sqrt( np.log(np.sum(self.action_counter)) / self.action_counter  )\n",
      "C:\\Users\\admin\\gits\\scratchbook\\CausalAbstraction\\src\\bandit_agents.py:146: RuntimeWarning: divide by zero encountered in divide\n",
      "  U = self.c * np.sqrt( np.log(np.sum(self.action_counter)) / self.action_counter  )\n",
      " 55%|█████████████████████████████████████████████████████▉                                            | 11/20 [13:48<11:12, 74.77s/it]C:\\Users\\admin\\gits\\scratchbook\\CausalAbstraction\\src\\bandit_agents.py:146: RuntimeWarning: divide by zero encountered in log\n",
      "  U = self.c * np.sqrt( np.log(np.sum(self.action_counter)) / self.action_counter  )\n",
      "C:\\Users\\admin\\gits\\scratchbook\\CausalAbstraction\\src\\bandit_agents.py:146: RuntimeWarning: invalid value encountered in sqrt\n",
      "  U = self.c * np.sqrt( np.log(np.sum(self.action_counter)) / self.action_counter  )\n",
      "C:\\Users\\admin\\gits\\scratchbook\\CausalAbstraction\\src\\bandit_agents.py:146: RuntimeWarning: invalid value encountered in divide\n",
      "  U = self.c * np.sqrt( np.log(np.sum(self.action_counter)) / self.action_counter  )\n",
      "C:\\Users\\admin\\gits\\scratchbook\\CausalAbstraction\\src\\bandit_agents.py:146: RuntimeWarning: divide by zero encountered in divide\n",
      "  U = self.c * np.sqrt( np.log(np.sum(self.action_counter)) / self.action_counter  )\n",
      "C:\\Users\\admin\\gits\\scratchbook\\CausalAbstraction\\src\\bandit_agents.py:146: RuntimeWarning: divide by zero encountered in divide\n",
      "  U = self.c * np.sqrt( np.log(np.sum(self.action_counter)) / self.action_counter  )\n",
      "C:\\Users\\admin\\gits\\scratchbook\\CausalAbstraction\\src\\bandit_agents.py:146: RuntimeWarning: divide by zero encountered in divide\n",
      "  U = self.c * np.sqrt( np.log(np.sum(self.action_counter)) / self.action_counter  )\n",
      "C:\\Users\\admin\\gits\\scratchbook\\CausalAbstraction\\src\\bandit_agents.py:146: RuntimeWarning: divide by zero encountered in divide\n",
      "  U = self.c * np.sqrt( np.log(np.sum(self.action_counter)) / self.action_counter  )\n",
      "C:\\Users\\admin\\gits\\scratchbook\\CausalAbstraction\\src\\bandit_agents.py:146: RuntimeWarning: divide by zero encountered in log\n",
      "  U = self.c * np.sqrt( np.log(np.sum(self.action_counter)) / self.action_counter  )\n",
      "C:\\Users\\admin\\gits\\scratchbook\\CausalAbstraction\\src\\bandit_agents.py:146: RuntimeWarning: invalid value encountered in sqrt\n",
      "  U = self.c * np.sqrt( np.log(np.sum(self.action_counter)) / self.action_counter  )\n",
      "C:\\Users\\admin\\gits\\scratchbook\\CausalAbstraction\\src\\bandit_agents.py:146: RuntimeWarning: invalid value encountered in divide\n",
      "  U = self.c * np.sqrt( np.log(np.sum(self.action_counter)) / self.action_counter  )\n",
      "C:\\Users\\admin\\gits\\scratchbook\\CausalAbstraction\\src\\bandit_agents.py:146: RuntimeWarning: divide by zero encountered in divide\n",
      "  U = self.c * np.sqrt( np.log(np.sum(self.action_counter)) / self.action_counter  )\n",
      "C:\\Users\\admin\\gits\\scratchbook\\CausalAbstraction\\src\\bandit_agents.py:146: RuntimeWarning: divide by zero encountered in divide\n",
      "  U = self.c * np.sqrt( np.log(np.sum(self.action_counter)) / self.action_counter  )\n"
     ]
    },
    {
     "name": "stderr",
     "output_type": "stream",
     "text": [
      "C:\\Users\\admin\\gits\\scratchbook\\CausalAbstraction\\src\\bandit_agents.py:146: RuntimeWarning: divide by zero encountered in log\n",
      "  U = self.c * np.sqrt( np.log(np.sum(self.action_counter)) / self.action_counter  )\n",
      "C:\\Users\\admin\\gits\\scratchbook\\CausalAbstraction\\src\\bandit_agents.py:146: RuntimeWarning: invalid value encountered in sqrt\n",
      "  U = self.c * np.sqrt( np.log(np.sum(self.action_counter)) / self.action_counter  )\n",
      "C:\\Users\\admin\\gits\\scratchbook\\CausalAbstraction\\src\\bandit_agents.py:146: RuntimeWarning: invalid value encountered in divide\n",
      "  U = self.c * np.sqrt( np.log(np.sum(self.action_counter)) / self.action_counter  )\n",
      "C:\\Users\\admin\\gits\\scratchbook\\CausalAbstraction\\src\\bandit_agents.py:146: RuntimeWarning: divide by zero encountered in divide\n",
      "  U = self.c * np.sqrt( np.log(np.sum(self.action_counter)) / self.action_counter  )\n",
      "C:\\Users\\admin\\gits\\scratchbook\\CausalAbstraction\\src\\bandit_agents.py:146: RuntimeWarning: divide by zero encountered in divide\n",
      "  U = self.c * np.sqrt( np.log(np.sum(self.action_counter)) / self.action_counter  )\n",
      " 60%|██████████████████████████████████████████████████████████▊                                       | 12/20 [15:01<09:53, 74.20s/it]C:\\Users\\admin\\gits\\scratchbook\\CausalAbstraction\\src\\bandit_agents.py:146: RuntimeWarning: divide by zero encountered in log\n",
      "  U = self.c * np.sqrt( np.log(np.sum(self.action_counter)) / self.action_counter  )\n",
      "C:\\Users\\admin\\gits\\scratchbook\\CausalAbstraction\\src\\bandit_agents.py:146: RuntimeWarning: invalid value encountered in sqrt\n",
      "  U = self.c * np.sqrt( np.log(np.sum(self.action_counter)) / self.action_counter  )\n",
      "C:\\Users\\admin\\gits\\scratchbook\\CausalAbstraction\\src\\bandit_agents.py:146: RuntimeWarning: invalid value encountered in divide\n",
      "  U = self.c * np.sqrt( np.log(np.sum(self.action_counter)) / self.action_counter  )\n",
      "C:\\Users\\admin\\gits\\scratchbook\\CausalAbstraction\\src\\bandit_agents.py:146: RuntimeWarning: divide by zero encountered in divide\n",
      "  U = self.c * np.sqrt( np.log(np.sum(self.action_counter)) / self.action_counter  )\n",
      "C:\\Users\\admin\\gits\\scratchbook\\CausalAbstraction\\src\\bandit_agents.py:146: RuntimeWarning: divide by zero encountered in divide\n",
      "  U = self.c * np.sqrt( np.log(np.sum(self.action_counter)) / self.action_counter  )\n",
      "C:\\Users\\admin\\gits\\scratchbook\\CausalAbstraction\\src\\bandit_agents.py:146: RuntimeWarning: divide by zero encountered in divide\n",
      "  U = self.c * np.sqrt( np.log(np.sum(self.action_counter)) / self.action_counter  )\n",
      "C:\\Users\\admin\\gits\\scratchbook\\CausalAbstraction\\src\\bandit_agents.py:146: RuntimeWarning: divide by zero encountered in divide\n",
      "  U = self.c * np.sqrt( np.log(np.sum(self.action_counter)) / self.action_counter  )\n",
      "C:\\Users\\admin\\gits\\scratchbook\\CausalAbstraction\\src\\bandit_agents.py:146: RuntimeWarning: divide by zero encountered in log\n",
      "  U = self.c * np.sqrt( np.log(np.sum(self.action_counter)) / self.action_counter  )\n",
      "C:\\Users\\admin\\gits\\scratchbook\\CausalAbstraction\\src\\bandit_agents.py:146: RuntimeWarning: invalid value encountered in sqrt\n",
      "  U = self.c * np.sqrt( np.log(np.sum(self.action_counter)) / self.action_counter  )\n",
      "C:\\Users\\admin\\gits\\scratchbook\\CausalAbstraction\\src\\bandit_agents.py:146: RuntimeWarning: invalid value encountered in divide\n",
      "  U = self.c * np.sqrt( np.log(np.sum(self.action_counter)) / self.action_counter  )\n",
      "C:\\Users\\admin\\gits\\scratchbook\\CausalAbstraction\\src\\bandit_agents.py:146: RuntimeWarning: divide by zero encountered in divide\n",
      "  U = self.c * np.sqrt( np.log(np.sum(self.action_counter)) / self.action_counter  )\n",
      "C:\\Users\\admin\\gits\\scratchbook\\CausalAbstraction\\src\\bandit_agents.py:146: RuntimeWarning: divide by zero encountered in divide\n",
      "  U = self.c * np.sqrt( np.log(np.sum(self.action_counter)) / self.action_counter  )\n",
      "C:\\Users\\admin\\gits\\scratchbook\\CausalAbstraction\\src\\bandit_agents.py:146: RuntimeWarning: divide by zero encountered in log\n",
      "  U = self.c * np.sqrt( np.log(np.sum(self.action_counter)) / self.action_counter  )\n",
      "C:\\Users\\admin\\gits\\scratchbook\\CausalAbstraction\\src\\bandit_agents.py:146: RuntimeWarning: invalid value encountered in sqrt\n",
      "  U = self.c * np.sqrt( np.log(np.sum(self.action_counter)) / self.action_counter  )\n",
      "C:\\Users\\admin\\gits\\scratchbook\\CausalAbstraction\\src\\bandit_agents.py:146: RuntimeWarning: invalid value encountered in divide\n",
      "  U = self.c * np.sqrt( np.log(np.sum(self.action_counter)) / self.action_counter  )\n",
      "C:\\Users\\admin\\gits\\scratchbook\\CausalAbstraction\\src\\bandit_agents.py:146: RuntimeWarning: divide by zero encountered in divide\n",
      "  U = self.c * np.sqrt( np.log(np.sum(self.action_counter)) / self.action_counter  )\n",
      "C:\\Users\\admin\\gits\\scratchbook\\CausalAbstraction\\src\\bandit_agents.py:146: RuntimeWarning: divide by zero encountered in divide\n",
      "  U = self.c * np.sqrt( np.log(np.sum(self.action_counter)) / self.action_counter  )\n",
      " 65%|███████████████████████████████████████████████████████████████▋                                  | 13/20 [16:12<08:31, 73.03s/it]C:\\Users\\admin\\gits\\scratchbook\\CausalAbstraction\\src\\bandit_agents.py:146: RuntimeWarning: divide by zero encountered in log\n",
      "  U = self.c * np.sqrt( np.log(np.sum(self.action_counter)) / self.action_counter  )\n",
      "C:\\Users\\admin\\gits\\scratchbook\\CausalAbstraction\\src\\bandit_agents.py:146: RuntimeWarning: invalid value encountered in sqrt\n",
      "  U = self.c * np.sqrt( np.log(np.sum(self.action_counter)) / self.action_counter  )\n",
      "C:\\Users\\admin\\gits\\scratchbook\\CausalAbstraction\\src\\bandit_agents.py:146: RuntimeWarning: invalid value encountered in divide\n",
      "  U = self.c * np.sqrt( np.log(np.sum(self.action_counter)) / self.action_counter  )\n",
      "C:\\Users\\admin\\gits\\scratchbook\\CausalAbstraction\\src\\bandit_agents.py:146: RuntimeWarning: divide by zero encountered in divide\n",
      "  U = self.c * np.sqrt( np.log(np.sum(self.action_counter)) / self.action_counter  )\n",
      "C:\\Users\\admin\\gits\\scratchbook\\CausalAbstraction\\src\\bandit_agents.py:146: RuntimeWarning: divide by zero encountered in divide\n",
      "  U = self.c * np.sqrt( np.log(np.sum(self.action_counter)) / self.action_counter  )\n",
      "C:\\Users\\admin\\gits\\scratchbook\\CausalAbstraction\\src\\bandit_agents.py:146: RuntimeWarning: divide by zero encountered in divide\n",
      "  U = self.c * np.sqrt( np.log(np.sum(self.action_counter)) / self.action_counter  )\n",
      "C:\\Users\\admin\\gits\\scratchbook\\CausalAbstraction\\src\\bandit_agents.py:146: RuntimeWarning: divide by zero encountered in divide\n",
      "  U = self.c * np.sqrt( np.log(np.sum(self.action_counter)) / self.action_counter  )\n",
      "C:\\Users\\admin\\gits\\scratchbook\\CausalAbstraction\\src\\bandit_agents.py:146: RuntimeWarning: divide by zero encountered in log\n",
      "  U = self.c * np.sqrt( np.log(np.sum(self.action_counter)) / self.action_counter  )\n",
      "C:\\Users\\admin\\gits\\scratchbook\\CausalAbstraction\\src\\bandit_agents.py:146: RuntimeWarning: invalid value encountered in sqrt\n",
      "  U = self.c * np.sqrt( np.log(np.sum(self.action_counter)) / self.action_counter  )\n",
      "C:\\Users\\admin\\gits\\scratchbook\\CausalAbstraction\\src\\bandit_agents.py:146: RuntimeWarning: invalid value encountered in divide\n",
      "  U = self.c * np.sqrt( np.log(np.sum(self.action_counter)) / self.action_counter  )\n",
      "C:\\Users\\admin\\gits\\scratchbook\\CausalAbstraction\\src\\bandit_agents.py:146: RuntimeWarning: divide by zero encountered in divide\n",
      "  U = self.c * np.sqrt( np.log(np.sum(self.action_counter)) / self.action_counter  )\n",
      "C:\\Users\\admin\\gits\\scratchbook\\CausalAbstraction\\src\\bandit_agents.py:146: RuntimeWarning: divide by zero encountered in divide\n",
      "  U = self.c * np.sqrt( np.log(np.sum(self.action_counter)) / self.action_counter  )\n",
      "C:\\Users\\admin\\gits\\scratchbook\\CausalAbstraction\\src\\bandit_agents.py:146: RuntimeWarning: divide by zero encountered in log\n",
      "  U = self.c * np.sqrt( np.log(np.sum(self.action_counter)) / self.action_counter  )\n",
      "C:\\Users\\admin\\gits\\scratchbook\\CausalAbstraction\\src\\bandit_agents.py:146: RuntimeWarning: invalid value encountered in sqrt\n",
      "  U = self.c * np.sqrt( np.log(np.sum(self.action_counter)) / self.action_counter  )\n",
      "C:\\Users\\admin\\gits\\scratchbook\\CausalAbstraction\\src\\bandit_agents.py:146: RuntimeWarning: invalid value encountered in divide\n",
      "  U = self.c * np.sqrt( np.log(np.sum(self.action_counter)) / self.action_counter  )\n",
      "C:\\Users\\admin\\gits\\scratchbook\\CausalAbstraction\\src\\bandit_agents.py:146: RuntimeWarning: divide by zero encountered in divide\n",
      "  U = self.c * np.sqrt( np.log(np.sum(self.action_counter)) / self.action_counter  )\n",
      "C:\\Users\\admin\\gits\\scratchbook\\CausalAbstraction\\src\\bandit_agents.py:146: RuntimeWarning: divide by zero encountered in divide\n",
      "  U = self.c * np.sqrt( np.log(np.sum(self.action_counter)) / self.action_counter  )\n"
     ]
    },
    {
     "name": "stderr",
     "output_type": "stream",
     "text": [
      " 70%|████████████████████████████████████████████████████████████████████▌                             | 14/20 [17:25<07:18, 73.06s/it]C:\\Users\\admin\\gits\\scratchbook\\CausalAbstraction\\src\\bandit_agents.py:146: RuntimeWarning: divide by zero encountered in log\n",
      "  U = self.c * np.sqrt( np.log(np.sum(self.action_counter)) / self.action_counter  )\n",
      "C:\\Users\\admin\\gits\\scratchbook\\CausalAbstraction\\src\\bandit_agents.py:146: RuntimeWarning: invalid value encountered in sqrt\n",
      "  U = self.c * np.sqrt( np.log(np.sum(self.action_counter)) / self.action_counter  )\n",
      "C:\\Users\\admin\\gits\\scratchbook\\CausalAbstraction\\src\\bandit_agents.py:146: RuntimeWarning: invalid value encountered in divide\n",
      "  U = self.c * np.sqrt( np.log(np.sum(self.action_counter)) / self.action_counter  )\n",
      "C:\\Users\\admin\\gits\\scratchbook\\CausalAbstraction\\src\\bandit_agents.py:146: RuntimeWarning: divide by zero encountered in divide\n",
      "  U = self.c * np.sqrt( np.log(np.sum(self.action_counter)) / self.action_counter  )\n",
      "C:\\Users\\admin\\gits\\scratchbook\\CausalAbstraction\\src\\bandit_agents.py:146: RuntimeWarning: divide by zero encountered in divide\n",
      "  U = self.c * np.sqrt( np.log(np.sum(self.action_counter)) / self.action_counter  )\n",
      "C:\\Users\\admin\\gits\\scratchbook\\CausalAbstraction\\src\\bandit_agents.py:146: RuntimeWarning: divide by zero encountered in divide\n",
      "  U = self.c * np.sqrt( np.log(np.sum(self.action_counter)) / self.action_counter  )\n",
      "C:\\Users\\admin\\gits\\scratchbook\\CausalAbstraction\\src\\bandit_agents.py:146: RuntimeWarning: divide by zero encountered in divide\n",
      "  U = self.c * np.sqrt( np.log(np.sum(self.action_counter)) / self.action_counter  )\n",
      "C:\\Users\\admin\\gits\\scratchbook\\CausalAbstraction\\src\\bandit_agents.py:146: RuntimeWarning: divide by zero encountered in log\n",
      "  U = self.c * np.sqrt( np.log(np.sum(self.action_counter)) / self.action_counter  )\n",
      "C:\\Users\\admin\\gits\\scratchbook\\CausalAbstraction\\src\\bandit_agents.py:146: RuntimeWarning: invalid value encountered in sqrt\n",
      "  U = self.c * np.sqrt( np.log(np.sum(self.action_counter)) / self.action_counter  )\n",
      "C:\\Users\\admin\\gits\\scratchbook\\CausalAbstraction\\src\\bandit_agents.py:146: RuntimeWarning: invalid value encountered in divide\n",
      "  U = self.c * np.sqrt( np.log(np.sum(self.action_counter)) / self.action_counter  )\n",
      "C:\\Users\\admin\\gits\\scratchbook\\CausalAbstraction\\src\\bandit_agents.py:146: RuntimeWarning: divide by zero encountered in divide\n",
      "  U = self.c * np.sqrt( np.log(np.sum(self.action_counter)) / self.action_counter  )\n",
      "C:\\Users\\admin\\gits\\scratchbook\\CausalAbstraction\\src\\bandit_agents.py:146: RuntimeWarning: divide by zero encountered in divide\n",
      "  U = self.c * np.sqrt( np.log(np.sum(self.action_counter)) / self.action_counter  )\n",
      "C:\\Users\\admin\\gits\\scratchbook\\CausalAbstraction\\src\\bandit_agents.py:146: RuntimeWarning: divide by zero encountered in log\n",
      "  U = self.c * np.sqrt( np.log(np.sum(self.action_counter)) / self.action_counter  )\n",
      "C:\\Users\\admin\\gits\\scratchbook\\CausalAbstraction\\src\\bandit_agents.py:146: RuntimeWarning: invalid value encountered in sqrt\n",
      "  U = self.c * np.sqrt( np.log(np.sum(self.action_counter)) / self.action_counter  )\n",
      "C:\\Users\\admin\\gits\\scratchbook\\CausalAbstraction\\src\\bandit_agents.py:146: RuntimeWarning: invalid value encountered in divide\n",
      "  U = self.c * np.sqrt( np.log(np.sum(self.action_counter)) / self.action_counter  )\n",
      "C:\\Users\\admin\\gits\\scratchbook\\CausalAbstraction\\src\\bandit_agents.py:146: RuntimeWarning: divide by zero encountered in divide\n",
      "  U = self.c * np.sqrt( np.log(np.sum(self.action_counter)) / self.action_counter  )\n",
      "C:\\Users\\admin\\gits\\scratchbook\\CausalAbstraction\\src\\bandit_agents.py:146: RuntimeWarning: divide by zero encountered in divide\n",
      "  U = self.c * np.sqrt( np.log(np.sum(self.action_counter)) / self.action_counter  )\n",
      " 75%|█████████████████████████████████████████████████████████████████████████▌                        | 15/20 [18:37<06:03, 72.76s/it]C:\\Users\\admin\\gits\\scratchbook\\CausalAbstraction\\src\\bandit_agents.py:146: RuntimeWarning: divide by zero encountered in log\n",
      "  U = self.c * np.sqrt( np.log(np.sum(self.action_counter)) / self.action_counter  )\n",
      "C:\\Users\\admin\\gits\\scratchbook\\CausalAbstraction\\src\\bandit_agents.py:146: RuntimeWarning: invalid value encountered in sqrt\n",
      "  U = self.c * np.sqrt( np.log(np.sum(self.action_counter)) / self.action_counter  )\n",
      "C:\\Users\\admin\\gits\\scratchbook\\CausalAbstraction\\src\\bandit_agents.py:146: RuntimeWarning: invalid value encountered in divide\n",
      "  U = self.c * np.sqrt( np.log(np.sum(self.action_counter)) / self.action_counter  )\n",
      "C:\\Users\\admin\\gits\\scratchbook\\CausalAbstraction\\src\\bandit_agents.py:146: RuntimeWarning: divide by zero encountered in divide\n",
      "  U = self.c * np.sqrt( np.log(np.sum(self.action_counter)) / self.action_counter  )\n",
      "C:\\Users\\admin\\gits\\scratchbook\\CausalAbstraction\\src\\bandit_agents.py:146: RuntimeWarning: divide by zero encountered in divide\n",
      "  U = self.c * np.sqrt( np.log(np.sum(self.action_counter)) / self.action_counter  )\n",
      "C:\\Users\\admin\\gits\\scratchbook\\CausalAbstraction\\src\\bandit_agents.py:146: RuntimeWarning: divide by zero encountered in divide\n",
      "  U = self.c * np.sqrt( np.log(np.sum(self.action_counter)) / self.action_counter  )\n",
      "C:\\Users\\admin\\gits\\scratchbook\\CausalAbstraction\\src\\bandit_agents.py:146: RuntimeWarning: divide by zero encountered in divide\n",
      "  U = self.c * np.sqrt( np.log(np.sum(self.action_counter)) / self.action_counter  )\n",
      "C:\\Users\\admin\\gits\\scratchbook\\CausalAbstraction\\src\\bandit_agents.py:146: RuntimeWarning: divide by zero encountered in log\n",
      "  U = self.c * np.sqrt( np.log(np.sum(self.action_counter)) / self.action_counter  )\n",
      "C:\\Users\\admin\\gits\\scratchbook\\CausalAbstraction\\src\\bandit_agents.py:146: RuntimeWarning: invalid value encountered in sqrt\n",
      "  U = self.c * np.sqrt( np.log(np.sum(self.action_counter)) / self.action_counter  )\n",
      "C:\\Users\\admin\\gits\\scratchbook\\CausalAbstraction\\src\\bandit_agents.py:146: RuntimeWarning: invalid value encountered in divide\n",
      "  U = self.c * np.sqrt( np.log(np.sum(self.action_counter)) / self.action_counter  )\n",
      "C:\\Users\\admin\\gits\\scratchbook\\CausalAbstraction\\src\\bandit_agents.py:146: RuntimeWarning: divide by zero encountered in divide\n",
      "  U = self.c * np.sqrt( np.log(np.sum(self.action_counter)) / self.action_counter  )\n",
      "C:\\Users\\admin\\gits\\scratchbook\\CausalAbstraction\\src\\bandit_agents.py:146: RuntimeWarning: divide by zero encountered in divide\n",
      "  U = self.c * np.sqrt( np.log(np.sum(self.action_counter)) / self.action_counter  )\n",
      "C:\\Users\\admin\\gits\\scratchbook\\CausalAbstraction\\src\\bandit_agents.py:146: RuntimeWarning: divide by zero encountered in log\n",
      "  U = self.c * np.sqrt( np.log(np.sum(self.action_counter)) / self.action_counter  )\n",
      "C:\\Users\\admin\\gits\\scratchbook\\CausalAbstraction\\src\\bandit_agents.py:146: RuntimeWarning: invalid value encountered in sqrt\n",
      "  U = self.c * np.sqrt( np.log(np.sum(self.action_counter)) / self.action_counter  )\n",
      "C:\\Users\\admin\\gits\\scratchbook\\CausalAbstraction\\src\\bandit_agents.py:146: RuntimeWarning: invalid value encountered in divide\n",
      "  U = self.c * np.sqrt( np.log(np.sum(self.action_counter)) / self.action_counter  )\n",
      "C:\\Users\\admin\\gits\\scratchbook\\CausalAbstraction\\src\\bandit_agents.py:146: RuntimeWarning: divide by zero encountered in divide\n",
      "  U = self.c * np.sqrt( np.log(np.sum(self.action_counter)) / self.action_counter  )\n",
      "C:\\Users\\admin\\gits\\scratchbook\\CausalAbstraction\\src\\bandit_agents.py:146: RuntimeWarning: divide by zero encountered in divide\n",
      "  U = self.c * np.sqrt( np.log(np.sum(self.action_counter)) / self.action_counter  )\n",
      " 80%|██████████████████████████████████████████████████████████████████████████████▍                   | 16/20 [19:50<04:52, 73.02s/it]C:\\Users\\admin\\gits\\scratchbook\\CausalAbstraction\\src\\bandit_agents.py:146: RuntimeWarning: divide by zero encountered in log\n",
      "  U = self.c * np.sqrt( np.log(np.sum(self.action_counter)) / self.action_counter  )\n",
      "C:\\Users\\admin\\gits\\scratchbook\\CausalAbstraction\\src\\bandit_agents.py:146: RuntimeWarning: invalid value encountered in sqrt\n",
      "  U = self.c * np.sqrt( np.log(np.sum(self.action_counter)) / self.action_counter  )\n",
      "C:\\Users\\admin\\gits\\scratchbook\\CausalAbstraction\\src\\bandit_agents.py:146: RuntimeWarning: invalid value encountered in divide\n",
      "  U = self.c * np.sqrt( np.log(np.sum(self.action_counter)) / self.action_counter  )\n",
      "C:\\Users\\admin\\gits\\scratchbook\\CausalAbstraction\\src\\bandit_agents.py:146: RuntimeWarning: divide by zero encountered in divide\n",
      "  U = self.c * np.sqrt( np.log(np.sum(self.action_counter)) / self.action_counter  )\n",
      "C:\\Users\\admin\\gits\\scratchbook\\CausalAbstraction\\src\\bandit_agents.py:146: RuntimeWarning: divide by zero encountered in divide\n",
      "  U = self.c * np.sqrt( np.log(np.sum(self.action_counter)) / self.action_counter  )\n",
      "C:\\Users\\admin\\gits\\scratchbook\\CausalAbstraction\\src\\bandit_agents.py:146: RuntimeWarning: divide by zero encountered in divide\n",
      "  U = self.c * np.sqrt( np.log(np.sum(self.action_counter)) / self.action_counter  )\n",
      "C:\\Users\\admin\\gits\\scratchbook\\CausalAbstraction\\src\\bandit_agents.py:146: RuntimeWarning: divide by zero encountered in divide\n",
      "  U = self.c * np.sqrt( np.log(np.sum(self.action_counter)) / self.action_counter  )\n"
     ]
    },
    {
     "name": "stderr",
     "output_type": "stream",
     "text": [
      "C:\\Users\\admin\\gits\\scratchbook\\CausalAbstraction\\src\\bandit_agents.py:146: RuntimeWarning: divide by zero encountered in log\n",
      "  U = self.c * np.sqrt( np.log(np.sum(self.action_counter)) / self.action_counter  )\n",
      "C:\\Users\\admin\\gits\\scratchbook\\CausalAbstraction\\src\\bandit_agents.py:146: RuntimeWarning: invalid value encountered in sqrt\n",
      "  U = self.c * np.sqrt( np.log(np.sum(self.action_counter)) / self.action_counter  )\n",
      "C:\\Users\\admin\\gits\\scratchbook\\CausalAbstraction\\src\\bandit_agents.py:146: RuntimeWarning: invalid value encountered in divide\n",
      "  U = self.c * np.sqrt( np.log(np.sum(self.action_counter)) / self.action_counter  )\n",
      "C:\\Users\\admin\\gits\\scratchbook\\CausalAbstraction\\src\\bandit_agents.py:146: RuntimeWarning: divide by zero encountered in divide\n",
      "  U = self.c * np.sqrt( np.log(np.sum(self.action_counter)) / self.action_counter  )\n",
      "C:\\Users\\admin\\gits\\scratchbook\\CausalAbstraction\\src\\bandit_agents.py:146: RuntimeWarning: divide by zero encountered in divide\n",
      "  U = self.c * np.sqrt( np.log(np.sum(self.action_counter)) / self.action_counter  )\n",
      "C:\\Users\\admin\\gits\\scratchbook\\CausalAbstraction\\src\\bandit_agents.py:146: RuntimeWarning: divide by zero encountered in log\n",
      "  U = self.c * np.sqrt( np.log(np.sum(self.action_counter)) / self.action_counter  )\n",
      "C:\\Users\\admin\\gits\\scratchbook\\CausalAbstraction\\src\\bandit_agents.py:146: RuntimeWarning: invalid value encountered in sqrt\n",
      "  U = self.c * np.sqrt( np.log(np.sum(self.action_counter)) / self.action_counter  )\n",
      "C:\\Users\\admin\\gits\\scratchbook\\CausalAbstraction\\src\\bandit_agents.py:146: RuntimeWarning: invalid value encountered in divide\n",
      "  U = self.c * np.sqrt( np.log(np.sum(self.action_counter)) / self.action_counter  )\n",
      "C:\\Users\\admin\\gits\\scratchbook\\CausalAbstraction\\src\\bandit_agents.py:146: RuntimeWarning: divide by zero encountered in divide\n",
      "  U = self.c * np.sqrt( np.log(np.sum(self.action_counter)) / self.action_counter  )\n",
      "C:\\Users\\admin\\gits\\scratchbook\\CausalAbstraction\\src\\bandit_agents.py:146: RuntimeWarning: divide by zero encountered in divide\n",
      "  U = self.c * np.sqrt( np.log(np.sum(self.action_counter)) / self.action_counter  )\n",
      " 85%|███████████████████████████████████████████████████████████████████████████████████▎              | 17/20 [21:08<03:42, 74.27s/it]C:\\Users\\admin\\gits\\scratchbook\\CausalAbstraction\\src\\bandit_agents.py:146: RuntimeWarning: divide by zero encountered in log\n",
      "  U = self.c * np.sqrt( np.log(np.sum(self.action_counter)) / self.action_counter  )\n",
      "C:\\Users\\admin\\gits\\scratchbook\\CausalAbstraction\\src\\bandit_agents.py:146: RuntimeWarning: invalid value encountered in sqrt\n",
      "  U = self.c * np.sqrt( np.log(np.sum(self.action_counter)) / self.action_counter  )\n",
      "C:\\Users\\admin\\gits\\scratchbook\\CausalAbstraction\\src\\bandit_agents.py:146: RuntimeWarning: invalid value encountered in divide\n",
      "  U = self.c * np.sqrt( np.log(np.sum(self.action_counter)) / self.action_counter  )\n",
      "C:\\Users\\admin\\gits\\scratchbook\\CausalAbstraction\\src\\bandit_agents.py:146: RuntimeWarning: divide by zero encountered in divide\n",
      "  U = self.c * np.sqrt( np.log(np.sum(self.action_counter)) / self.action_counter  )\n",
      "C:\\Users\\admin\\gits\\scratchbook\\CausalAbstraction\\src\\bandit_agents.py:146: RuntimeWarning: divide by zero encountered in divide\n",
      "  U = self.c * np.sqrt( np.log(np.sum(self.action_counter)) / self.action_counter  )\n",
      "C:\\Users\\admin\\gits\\scratchbook\\CausalAbstraction\\src\\bandit_agents.py:146: RuntimeWarning: divide by zero encountered in divide\n",
      "  U = self.c * np.sqrt( np.log(np.sum(self.action_counter)) / self.action_counter  )\n",
      "C:\\Users\\admin\\gits\\scratchbook\\CausalAbstraction\\src\\bandit_agents.py:146: RuntimeWarning: divide by zero encountered in divide\n",
      "  U = self.c * np.sqrt( np.log(np.sum(self.action_counter)) / self.action_counter  )\n",
      "C:\\Users\\admin\\gits\\scratchbook\\CausalAbstraction\\src\\bandit_agents.py:146: RuntimeWarning: divide by zero encountered in log\n",
      "  U = self.c * np.sqrt( np.log(np.sum(self.action_counter)) / self.action_counter  )\n",
      "C:\\Users\\admin\\gits\\scratchbook\\CausalAbstraction\\src\\bandit_agents.py:146: RuntimeWarning: invalid value encountered in sqrt\n",
      "  U = self.c * np.sqrt( np.log(np.sum(self.action_counter)) / self.action_counter  )\n",
      "C:\\Users\\admin\\gits\\scratchbook\\CausalAbstraction\\src\\bandit_agents.py:146: RuntimeWarning: invalid value encountered in divide\n",
      "  U = self.c * np.sqrt( np.log(np.sum(self.action_counter)) / self.action_counter  )\n",
      "C:\\Users\\admin\\gits\\scratchbook\\CausalAbstraction\\src\\bandit_agents.py:146: RuntimeWarning: divide by zero encountered in divide\n",
      "  U = self.c * np.sqrt( np.log(np.sum(self.action_counter)) / self.action_counter  )\n",
      "C:\\Users\\admin\\gits\\scratchbook\\CausalAbstraction\\src\\bandit_agents.py:146: RuntimeWarning: divide by zero encountered in divide\n",
      "  U = self.c * np.sqrt( np.log(np.sum(self.action_counter)) / self.action_counter  )\n",
      "C:\\Users\\admin\\gits\\scratchbook\\CausalAbstraction\\src\\bandit_agents.py:146: RuntimeWarning: divide by zero encountered in log\n",
      "  U = self.c * np.sqrt( np.log(np.sum(self.action_counter)) / self.action_counter  )\n",
      "C:\\Users\\admin\\gits\\scratchbook\\CausalAbstraction\\src\\bandit_agents.py:146: RuntimeWarning: invalid value encountered in sqrt\n",
      "  U = self.c * np.sqrt( np.log(np.sum(self.action_counter)) / self.action_counter  )\n",
      "C:\\Users\\admin\\gits\\scratchbook\\CausalAbstraction\\src\\bandit_agents.py:146: RuntimeWarning: invalid value encountered in divide\n",
      "  U = self.c * np.sqrt( np.log(np.sum(self.action_counter)) / self.action_counter  )\n",
      "C:\\Users\\admin\\gits\\scratchbook\\CausalAbstraction\\src\\bandit_agents.py:146: RuntimeWarning: divide by zero encountered in divide\n",
      "  U = self.c * np.sqrt( np.log(np.sum(self.action_counter)) / self.action_counter  )\n",
      "C:\\Users\\admin\\gits\\scratchbook\\CausalAbstraction\\src\\bandit_agents.py:146: RuntimeWarning: divide by zero encountered in divide\n",
      "  U = self.c * np.sqrt( np.log(np.sum(self.action_counter)) / self.action_counter  )\n",
      " 90%|████████████████████████████████████████████████████████████████████████████████████████▏         | 18/20 [22:22<02:28, 74.42s/it]C:\\Users\\admin\\gits\\scratchbook\\CausalAbstraction\\src\\bandit_agents.py:146: RuntimeWarning: divide by zero encountered in log\n",
      "  U = self.c * np.sqrt( np.log(np.sum(self.action_counter)) / self.action_counter  )\n",
      "C:\\Users\\admin\\gits\\scratchbook\\CausalAbstraction\\src\\bandit_agents.py:146: RuntimeWarning: invalid value encountered in sqrt\n",
      "  U = self.c * np.sqrt( np.log(np.sum(self.action_counter)) / self.action_counter  )\n",
      "C:\\Users\\admin\\gits\\scratchbook\\CausalAbstraction\\src\\bandit_agents.py:146: RuntimeWarning: invalid value encountered in divide\n",
      "  U = self.c * np.sqrt( np.log(np.sum(self.action_counter)) / self.action_counter  )\n",
      "C:\\Users\\admin\\gits\\scratchbook\\CausalAbstraction\\src\\bandit_agents.py:146: RuntimeWarning: divide by zero encountered in divide\n",
      "  U = self.c * np.sqrt( np.log(np.sum(self.action_counter)) / self.action_counter  )\n",
      "C:\\Users\\admin\\gits\\scratchbook\\CausalAbstraction\\src\\bandit_agents.py:146: RuntimeWarning: divide by zero encountered in divide\n",
      "  U = self.c * np.sqrt( np.log(np.sum(self.action_counter)) / self.action_counter  )\n",
      "C:\\Users\\admin\\gits\\scratchbook\\CausalAbstraction\\src\\bandit_agents.py:146: RuntimeWarning: divide by zero encountered in divide\n",
      "  U = self.c * np.sqrt( np.log(np.sum(self.action_counter)) / self.action_counter  )\n",
      "C:\\Users\\admin\\gits\\scratchbook\\CausalAbstraction\\src\\bandit_agents.py:146: RuntimeWarning: divide by zero encountered in divide\n",
      "  U = self.c * np.sqrt( np.log(np.sum(self.action_counter)) / self.action_counter  )\n",
      "C:\\Users\\admin\\gits\\scratchbook\\CausalAbstraction\\src\\bandit_agents.py:146: RuntimeWarning: divide by zero encountered in log\n",
      "  U = self.c * np.sqrt( np.log(np.sum(self.action_counter)) / self.action_counter  )\n",
      "C:\\Users\\admin\\gits\\scratchbook\\CausalAbstraction\\src\\bandit_agents.py:146: RuntimeWarning: invalid value encountered in sqrt\n",
      "  U = self.c * np.sqrt( np.log(np.sum(self.action_counter)) / self.action_counter  )\n",
      "C:\\Users\\admin\\gits\\scratchbook\\CausalAbstraction\\src\\bandit_agents.py:146: RuntimeWarning: invalid value encountered in divide\n",
      "  U = self.c * np.sqrt( np.log(np.sum(self.action_counter)) / self.action_counter  )\n",
      "C:\\Users\\admin\\gits\\scratchbook\\CausalAbstraction\\src\\bandit_agents.py:146: RuntimeWarning: divide by zero encountered in divide\n",
      "  U = self.c * np.sqrt( np.log(np.sum(self.action_counter)) / self.action_counter  )\n",
      "C:\\Users\\admin\\gits\\scratchbook\\CausalAbstraction\\src\\bandit_agents.py:146: RuntimeWarning: divide by zero encountered in divide\n",
      "  U = self.c * np.sqrt( np.log(np.sum(self.action_counter)) / self.action_counter  )\n"
     ]
    },
    {
     "name": "stderr",
     "output_type": "stream",
     "text": [
      "C:\\Users\\admin\\gits\\scratchbook\\CausalAbstraction\\src\\bandit_agents.py:146: RuntimeWarning: divide by zero encountered in log\n",
      "  U = self.c * np.sqrt( np.log(np.sum(self.action_counter)) / self.action_counter  )\n",
      "C:\\Users\\admin\\gits\\scratchbook\\CausalAbstraction\\src\\bandit_agents.py:146: RuntimeWarning: invalid value encountered in sqrt\n",
      "  U = self.c * np.sqrt( np.log(np.sum(self.action_counter)) / self.action_counter  )\n",
      "C:\\Users\\admin\\gits\\scratchbook\\CausalAbstraction\\src\\bandit_agents.py:146: RuntimeWarning: invalid value encountered in divide\n",
      "  U = self.c * np.sqrt( np.log(np.sum(self.action_counter)) / self.action_counter  )\n",
      "C:\\Users\\admin\\gits\\scratchbook\\CausalAbstraction\\src\\bandit_agents.py:146: RuntimeWarning: divide by zero encountered in divide\n",
      "  U = self.c * np.sqrt( np.log(np.sum(self.action_counter)) / self.action_counter  )\n",
      "C:\\Users\\admin\\gits\\scratchbook\\CausalAbstraction\\src\\bandit_agents.py:146: RuntimeWarning: divide by zero encountered in divide\n",
      "  U = self.c * np.sqrt( np.log(np.sum(self.action_counter)) / self.action_counter  )\n",
      " 95%|█████████████████████████████████████████████████████████████████████████████████████████████     | 19/20 [23:40<01:15, 75.47s/it]C:\\Users\\admin\\gits\\scratchbook\\CausalAbstraction\\src\\bandit_agents.py:146: RuntimeWarning: divide by zero encountered in log\n",
      "  U = self.c * np.sqrt( np.log(np.sum(self.action_counter)) / self.action_counter  )\n",
      "C:\\Users\\admin\\gits\\scratchbook\\CausalAbstraction\\src\\bandit_agents.py:146: RuntimeWarning: invalid value encountered in sqrt\n",
      "  U = self.c * np.sqrt( np.log(np.sum(self.action_counter)) / self.action_counter  )\n",
      "C:\\Users\\admin\\gits\\scratchbook\\CausalAbstraction\\src\\bandit_agents.py:146: RuntimeWarning: invalid value encountered in divide\n",
      "  U = self.c * np.sqrt( np.log(np.sum(self.action_counter)) / self.action_counter  )\n",
      "C:\\Users\\admin\\gits\\scratchbook\\CausalAbstraction\\src\\bandit_agents.py:146: RuntimeWarning: divide by zero encountered in divide\n",
      "  U = self.c * np.sqrt( np.log(np.sum(self.action_counter)) / self.action_counter  )\n",
      "C:\\Users\\admin\\gits\\scratchbook\\CausalAbstraction\\src\\bandit_agents.py:146: RuntimeWarning: divide by zero encountered in divide\n",
      "  U = self.c * np.sqrt( np.log(np.sum(self.action_counter)) / self.action_counter  )\n",
      "C:\\Users\\admin\\gits\\scratchbook\\CausalAbstraction\\src\\bandit_agents.py:146: RuntimeWarning: divide by zero encountered in divide\n",
      "  U = self.c * np.sqrt( np.log(np.sum(self.action_counter)) / self.action_counter  )\n",
      "C:\\Users\\admin\\gits\\scratchbook\\CausalAbstraction\\src\\bandit_agents.py:146: RuntimeWarning: divide by zero encountered in divide\n",
      "  U = self.c * np.sqrt( np.log(np.sum(self.action_counter)) / self.action_counter  )\n",
      "C:\\Users\\admin\\gits\\scratchbook\\CausalAbstraction\\src\\bandit_agents.py:146: RuntimeWarning: divide by zero encountered in log\n",
      "  U = self.c * np.sqrt( np.log(np.sum(self.action_counter)) / self.action_counter  )\n",
      "C:\\Users\\admin\\gits\\scratchbook\\CausalAbstraction\\src\\bandit_agents.py:146: RuntimeWarning: invalid value encountered in sqrt\n",
      "  U = self.c * np.sqrt( np.log(np.sum(self.action_counter)) / self.action_counter  )\n",
      "C:\\Users\\admin\\gits\\scratchbook\\CausalAbstraction\\src\\bandit_agents.py:146: RuntimeWarning: invalid value encountered in divide\n",
      "  U = self.c * np.sqrt( np.log(np.sum(self.action_counter)) / self.action_counter  )\n",
      "C:\\Users\\admin\\gits\\scratchbook\\CausalAbstraction\\src\\bandit_agents.py:146: RuntimeWarning: divide by zero encountered in divide\n",
      "  U = self.c * np.sqrt( np.log(np.sum(self.action_counter)) / self.action_counter  )\n",
      "C:\\Users\\admin\\gits\\scratchbook\\CausalAbstraction\\src\\bandit_agents.py:146: RuntimeWarning: divide by zero encountered in divide\n",
      "  U = self.c * np.sqrt( np.log(np.sum(self.action_counter)) / self.action_counter  )\n",
      "C:\\Users\\admin\\gits\\scratchbook\\CausalAbstraction\\src\\bandit_agents.py:146: RuntimeWarning: divide by zero encountered in log\n",
      "  U = self.c * np.sqrt( np.log(np.sum(self.action_counter)) / self.action_counter  )\n",
      "C:\\Users\\admin\\gits\\scratchbook\\CausalAbstraction\\src\\bandit_agents.py:146: RuntimeWarning: invalid value encountered in sqrt\n",
      "  U = self.c * np.sqrt( np.log(np.sum(self.action_counter)) / self.action_counter  )\n",
      "C:\\Users\\admin\\gits\\scratchbook\\CausalAbstraction\\src\\bandit_agents.py:146: RuntimeWarning: invalid value encountered in divide\n",
      "  U = self.c * np.sqrt( np.log(np.sum(self.action_counter)) / self.action_counter  )\n",
      "C:\\Users\\admin\\gits\\scratchbook\\CausalAbstraction\\src\\bandit_agents.py:146: RuntimeWarning: divide by zero encountered in divide\n",
      "  U = self.c * np.sqrt( np.log(np.sum(self.action_counter)) / self.action_counter  )\n",
      "C:\\Users\\admin\\gits\\scratchbook\\CausalAbstraction\\src\\bandit_agents.py:146: RuntimeWarning: divide by zero encountered in divide\n",
      "  U = self.c * np.sqrt( np.log(np.sum(self.action_counter)) / self.action_counter  )\n",
      "100%|██████████████████████████████████████████████████████████████████████████████████████████████████| 20/20 [25:01<00:00, 75.08s/it]\n"
     ]
    }
   ],
   "source": [
    "for t in tqdm(range(n_trials)):\n",
    "    ag0 = CTr.run_trial(bandits[0],n_steps,trainalg[0],\n",
    "                        {k: params[k][0] for k in params.keys()},\n",
    "                        map_actions,map_rewards,map_ydomains)\n",
    "    agents[0].append(ag0)\n",
    "    \n",
    "    for i in range(1,len(labels)):\n",
    "        ag = CTr.run_trial(bandits[i],n_steps,trainalg[i],\n",
    "                           {k: params[k][i] for k in params.keys()},\n",
    "                            map_actions,map_rewards,map_ydomains,base_bandit=ag0)\n",
    "        agents[i].append(ag)\n",
    "    \n",
    "    "
   ]
  },
  {
   "cell_type": "markdown",
   "id": "1d957d5e",
   "metadata": {},
   "source": [
    "# Persistence"
   ]
  },
  {
   "cell_type": "code",
   "execution_count": 16,
   "id": "bf9a2905",
   "metadata": {},
   "outputs": [],
   "source": [
    "stats = {simulparams[i]: eval(simulparams[i]) for i in range(len(simulparams))}"
   ]
  },
  {
   "cell_type": "raw",
   "id": "049ae67b",
   "metadata": {},
   "source": [
    "joblib.dump(stats,'results/{0}.pkl'.format(simulname))"
   ]
  },
  {
   "cell_type": "markdown",
   "id": "0e4bb16a",
   "metadata": {},
   "source": [
    "# Evaluation of the results"
   ]
  },
  {
   "cell_type": "code",
   "execution_count": 17,
   "id": "59c34174",
   "metadata": {},
   "outputs": [],
   "source": [
    "import matplotlib\n",
    "font = {'family' : 'sans-serif',\n",
    "        'weight' : 'normal',\n",
    "        'size'   : 18}\n",
    "\n",
    "plt.rc('font', **font)"
   ]
  },
  {
   "cell_type": "code",
   "execution_count": 18,
   "id": "ce351977",
   "metadata": {
    "scrolled": true
   },
   "outputs": [
    {
     "data": {
      "image/png": "[encoded data removed]",
      "text/plain": [
       "<Figure size 640x480 with 1 Axes>"
      ]
     },
     "metadata": {},
     "output_type": "display_data"
    }
   ],
   "source": [
    "style = ['-','--',':','-.']\n",
    "for i in [1,2,3,4]:\n",
    "    cumregrets = [agents[i][j].get_cumulative_regret() for j in range(len(agents[i]))]\n",
    "    avg = np.mean(cumregrets,axis=0)\n",
    "    std = np.std(cumregrets,axis=0)\n",
    "\n",
    "    plt.plot(np.arange(n_steps),avg,label=labels[i],color=\"C{}\".format(i),linestyle=style[i-1])\n",
    "    plt.fill_between(np.arange(n_steps),avg+std,avg-std, color='C{}'.format(i), alpha=0.3)\n",
    "    plt.xlabel('Steps')\n",
    "    plt.ylabel('Cumulative regret')\n",
    "    plt.legend()\n",
    "    plt.ylim([-20,60])"
   ]
  },
  {
   "cell_type": "code",
   "execution_count": null,
   "id": "d6d444ce",
   "metadata": {},
   "outputs": [],
   "source": []
  },
  {
   "cell_type": "code",
   "execution_count": 19,
   "id": "ce2285d7",
   "metadata": {
    "scrolled": true
   },
   "outputs": [
    {
     "data": {
      "image/png": "[encoded data removed]",
      "text/plain": [
       "<Figure size 640x480 with 1 Axes>"
      ]
     },
     "metadata": {},
     "output_type": "display_data"
    }
   ],
   "source": [
    "style = ['-','--',':','-.']\n",
    "for i in [1,2,3,4]:\n",
    "    cumregrets = [agents[i][j].get_cumulative_regret() for j in range(len(agents[i]))]\n",
    "    avg = np.mean(cumregrets,axis=0)\n",
    "\n",
    "    plt.plot(np.arange(n_steps)[0::100],avg[0::100],label=labels[i],color=\"C{}\".format(i),linestyle=style[i-1])\n",
    "    plt.xlabel('Steps')\n",
    "    plt.ylabel('Cumulative regret')\n",
    "    plt.legend()\n",
    "    plt.ylim([-20,60])"
   ]
  },
  {
   "cell_type": "markdown",
   "id": "53463e79",
   "metadata": {},
   "source": [
    "### Plot data persistence "
   ]
  },
  {
   "cell_type": "code",
   "execution_count": 20,
   "id": "d334ea24",
   "metadata": {},
   "outputs": [
    {
     "data": {
      "text/plain": [
       "['proj CARLa 3_0/results/simul_5_1_avgcumregrets.pkl']"
      ]
     },
     "execution_count": 20,
     "metadata": {},
     "output_type": "execute_result"
    }
   ],
   "source": [
    "avgcumregrets = []\n",
    "for i in [1,2,3,4]:\n",
    "    cumregrets = np.array([agents[i][j].get_cumulative_regret() for j in range(len(agents[i]))])\n",
    "    avgcumregrets.append(np.mean(cumregrets,axis=0))\n",
    "joblib.dump(avgcumregrets,'proj CARLa 3_0/results/simul_5_1_avgcumregrets.pkl')"
   ]
  },
  {
   "cell_type": "code",
   "execution_count": 21,
   "id": "2ea1403b",
   "metadata": {},
   "outputs": [
    {
     "data": {
      "text/plain": [
       "[[-0.30144770800720927,\n",
       "  -0.1991482570405781,\n",
       "  -0.1557563792223738,\n",
       "  0.10082708443758182],\n",
       " [1.0264477080072094,\n",
       "  1.0133075490759766,\n",
       "  0.955756379222374,\n",
       "  0.9571775559336466]]"
      ]
     },
     "execution_count": 21,
     "metadata": {},
     "output_type": "execute_result"
    }
   ],
   "source": [
    "agents[4][0].bounds"
   ]
  },
  {
   "cell_type": "code",
   "execution_count": 23,
   "id": "b2f20c1a",
   "metadata": {},
   "outputs": [
    {
     "data": {
      "text/plain": [
       "[0.4333333333333333,\n",
       " 0.4333333333333333,\n",
       " 0.4244444444444444,\n",
       " 0.41333333333333333,\n",
       " 0.4822222222222222,\n",
       " 0.5022222222222222]"
      ]
     },
     "execution_count": 23,
     "metadata": {},
     "output_type": "execute_result"
    }
   ],
   "source": [
    "agents[0][0].env.expct_rewards"
   ]
  },
  {
   "cell_type": "code",
   "execution_count": 25,
   "id": "1a173ab3",
   "metadata": {},
   "outputs": [
    {
     "data": {
      "text/plain": [
       "{0: 0, 1: 1, 2: 2, 3: 2, 4: 3, 5: 3}"
      ]
     },
     "execution_count": 25,
     "metadata": {},
     "output_type": "execute_result"
    }
   ],
   "source": [
    "map_actions"
   ]
  },
  {
   "cell_type": "code",
   "execution_count": 22,
   "id": "8eafcaf8",
   "metadata": {},
   "outputs": [
    {
     "data": {
      "text/plain": [
       "[0.42333333333333334,\n",
       " 0.4183333333333334,\n",
       " 0.3966666666666667,\n",
       " 0.47000000000000003]"
      ]
     },
     "execution_count": 22,
     "metadata": {},
     "output_type": "execute_result"
    }
   ],
   "source": [
    "agents[1][0].env.expct_rewards"
   ]
  },
  {
   "cell_type": "code",
   "execution_count": null,
   "id": "392c379d",
   "metadata": {},
   "outputs": [],
   "source": []
  }
 ],
 "metadata": {
  "kernelspec": {
   "display_name": "Python 3 (ipykernel)",
   "language": "python",
   "name": "python3"
  },
  "language_info": {
   "codemirror_mode": {
    "name": "ipython",
    "version": 3
   },
   "file_extension": ".py",
   "mimetype": "text/x-python",
   "name": "python",
   "nbconvert_exporter": "python",
   "pygments_lexer": "ipython3",
   "version": "3.10.13"
  },
  "toc": {
   "base_numbering": 1,
   "nav_menu": {},
   "number_sections": true,
   "sideBar": true,
   "skip_h1_title": false,
   "title_cell": "Table of Contents",
   "title_sidebar": "Contents",
   "toc_cell": false,
   "toc_position": {
    "height": "calc(100% - 180px)",
    "left": "10px",
    "top": "150px",
    "width": "262.202px"
   },
   "toc_section_display": true,
   "toc_window_display": false
  }
 },
 "nbformat": 4,
 "nbformat_minor": 5
}
