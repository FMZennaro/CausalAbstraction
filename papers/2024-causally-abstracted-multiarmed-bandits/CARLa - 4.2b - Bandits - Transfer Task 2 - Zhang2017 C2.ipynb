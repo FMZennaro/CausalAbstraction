{
 "cells": [
  {
   "cell_type": "markdown",
   "id": "9cfa79e3",
   "metadata": {},
   "source": [
    "# CARL Bandits\n",
    "\n",
    "Using an extension of $\\alpha_{Y'}$ to transfer $Q$."
   ]
  },
  {
   "cell_type": "markdown",
   "id": "72890c77",
   "metadata": {},
   "source": [
    "## Setup\n",
    "\n",
    "Let us start by importing a couple of generic libraries."
   ]
  },
  {
   "cell_type": "code",
   "execution_count": 1,
   "id": "443a8f5f",
   "metadata": {},
   "outputs": [],
   "source": [
    "import os\n",
    "os.chdir(os.path.abspath(os.path.pardir))\n",
    "\n",
    "import warnings\n",
    "warnings.simplefilter(action='ignore', category=FutureWarning)"
   ]
  },
  {
   "cell_type": "code",
   "execution_count": 2,
   "id": "a32e7c60",
   "metadata": {},
   "outputs": [
    {
     "name": "stderr",
     "output_type": "stream",
     "text": [
      "INFO:numexpr.utils:Note: NumExpr detected 12 cores but \"NUMEXPR_MAX_THREADS\" not set, so enforcing safe limit of 8.\n",
      "INFO:numexpr.utils:NumExpr defaulting to 8 threads.\n"
     ]
    }
   ],
   "source": [
    "import numpy as np\n",
    "import matplotlib.pyplot as plt\n",
    "import joblib\n",
    "import ot\n",
    "from tqdm import tqdm\n",
    "\n",
    "from src.SCMMappings import Abstraction\n",
    "from src.measuring import ICEvaluator\n",
    "from src.examples import smokingmodels as sm\n",
    "import src.evaluationsets as esets\n",
    "\n",
    "import src.bandit_envs as BE\n",
    "import src.bandit_agents as BA\n",
    "import CARLa_trials as CTr\n",
    "import CARLa_plots as Cplt\n",
    "import CARLa_abserr as Cae"
   ]
  },
  {
   "cell_type": "code",
   "execution_count": 3,
   "id": "e77713bb",
   "metadata": {},
   "outputs": [],
   "source": [
    "np.random.seed(0)"
   ]
  },
  {
   "cell_type": "markdown",
   "id": "bc308652",
   "metadata": {},
   "source": [
    "## Model setup"
   ]
  },
  {
   "cell_type": "code",
   "execution_count": 4,
   "id": "9b1c8669",
   "metadata": {},
   "outputs": [],
   "source": [
    "from src.CBN import CausalBayesianNetwork as CBN\n",
    "from pgmpy.factors.discrete import TabularCPD as cpd"
   ]
  },
  {
   "cell_type": "code",
   "execution_count": 5,
   "id": "7a9d8afa",
   "metadata": {},
   "outputs": [
    {
     "data": {
      "text/plain": [
       "True"
      ]
     },
     "execution_count": 5,
     "metadata": {},
     "output_type": "execute_result"
    }
   ],
   "source": [
    "U = 'U'; X='X'; Y='Y'; Z='Z'\n",
    "M0 = CBN([(U,X),(U,Y),(X,Y),(Z,X)])\n",
    "\n",
    "cpdU = cpd(variable=U,\n",
    "          variable_card=2,\n",
    "          values=np.array([[.5],[.5]]),\n",
    "          evidence=None,\n",
    "          evidence_card=None)\n",
    "cpdZ = cpd(variable=Z,\n",
    "          variable_card=2,\n",
    "          values=np.array([[.5],[.5]]),\n",
    "          evidence=None,\n",
    "          evidence_card=None)\n",
    "cpdX = cpd(variable=X,\n",
    "          variable_card=2,\n",
    "          values=np.array([[1,0,0,1.],[0,1,1,0]]),\n",
    "          evidence=[U,Z],\n",
    "          evidence_card=[2,2])\n",
    "cpdY = cpd(variable=Y,\n",
    "          variable_card=2,\n",
    "          values=np.array([[.1,.6,.3,.2],[.9,.4,.7,.8]]),\n",
    "          evidence=[U,X],\n",
    "          evidence_card=[2,2])\n",
    "\n",
    "M0.add_cpds(cpdU,cpdZ,cpdX,cpdY)\n",
    "M0.check_model()"
   ]
  },
  {
   "cell_type": "code",
   "execution_count": 6,
   "id": "1979a68e",
   "metadata": {},
   "outputs": [
    {
     "data": {
      "text/plain": [
       "True"
      ]
     },
     "execution_count": 6,
     "metadata": {},
     "output_type": "execute_result"
    }
   ],
   "source": [
    "U = 'U_'; X='X_'; Y='Y_'\n",
    "M1 = CBN([(U,Y),(X,Y)])\n",
    "\n",
    "cpdU = cpd(variable=U,\n",
    "          variable_card=2,\n",
    "          values=np.array([[.5],[.5]]),\n",
    "          evidence=None,\n",
    "          evidence_card=None)\n",
    "cpdX = cpd(variable=X,\n",
    "          variable_card=2,\n",
    "          values=np.array([[.5],[.5]]),\n",
    "          evidence=None,\n",
    "          evidence_card=None)\n",
    "cpdY = cpd(variable=Y,\n",
    "          variable_card=2,\n",
    "          values=np.array([[.1,.6,.3,.2],[.9,.4,.7,.8]]),\n",
    "          evidence=[U,X],\n",
    "          evidence_card=[2,2])\n",
    "\n",
    "M1.add_cpds(cpdU,cpdX,cpdY)\n",
    "M1.check_model()"
   ]
  },
  {
   "cell_type": "code",
   "execution_count": 7,
   "id": "9e7ed111",
   "metadata": {},
   "outputs": [],
   "source": [
    "R = ['U','X','Y']\n",
    "a = {'U': 'U_',\n",
    "    'X': 'X_',\n",
    "    'Y': 'Y_'}\n",
    "alphas = {'U_': np.eye(2),\n",
    "          'X_': np.eye(2),\n",
    "          'Y_': np.eye(2)}"
   ]
  },
  {
   "cell_type": "code",
   "execution_count": 8,
   "id": "f29355f4",
   "metadata": {},
   "outputs": [],
   "source": [
    "map_rewards = {i:np.argmax(alphas['Y_'][:,i]) for i in range(alphas['Y_'].shape[1])}\n",
    "    \n",
    "ydomain0 = lambda x:x\n",
    "ydomain1 = lambda x:x\n",
    "map_ydomains = {ydomain0(i):ydomain1(j) for i,j in map_rewards.items()}\n",
    "\n",
    "actions0=[{'X':0}, {'X':1}]\n",
    "actions1=[{'X_':0}, {'X_':1}]\n",
    "map_actions = {0: 0, 1: 1}"
   ]
  },
  {
   "cell_type": "code",
   "execution_count": 9,
   "id": "8054d0da",
   "metadata": {},
   "outputs": [],
   "source": [
    "def metricW2(p,q):\n",
    "    Dy1 = np.array([ydomain0(i) for i in map_rewards.values()])\n",
    "    \n",
    "    if p.ndim == 1:\n",
    "        return ot.wasserstein_1d(Dy1,Dy1,p,q,p=2)\n",
    "    else:\n",
    "        ws = []\n",
    "        for i in range(p.shape[1]):\n",
    "            w = ot.wasserstein_1d(Dy0,Dy1,p[:,i],q[:,i],p=2)\n",
    "            ws.append(w)\n",
    "        return ws"
   ]
  },
  {
   "cell_type": "code",
   "execution_count": 10,
   "id": "4ba648be",
   "metadata": {},
   "outputs": [
    {
     "data": {
      "text/plain": [
       "0.0"
      ]
     },
     "execution_count": 10,
     "metadata": {},
     "output_type": "execute_result"
    }
   ],
   "source": [
    "Ab = Abstraction(M0,M1,R,a,alphas)\n",
    "Ae = ICEvaluator(Ab,metric=metricW2)\n",
    "J = esets.get_causal_sets_in_M0_with_directed_path_in_M1_and_M0(Ab.M0,Ab.M1,Ab.a)\n",
    "Ae.compute_overall_error(J)"
   ]
  },
  {
   "cell_type": "markdown",
   "id": "3090ec2d",
   "metadata": {},
   "source": [
    "## Experiment settings"
   ]
  },
  {
   "cell_type": "code",
   "execution_count": 11,
   "id": "f6d1ba62",
   "metadata": {},
   "outputs": [],
   "source": [
    "params_to_save_start = set(dir())\n",
    "simulname = 'simul_4_3'\n",
    "\n",
    "n_trials = 20\n",
    "n_steps = 500"
   ]
  },
  {
   "cell_type": "markdown",
   "id": "ee6ab368",
   "metadata": {},
   "source": [
    "## CAMAB settings"
   ]
  },
  {
   "cell_type": "markdown",
   "id": "85243a97",
   "metadata": {},
   "source": [
    "### Bandits setting"
   ]
  },
  {
   "cell_type": "code",
   "execution_count": 12,
   "id": "32bac12b",
   "metadata": {},
   "outputs": [],
   "source": [
    "B0 = BE.SCMEnv(scm=Ab.M0, actions=actions0, target='Y', ydomain=ydomain0)\n",
    "B1 = BE.SCMEnv(scm=Ab.M1, actions=actions1, target='Y_', ydomain=ydomain1)"
   ]
  },
  {
   "cell_type": "markdown",
   "id": "a02be051",
   "metadata": {},
   "source": [
    "### Learning setting"
   ]
  },
  {
   "cell_type": "code",
   "execution_count": 13,
   "id": "241033d5",
   "metadata": {},
   "outputs": [],
   "source": [
    "bandits = [B1,B0,B1,B1,B1,B1]\n",
    "\n",
    "labels = ['M1: transfer', 'M0: ucb', 'M1: ucb', 'M1: transfer-optimum', 'M1: imitation', 'M1: Qextension']\n",
    "trainalg = ['ucb_bounds', 'ucb', 'ucb', 'transfer-optimum', 'imitation', 'transfer-expval']\n",
    "params = {}\n",
    "\n",
    "# Alg params\n",
    "params['Qinit'] = [BA.initialize_Q_ones,BA.initialize_Q_ones,BA.initialize_Q_ones,None,BA.initialize_Q_ones,None]\n",
    "params['Qtransferstep'] = [None,None,None,None,None,-1]\n",
    "params['abserr'] = [None,None,None,None,None,Ae.compute_overall_error(J)]\n",
    "params['delta'] = [None,None,None,None,None,0.01]\n",
    "\n",
    "# UCB params\n",
    "params['c'] = [1.0] * len(labels)"
   ]
  },
  {
   "cell_type": "markdown",
   "id": "e63903ef",
   "metadata": {},
   "source": [
    "## Statistics settings"
   ]
  },
  {
   "cell_type": "code",
   "execution_count": 14,
   "id": "9740f807",
   "metadata": {},
   "outputs": [],
   "source": [
    "agents = [[] for _ in range(len(labels))]\n",
    "\n",
    "params_to_save = set(dir()) - params_to_save_start\n",
    "simulparams = [s for s in params_to_save if s[0]!='_']"
   ]
  },
  {
   "cell_type": "markdown",
   "id": "8378b5b6",
   "metadata": {},
   "source": [
    "# Transfer Training"
   ]
  },
  {
   "cell_type": "code",
   "execution_count": 15,
   "id": "43c794f7",
   "metadata": {},
   "outputs": [],
   "source": [
    "lbounds = [0.5,0.4]\n",
    "hbounds = [0.85,0.7]"
   ]
  },
  {
   "cell_type": "code",
   "execution_count": 16,
   "id": "3dc114df",
   "metadata": {},
   "outputs": [],
   "source": [
    "bounds = [lbounds,hbounds]"
   ]
  },
  {
   "cell_type": "code",
   "execution_count": 17,
   "id": "4d0ea68d",
   "metadata": {},
   "outputs": [],
   "source": [
    "params['bounds'] = [bounds,None,None,None,None,None]"
   ]
  },
  {
   "cell_type": "code",
   "execution_count": 18,
   "id": "9ff0e070",
   "metadata": {},
   "outputs": [
    {
     "name": "stderr",
     "output_type": "stream",
     "text": [
      "  0%|                                                                                                           | 0/20 [00:00<?, ?it/s]C:\\Users\\admin\\gits\\scratchbook\\CausalAbstraction\\src\\bandit_agents.py:182: RuntimeWarning: divide by zero encountered in log\n",
      "  U = self.Q + self.c * np.sqrt( np.log(np.sum(self.action_counter)) / self.action_counter )\n",
      "C:\\Users\\admin\\gits\\scratchbook\\CausalAbstraction\\src\\bandit_agents.py:182: RuntimeWarning: invalid value encountered in sqrt\n",
      "  U = self.Q + self.c * np.sqrt( np.log(np.sum(self.action_counter)) / self.action_counter )\n",
      "C:\\Users\\admin\\gits\\scratchbook\\CausalAbstraction\\src\\bandit_agents.py:182: RuntimeWarning: invalid value encountered in divide\n",
      "  U = self.Q + self.c * np.sqrt( np.log(np.sum(self.action_counter)) / self.action_counter )\n",
      "  5%|████▉                                                                                              | 1/20 [00:04<01:22,  4.34s/it]C:\\Users\\admin\\gits\\scratchbook\\CausalAbstraction\\src\\bandit_agents.py:182: RuntimeWarning: divide by zero encountered in log\n",
      "  U = self.Q + self.c * np.sqrt( np.log(np.sum(self.action_counter)) / self.action_counter )\n",
      "C:\\Users\\admin\\gits\\scratchbook\\CausalAbstraction\\src\\bandit_agents.py:182: RuntimeWarning: invalid value encountered in sqrt\n",
      "  U = self.Q + self.c * np.sqrt( np.log(np.sum(self.action_counter)) / self.action_counter )\n",
      "C:\\Users\\admin\\gits\\scratchbook\\CausalAbstraction\\src\\bandit_agents.py:182: RuntimeWarning: invalid value encountered in divide\n",
      "  U = self.Q + self.c * np.sqrt( np.log(np.sum(self.action_counter)) / self.action_counter )\n",
      " 10%|█████████▉                                                                                         | 2/20 [00:08<01:21,  4.52s/it]C:\\Users\\admin\\gits\\scratchbook\\CausalAbstraction\\src\\bandit_agents.py:182: RuntimeWarning: divide by zero encountered in log\n",
      "  U = self.Q + self.c * np.sqrt( np.log(np.sum(self.action_counter)) / self.action_counter )\n",
      "C:\\Users\\admin\\gits\\scratchbook\\CausalAbstraction\\src\\bandit_agents.py:182: RuntimeWarning: invalid value encountered in sqrt\n",
      "  U = self.Q + self.c * np.sqrt( np.log(np.sum(self.action_counter)) / self.action_counter )\n",
      "C:\\Users\\admin\\gits\\scratchbook\\CausalAbstraction\\src\\bandit_agents.py:182: RuntimeWarning: invalid value encountered in divide\n",
      "  U = self.Q + self.c * np.sqrt( np.log(np.sum(self.action_counter)) / self.action_counter )\n",
      " 15%|██████████████▊                                                                                    | 3/20 [00:13<01:16,  4.53s/it]C:\\Users\\admin\\gits\\scratchbook\\CausalAbstraction\\src\\bandit_agents.py:182: RuntimeWarning: divide by zero encountered in log\n",
      "  U = self.Q + self.c * np.sqrt( np.log(np.sum(self.action_counter)) / self.action_counter )\n",
      "C:\\Users\\admin\\gits\\scratchbook\\CausalAbstraction\\src\\bandit_agents.py:182: RuntimeWarning: invalid value encountered in sqrt\n",
      "  U = self.Q + self.c * np.sqrt( np.log(np.sum(self.action_counter)) / self.action_counter )\n",
      "C:\\Users\\admin\\gits\\scratchbook\\CausalAbstraction\\src\\bandit_agents.py:182: RuntimeWarning: invalid value encountered in divide\n",
      "  U = self.Q + self.c * np.sqrt( np.log(np.sum(self.action_counter)) / self.action_counter )\n",
      " 20%|███████████████████▊                                                                               | 4/20 [00:17<01:10,  4.43s/it]C:\\Users\\admin\\gits\\scratchbook\\CausalAbstraction\\src\\bandit_agents.py:182: RuntimeWarning: divide by zero encountered in log\n",
      "  U = self.Q + self.c * np.sqrt( np.log(np.sum(self.action_counter)) / self.action_counter )\n",
      "C:\\Users\\admin\\gits\\scratchbook\\CausalAbstraction\\src\\bandit_agents.py:182: RuntimeWarning: invalid value encountered in sqrt\n",
      "  U = self.Q + self.c * np.sqrt( np.log(np.sum(self.action_counter)) / self.action_counter )\n",
      "C:\\Users\\admin\\gits\\scratchbook\\CausalAbstraction\\src\\bandit_agents.py:182: RuntimeWarning: invalid value encountered in divide\n",
      "  U = self.Q + self.c * np.sqrt( np.log(np.sum(self.action_counter)) / self.action_counter )\n",
      " 25%|████████████████████████▊                                                                          | 5/20 [00:22<01:05,  4.38s/it]C:\\Users\\admin\\gits\\scratchbook\\CausalAbstraction\\src\\bandit_agents.py:182: RuntimeWarning: divide by zero encountered in log\n",
      "  U = self.Q + self.c * np.sqrt( np.log(np.sum(self.action_counter)) / self.action_counter )\n",
      "C:\\Users\\admin\\gits\\scratchbook\\CausalAbstraction\\src\\bandit_agents.py:182: RuntimeWarning: invalid value encountered in sqrt\n",
      "  U = self.Q + self.c * np.sqrt( np.log(np.sum(self.action_counter)) / self.action_counter )\n",
      "C:\\Users\\admin\\gits\\scratchbook\\CausalAbstraction\\src\\bandit_agents.py:182: RuntimeWarning: invalid value encountered in divide\n",
      "  U = self.Q + self.c * np.sqrt( np.log(np.sum(self.action_counter)) / self.action_counter )\n",
      " 30%|█████████████████████████████▋                                                                     | 6/20 [00:26<01:01,  4.37s/it]C:\\Users\\admin\\gits\\scratchbook\\CausalAbstraction\\src\\bandit_agents.py:182: RuntimeWarning: divide by zero encountered in log\n",
      "  U = self.Q + self.c * np.sqrt( np.log(np.sum(self.action_counter)) / self.action_counter )\n",
      "C:\\Users\\admin\\gits\\scratchbook\\CausalAbstraction\\src\\bandit_agents.py:182: RuntimeWarning: invalid value encountered in sqrt\n",
      "  U = self.Q + self.c * np.sqrt( np.log(np.sum(self.action_counter)) / self.action_counter )\n",
      "C:\\Users\\admin\\gits\\scratchbook\\CausalAbstraction\\src\\bandit_agents.py:182: RuntimeWarning: invalid value encountered in divide\n",
      "  U = self.Q + self.c * np.sqrt( np.log(np.sum(self.action_counter)) / self.action_counter )\n",
      " 35%|██████████████████████████████████▋                                                                | 7/20 [00:30<00:56,  4.33s/it]C:\\Users\\admin\\gits\\scratchbook\\CausalAbstraction\\src\\bandit_agents.py:182: RuntimeWarning: divide by zero encountered in log\n",
      "  U = self.Q + self.c * np.sqrt( np.log(np.sum(self.action_counter)) / self.action_counter )\n",
      "C:\\Users\\admin\\gits\\scratchbook\\CausalAbstraction\\src\\bandit_agents.py:182: RuntimeWarning: invalid value encountered in sqrt\n",
      "  U = self.Q + self.c * np.sqrt( np.log(np.sum(self.action_counter)) / self.action_counter )\n",
      "C:\\Users\\admin\\gits\\scratchbook\\CausalAbstraction\\src\\bandit_agents.py:182: RuntimeWarning: invalid value encountered in divide\n",
      "  U = self.Q + self.c * np.sqrt( np.log(np.sum(self.action_counter)) / self.action_counter )\n",
      " 40%|███████████████████████████████████████▌                                                           | 8/20 [00:34<00:51,  4.30s/it]C:\\Users\\admin\\gits\\scratchbook\\CausalAbstraction\\src\\bandit_agents.py:182: RuntimeWarning: divide by zero encountered in log\n",
      "  U = self.Q + self.c * np.sqrt( np.log(np.sum(self.action_counter)) / self.action_counter )\n",
      "C:\\Users\\admin\\gits\\scratchbook\\CausalAbstraction\\src\\bandit_agents.py:182: RuntimeWarning: invalid value encountered in sqrt\n",
      "  U = self.Q + self.c * np.sqrt( np.log(np.sum(self.action_counter)) / self.action_counter )\n",
      "C:\\Users\\admin\\gits\\scratchbook\\CausalAbstraction\\src\\bandit_agents.py:182: RuntimeWarning: invalid value encountered in divide\n",
      "  U = self.Q + self.c * np.sqrt( np.log(np.sum(self.action_counter)) / self.action_counter )\n",
      " 45%|████████████████████████████████████████████▌                                                      | 9/20 [00:39<00:47,  4.28s/it]C:\\Users\\admin\\gits\\scratchbook\\CausalAbstraction\\src\\bandit_agents.py:182: RuntimeWarning: divide by zero encountered in log\n",
      "  U = self.Q + self.c * np.sqrt( np.log(np.sum(self.action_counter)) / self.action_counter )\n",
      "C:\\Users\\admin\\gits\\scratchbook\\CausalAbstraction\\src\\bandit_agents.py:182: RuntimeWarning: invalid value encountered in sqrt\n",
      "  U = self.Q + self.c * np.sqrt( np.log(np.sum(self.action_counter)) / self.action_counter )\n",
      "C:\\Users\\admin\\gits\\scratchbook\\CausalAbstraction\\src\\bandit_agents.py:182: RuntimeWarning: invalid value encountered in divide\n",
      "  U = self.Q + self.c * np.sqrt( np.log(np.sum(self.action_counter)) / self.action_counter )\n",
      " 50%|█████████████████████████████████████████████████                                                 | 10/20 [00:43<00:42,  4.28s/it]C:\\Users\\admin\\gits\\scratchbook\\CausalAbstraction\\src\\bandit_agents.py:182: RuntimeWarning: divide by zero encountered in log\n",
      "  U = self.Q + self.c * np.sqrt( np.log(np.sum(self.action_counter)) / self.action_counter )\n",
      "C:\\Users\\admin\\gits\\scratchbook\\CausalAbstraction\\src\\bandit_agents.py:182: RuntimeWarning: invalid value encountered in sqrt\n",
      "  U = self.Q + self.c * np.sqrt( np.log(np.sum(self.action_counter)) / self.action_counter )\n",
      "C:\\Users\\admin\\gits\\scratchbook\\CausalAbstraction\\src\\bandit_agents.py:182: RuntimeWarning: invalid value encountered in divide\n",
      "  U = self.Q + self.c * np.sqrt( np.log(np.sum(self.action_counter)) / self.action_counter )\n"
     ]
    },
    {
     "name": "stderr",
     "output_type": "stream",
     "text": [
      " 55%|█████████████████████████████████████████████████████▉                                            | 11/20 [00:47<00:38,  4.29s/it]C:\\Users\\admin\\gits\\scratchbook\\CausalAbstraction\\src\\bandit_agents.py:182: RuntimeWarning: divide by zero encountered in log\n",
      "  U = self.Q + self.c * np.sqrt( np.log(np.sum(self.action_counter)) / self.action_counter )\n",
      "C:\\Users\\admin\\gits\\scratchbook\\CausalAbstraction\\src\\bandit_agents.py:182: RuntimeWarning: invalid value encountered in sqrt\n",
      "  U = self.Q + self.c * np.sqrt( np.log(np.sum(self.action_counter)) / self.action_counter )\n",
      "C:\\Users\\admin\\gits\\scratchbook\\CausalAbstraction\\src\\bandit_agents.py:182: RuntimeWarning: invalid value encountered in divide\n",
      "  U = self.Q + self.c * np.sqrt( np.log(np.sum(self.action_counter)) / self.action_counter )\n",
      " 60%|██████████████████████████████████████████████████████████▊                                       | 12/20 [00:52<00:34,  4.30s/it]C:\\Users\\admin\\gits\\scratchbook\\CausalAbstraction\\src\\bandit_agents.py:182: RuntimeWarning: divide by zero encountered in log\n",
      "  U = self.Q + self.c * np.sqrt( np.log(np.sum(self.action_counter)) / self.action_counter )\n",
      "C:\\Users\\admin\\gits\\scratchbook\\CausalAbstraction\\src\\bandit_agents.py:182: RuntimeWarning: invalid value encountered in sqrt\n",
      "  U = self.Q + self.c * np.sqrt( np.log(np.sum(self.action_counter)) / self.action_counter )\n",
      "C:\\Users\\admin\\gits\\scratchbook\\CausalAbstraction\\src\\bandit_agents.py:182: RuntimeWarning: invalid value encountered in divide\n",
      "  U = self.Q + self.c * np.sqrt( np.log(np.sum(self.action_counter)) / self.action_counter )\n",
      " 65%|███████████████████████████████████████████████████████████████▋                                  | 13/20 [00:56<00:29,  4.28s/it]C:\\Users\\admin\\gits\\scratchbook\\CausalAbstraction\\src\\bandit_agents.py:182: RuntimeWarning: divide by zero encountered in log\n",
      "  U = self.Q + self.c * np.sqrt( np.log(np.sum(self.action_counter)) / self.action_counter )\n",
      "C:\\Users\\admin\\gits\\scratchbook\\CausalAbstraction\\src\\bandit_agents.py:182: RuntimeWarning: invalid value encountered in sqrt\n",
      "  U = self.Q + self.c * np.sqrt( np.log(np.sum(self.action_counter)) / self.action_counter )\n",
      "C:\\Users\\admin\\gits\\scratchbook\\CausalAbstraction\\src\\bandit_agents.py:182: RuntimeWarning: invalid value encountered in divide\n",
      "  U = self.Q + self.c * np.sqrt( np.log(np.sum(self.action_counter)) / self.action_counter )\n",
      " 70%|████████████████████████████████████████████████████████████████████▌                             | 14/20 [01:00<00:25,  4.25s/it]C:\\Users\\admin\\gits\\scratchbook\\CausalAbstraction\\src\\bandit_agents.py:182: RuntimeWarning: divide by zero encountered in log\n",
      "  U = self.Q + self.c * np.sqrt( np.log(np.sum(self.action_counter)) / self.action_counter )\n",
      "C:\\Users\\admin\\gits\\scratchbook\\CausalAbstraction\\src\\bandit_agents.py:182: RuntimeWarning: invalid value encountered in sqrt\n",
      "  U = self.Q + self.c * np.sqrt( np.log(np.sum(self.action_counter)) / self.action_counter )\n",
      "C:\\Users\\admin\\gits\\scratchbook\\CausalAbstraction\\src\\bandit_agents.py:182: RuntimeWarning: invalid value encountered in divide\n",
      "  U = self.Q + self.c * np.sqrt( np.log(np.sum(self.action_counter)) / self.action_counter )\n",
      " 75%|█████████████████████████████████████████████████████████████████████████▌                        | 15/20 [01:04<00:21,  4.28s/it]C:\\Users\\admin\\gits\\scratchbook\\CausalAbstraction\\src\\bandit_agents.py:182: RuntimeWarning: divide by zero encountered in log\n",
      "  U = self.Q + self.c * np.sqrt( np.log(np.sum(self.action_counter)) / self.action_counter )\n",
      "C:\\Users\\admin\\gits\\scratchbook\\CausalAbstraction\\src\\bandit_agents.py:182: RuntimeWarning: invalid value encountered in sqrt\n",
      "  U = self.Q + self.c * np.sqrt( np.log(np.sum(self.action_counter)) / self.action_counter )\n",
      "C:\\Users\\admin\\gits\\scratchbook\\CausalAbstraction\\src\\bandit_agents.py:182: RuntimeWarning: invalid value encountered in divide\n",
      "  U = self.Q + self.c * np.sqrt( np.log(np.sum(self.action_counter)) / self.action_counter )\n",
      " 80%|██████████████████████████████████████████████████████████████████████████████▍                   | 16/20 [01:09<00:17,  4.28s/it]C:\\Users\\admin\\gits\\scratchbook\\CausalAbstraction\\src\\bandit_agents.py:182: RuntimeWarning: divide by zero encountered in log\n",
      "  U = self.Q + self.c * np.sqrt( np.log(np.sum(self.action_counter)) / self.action_counter )\n",
      "C:\\Users\\admin\\gits\\scratchbook\\CausalAbstraction\\src\\bandit_agents.py:182: RuntimeWarning: invalid value encountered in sqrt\n",
      "  U = self.Q + self.c * np.sqrt( np.log(np.sum(self.action_counter)) / self.action_counter )\n",
      "C:\\Users\\admin\\gits\\scratchbook\\CausalAbstraction\\src\\bandit_agents.py:182: RuntimeWarning: invalid value encountered in divide\n",
      "  U = self.Q + self.c * np.sqrt( np.log(np.sum(self.action_counter)) / self.action_counter )\n",
      " 85%|███████████████████████████████████████████████████████████████████████████████████▎              | 17/20 [01:13<00:12,  4.28s/it]C:\\Users\\admin\\gits\\scratchbook\\CausalAbstraction\\src\\bandit_agents.py:182: RuntimeWarning: divide by zero encountered in log\n",
      "  U = self.Q + self.c * np.sqrt( np.log(np.sum(self.action_counter)) / self.action_counter )\n",
      "C:\\Users\\admin\\gits\\scratchbook\\CausalAbstraction\\src\\bandit_agents.py:182: RuntimeWarning: invalid value encountered in sqrt\n",
      "  U = self.Q + self.c * np.sqrt( np.log(np.sum(self.action_counter)) / self.action_counter )\n",
      "C:\\Users\\admin\\gits\\scratchbook\\CausalAbstraction\\src\\bandit_agents.py:182: RuntimeWarning: invalid value encountered in divide\n",
      "  U = self.Q + self.c * np.sqrt( np.log(np.sum(self.action_counter)) / self.action_counter )\n",
      " 90%|████████████████████████████████████████████████████████████████████████████████████████▏         | 18/20 [01:17<00:08,  4.27s/it]C:\\Users\\admin\\gits\\scratchbook\\CausalAbstraction\\src\\bandit_agents.py:182: RuntimeWarning: divide by zero encountered in log\n",
      "  U = self.Q + self.c * np.sqrt( np.log(np.sum(self.action_counter)) / self.action_counter )\n",
      "C:\\Users\\admin\\gits\\scratchbook\\CausalAbstraction\\src\\bandit_agents.py:182: RuntimeWarning: invalid value encountered in sqrt\n",
      "  U = self.Q + self.c * np.sqrt( np.log(np.sum(self.action_counter)) / self.action_counter )\n",
      "C:\\Users\\admin\\gits\\scratchbook\\CausalAbstraction\\src\\bandit_agents.py:182: RuntimeWarning: invalid value encountered in divide\n",
      "  U = self.Q + self.c * np.sqrt( np.log(np.sum(self.action_counter)) / self.action_counter )\n",
      " 95%|█████████████████████████████████████████████████████████████████████████████████████████████     | 19/20 [01:21<00:04,  4.28s/it]C:\\Users\\admin\\gits\\scratchbook\\CausalAbstraction\\src\\bandit_agents.py:182: RuntimeWarning: divide by zero encountered in log\n",
      "  U = self.Q + self.c * np.sqrt( np.log(np.sum(self.action_counter)) / self.action_counter )\n",
      "C:\\Users\\admin\\gits\\scratchbook\\CausalAbstraction\\src\\bandit_agents.py:182: RuntimeWarning: invalid value encountered in sqrt\n",
      "  U = self.Q + self.c * np.sqrt( np.log(np.sum(self.action_counter)) / self.action_counter )\n",
      "C:\\Users\\admin\\gits\\scratchbook\\CausalAbstraction\\src\\bandit_agents.py:182: RuntimeWarning: invalid value encountered in divide\n",
      "  U = self.Q + self.c * np.sqrt( np.log(np.sum(self.action_counter)) / self.action_counter )\n",
      "100%|██████████████████████████████████████████████████████████████████████████████████████████████████| 20/20 [01:26<00:00,  4.31s/it]\n"
     ]
    }
   ],
   "source": [
    "for t in tqdm(range(n_trials)):\n",
    "    ag0 = CTr.run_trial(bandits[0],n_steps,trainalg[0],\n",
    "                        {k: params[k][0] for k in params.keys()},\n",
    "                        map_actions,map_rewards,map_ydomains)\n",
    "    agents[0].append(ag0)"
   ]
  },
  {
   "cell_type": "markdown",
   "id": "982c2f7a",
   "metadata": {},
   "source": [
    "# Abstraction Training"
   ]
  },
  {
   "cell_type": "code",
   "execution_count": 19,
   "id": "080c5c7f",
   "metadata": {
    "scrolled": true
   },
   "outputs": [
    {
     "name": "stderr",
     "output_type": "stream",
     "text": [
      "  0%|                                                                                                           | 0/20 [00:00<?, ?it/s]C:\\Users\\admin\\gits\\scratchbook\\CausalAbstraction\\src\\bandit_agents.py:146: RuntimeWarning: divide by zero encountered in log\n",
      "  U = self.c * np.sqrt( np.log(np.sum(self.action_counter)) / self.action_counter  )\n",
      "C:\\Users\\admin\\gits\\scratchbook\\CausalAbstraction\\src\\bandit_agents.py:146: RuntimeWarning: invalid value encountered in sqrt\n",
      "  U = self.c * np.sqrt( np.log(np.sum(self.action_counter)) / self.action_counter  )\n",
      "C:\\Users\\admin\\gits\\scratchbook\\CausalAbstraction\\src\\bandit_agents.py:146: RuntimeWarning: invalid value encountered in divide\n",
      "  U = self.c * np.sqrt( np.log(np.sum(self.action_counter)) / self.action_counter  )\n",
      "C:\\Users\\admin\\gits\\scratchbook\\CausalAbstraction\\src\\bandit_agents.py:146: RuntimeWarning: divide by zero encountered in log\n",
      "  U = self.c * np.sqrt( np.log(np.sum(self.action_counter)) / self.action_counter  )\n",
      "C:\\Users\\admin\\gits\\scratchbook\\CausalAbstraction\\src\\bandit_agents.py:146: RuntimeWarning: invalid value encountered in sqrt\n",
      "  U = self.c * np.sqrt( np.log(np.sum(self.action_counter)) / self.action_counter  )\n",
      "C:\\Users\\admin\\gits\\scratchbook\\CausalAbstraction\\src\\bandit_agents.py:146: RuntimeWarning: invalid value encountered in divide\n",
      "  U = self.c * np.sqrt( np.log(np.sum(self.action_counter)) / self.action_counter  )\n",
      "C:\\Users\\admin\\gits\\scratchbook\\CausalAbstraction\\src\\bandit_agents.py:146: RuntimeWarning: divide by zero encountered in log\n",
      "  U = self.c * np.sqrt( np.log(np.sum(self.action_counter)) / self.action_counter  )\n",
      "C:\\Users\\admin\\gits\\scratchbook\\CausalAbstraction\\src\\bandit_agents.py:146: RuntimeWarning: invalid value encountered in sqrt\n",
      "  U = self.c * np.sqrt( np.log(np.sum(self.action_counter)) / self.action_counter  )\n",
      "C:\\Users\\admin\\gits\\scratchbook\\CausalAbstraction\\src\\bandit_agents.py:146: RuntimeWarning: invalid value encountered in divide\n",
      "  U = self.c * np.sqrt( np.log(np.sum(self.action_counter)) / self.action_counter  )\n",
      "  5%|████▉                                                                                              | 1/20 [00:23<07:27, 23.54s/it]C:\\Users\\admin\\gits\\scratchbook\\CausalAbstraction\\src\\bandit_agents.py:146: RuntimeWarning: divide by zero encountered in log\n",
      "  U = self.c * np.sqrt( np.log(np.sum(self.action_counter)) / self.action_counter  )\n",
      "C:\\Users\\admin\\gits\\scratchbook\\CausalAbstraction\\src\\bandit_agents.py:146: RuntimeWarning: invalid value encountered in sqrt\n",
      "  U = self.c * np.sqrt( np.log(np.sum(self.action_counter)) / self.action_counter  )\n",
      "C:\\Users\\admin\\gits\\scratchbook\\CausalAbstraction\\src\\bandit_agents.py:146: RuntimeWarning: invalid value encountered in divide\n",
      "  U = self.c * np.sqrt( np.log(np.sum(self.action_counter)) / self.action_counter  )\n",
      "C:\\Users\\admin\\gits\\scratchbook\\CausalAbstraction\\src\\bandit_agents.py:146: RuntimeWarning: divide by zero encountered in log\n",
      "  U = self.c * np.sqrt( np.log(np.sum(self.action_counter)) / self.action_counter  )\n",
      "C:\\Users\\admin\\gits\\scratchbook\\CausalAbstraction\\src\\bandit_agents.py:146: RuntimeWarning: invalid value encountered in sqrt\n",
      "  U = self.c * np.sqrt( np.log(np.sum(self.action_counter)) / self.action_counter  )\n",
      "C:\\Users\\admin\\gits\\scratchbook\\CausalAbstraction\\src\\bandit_agents.py:146: RuntimeWarning: invalid value encountered in divide\n",
      "  U = self.c * np.sqrt( np.log(np.sum(self.action_counter)) / self.action_counter  )\n",
      "C:\\Users\\admin\\gits\\scratchbook\\CausalAbstraction\\src\\bandit_agents.py:146: RuntimeWarning: divide by zero encountered in log\n",
      "  U = self.c * np.sqrt( np.log(np.sum(self.action_counter)) / self.action_counter  )\n",
      "C:\\Users\\admin\\gits\\scratchbook\\CausalAbstraction\\src\\bandit_agents.py:146: RuntimeWarning: invalid value encountered in sqrt\n",
      "  U = self.c * np.sqrt( np.log(np.sum(self.action_counter)) / self.action_counter  )\n",
      "C:\\Users\\admin\\gits\\scratchbook\\CausalAbstraction\\src\\bandit_agents.py:146: RuntimeWarning: invalid value encountered in divide\n",
      "  U = self.c * np.sqrt( np.log(np.sum(self.action_counter)) / self.action_counter  )\n",
      " 10%|█████████▉                                                                                         | 2/20 [00:46<06:52, 22.94s/it]C:\\Users\\admin\\gits\\scratchbook\\CausalAbstraction\\src\\bandit_agents.py:146: RuntimeWarning: divide by zero encountered in log\n",
      "  U = self.c * np.sqrt( np.log(np.sum(self.action_counter)) / self.action_counter  )\n",
      "C:\\Users\\admin\\gits\\scratchbook\\CausalAbstraction\\src\\bandit_agents.py:146: RuntimeWarning: invalid value encountered in sqrt\n",
      "  U = self.c * np.sqrt( np.log(np.sum(self.action_counter)) / self.action_counter  )\n",
      "C:\\Users\\admin\\gits\\scratchbook\\CausalAbstraction\\src\\bandit_agents.py:146: RuntimeWarning: invalid value encountered in divide\n",
      "  U = self.c * np.sqrt( np.log(np.sum(self.action_counter)) / self.action_counter  )\n",
      "C:\\Users\\admin\\gits\\scratchbook\\CausalAbstraction\\src\\bandit_agents.py:146: RuntimeWarning: divide by zero encountered in log\n",
      "  U = self.c * np.sqrt( np.log(np.sum(self.action_counter)) / self.action_counter  )\n",
      "C:\\Users\\admin\\gits\\scratchbook\\CausalAbstraction\\src\\bandit_agents.py:146: RuntimeWarning: invalid value encountered in sqrt\n",
      "  U = self.c * np.sqrt( np.log(np.sum(self.action_counter)) / self.action_counter  )\n",
      "C:\\Users\\admin\\gits\\scratchbook\\CausalAbstraction\\src\\bandit_agents.py:146: RuntimeWarning: invalid value encountered in divide\n",
      "  U = self.c * np.sqrt( np.log(np.sum(self.action_counter)) / self.action_counter  )\n",
      "C:\\Users\\admin\\gits\\scratchbook\\CausalAbstraction\\src\\bandit_agents.py:146: RuntimeWarning: divide by zero encountered in log\n",
      "  U = self.c * np.sqrt( np.log(np.sum(self.action_counter)) / self.action_counter  )\n",
      "C:\\Users\\admin\\gits\\scratchbook\\CausalAbstraction\\src\\bandit_agents.py:146: RuntimeWarning: invalid value encountered in sqrt\n",
      "  U = self.c * np.sqrt( np.log(np.sum(self.action_counter)) / self.action_counter  )\n",
      "C:\\Users\\admin\\gits\\scratchbook\\CausalAbstraction\\src\\bandit_agents.py:146: RuntimeWarning: invalid value encountered in divide\n",
      "  U = self.c * np.sqrt( np.log(np.sum(self.action_counter)) / self.action_counter  )\n",
      " 15%|██████████████▊                                                                                    | 3/20 [01:08<06:26, 22.73s/it]C:\\Users\\admin\\gits\\scratchbook\\CausalAbstraction\\src\\bandit_agents.py:146: RuntimeWarning: divide by zero encountered in log\n",
      "  U = self.c * np.sqrt( np.log(np.sum(self.action_counter)) / self.action_counter  )\n",
      "C:\\Users\\admin\\gits\\scratchbook\\CausalAbstraction\\src\\bandit_agents.py:146: RuntimeWarning: invalid value encountered in sqrt\n",
      "  U = self.c * np.sqrt( np.log(np.sum(self.action_counter)) / self.action_counter  )\n",
      "C:\\Users\\admin\\gits\\scratchbook\\CausalAbstraction\\src\\bandit_agents.py:146: RuntimeWarning: invalid value encountered in divide\n",
      "  U = self.c * np.sqrt( np.log(np.sum(self.action_counter)) / self.action_counter  )\n",
      "C:\\Users\\admin\\gits\\scratchbook\\CausalAbstraction\\src\\bandit_agents.py:146: RuntimeWarning: divide by zero encountered in log\n",
      "  U = self.c * np.sqrt( np.log(np.sum(self.action_counter)) / self.action_counter  )\n",
      "C:\\Users\\admin\\gits\\scratchbook\\CausalAbstraction\\src\\bandit_agents.py:146: RuntimeWarning: invalid value encountered in sqrt\n",
      "  U = self.c * np.sqrt( np.log(np.sum(self.action_counter)) / self.action_counter  )\n",
      "C:\\Users\\admin\\gits\\scratchbook\\CausalAbstraction\\src\\bandit_agents.py:146: RuntimeWarning: invalid value encountered in divide\n",
      "  U = self.c * np.sqrt( np.log(np.sum(self.action_counter)) / self.action_counter  )\n",
      "C:\\Users\\admin\\gits\\scratchbook\\CausalAbstraction\\src\\bandit_agents.py:146: RuntimeWarning: divide by zero encountered in log\n",
      "  U = self.c * np.sqrt( np.log(np.sum(self.action_counter)) / self.action_counter  )\n",
      "C:\\Users\\admin\\gits\\scratchbook\\CausalAbstraction\\src\\bandit_agents.py:146: RuntimeWarning: invalid value encountered in sqrt\n",
      "  U = self.c * np.sqrt( np.log(np.sum(self.action_counter)) / self.action_counter  )\n",
      "C:\\Users\\admin\\gits\\scratchbook\\CausalAbstraction\\src\\bandit_agents.py:146: RuntimeWarning: invalid value encountered in divide\n",
      "  U = self.c * np.sqrt( np.log(np.sum(self.action_counter)) / self.action_counter  )\n"
     ]
    },
    {
     "name": "stderr",
     "output_type": "stream",
     "text": [
      " 20%|███████████████████▊                                                                               | 4/20 [01:32<06:09, 23.10s/it]C:\\Users\\admin\\gits\\scratchbook\\CausalAbstraction\\src\\bandit_agents.py:146: RuntimeWarning: divide by zero encountered in log\n",
      "  U = self.c * np.sqrt( np.log(np.sum(self.action_counter)) / self.action_counter  )\n",
      "C:\\Users\\admin\\gits\\scratchbook\\CausalAbstraction\\src\\bandit_agents.py:146: RuntimeWarning: invalid value encountered in sqrt\n",
      "  U = self.c * np.sqrt( np.log(np.sum(self.action_counter)) / self.action_counter  )\n",
      "C:\\Users\\admin\\gits\\scratchbook\\CausalAbstraction\\src\\bandit_agents.py:146: RuntimeWarning: invalid value encountered in divide\n",
      "  U = self.c * np.sqrt( np.log(np.sum(self.action_counter)) / self.action_counter  )\n",
      "C:\\Users\\admin\\gits\\scratchbook\\CausalAbstraction\\src\\bandit_agents.py:146: RuntimeWarning: divide by zero encountered in log\n",
      "  U = self.c * np.sqrt( np.log(np.sum(self.action_counter)) / self.action_counter  )\n",
      "C:\\Users\\admin\\gits\\scratchbook\\CausalAbstraction\\src\\bandit_agents.py:146: RuntimeWarning: invalid value encountered in sqrt\n",
      "  U = self.c * np.sqrt( np.log(np.sum(self.action_counter)) / self.action_counter  )\n",
      "C:\\Users\\admin\\gits\\scratchbook\\CausalAbstraction\\src\\bandit_agents.py:146: RuntimeWarning: invalid value encountered in divide\n",
      "  U = self.c * np.sqrt( np.log(np.sum(self.action_counter)) / self.action_counter  )\n",
      "C:\\Users\\admin\\gits\\scratchbook\\CausalAbstraction\\src\\bandit_agents.py:146: RuntimeWarning: divide by zero encountered in log\n",
      "  U = self.c * np.sqrt( np.log(np.sum(self.action_counter)) / self.action_counter  )\n",
      "C:\\Users\\admin\\gits\\scratchbook\\CausalAbstraction\\src\\bandit_agents.py:146: RuntimeWarning: invalid value encountered in sqrt\n",
      "  U = self.c * np.sqrt( np.log(np.sum(self.action_counter)) / self.action_counter  )\n",
      "C:\\Users\\admin\\gits\\scratchbook\\CausalAbstraction\\src\\bandit_agents.py:146: RuntimeWarning: invalid value encountered in divide\n",
      "  U = self.c * np.sqrt( np.log(np.sum(self.action_counter)) / self.action_counter  )\n",
      " 25%|████████████████████████▊                                                                          | 5/20 [01:56<05:54, 23.64s/it]C:\\Users\\admin\\gits\\scratchbook\\CausalAbstraction\\src\\bandit_agents.py:146: RuntimeWarning: divide by zero encountered in log\n",
      "  U = self.c * np.sqrt( np.log(np.sum(self.action_counter)) / self.action_counter  )\n",
      "C:\\Users\\admin\\gits\\scratchbook\\CausalAbstraction\\src\\bandit_agents.py:146: RuntimeWarning: invalid value encountered in sqrt\n",
      "  U = self.c * np.sqrt( np.log(np.sum(self.action_counter)) / self.action_counter  )\n",
      "C:\\Users\\admin\\gits\\scratchbook\\CausalAbstraction\\src\\bandit_agents.py:146: RuntimeWarning: invalid value encountered in divide\n",
      "  U = self.c * np.sqrt( np.log(np.sum(self.action_counter)) / self.action_counter  )\n",
      "C:\\Users\\admin\\gits\\scratchbook\\CausalAbstraction\\src\\bandit_agents.py:146: RuntimeWarning: divide by zero encountered in log\n",
      "  U = self.c * np.sqrt( np.log(np.sum(self.action_counter)) / self.action_counter  )\n",
      "C:\\Users\\admin\\gits\\scratchbook\\CausalAbstraction\\src\\bandit_agents.py:146: RuntimeWarning: invalid value encountered in sqrt\n",
      "  U = self.c * np.sqrt( np.log(np.sum(self.action_counter)) / self.action_counter  )\n",
      "C:\\Users\\admin\\gits\\scratchbook\\CausalAbstraction\\src\\bandit_agents.py:146: RuntimeWarning: invalid value encountered in divide\n",
      "  U = self.c * np.sqrt( np.log(np.sum(self.action_counter)) / self.action_counter  )\n",
      "C:\\Users\\admin\\gits\\scratchbook\\CausalAbstraction\\src\\bandit_agents.py:146: RuntimeWarning: divide by zero encountered in log\n",
      "  U = self.c * np.sqrt( np.log(np.sum(self.action_counter)) / self.action_counter  )\n",
      "C:\\Users\\admin\\gits\\scratchbook\\CausalAbstraction\\src\\bandit_agents.py:146: RuntimeWarning: invalid value encountered in sqrt\n",
      "  U = self.c * np.sqrt( np.log(np.sum(self.action_counter)) / self.action_counter  )\n",
      "C:\\Users\\admin\\gits\\scratchbook\\CausalAbstraction\\src\\bandit_agents.py:146: RuntimeWarning: invalid value encountered in divide\n",
      "  U = self.c * np.sqrt( np.log(np.sum(self.action_counter)) / self.action_counter  )\n",
      " 30%|█████████████████████████████▋                                                                     | 6/20 [02:19<05:25, 23.26s/it]C:\\Users\\admin\\gits\\scratchbook\\CausalAbstraction\\src\\bandit_agents.py:146: RuntimeWarning: divide by zero encountered in log\n",
      "  U = self.c * np.sqrt( np.log(np.sum(self.action_counter)) / self.action_counter  )\n",
      "C:\\Users\\admin\\gits\\scratchbook\\CausalAbstraction\\src\\bandit_agents.py:146: RuntimeWarning: invalid value encountered in sqrt\n",
      "  U = self.c * np.sqrt( np.log(np.sum(self.action_counter)) / self.action_counter  )\n",
      "C:\\Users\\admin\\gits\\scratchbook\\CausalAbstraction\\src\\bandit_agents.py:146: RuntimeWarning: invalid value encountered in divide\n",
      "  U = self.c * np.sqrt( np.log(np.sum(self.action_counter)) / self.action_counter  )\n",
      "C:\\Users\\admin\\gits\\scratchbook\\CausalAbstraction\\src\\bandit_agents.py:146: RuntimeWarning: divide by zero encountered in log\n",
      "  U = self.c * np.sqrt( np.log(np.sum(self.action_counter)) / self.action_counter  )\n",
      "C:\\Users\\admin\\gits\\scratchbook\\CausalAbstraction\\src\\bandit_agents.py:146: RuntimeWarning: invalid value encountered in sqrt\n",
      "  U = self.c * np.sqrt( np.log(np.sum(self.action_counter)) / self.action_counter  )\n",
      "C:\\Users\\admin\\gits\\scratchbook\\CausalAbstraction\\src\\bandit_agents.py:146: RuntimeWarning: invalid value encountered in divide\n",
      "  U = self.c * np.sqrt( np.log(np.sum(self.action_counter)) / self.action_counter  )\n",
      "C:\\Users\\admin\\gits\\scratchbook\\CausalAbstraction\\src\\bandit_agents.py:146: RuntimeWarning: divide by zero encountered in log\n",
      "  U = self.c * np.sqrt( np.log(np.sum(self.action_counter)) / self.action_counter  )\n",
      "C:\\Users\\admin\\gits\\scratchbook\\CausalAbstraction\\src\\bandit_agents.py:146: RuntimeWarning: invalid value encountered in sqrt\n",
      "  U = self.c * np.sqrt( np.log(np.sum(self.action_counter)) / self.action_counter  )\n",
      "C:\\Users\\admin\\gits\\scratchbook\\CausalAbstraction\\src\\bandit_agents.py:146: RuntimeWarning: invalid value encountered in divide\n",
      "  U = self.c * np.sqrt( np.log(np.sum(self.action_counter)) / self.action_counter  )\n",
      " 35%|██████████████████████████████████▋                                                                | 7/20 [02:42<04:59, 23.07s/it]C:\\Users\\admin\\gits\\scratchbook\\CausalAbstraction\\src\\bandit_agents.py:146: RuntimeWarning: divide by zero encountered in log\n",
      "  U = self.c * np.sqrt( np.log(np.sum(self.action_counter)) / self.action_counter  )\n",
      "C:\\Users\\admin\\gits\\scratchbook\\CausalAbstraction\\src\\bandit_agents.py:146: RuntimeWarning: invalid value encountered in sqrt\n",
      "  U = self.c * np.sqrt( np.log(np.sum(self.action_counter)) / self.action_counter  )\n",
      "C:\\Users\\admin\\gits\\scratchbook\\CausalAbstraction\\src\\bandit_agents.py:146: RuntimeWarning: invalid value encountered in divide\n",
      "  U = self.c * np.sqrt( np.log(np.sum(self.action_counter)) / self.action_counter  )\n",
      "C:\\Users\\admin\\gits\\scratchbook\\CausalAbstraction\\src\\bandit_agents.py:146: RuntimeWarning: divide by zero encountered in log\n",
      "  U = self.c * np.sqrt( np.log(np.sum(self.action_counter)) / self.action_counter  )\n",
      "C:\\Users\\admin\\gits\\scratchbook\\CausalAbstraction\\src\\bandit_agents.py:146: RuntimeWarning: invalid value encountered in sqrt\n",
      "  U = self.c * np.sqrt( np.log(np.sum(self.action_counter)) / self.action_counter  )\n",
      "C:\\Users\\admin\\gits\\scratchbook\\CausalAbstraction\\src\\bandit_agents.py:146: RuntimeWarning: invalid value encountered in divide\n",
      "  U = self.c * np.sqrt( np.log(np.sum(self.action_counter)) / self.action_counter  )\n",
      "C:\\Users\\admin\\gits\\scratchbook\\CausalAbstraction\\src\\bandit_agents.py:146: RuntimeWarning: divide by zero encountered in log\n",
      "  U = self.c * np.sqrt( np.log(np.sum(self.action_counter)) / self.action_counter  )\n",
      "C:\\Users\\admin\\gits\\scratchbook\\CausalAbstraction\\src\\bandit_agents.py:146: RuntimeWarning: invalid value encountered in sqrt\n",
      "  U = self.c * np.sqrt( np.log(np.sum(self.action_counter)) / self.action_counter  )\n",
      "C:\\Users\\admin\\gits\\scratchbook\\CausalAbstraction\\src\\bandit_agents.py:146: RuntimeWarning: invalid value encountered in divide\n",
      "  U = self.c * np.sqrt( np.log(np.sum(self.action_counter)) / self.action_counter  )\n"
     ]
    },
    {
     "name": "stderr",
     "output_type": "stream",
     "text": [
      " 40%|███████████████████████████████████████▌                                                           | 8/20 [03:04<04:36, 23.00s/it]C:\\Users\\admin\\gits\\scratchbook\\CausalAbstraction\\src\\bandit_agents.py:146: RuntimeWarning: divide by zero encountered in log\n",
      "  U = self.c * np.sqrt( np.log(np.sum(self.action_counter)) / self.action_counter  )\n",
      "C:\\Users\\admin\\gits\\scratchbook\\CausalAbstraction\\src\\bandit_agents.py:146: RuntimeWarning: invalid value encountered in sqrt\n",
      "  U = self.c * np.sqrt( np.log(np.sum(self.action_counter)) / self.action_counter  )\n",
      "C:\\Users\\admin\\gits\\scratchbook\\CausalAbstraction\\src\\bandit_agents.py:146: RuntimeWarning: invalid value encountered in divide\n",
      "  U = self.c * np.sqrt( np.log(np.sum(self.action_counter)) / self.action_counter  )\n",
      "C:\\Users\\admin\\gits\\scratchbook\\CausalAbstraction\\src\\bandit_agents.py:146: RuntimeWarning: divide by zero encountered in log\n",
      "  U = self.c * np.sqrt( np.log(np.sum(self.action_counter)) / self.action_counter  )\n",
      "C:\\Users\\admin\\gits\\scratchbook\\CausalAbstraction\\src\\bandit_agents.py:146: RuntimeWarning: invalid value encountered in sqrt\n",
      "  U = self.c * np.sqrt( np.log(np.sum(self.action_counter)) / self.action_counter  )\n",
      "C:\\Users\\admin\\gits\\scratchbook\\CausalAbstraction\\src\\bandit_agents.py:146: RuntimeWarning: invalid value encountered in divide\n",
      "  U = self.c * np.sqrt( np.log(np.sum(self.action_counter)) / self.action_counter  )\n",
      "C:\\Users\\admin\\gits\\scratchbook\\CausalAbstraction\\src\\bandit_agents.py:146: RuntimeWarning: divide by zero encountered in log\n",
      "  U = self.c * np.sqrt( np.log(np.sum(self.action_counter)) / self.action_counter  )\n",
      "C:\\Users\\admin\\gits\\scratchbook\\CausalAbstraction\\src\\bandit_agents.py:146: RuntimeWarning: invalid value encountered in sqrt\n",
      "  U = self.c * np.sqrt( np.log(np.sum(self.action_counter)) / self.action_counter  )\n",
      "C:\\Users\\admin\\gits\\scratchbook\\CausalAbstraction\\src\\bandit_agents.py:146: RuntimeWarning: invalid value encountered in divide\n",
      "  U = self.c * np.sqrt( np.log(np.sum(self.action_counter)) / self.action_counter  )\n",
      " 45%|████████████████████████████████████████████▌                                                      | 9/20 [03:27<04:12, 22.93s/it]C:\\Users\\admin\\gits\\scratchbook\\CausalAbstraction\\src\\bandit_agents.py:146: RuntimeWarning: divide by zero encountered in log\n",
      "  U = self.c * np.sqrt( np.log(np.sum(self.action_counter)) / self.action_counter  )\n",
      "C:\\Users\\admin\\gits\\scratchbook\\CausalAbstraction\\src\\bandit_agents.py:146: RuntimeWarning: invalid value encountered in sqrt\n",
      "  U = self.c * np.sqrt( np.log(np.sum(self.action_counter)) / self.action_counter  )\n",
      "C:\\Users\\admin\\gits\\scratchbook\\CausalAbstraction\\src\\bandit_agents.py:146: RuntimeWarning: invalid value encountered in divide\n",
      "  U = self.c * np.sqrt( np.log(np.sum(self.action_counter)) / self.action_counter  )\n",
      "C:\\Users\\admin\\gits\\scratchbook\\CausalAbstraction\\src\\bandit_agents.py:146: RuntimeWarning: divide by zero encountered in log\n",
      "  U = self.c * np.sqrt( np.log(np.sum(self.action_counter)) / self.action_counter  )\n",
      "C:\\Users\\admin\\gits\\scratchbook\\CausalAbstraction\\src\\bandit_agents.py:146: RuntimeWarning: invalid value encountered in sqrt\n",
      "  U = self.c * np.sqrt( np.log(np.sum(self.action_counter)) / self.action_counter  )\n",
      "C:\\Users\\admin\\gits\\scratchbook\\CausalAbstraction\\src\\bandit_agents.py:146: RuntimeWarning: invalid value encountered in divide\n",
      "  U = self.c * np.sqrt( np.log(np.sum(self.action_counter)) / self.action_counter  )\n",
      "C:\\Users\\admin\\gits\\scratchbook\\CausalAbstraction\\src\\bandit_agents.py:146: RuntimeWarning: divide by zero encountered in log\n",
      "  U = self.c * np.sqrt( np.log(np.sum(self.action_counter)) / self.action_counter  )\n",
      "C:\\Users\\admin\\gits\\scratchbook\\CausalAbstraction\\src\\bandit_agents.py:146: RuntimeWarning: invalid value encountered in sqrt\n",
      "  U = self.c * np.sqrt( np.log(np.sum(self.action_counter)) / self.action_counter  )\n",
      "C:\\Users\\admin\\gits\\scratchbook\\CausalAbstraction\\src\\bandit_agents.py:146: RuntimeWarning: invalid value encountered in divide\n",
      "  U = self.c * np.sqrt( np.log(np.sum(self.action_counter)) / self.action_counter  )\n",
      " 50%|█████████████████████████████████████████████████                                                 | 10/20 [03:50<03:49, 22.96s/it]C:\\Users\\admin\\gits\\scratchbook\\CausalAbstraction\\src\\bandit_agents.py:146: RuntimeWarning: divide by zero encountered in log\n",
      "  U = self.c * np.sqrt( np.log(np.sum(self.action_counter)) / self.action_counter  )\n",
      "C:\\Users\\admin\\gits\\scratchbook\\CausalAbstraction\\src\\bandit_agents.py:146: RuntimeWarning: invalid value encountered in sqrt\n",
      "  U = self.c * np.sqrt( np.log(np.sum(self.action_counter)) / self.action_counter  )\n",
      "C:\\Users\\admin\\gits\\scratchbook\\CausalAbstraction\\src\\bandit_agents.py:146: RuntimeWarning: invalid value encountered in divide\n",
      "  U = self.c * np.sqrt( np.log(np.sum(self.action_counter)) / self.action_counter  )\n",
      "C:\\Users\\admin\\gits\\scratchbook\\CausalAbstraction\\src\\bandit_agents.py:146: RuntimeWarning: divide by zero encountered in log\n",
      "  U = self.c * np.sqrt( np.log(np.sum(self.action_counter)) / self.action_counter  )\n",
      "C:\\Users\\admin\\gits\\scratchbook\\CausalAbstraction\\src\\bandit_agents.py:146: RuntimeWarning: invalid value encountered in sqrt\n",
      "  U = self.c * np.sqrt( np.log(np.sum(self.action_counter)) / self.action_counter  )\n",
      "C:\\Users\\admin\\gits\\scratchbook\\CausalAbstraction\\src\\bandit_agents.py:146: RuntimeWarning: invalid value encountered in divide\n",
      "  U = self.c * np.sqrt( np.log(np.sum(self.action_counter)) / self.action_counter  )\n",
      "C:\\Users\\admin\\gits\\scratchbook\\CausalAbstraction\\src\\bandit_agents.py:146: RuntimeWarning: divide by zero encountered in log\n",
      "  U = self.c * np.sqrt( np.log(np.sum(self.action_counter)) / self.action_counter  )\n",
      "C:\\Users\\admin\\gits\\scratchbook\\CausalAbstraction\\src\\bandit_agents.py:146: RuntimeWarning: invalid value encountered in sqrt\n",
      "  U = self.c * np.sqrt( np.log(np.sum(self.action_counter)) / self.action_counter  )\n",
      "C:\\Users\\admin\\gits\\scratchbook\\CausalAbstraction\\src\\bandit_agents.py:146: RuntimeWarning: invalid value encountered in divide\n",
      "  U = self.c * np.sqrt( np.log(np.sum(self.action_counter)) / self.action_counter  )\n",
      " 55%|█████████████████████████████████████████████████████▉                                            | 11/20 [04:14<03:28, 23.13s/it]C:\\Users\\admin\\gits\\scratchbook\\CausalAbstraction\\src\\bandit_agents.py:146: RuntimeWarning: divide by zero encountered in log\n",
      "  U = self.c * np.sqrt( np.log(np.sum(self.action_counter)) / self.action_counter  )\n",
      "C:\\Users\\admin\\gits\\scratchbook\\CausalAbstraction\\src\\bandit_agents.py:146: RuntimeWarning: invalid value encountered in sqrt\n",
      "  U = self.c * np.sqrt( np.log(np.sum(self.action_counter)) / self.action_counter  )\n",
      "C:\\Users\\admin\\gits\\scratchbook\\CausalAbstraction\\src\\bandit_agents.py:146: RuntimeWarning: invalid value encountered in divide\n",
      "  U = self.c * np.sqrt( np.log(np.sum(self.action_counter)) / self.action_counter  )\n",
      "C:\\Users\\admin\\gits\\scratchbook\\CausalAbstraction\\src\\bandit_agents.py:146: RuntimeWarning: divide by zero encountered in log\n",
      "  U = self.c * np.sqrt( np.log(np.sum(self.action_counter)) / self.action_counter  )\n",
      "C:\\Users\\admin\\gits\\scratchbook\\CausalAbstraction\\src\\bandit_agents.py:146: RuntimeWarning: invalid value encountered in sqrt\n",
      "  U = self.c * np.sqrt( np.log(np.sum(self.action_counter)) / self.action_counter  )\n",
      "C:\\Users\\admin\\gits\\scratchbook\\CausalAbstraction\\src\\bandit_agents.py:146: RuntimeWarning: invalid value encountered in divide\n",
      "  U = self.c * np.sqrt( np.log(np.sum(self.action_counter)) / self.action_counter  )\n",
      "C:\\Users\\admin\\gits\\scratchbook\\CausalAbstraction\\src\\bandit_agents.py:146: RuntimeWarning: divide by zero encountered in log\n",
      "  U = self.c * np.sqrt( np.log(np.sum(self.action_counter)) / self.action_counter  )\n",
      "C:\\Users\\admin\\gits\\scratchbook\\CausalAbstraction\\src\\bandit_agents.py:146: RuntimeWarning: invalid value encountered in sqrt\n",
      "  U = self.c * np.sqrt( np.log(np.sum(self.action_counter)) / self.action_counter  )\n",
      "C:\\Users\\admin\\gits\\scratchbook\\CausalAbstraction\\src\\bandit_agents.py:146: RuntimeWarning: invalid value encountered in divide\n",
      "  U = self.c * np.sqrt( np.log(np.sum(self.action_counter)) / self.action_counter  )\n"
     ]
    },
    {
     "name": "stderr",
     "output_type": "stream",
     "text": [
      " 60%|██████████████████████████████████████████████████████████▊                                       | 12/20 [04:39<03:09, 23.74s/it]C:\\Users\\admin\\gits\\scratchbook\\CausalAbstraction\\src\\bandit_agents.py:146: RuntimeWarning: divide by zero encountered in log\n",
      "  U = self.c * np.sqrt( np.log(np.sum(self.action_counter)) / self.action_counter  )\n",
      "C:\\Users\\admin\\gits\\scratchbook\\CausalAbstraction\\src\\bandit_agents.py:146: RuntimeWarning: invalid value encountered in sqrt\n",
      "  U = self.c * np.sqrt( np.log(np.sum(self.action_counter)) / self.action_counter  )\n",
      "C:\\Users\\admin\\gits\\scratchbook\\CausalAbstraction\\src\\bandit_agents.py:146: RuntimeWarning: invalid value encountered in divide\n",
      "  U = self.c * np.sqrt( np.log(np.sum(self.action_counter)) / self.action_counter  )\n",
      "C:\\Users\\admin\\gits\\scratchbook\\CausalAbstraction\\src\\bandit_agents.py:146: RuntimeWarning: divide by zero encountered in log\n",
      "  U = self.c * np.sqrt( np.log(np.sum(self.action_counter)) / self.action_counter  )\n",
      "C:\\Users\\admin\\gits\\scratchbook\\CausalAbstraction\\src\\bandit_agents.py:146: RuntimeWarning: invalid value encountered in sqrt\n",
      "  U = self.c * np.sqrt( np.log(np.sum(self.action_counter)) / self.action_counter  )\n",
      "C:\\Users\\admin\\gits\\scratchbook\\CausalAbstraction\\src\\bandit_agents.py:146: RuntimeWarning: invalid value encountered in divide\n",
      "  U = self.c * np.sqrt( np.log(np.sum(self.action_counter)) / self.action_counter  )\n",
      "C:\\Users\\admin\\gits\\scratchbook\\CausalAbstraction\\src\\bandit_agents.py:146: RuntimeWarning: divide by zero encountered in log\n",
      "  U = self.c * np.sqrt( np.log(np.sum(self.action_counter)) / self.action_counter  )\n",
      "C:\\Users\\admin\\gits\\scratchbook\\CausalAbstraction\\src\\bandit_agents.py:146: RuntimeWarning: invalid value encountered in sqrt\n",
      "  U = self.c * np.sqrt( np.log(np.sum(self.action_counter)) / self.action_counter  )\n",
      "C:\\Users\\admin\\gits\\scratchbook\\CausalAbstraction\\src\\bandit_agents.py:146: RuntimeWarning: invalid value encountered in divide\n",
      "  U = self.c * np.sqrt( np.log(np.sum(self.action_counter)) / self.action_counter  )\n",
      " 65%|███████████████████████████████████████████████████████████████▋                                  | 13/20 [05:04<02:49, 24.19s/it]C:\\Users\\admin\\gits\\scratchbook\\CausalAbstraction\\src\\bandit_agents.py:146: RuntimeWarning: divide by zero encountered in log\n",
      "  U = self.c * np.sqrt( np.log(np.sum(self.action_counter)) / self.action_counter  )\n",
      "C:\\Users\\admin\\gits\\scratchbook\\CausalAbstraction\\src\\bandit_agents.py:146: RuntimeWarning: invalid value encountered in sqrt\n",
      "  U = self.c * np.sqrt( np.log(np.sum(self.action_counter)) / self.action_counter  )\n",
      "C:\\Users\\admin\\gits\\scratchbook\\CausalAbstraction\\src\\bandit_agents.py:146: RuntimeWarning: invalid value encountered in divide\n",
      "  U = self.c * np.sqrt( np.log(np.sum(self.action_counter)) / self.action_counter  )\n",
      "C:\\Users\\admin\\gits\\scratchbook\\CausalAbstraction\\src\\bandit_agents.py:146: RuntimeWarning: divide by zero encountered in log\n",
      "  U = self.c * np.sqrt( np.log(np.sum(self.action_counter)) / self.action_counter  )\n",
      "C:\\Users\\admin\\gits\\scratchbook\\CausalAbstraction\\src\\bandit_agents.py:146: RuntimeWarning: invalid value encountered in sqrt\n",
      "  U = self.c * np.sqrt( np.log(np.sum(self.action_counter)) / self.action_counter  )\n",
      "C:\\Users\\admin\\gits\\scratchbook\\CausalAbstraction\\src\\bandit_agents.py:146: RuntimeWarning: invalid value encountered in divide\n",
      "  U = self.c * np.sqrt( np.log(np.sum(self.action_counter)) / self.action_counter  )\n",
      "C:\\Users\\admin\\gits\\scratchbook\\CausalAbstraction\\src\\bandit_agents.py:146: RuntimeWarning: divide by zero encountered in log\n",
      "  U = self.c * np.sqrt( np.log(np.sum(self.action_counter)) / self.action_counter  )\n",
      "C:\\Users\\admin\\gits\\scratchbook\\CausalAbstraction\\src\\bandit_agents.py:146: RuntimeWarning: invalid value encountered in sqrt\n",
      "  U = self.c * np.sqrt( np.log(np.sum(self.action_counter)) / self.action_counter  )\n",
      "C:\\Users\\admin\\gits\\scratchbook\\CausalAbstraction\\src\\bandit_agents.py:146: RuntimeWarning: invalid value encountered in divide\n",
      "  U = self.c * np.sqrt( np.log(np.sum(self.action_counter)) / self.action_counter  )\n",
      " 70%|████████████████████████████████████████████████████████████████████▌                             | 14/20 [05:28<02:24, 24.11s/it]C:\\Users\\admin\\gits\\scratchbook\\CausalAbstraction\\src\\bandit_agents.py:146: RuntimeWarning: divide by zero encountered in log\n",
      "  U = self.c * np.sqrt( np.log(np.sum(self.action_counter)) / self.action_counter  )\n",
      "C:\\Users\\admin\\gits\\scratchbook\\CausalAbstraction\\src\\bandit_agents.py:146: RuntimeWarning: invalid value encountered in sqrt\n",
      "  U = self.c * np.sqrt( np.log(np.sum(self.action_counter)) / self.action_counter  )\n",
      "C:\\Users\\admin\\gits\\scratchbook\\CausalAbstraction\\src\\bandit_agents.py:146: RuntimeWarning: invalid value encountered in divide\n",
      "  U = self.c * np.sqrt( np.log(np.sum(self.action_counter)) / self.action_counter  )\n",
      "C:\\Users\\admin\\gits\\scratchbook\\CausalAbstraction\\src\\bandit_agents.py:146: RuntimeWarning: divide by zero encountered in log\n",
      "  U = self.c * np.sqrt( np.log(np.sum(self.action_counter)) / self.action_counter  )\n",
      "C:\\Users\\admin\\gits\\scratchbook\\CausalAbstraction\\src\\bandit_agents.py:146: RuntimeWarning: invalid value encountered in sqrt\n",
      "  U = self.c * np.sqrt( np.log(np.sum(self.action_counter)) / self.action_counter  )\n",
      "C:\\Users\\admin\\gits\\scratchbook\\CausalAbstraction\\src\\bandit_agents.py:146: RuntimeWarning: invalid value encountered in divide\n",
      "  U = self.c * np.sqrt( np.log(np.sum(self.action_counter)) / self.action_counter  )\n",
      "C:\\Users\\admin\\gits\\scratchbook\\CausalAbstraction\\src\\bandit_agents.py:146: RuntimeWarning: divide by zero encountered in log\n",
      "  U = self.c * np.sqrt( np.log(np.sum(self.action_counter)) / self.action_counter  )\n",
      "C:\\Users\\admin\\gits\\scratchbook\\CausalAbstraction\\src\\bandit_agents.py:146: RuntimeWarning: invalid value encountered in sqrt\n",
      "  U = self.c * np.sqrt( np.log(np.sum(self.action_counter)) / self.action_counter  )\n",
      "C:\\Users\\admin\\gits\\scratchbook\\CausalAbstraction\\src\\bandit_agents.py:146: RuntimeWarning: invalid value encountered in divide\n",
      "  U = self.c * np.sqrt( np.log(np.sum(self.action_counter)) / self.action_counter  )\n",
      " 75%|█████████████████████████████████████████████████████████████████████████▌                        | 15/20 [05:53<02:02, 24.44s/it]C:\\Users\\admin\\gits\\scratchbook\\CausalAbstraction\\src\\bandit_agents.py:146: RuntimeWarning: divide by zero encountered in log\n",
      "  U = self.c * np.sqrt( np.log(np.sum(self.action_counter)) / self.action_counter  )\n",
      "C:\\Users\\admin\\gits\\scratchbook\\CausalAbstraction\\src\\bandit_agents.py:146: RuntimeWarning: invalid value encountered in sqrt\n",
      "  U = self.c * np.sqrt( np.log(np.sum(self.action_counter)) / self.action_counter  )\n",
      "C:\\Users\\admin\\gits\\scratchbook\\CausalAbstraction\\src\\bandit_agents.py:146: RuntimeWarning: invalid value encountered in divide\n",
      "  U = self.c * np.sqrt( np.log(np.sum(self.action_counter)) / self.action_counter  )\n",
      "C:\\Users\\admin\\gits\\scratchbook\\CausalAbstraction\\src\\bandit_agents.py:146: RuntimeWarning: divide by zero encountered in log\n",
      "  U = self.c * np.sqrt( np.log(np.sum(self.action_counter)) / self.action_counter  )\n",
      "C:\\Users\\admin\\gits\\scratchbook\\CausalAbstraction\\src\\bandit_agents.py:146: RuntimeWarning: invalid value encountered in sqrt\n",
      "  U = self.c * np.sqrt( np.log(np.sum(self.action_counter)) / self.action_counter  )\n",
      "C:\\Users\\admin\\gits\\scratchbook\\CausalAbstraction\\src\\bandit_agents.py:146: RuntimeWarning: invalid value encountered in divide\n",
      "  U = self.c * np.sqrt( np.log(np.sum(self.action_counter)) / self.action_counter  )\n",
      "C:\\Users\\admin\\gits\\scratchbook\\CausalAbstraction\\src\\bandit_agents.py:146: RuntimeWarning: divide by zero encountered in log\n",
      "  U = self.c * np.sqrt( np.log(np.sum(self.action_counter)) / self.action_counter  )\n",
      "C:\\Users\\admin\\gits\\scratchbook\\CausalAbstraction\\src\\bandit_agents.py:146: RuntimeWarning: invalid value encountered in sqrt\n",
      "  U = self.c * np.sqrt( np.log(np.sum(self.action_counter)) / self.action_counter  )\n",
      "C:\\Users\\admin\\gits\\scratchbook\\CausalAbstraction\\src\\bandit_agents.py:146: RuntimeWarning: invalid value encountered in divide\n",
      "  U = self.c * np.sqrt( np.log(np.sum(self.action_counter)) / self.action_counter  )\n"
     ]
    },
    {
     "name": "stderr",
     "output_type": "stream",
     "text": [
      " 80%|██████████████████████████████████████████████████████████████████████████████▍                   | 16/20 [06:20<01:40, 25.23s/it]C:\\Users\\admin\\gits\\scratchbook\\CausalAbstraction\\src\\bandit_agents.py:146: RuntimeWarning: divide by zero encountered in log\n",
      "  U = self.c * np.sqrt( np.log(np.sum(self.action_counter)) / self.action_counter  )\n",
      "C:\\Users\\admin\\gits\\scratchbook\\CausalAbstraction\\src\\bandit_agents.py:146: RuntimeWarning: invalid value encountered in sqrt\n",
      "  U = self.c * np.sqrt( np.log(np.sum(self.action_counter)) / self.action_counter  )\n",
      "C:\\Users\\admin\\gits\\scratchbook\\CausalAbstraction\\src\\bandit_agents.py:146: RuntimeWarning: invalid value encountered in divide\n",
      "  U = self.c * np.sqrt( np.log(np.sum(self.action_counter)) / self.action_counter  )\n",
      "C:\\Users\\admin\\gits\\scratchbook\\CausalAbstraction\\src\\bandit_agents.py:146: RuntimeWarning: divide by zero encountered in log\n",
      "  U = self.c * np.sqrt( np.log(np.sum(self.action_counter)) / self.action_counter  )\n",
      "C:\\Users\\admin\\gits\\scratchbook\\CausalAbstraction\\src\\bandit_agents.py:146: RuntimeWarning: invalid value encountered in sqrt\n",
      "  U = self.c * np.sqrt( np.log(np.sum(self.action_counter)) / self.action_counter  )\n",
      "C:\\Users\\admin\\gits\\scratchbook\\CausalAbstraction\\src\\bandit_agents.py:146: RuntimeWarning: invalid value encountered in divide\n",
      "  U = self.c * np.sqrt( np.log(np.sum(self.action_counter)) / self.action_counter  )\n",
      "C:\\Users\\admin\\gits\\scratchbook\\CausalAbstraction\\src\\bandit_agents.py:146: RuntimeWarning: divide by zero encountered in log\n",
      "  U = self.c * np.sqrt( np.log(np.sum(self.action_counter)) / self.action_counter  )\n",
      "C:\\Users\\admin\\gits\\scratchbook\\CausalAbstraction\\src\\bandit_agents.py:146: RuntimeWarning: invalid value encountered in sqrt\n",
      "  U = self.c * np.sqrt( np.log(np.sum(self.action_counter)) / self.action_counter  )\n",
      "C:\\Users\\admin\\gits\\scratchbook\\CausalAbstraction\\src\\bandit_agents.py:146: RuntimeWarning: invalid value encountered in divide\n",
      "  U = self.c * np.sqrt( np.log(np.sum(self.action_counter)) / self.action_counter  )\n",
      " 85%|███████████████████████████████████████████████████████████████████████████████████▎              | 17/20 [06:44<01:13, 24.67s/it]C:\\Users\\admin\\gits\\scratchbook\\CausalAbstraction\\src\\bandit_agents.py:146: RuntimeWarning: divide by zero encountered in log\n",
      "  U = self.c * np.sqrt( np.log(np.sum(self.action_counter)) / self.action_counter  )\n",
      "C:\\Users\\admin\\gits\\scratchbook\\CausalAbstraction\\src\\bandit_agents.py:146: RuntimeWarning: invalid value encountered in sqrt\n",
      "  U = self.c * np.sqrt( np.log(np.sum(self.action_counter)) / self.action_counter  )\n",
      "C:\\Users\\admin\\gits\\scratchbook\\CausalAbstraction\\src\\bandit_agents.py:146: RuntimeWarning: invalid value encountered in divide\n",
      "  U = self.c * np.sqrt( np.log(np.sum(self.action_counter)) / self.action_counter  )\n",
      "C:\\Users\\admin\\gits\\scratchbook\\CausalAbstraction\\src\\bandit_agents.py:146: RuntimeWarning: divide by zero encountered in log\n",
      "  U = self.c * np.sqrt( np.log(np.sum(self.action_counter)) / self.action_counter  )\n",
      "C:\\Users\\admin\\gits\\scratchbook\\CausalAbstraction\\src\\bandit_agents.py:146: RuntimeWarning: invalid value encountered in sqrt\n",
      "  U = self.c * np.sqrt( np.log(np.sum(self.action_counter)) / self.action_counter  )\n",
      "C:\\Users\\admin\\gits\\scratchbook\\CausalAbstraction\\src\\bandit_agents.py:146: RuntimeWarning: invalid value encountered in divide\n",
      "  U = self.c * np.sqrt( np.log(np.sum(self.action_counter)) / self.action_counter  )\n",
      "C:\\Users\\admin\\gits\\scratchbook\\CausalAbstraction\\src\\bandit_agents.py:146: RuntimeWarning: divide by zero encountered in log\n",
      "  U = self.c * np.sqrt( np.log(np.sum(self.action_counter)) / self.action_counter  )\n",
      "C:\\Users\\admin\\gits\\scratchbook\\CausalAbstraction\\src\\bandit_agents.py:146: RuntimeWarning: invalid value encountered in sqrt\n",
      "  U = self.c * np.sqrt( np.log(np.sum(self.action_counter)) / self.action_counter  )\n",
      "C:\\Users\\admin\\gits\\scratchbook\\CausalAbstraction\\src\\bandit_agents.py:146: RuntimeWarning: invalid value encountered in divide\n",
      "  U = self.c * np.sqrt( np.log(np.sum(self.action_counter)) / self.action_counter  )\n",
      " 90%|████████████████████████████████████████████████████████████████████████████████████████▏         | 18/20 [07:09<00:50, 25.03s/it]C:\\Users\\admin\\gits\\scratchbook\\CausalAbstraction\\src\\bandit_agents.py:146: RuntimeWarning: divide by zero encountered in log\n",
      "  U = self.c * np.sqrt( np.log(np.sum(self.action_counter)) / self.action_counter  )\n",
      "C:\\Users\\admin\\gits\\scratchbook\\CausalAbstraction\\src\\bandit_agents.py:146: RuntimeWarning: invalid value encountered in sqrt\n",
      "  U = self.c * np.sqrt( np.log(np.sum(self.action_counter)) / self.action_counter  )\n",
      "C:\\Users\\admin\\gits\\scratchbook\\CausalAbstraction\\src\\bandit_agents.py:146: RuntimeWarning: invalid value encountered in divide\n",
      "  U = self.c * np.sqrt( np.log(np.sum(self.action_counter)) / self.action_counter  )\n",
      "C:\\Users\\admin\\gits\\scratchbook\\CausalAbstraction\\src\\bandit_agents.py:146: RuntimeWarning: divide by zero encountered in log\n",
      "  U = self.c * np.sqrt( np.log(np.sum(self.action_counter)) / self.action_counter  )\n",
      "C:\\Users\\admin\\gits\\scratchbook\\CausalAbstraction\\src\\bandit_agents.py:146: RuntimeWarning: invalid value encountered in sqrt\n",
      "  U = self.c * np.sqrt( np.log(np.sum(self.action_counter)) / self.action_counter  )\n",
      "C:\\Users\\admin\\gits\\scratchbook\\CausalAbstraction\\src\\bandit_agents.py:146: RuntimeWarning: invalid value encountered in divide\n",
      "  U = self.c * np.sqrt( np.log(np.sum(self.action_counter)) / self.action_counter  )\n",
      "C:\\Users\\admin\\gits\\scratchbook\\CausalAbstraction\\src\\bandit_agents.py:146: RuntimeWarning: divide by zero encountered in log\n",
      "  U = self.c * np.sqrt( np.log(np.sum(self.action_counter)) / self.action_counter  )\n",
      "C:\\Users\\admin\\gits\\scratchbook\\CausalAbstraction\\src\\bandit_agents.py:146: RuntimeWarning: invalid value encountered in sqrt\n",
      "  U = self.c * np.sqrt( np.log(np.sum(self.action_counter)) / self.action_counter  )\n",
      "C:\\Users\\admin\\gits\\scratchbook\\CausalAbstraction\\src\\bandit_agents.py:146: RuntimeWarning: invalid value encountered in divide\n",
      "  U = self.c * np.sqrt( np.log(np.sum(self.action_counter)) / self.action_counter  )\n",
      " 95%|█████████████████████████████████████████████████████████████████████████████████████████████     | 19/20 [07:36<00:25, 25.50s/it]C:\\Users\\admin\\gits\\scratchbook\\CausalAbstraction\\src\\bandit_agents.py:146: RuntimeWarning: divide by zero encountered in log\n",
      "  U = self.c * np.sqrt( np.log(np.sum(self.action_counter)) / self.action_counter  )\n",
      "C:\\Users\\admin\\gits\\scratchbook\\CausalAbstraction\\src\\bandit_agents.py:146: RuntimeWarning: invalid value encountered in sqrt\n",
      "  U = self.c * np.sqrt( np.log(np.sum(self.action_counter)) / self.action_counter  )\n",
      "C:\\Users\\admin\\gits\\scratchbook\\CausalAbstraction\\src\\bandit_agents.py:146: RuntimeWarning: invalid value encountered in divide\n",
      "  U = self.c * np.sqrt( np.log(np.sum(self.action_counter)) / self.action_counter  )\n",
      "C:\\Users\\admin\\gits\\scratchbook\\CausalAbstraction\\src\\bandit_agents.py:146: RuntimeWarning: divide by zero encountered in log\n",
      "  U = self.c * np.sqrt( np.log(np.sum(self.action_counter)) / self.action_counter  )\n",
      "C:\\Users\\admin\\gits\\scratchbook\\CausalAbstraction\\src\\bandit_agents.py:146: RuntimeWarning: invalid value encountered in sqrt\n",
      "  U = self.c * np.sqrt( np.log(np.sum(self.action_counter)) / self.action_counter  )\n",
      "C:\\Users\\admin\\gits\\scratchbook\\CausalAbstraction\\src\\bandit_agents.py:146: RuntimeWarning: invalid value encountered in divide\n",
      "  U = self.c * np.sqrt( np.log(np.sum(self.action_counter)) / self.action_counter  )\n",
      "C:\\Users\\admin\\gits\\scratchbook\\CausalAbstraction\\src\\bandit_agents.py:146: RuntimeWarning: divide by zero encountered in log\n",
      "  U = self.c * np.sqrt( np.log(np.sum(self.action_counter)) / self.action_counter  )\n",
      "C:\\Users\\admin\\gits\\scratchbook\\CausalAbstraction\\src\\bandit_agents.py:146: RuntimeWarning: invalid value encountered in sqrt\n",
      "  U = self.c * np.sqrt( np.log(np.sum(self.action_counter)) / self.action_counter  )\n",
      "C:\\Users\\admin\\gits\\scratchbook\\CausalAbstraction\\src\\bandit_agents.py:146: RuntimeWarning: invalid value encountered in divide\n",
      "  U = self.c * np.sqrt( np.log(np.sum(self.action_counter)) / self.action_counter  )\n"
     ]
    },
    {
     "name": "stderr",
     "output_type": "stream",
     "text": [
      "100%|██████████████████████████████████████████████████████████████████████████████████████████████████| 20/20 [07:59<00:00, 24.00s/it]\n"
     ]
    }
   ],
   "source": [
    "for t in tqdm(range(n_trials)):\n",
    "    ag1 = CTr.run_trial(bandits[1],n_steps,trainalg[1],\n",
    "                        {k: params[k][1] for k in params.keys()},\n",
    "                        map_actions,map_rewards,map_ydomains)\n",
    "    agents[1].append(ag1)\n",
    "    \n",
    "    for i in range(2,len(labels)):\n",
    "        ag = CTr.run_trial(bandits[i],n_steps,trainalg[i],\n",
    "                           {k: params[k][i] for k in params.keys()},\n",
    "                            map_actions,map_rewards,map_ydomains,base_bandit=ag1)\n",
    "        agents[i].append(ag)\n",
    "    \n",
    "    "
   ]
  },
  {
   "cell_type": "markdown",
   "id": "1d957d5e",
   "metadata": {},
   "source": [
    "# Persistence"
   ]
  },
  {
   "cell_type": "code",
   "execution_count": 20,
   "id": "0843bd4e",
   "metadata": {},
   "outputs": [],
   "source": [
    "stats = {simulparams[i]: eval(simulparams[i]) for i in range(len(simulparams))}"
   ]
  },
  {
   "cell_type": "raw",
   "id": "049ae67b",
   "metadata": {},
   "source": [
    "joblib.dump(stats,'results/{0}.pkl'.format(simulname))"
   ]
  },
  {
   "cell_type": "markdown",
   "id": "0e4bb16a",
   "metadata": {},
   "source": [
    "# Evaluation of the results"
   ]
  },
  {
   "cell_type": "code",
   "execution_count": 21,
   "id": "ce351977",
   "metadata": {
    "scrolled": true
   },
   "outputs": [
    {
     "data": {
      "image/png": "[encoded data removed]",
      "text/plain": [
       "<Figure size 640x480 with 1 Axes>"
      ]
     },
     "metadata": {},
     "output_type": "display_data"
    }
   ],
   "source": [
    "for i in [0,1,2,3,4,5]:\n",
    "    cumregrets = [agents[i][j].get_cumulative_regret() for j in range(len(agents[i]))]\n",
    "    avg = np.mean(cumregrets,axis=0)\n",
    "    std = np.std(cumregrets,axis=0)\n",
    "\n",
    "    plt.plot(np.arange(n_steps),avg,label=labels[i],color=\"C{}\".format(i))\n",
    "    plt.fill_between(np.arange(n_steps),avg+std,avg-std, color='C{}'.format(i), alpha=0.3)\n",
    "    plt.xlabel('Steps')\n",
    "    plt.ylabel('Cumulative regret')\n",
    "    plt.legend()"
   ]
  },
  {
   "cell_type": "markdown",
   "id": "53463e79",
   "metadata": {},
   "source": [
    "### Plot data persistence "
   ]
  },
  {
   "cell_type": "code",
   "execution_count": 22,
   "id": "d334ea24",
   "metadata": {},
   "outputs": [
    {
     "data": {
      "text/plain": [
       "['proj CARLa 3_0/results/simul_4_2b_avgcumregrets.pkl']"
      ]
     },
     "execution_count": 22,
     "metadata": {},
     "output_type": "execute_result"
    }
   ],
   "source": [
    "avgcumregrets = []\n",
    "for i in [0,1,2,3,4,5]:\n",
    "    cumregrets = np.array([agents[i][j].get_cumulative_regret() for j in range(n_trials)])\n",
    "    avgcumregrets.append(np.mean(cumregrets,axis=0))\n",
    "joblib.dump(avgcumregrets,'proj CARLa 3_0/results/simul_4_2b_avgcumregrets.pkl')"
   ]
  },
  {
   "cell_type": "code",
   "execution_count": 23,
   "id": "59ebb1ea",
   "metadata": {},
   "outputs": [
    {
     "data": {
      "text/plain": [
       "[[0.5, 0.4], [0.85, 0.7]]"
      ]
     },
     "execution_count": 23,
     "metadata": {},
     "output_type": "execute_result"
    }
   ],
   "source": [
    "agents[0][1].bounds"
   ]
  },
  {
   "cell_type": "code",
   "execution_count": 24,
   "id": "820118c0",
   "metadata": {},
   "outputs": [
    {
     "data": {
      "text/plain": [
       "[[0.6640007180603422, 0.08525736731013711],\n",
       " [0.9695533658248683, 1.0451774152985587]]"
      ]
     },
     "execution_count": 24,
     "metadata": {},
     "output_type": "execute_result"
    }
   ],
   "source": [
    "agents[5][2].bounds"
   ]
  },
  {
   "cell_type": "code",
   "execution_count": 25,
   "id": "4d656876",
   "metadata": {},
   "outputs": [
    {
     "data": {
      "text/plain": [
       "[0.8, 0.6000000000000001]"
      ]
     },
     "execution_count": 25,
     "metadata": {},
     "output_type": "execute_result"
    }
   ],
   "source": [
    "agents[5][0].env.expct_rewards"
   ]
  },
  {
   "cell_type": "code",
   "execution_count": null,
   "id": "163e020e",
   "metadata": {},
   "outputs": [],
   "source": []
  }
 ],
 "metadata": {
  "kernelspec": {
   "display_name": "Python 3 (ipykernel)",
   "language": "python",
   "name": "python3"
  },
  "language_info": {
   "codemirror_mode": {
    "name": "ipython",
    "version": 3
   },
   "file_extension": ".py",
   "mimetype": "text/x-python",
   "name": "python",
   "nbconvert_exporter": "python",
   "pygments_lexer": "ipython3",
   "version": "3.10.13"
  },
  "toc": {
   "base_numbering": 1,
   "nav_menu": {},
   "number_sections": true,
   "sideBar": true,
   "skip_h1_title": false,
   "title_cell": "Table of Contents",
   "title_sidebar": "Contents",
   "toc_cell": false,
   "toc_position": {
    "height": "calc(100% - 180px)",
    "left": "10px",
    "top": "150px",
    "width": "262.202px"
   },
   "toc_section_display": true,
   "toc_window_display": false
  }
 },
 "nbformat": 4,
 "nbformat_minor": 5
}
