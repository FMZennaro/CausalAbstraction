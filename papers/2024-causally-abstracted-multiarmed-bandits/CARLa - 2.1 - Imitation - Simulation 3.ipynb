{
 "cells": [
  {
   "cell_type": "markdown",
   "id": "9cfa79e3",
   "metadata": {},
   "source": [
    "# CARL Bandits"
   ]
  },
  {
   "cell_type": "markdown",
   "id": "72890c77",
   "metadata": {},
   "source": [
    "## Setup\n",
    "\n",
    "Let us start by importing a couple of generic libraries."
   ]
  },
  {
   "cell_type": "code",
   "execution_count": 1,
   "id": "443a8f5f",
   "metadata": {},
   "outputs": [],
   "source": [
    "import os\n",
    "os.chdir(os.path.abspath(os.path.pardir))\n",
    "\n",
    "import warnings\n",
    "warnings.simplefilter(action='ignore', category=FutureWarning)"
   ]
  },
  {
   "cell_type": "code",
   "execution_count": 2,
   "id": "a32e7c60",
   "metadata": {},
   "outputs": [
    {
     "name": "stderr",
     "output_type": "stream",
     "text": [
      "INFO:numexpr.utils:Note: NumExpr detected 12 cores but \"NUMEXPR_MAX_THREADS\" not set, so enforcing safe limit of 8.\n",
      "INFO:numexpr.utils:NumExpr defaulting to 8 threads.\n"
     ]
    }
   ],
   "source": [
    "import numpy as np\n",
    "import matplotlib.pyplot as plt\n",
    "import joblib\n",
    "from tqdm import tqdm\n",
    "\n",
    "from src.SCMMappings import Abstraction\n",
    "from src.measuring import ICEvaluator\n",
    "from src.examples import smokingmodels as sm\n",
    "import src.evaluationsets as esets\n",
    "\n",
    "import src.bandit_envs as BE\n",
    "import src.bandit_agents as BA\n",
    "import CARLa_trials as CTr\n",
    "import CARLa_plots as Cplt\n",
    "import CARLa_abserr as Cae"
   ]
  },
  {
   "cell_type": "code",
   "execution_count": 3,
   "id": "e77713bb",
   "metadata": {},
   "outputs": [],
   "source": [
    "np.random.seed(0)"
   ]
  },
  {
   "cell_type": "markdown",
   "id": "bc308652",
   "metadata": {},
   "source": [
    "## Model setup"
   ]
  },
  {
   "cell_type": "code",
   "execution_count": 4,
   "id": "9b1c8669",
   "metadata": {},
   "outputs": [],
   "source": [
    "import src.examples.randomgenerators as rg"
   ]
  },
  {
   "cell_type": "code",
   "execution_count": 5,
   "id": "7a9d8afa",
   "metadata": {},
   "outputs": [],
   "source": [
    "MphiS = np.array([[.8],[.2]])\n",
    "MphiT = np.array([[.2,.8],[.8,.2]])\n",
    "MphiC = np.array([[.7,.3],[.3,.7]])\n",
    "M0 = sm.M_pgmpy_chain_STC(MphiS,MphiT,MphiC,S='T',T='M',C='Y')\n",
    "\n",
    "MphiS = np.array([[.8],[.2]]) \n",
    "MphiC = np.array([[.7,.3],[.3,.7]])\n",
    "M1 = sm.M_pgmpy_chain_SC(MphiS,MphiC,S='T_',C='Y_')   \n",
    "R = ['T','Y']\n",
    "a = {'T': 'T_',\n",
    "    'Y': 'Y_'}\n",
    "alphas = {'T_': np.array([[0,1],[1,0]]),\n",
    "        'Y_': np.array([[0,1],[1,0]])}"
   ]
  },
  {
   "cell_type": "code",
   "execution_count": 6,
   "id": "dca663eb",
   "metadata": {},
   "outputs": [
    {
     "data": {
      "text/plain": [
       "0.2290841420720751"
      ]
     },
     "execution_count": 6,
     "metadata": {},
     "output_type": "execute_result"
    }
   ],
   "source": [
    "Ab = Abstraction(M0,M1,R,a,alphas)\n",
    "Ae = ICEvaluator(Ab)\n",
    "J = esets.get_causal_sets_in_M0_with_directed_path_in_M1_and_M0(Ab.M0,Ab.M1,Ab.a)\n",
    "Ae.compute_overall_error(J)"
   ]
  },
  {
   "cell_type": "code",
   "execution_count": 7,
   "id": "a03efc17",
   "metadata": {},
   "outputs": [],
   "source": [
    "map_rewards = {i:np.argmax(alphas['Y_'][:,i]) for i in range(alphas['Y_'].shape[1])}\n",
    "    \n",
    "ydomain0 = lambda x:x\n",
    "ydomain1 = lambda x:x\n",
    "map_ydomains = {ydomain0(i):ydomain1(j) for i,j in map_rewards.items()}\n",
    "\n",
    "actions0=[{}, {'T':0}, {'T':1}]\n",
    "actions1=[{}, {'T_':0}, {'T_':1}]\n",
    "map_actions = {0: 0, 1: 2, 2: 1}"
   ]
  },
  {
   "cell_type": "markdown",
   "id": "3090ec2d",
   "metadata": {},
   "source": [
    "## Experiment settings"
   ]
  },
  {
   "cell_type": "code",
   "execution_count": 8,
   "id": "f6d1ba62",
   "metadata": {},
   "outputs": [],
   "source": [
    "params_to_save_start = set(dir())\n",
    "simulname = 'simul_2_1'\n",
    "\n",
    "n_trials = 20\n",
    "n_steps = 500"
   ]
  },
  {
   "cell_type": "markdown",
   "id": "85243a97",
   "metadata": {},
   "source": [
    "### Bandits setting"
   ]
  },
  {
   "cell_type": "code",
   "execution_count": 9,
   "id": "32bac12b",
   "metadata": {},
   "outputs": [],
   "source": [
    "B0 = BE.SCMEnv(scm=Ab.M0, actions=[{}, {'T':0}, {'T':1}], target='Y')\n",
    "B1 = BE.SCMEnv(scm=Ab.M1, actions=[{}, {'T_':0}, {'T_':1}], target='Y_')"
   ]
  },
  {
   "cell_type": "markdown",
   "id": "a02be051",
   "metadata": {},
   "source": [
    "### Learning setting"
   ]
  },
  {
   "cell_type": "code",
   "execution_count": 10,
   "id": "241033d5",
   "metadata": {},
   "outputs": [],
   "source": [
    "bandits = [B0,B1,B1]\n",
    "\n",
    "labels = ['Base: ucb','Abs: ucb','Abs: imitation']\n",
    "trainalg = ['ucb', 'ucb', 'imitation']\n",
    "params = {}\n",
    "\n",
    "# Alg params\n",
    "params['Qinit'] = [BA.initialize_Q_ones,BA.initialize_Q_ones,BA.initialize_Q_ones]\n",
    "\n",
    "# UCB params\n",
    "params['c'] = [1.0] * len(labels)"
   ]
  },
  {
   "cell_type": "markdown",
   "id": "e63903ef",
   "metadata": {},
   "source": [
    "## Statistics settings"
   ]
  },
  {
   "cell_type": "code",
   "execution_count": 11,
   "id": "9740f807",
   "metadata": {},
   "outputs": [],
   "source": [
    "agents = [[] for _ in range(len(labels))]\n",
    "\n",
    "params_to_save = set(dir()) - params_to_save_start\n",
    "simulparams = [s for s in params_to_save if s[0]!='_']"
   ]
  },
  {
   "cell_type": "markdown",
   "id": "982c2f7a",
   "metadata": {},
   "source": [
    "# Training"
   ]
  },
  {
   "cell_type": "code",
   "execution_count": 12,
   "id": "9b6690e7",
   "metadata": {},
   "outputs": [
    {
     "name": "stderr",
     "output_type": "stream",
     "text": [
      "  0%|                                                                                                           | 0/20 [00:00<?, ?it/s]C:\\Users\\admin\\gits\\scratchbook\\CausalAbstraction\\src\\bandit_agents.py:144: RuntimeWarning: divide by zero encountered in log\n",
      "  U = self.c * np.sqrt( np.log(np.sum(self.action_counter)) / self.action_counter  )\n",
      "C:\\Users\\admin\\gits\\scratchbook\\CausalAbstraction\\src\\bandit_agents.py:144: RuntimeWarning: invalid value encountered in sqrt\n",
      "  U = self.c * np.sqrt( np.log(np.sum(self.action_counter)) / self.action_counter  )\n",
      "C:\\Users\\admin\\gits\\scratchbook\\CausalAbstraction\\src\\bandit_agents.py:144: RuntimeWarning: invalid value encountered in divide\n",
      "  U = self.c * np.sqrt( np.log(np.sum(self.action_counter)) / self.action_counter  )\n",
      "C:\\Users\\admin\\gits\\scratchbook\\CausalAbstraction\\src\\bandit_agents.py:144: RuntimeWarning: divide by zero encountered in divide\n",
      "  U = self.c * np.sqrt( np.log(np.sum(self.action_counter)) / self.action_counter  )\n",
      "C:\\Users\\admin\\gits\\scratchbook\\CausalAbstraction\\src\\bandit_agents.py:144: RuntimeWarning: divide by zero encountered in log\n",
      "  U = self.c * np.sqrt( np.log(np.sum(self.action_counter)) / self.action_counter  )\n",
      "C:\\Users\\admin\\gits\\scratchbook\\CausalAbstraction\\src\\bandit_agents.py:144: RuntimeWarning: invalid value encountered in sqrt\n",
      "  U = self.c * np.sqrt( np.log(np.sum(self.action_counter)) / self.action_counter  )\n",
      "C:\\Users\\admin\\gits\\scratchbook\\CausalAbstraction\\src\\bandit_agents.py:144: RuntimeWarning: invalid value encountered in divide\n",
      "  U = self.c * np.sqrt( np.log(np.sum(self.action_counter)) / self.action_counter  )\n",
      "C:\\Users\\admin\\gits\\scratchbook\\CausalAbstraction\\src\\bandit_agents.py:144: RuntimeWarning: divide by zero encountered in divide\n",
      "  U = self.c * np.sqrt( np.log(np.sum(self.action_counter)) / self.action_counter  )\n",
      "  5%|████▉                                                                                              | 1/20 [00:08<02:47,  8.81s/it]C:\\Users\\admin\\gits\\scratchbook\\CausalAbstraction\\src\\bandit_agents.py:144: RuntimeWarning: divide by zero encountered in log\n",
      "  U = self.c * np.sqrt( np.log(np.sum(self.action_counter)) / self.action_counter  )\n",
      "C:\\Users\\admin\\gits\\scratchbook\\CausalAbstraction\\src\\bandit_agents.py:144: RuntimeWarning: invalid value encountered in sqrt\n",
      "  U = self.c * np.sqrt( np.log(np.sum(self.action_counter)) / self.action_counter  )\n",
      "C:\\Users\\admin\\gits\\scratchbook\\CausalAbstraction\\src\\bandit_agents.py:144: RuntimeWarning: invalid value encountered in divide\n",
      "  U = self.c * np.sqrt( np.log(np.sum(self.action_counter)) / self.action_counter  )\n",
      "C:\\Users\\admin\\gits\\scratchbook\\CausalAbstraction\\src\\bandit_agents.py:144: RuntimeWarning: divide by zero encountered in divide\n",
      "  U = self.c * np.sqrt( np.log(np.sum(self.action_counter)) / self.action_counter  )\n",
      "C:\\Users\\admin\\gits\\scratchbook\\CausalAbstraction\\src\\bandit_agents.py:144: RuntimeWarning: divide by zero encountered in log\n",
      "  U = self.c * np.sqrt( np.log(np.sum(self.action_counter)) / self.action_counter  )\n",
      "C:\\Users\\admin\\gits\\scratchbook\\CausalAbstraction\\src\\bandit_agents.py:144: RuntimeWarning: invalid value encountered in sqrt\n",
      "  U = self.c * np.sqrt( np.log(np.sum(self.action_counter)) / self.action_counter  )\n",
      "C:\\Users\\admin\\gits\\scratchbook\\CausalAbstraction\\src\\bandit_agents.py:144: RuntimeWarning: invalid value encountered in divide\n",
      "  U = self.c * np.sqrt( np.log(np.sum(self.action_counter)) / self.action_counter  )\n",
      "C:\\Users\\admin\\gits\\scratchbook\\CausalAbstraction\\src\\bandit_agents.py:144: RuntimeWarning: divide by zero encountered in divide\n",
      "  U = self.c * np.sqrt( np.log(np.sum(self.action_counter)) / self.action_counter  )\n",
      " 10%|█████████▉                                                                                         | 2/20 [00:18<02:43,  9.07s/it]C:\\Users\\admin\\gits\\scratchbook\\CausalAbstraction\\src\\bandit_agents.py:144: RuntimeWarning: divide by zero encountered in log\n",
      "  U = self.c * np.sqrt( np.log(np.sum(self.action_counter)) / self.action_counter  )\n",
      "C:\\Users\\admin\\gits\\scratchbook\\CausalAbstraction\\src\\bandit_agents.py:144: RuntimeWarning: invalid value encountered in sqrt\n",
      "  U = self.c * np.sqrt( np.log(np.sum(self.action_counter)) / self.action_counter  )\n",
      "C:\\Users\\admin\\gits\\scratchbook\\CausalAbstraction\\src\\bandit_agents.py:144: RuntimeWarning: invalid value encountered in divide\n",
      "  U = self.c * np.sqrt( np.log(np.sum(self.action_counter)) / self.action_counter  )\n",
      "C:\\Users\\admin\\gits\\scratchbook\\CausalAbstraction\\src\\bandit_agents.py:144: RuntimeWarning: divide by zero encountered in divide\n",
      "  U = self.c * np.sqrt( np.log(np.sum(self.action_counter)) / self.action_counter  )\n",
      "C:\\Users\\admin\\gits\\scratchbook\\CausalAbstraction\\src\\bandit_agents.py:144: RuntimeWarning: divide by zero encountered in log\n",
      "  U = self.c * np.sqrt( np.log(np.sum(self.action_counter)) / self.action_counter  )\n",
      "C:\\Users\\admin\\gits\\scratchbook\\CausalAbstraction\\src\\bandit_agents.py:144: RuntimeWarning: invalid value encountered in sqrt\n",
      "  U = self.c * np.sqrt( np.log(np.sum(self.action_counter)) / self.action_counter  )\n",
      "C:\\Users\\admin\\gits\\scratchbook\\CausalAbstraction\\src\\bandit_agents.py:144: RuntimeWarning: invalid value encountered in divide\n",
      "  U = self.c * np.sqrt( np.log(np.sum(self.action_counter)) / self.action_counter  )\n",
      "C:\\Users\\admin\\gits\\scratchbook\\CausalAbstraction\\src\\bandit_agents.py:144: RuntimeWarning: divide by zero encountered in divide\n",
      "  U = self.c * np.sqrt( np.log(np.sum(self.action_counter)) / self.action_counter  )\n",
      " 15%|██████████████▊                                                                                    | 3/20 [00:27<02:37,  9.26s/it]C:\\Users\\admin\\gits\\scratchbook\\CausalAbstraction\\src\\bandit_agents.py:144: RuntimeWarning: divide by zero encountered in log\n",
      "  U = self.c * np.sqrt( np.log(np.sum(self.action_counter)) / self.action_counter  )\n",
      "C:\\Users\\admin\\gits\\scratchbook\\CausalAbstraction\\src\\bandit_agents.py:144: RuntimeWarning: invalid value encountered in sqrt\n",
      "  U = self.c * np.sqrt( np.log(np.sum(self.action_counter)) / self.action_counter  )\n",
      "C:\\Users\\admin\\gits\\scratchbook\\CausalAbstraction\\src\\bandit_agents.py:144: RuntimeWarning: invalid value encountered in divide\n",
      "  U = self.c * np.sqrt( np.log(np.sum(self.action_counter)) / self.action_counter  )\n",
      "C:\\Users\\admin\\gits\\scratchbook\\CausalAbstraction\\src\\bandit_agents.py:144: RuntimeWarning: divide by zero encountered in divide\n",
      "  U = self.c * np.sqrt( np.log(np.sum(self.action_counter)) / self.action_counter  )\n",
      "C:\\Users\\admin\\gits\\scratchbook\\CausalAbstraction\\src\\bandit_agents.py:144: RuntimeWarning: divide by zero encountered in log\n",
      "  U = self.c * np.sqrt( np.log(np.sum(self.action_counter)) / self.action_counter  )\n",
      "C:\\Users\\admin\\gits\\scratchbook\\CausalAbstraction\\src\\bandit_agents.py:144: RuntimeWarning: invalid value encountered in sqrt\n",
      "  U = self.c * np.sqrt( np.log(np.sum(self.action_counter)) / self.action_counter  )\n",
      "C:\\Users\\admin\\gits\\scratchbook\\CausalAbstraction\\src\\bandit_agents.py:144: RuntimeWarning: invalid value encountered in divide\n",
      "  U = self.c * np.sqrt( np.log(np.sum(self.action_counter)) / self.action_counter  )\n",
      "C:\\Users\\admin\\gits\\scratchbook\\CausalAbstraction\\src\\bandit_agents.py:144: RuntimeWarning: divide by zero encountered in divide\n",
      "  U = self.c * np.sqrt( np.log(np.sum(self.action_counter)) / self.action_counter  )\n",
      " 20%|███████████████████▊                                                                               | 4/20 [00:36<02:27,  9.21s/it]C:\\Users\\admin\\gits\\scratchbook\\CausalAbstraction\\src\\bandit_agents.py:144: RuntimeWarning: divide by zero encountered in log\n",
      "  U = self.c * np.sqrt( np.log(np.sum(self.action_counter)) / self.action_counter  )\n",
      "C:\\Users\\admin\\gits\\scratchbook\\CausalAbstraction\\src\\bandit_agents.py:144: RuntimeWarning: invalid value encountered in sqrt\n",
      "  U = self.c * np.sqrt( np.log(np.sum(self.action_counter)) / self.action_counter  )\n",
      "C:\\Users\\admin\\gits\\scratchbook\\CausalAbstraction\\src\\bandit_agents.py:144: RuntimeWarning: invalid value encountered in divide\n",
      "  U = self.c * np.sqrt( np.log(np.sum(self.action_counter)) / self.action_counter  )\n",
      "C:\\Users\\admin\\gits\\scratchbook\\CausalAbstraction\\src\\bandit_agents.py:144: RuntimeWarning: divide by zero encountered in divide\n",
      "  U = self.c * np.sqrt( np.log(np.sum(self.action_counter)) / self.action_counter  )\n"
     ]
    },
    {
     "name": "stderr",
     "output_type": "stream",
     "text": [
      "C:\\Users\\admin\\gits\\scratchbook\\CausalAbstraction\\src\\bandit_agents.py:144: RuntimeWarning: divide by zero encountered in log\n",
      "  U = self.c * np.sqrt( np.log(np.sum(self.action_counter)) / self.action_counter  )\n",
      "C:\\Users\\admin\\gits\\scratchbook\\CausalAbstraction\\src\\bandit_agents.py:144: RuntimeWarning: invalid value encountered in sqrt\n",
      "  U = self.c * np.sqrt( np.log(np.sum(self.action_counter)) / self.action_counter  )\n",
      "C:\\Users\\admin\\gits\\scratchbook\\CausalAbstraction\\src\\bandit_agents.py:144: RuntimeWarning: invalid value encountered in divide\n",
      "  U = self.c * np.sqrt( np.log(np.sum(self.action_counter)) / self.action_counter  )\n",
      "C:\\Users\\admin\\gits\\scratchbook\\CausalAbstraction\\src\\bandit_agents.py:144: RuntimeWarning: divide by zero encountered in divide\n",
      "  U = self.c * np.sqrt( np.log(np.sum(self.action_counter)) / self.action_counter  )\n",
      " 25%|████████████████████████▊                                                                          | 5/20 [00:45<02:16,  9.13s/it]C:\\Users\\admin\\gits\\scratchbook\\CausalAbstraction\\src\\bandit_agents.py:144: RuntimeWarning: divide by zero encountered in log\n",
      "  U = self.c * np.sqrt( np.log(np.sum(self.action_counter)) / self.action_counter  )\n",
      "C:\\Users\\admin\\gits\\scratchbook\\CausalAbstraction\\src\\bandit_agents.py:144: RuntimeWarning: invalid value encountered in sqrt\n",
      "  U = self.c * np.sqrt( np.log(np.sum(self.action_counter)) / self.action_counter  )\n",
      "C:\\Users\\admin\\gits\\scratchbook\\CausalAbstraction\\src\\bandit_agents.py:144: RuntimeWarning: invalid value encountered in divide\n",
      "  U = self.c * np.sqrt( np.log(np.sum(self.action_counter)) / self.action_counter  )\n",
      "C:\\Users\\admin\\gits\\scratchbook\\CausalAbstraction\\src\\bandit_agents.py:144: RuntimeWarning: divide by zero encountered in divide\n",
      "  U = self.c * np.sqrt( np.log(np.sum(self.action_counter)) / self.action_counter  )\n",
      "C:\\Users\\admin\\gits\\scratchbook\\CausalAbstraction\\src\\bandit_agents.py:144: RuntimeWarning: divide by zero encountered in log\n",
      "  U = self.c * np.sqrt( np.log(np.sum(self.action_counter)) / self.action_counter  )\n",
      "C:\\Users\\admin\\gits\\scratchbook\\CausalAbstraction\\src\\bandit_agents.py:144: RuntimeWarning: invalid value encountered in sqrt\n",
      "  U = self.c * np.sqrt( np.log(np.sum(self.action_counter)) / self.action_counter  )\n",
      "C:\\Users\\admin\\gits\\scratchbook\\CausalAbstraction\\src\\bandit_agents.py:144: RuntimeWarning: invalid value encountered in divide\n",
      "  U = self.c * np.sqrt( np.log(np.sum(self.action_counter)) / self.action_counter  )\n",
      "C:\\Users\\admin\\gits\\scratchbook\\CausalAbstraction\\src\\bandit_agents.py:144: RuntimeWarning: divide by zero encountered in divide\n",
      "  U = self.c * np.sqrt( np.log(np.sum(self.action_counter)) / self.action_counter  )\n",
      " 30%|█████████████████████████████▋                                                                     | 6/20 [00:54<02:08,  9.15s/it]C:\\Users\\admin\\gits\\scratchbook\\CausalAbstraction\\src\\bandit_agents.py:144: RuntimeWarning: divide by zero encountered in log\n",
      "  U = self.c * np.sqrt( np.log(np.sum(self.action_counter)) / self.action_counter  )\n",
      "C:\\Users\\admin\\gits\\scratchbook\\CausalAbstraction\\src\\bandit_agents.py:144: RuntimeWarning: invalid value encountered in sqrt\n",
      "  U = self.c * np.sqrt( np.log(np.sum(self.action_counter)) / self.action_counter  )\n",
      "C:\\Users\\admin\\gits\\scratchbook\\CausalAbstraction\\src\\bandit_agents.py:144: RuntimeWarning: invalid value encountered in divide\n",
      "  U = self.c * np.sqrt( np.log(np.sum(self.action_counter)) / self.action_counter  )\n",
      "C:\\Users\\admin\\gits\\scratchbook\\CausalAbstraction\\src\\bandit_agents.py:144: RuntimeWarning: divide by zero encountered in divide\n",
      "  U = self.c * np.sqrt( np.log(np.sum(self.action_counter)) / self.action_counter  )\n",
      "C:\\Users\\admin\\gits\\scratchbook\\CausalAbstraction\\src\\bandit_agents.py:144: RuntimeWarning: divide by zero encountered in log\n",
      "  U = self.c * np.sqrt( np.log(np.sum(self.action_counter)) / self.action_counter  )\n",
      "C:\\Users\\admin\\gits\\scratchbook\\CausalAbstraction\\src\\bandit_agents.py:144: RuntimeWarning: invalid value encountered in sqrt\n",
      "  U = self.c * np.sqrt( np.log(np.sum(self.action_counter)) / self.action_counter  )\n",
      "C:\\Users\\admin\\gits\\scratchbook\\CausalAbstraction\\src\\bandit_agents.py:144: RuntimeWarning: invalid value encountered in divide\n",
      "  U = self.c * np.sqrt( np.log(np.sum(self.action_counter)) / self.action_counter  )\n",
      "C:\\Users\\admin\\gits\\scratchbook\\CausalAbstraction\\src\\bandit_agents.py:144: RuntimeWarning: divide by zero encountered in divide\n",
      "  U = self.c * np.sqrt( np.log(np.sum(self.action_counter)) / self.action_counter  )\n",
      " 35%|██████████████████████████████████▋                                                                | 7/20 [01:04<02:01,  9.34s/it]C:\\Users\\admin\\gits\\scratchbook\\CausalAbstraction\\src\\bandit_agents.py:144: RuntimeWarning: divide by zero encountered in log\n",
      "  U = self.c * np.sqrt( np.log(np.sum(self.action_counter)) / self.action_counter  )\n",
      "C:\\Users\\admin\\gits\\scratchbook\\CausalAbstraction\\src\\bandit_agents.py:144: RuntimeWarning: invalid value encountered in sqrt\n",
      "  U = self.c * np.sqrt( np.log(np.sum(self.action_counter)) / self.action_counter  )\n",
      "C:\\Users\\admin\\gits\\scratchbook\\CausalAbstraction\\src\\bandit_agents.py:144: RuntimeWarning: invalid value encountered in divide\n",
      "  U = self.c * np.sqrt( np.log(np.sum(self.action_counter)) / self.action_counter  )\n",
      "C:\\Users\\admin\\gits\\scratchbook\\CausalAbstraction\\src\\bandit_agents.py:144: RuntimeWarning: divide by zero encountered in divide\n",
      "  U = self.c * np.sqrt( np.log(np.sum(self.action_counter)) / self.action_counter  )\n",
      "C:\\Users\\admin\\gits\\scratchbook\\CausalAbstraction\\src\\bandit_agents.py:144: RuntimeWarning: divide by zero encountered in log\n",
      "  U = self.c * np.sqrt( np.log(np.sum(self.action_counter)) / self.action_counter  )\n",
      "C:\\Users\\admin\\gits\\scratchbook\\CausalAbstraction\\src\\bandit_agents.py:144: RuntimeWarning: invalid value encountered in sqrt\n",
      "  U = self.c * np.sqrt( np.log(np.sum(self.action_counter)) / self.action_counter  )\n",
      "C:\\Users\\admin\\gits\\scratchbook\\CausalAbstraction\\src\\bandit_agents.py:144: RuntimeWarning: invalid value encountered in divide\n",
      "  U = self.c * np.sqrt( np.log(np.sum(self.action_counter)) / self.action_counter  )\n",
      "C:\\Users\\admin\\gits\\scratchbook\\CausalAbstraction\\src\\bandit_agents.py:144: RuntimeWarning: divide by zero encountered in divide\n",
      "  U = self.c * np.sqrt( np.log(np.sum(self.action_counter)) / self.action_counter  )\n",
      " 40%|███████████████████████████████████████▌                                                           | 8/20 [01:14<01:53,  9.48s/it]C:\\Users\\admin\\gits\\scratchbook\\CausalAbstraction\\src\\bandit_agents.py:144: RuntimeWarning: divide by zero encountered in log\n",
      "  U = self.c * np.sqrt( np.log(np.sum(self.action_counter)) / self.action_counter  )\n",
      "C:\\Users\\admin\\gits\\scratchbook\\CausalAbstraction\\src\\bandit_agents.py:144: RuntimeWarning: invalid value encountered in sqrt\n",
      "  U = self.c * np.sqrt( np.log(np.sum(self.action_counter)) / self.action_counter  )\n",
      "C:\\Users\\admin\\gits\\scratchbook\\CausalAbstraction\\src\\bandit_agents.py:144: RuntimeWarning: invalid value encountered in divide\n",
      "  U = self.c * np.sqrt( np.log(np.sum(self.action_counter)) / self.action_counter  )\n",
      "C:\\Users\\admin\\gits\\scratchbook\\CausalAbstraction\\src\\bandit_agents.py:144: RuntimeWarning: divide by zero encountered in divide\n",
      "  U = self.c * np.sqrt( np.log(np.sum(self.action_counter)) / self.action_counter  )\n",
      "C:\\Users\\admin\\gits\\scratchbook\\CausalAbstraction\\src\\bandit_agents.py:144: RuntimeWarning: divide by zero encountered in log\n",
      "  U = self.c * np.sqrt( np.log(np.sum(self.action_counter)) / self.action_counter  )\n",
      "C:\\Users\\admin\\gits\\scratchbook\\CausalAbstraction\\src\\bandit_agents.py:144: RuntimeWarning: invalid value encountered in sqrt\n",
      "  U = self.c * np.sqrt( np.log(np.sum(self.action_counter)) / self.action_counter  )\n",
      "C:\\Users\\admin\\gits\\scratchbook\\CausalAbstraction\\src\\bandit_agents.py:144: RuntimeWarning: invalid value encountered in divide\n",
      "  U = self.c * np.sqrt( np.log(np.sum(self.action_counter)) / self.action_counter  )\n",
      "C:\\Users\\admin\\gits\\scratchbook\\CausalAbstraction\\src\\bandit_agents.py:144: RuntimeWarning: divide by zero encountered in divide\n",
      "  U = self.c * np.sqrt( np.log(np.sum(self.action_counter)) / self.action_counter  )\n"
     ]
    },
    {
     "name": "stderr",
     "output_type": "stream",
     "text": [
      " 45%|████████████████████████████████████████████▌                                                      | 9/20 [01:23<01:44,  9.52s/it]C:\\Users\\admin\\gits\\scratchbook\\CausalAbstraction\\src\\bandit_agents.py:144: RuntimeWarning: divide by zero encountered in log\n",
      "  U = self.c * np.sqrt( np.log(np.sum(self.action_counter)) / self.action_counter  )\n",
      "C:\\Users\\admin\\gits\\scratchbook\\CausalAbstraction\\src\\bandit_agents.py:144: RuntimeWarning: invalid value encountered in sqrt\n",
      "  U = self.c * np.sqrt( np.log(np.sum(self.action_counter)) / self.action_counter  )\n",
      "C:\\Users\\admin\\gits\\scratchbook\\CausalAbstraction\\src\\bandit_agents.py:144: RuntimeWarning: invalid value encountered in divide\n",
      "  U = self.c * np.sqrt( np.log(np.sum(self.action_counter)) / self.action_counter  )\n",
      "C:\\Users\\admin\\gits\\scratchbook\\CausalAbstraction\\src\\bandit_agents.py:144: RuntimeWarning: divide by zero encountered in divide\n",
      "  U = self.c * np.sqrt( np.log(np.sum(self.action_counter)) / self.action_counter  )\n",
      "C:\\Users\\admin\\gits\\scratchbook\\CausalAbstraction\\src\\bandit_agents.py:144: RuntimeWarning: divide by zero encountered in log\n",
      "  U = self.c * np.sqrt( np.log(np.sum(self.action_counter)) / self.action_counter  )\n",
      "C:\\Users\\admin\\gits\\scratchbook\\CausalAbstraction\\src\\bandit_agents.py:144: RuntimeWarning: invalid value encountered in sqrt\n",
      "  U = self.c * np.sqrt( np.log(np.sum(self.action_counter)) / self.action_counter  )\n",
      "C:\\Users\\admin\\gits\\scratchbook\\CausalAbstraction\\src\\bandit_agents.py:144: RuntimeWarning: invalid value encountered in divide\n",
      "  U = self.c * np.sqrt( np.log(np.sum(self.action_counter)) / self.action_counter  )\n",
      "C:\\Users\\admin\\gits\\scratchbook\\CausalAbstraction\\src\\bandit_agents.py:144: RuntimeWarning: divide by zero encountered in divide\n",
      "  U = self.c * np.sqrt( np.log(np.sum(self.action_counter)) / self.action_counter  )\n",
      " 50%|█████████████████████████████████████████████████                                                 | 10/20 [01:33<01:34,  9.45s/it]C:\\Users\\admin\\gits\\scratchbook\\CausalAbstraction\\src\\bandit_agents.py:144: RuntimeWarning: divide by zero encountered in log\n",
      "  U = self.c * np.sqrt( np.log(np.sum(self.action_counter)) / self.action_counter  )\n",
      "C:\\Users\\admin\\gits\\scratchbook\\CausalAbstraction\\src\\bandit_agents.py:144: RuntimeWarning: invalid value encountered in sqrt\n",
      "  U = self.c * np.sqrt( np.log(np.sum(self.action_counter)) / self.action_counter  )\n",
      "C:\\Users\\admin\\gits\\scratchbook\\CausalAbstraction\\src\\bandit_agents.py:144: RuntimeWarning: invalid value encountered in divide\n",
      "  U = self.c * np.sqrt( np.log(np.sum(self.action_counter)) / self.action_counter  )\n",
      "C:\\Users\\admin\\gits\\scratchbook\\CausalAbstraction\\src\\bandit_agents.py:144: RuntimeWarning: divide by zero encountered in divide\n",
      "  U = self.c * np.sqrt( np.log(np.sum(self.action_counter)) / self.action_counter  )\n",
      "C:\\Users\\admin\\gits\\scratchbook\\CausalAbstraction\\src\\bandit_agents.py:144: RuntimeWarning: divide by zero encountered in log\n",
      "  U = self.c * np.sqrt( np.log(np.sum(self.action_counter)) / self.action_counter  )\n",
      "C:\\Users\\admin\\gits\\scratchbook\\CausalAbstraction\\src\\bandit_agents.py:144: RuntimeWarning: invalid value encountered in sqrt\n",
      "  U = self.c * np.sqrt( np.log(np.sum(self.action_counter)) / self.action_counter  )\n",
      "C:\\Users\\admin\\gits\\scratchbook\\CausalAbstraction\\src\\bandit_agents.py:144: RuntimeWarning: invalid value encountered in divide\n",
      "  U = self.c * np.sqrt( np.log(np.sum(self.action_counter)) / self.action_counter  )\n",
      "C:\\Users\\admin\\gits\\scratchbook\\CausalAbstraction\\src\\bandit_agents.py:144: RuntimeWarning: divide by zero encountered in divide\n",
      "  U = self.c * np.sqrt( np.log(np.sum(self.action_counter)) / self.action_counter  )\n",
      " 55%|█████████████████████████████████████████████████████▉                                            | 11/20 [01:42<01:23,  9.31s/it]C:\\Users\\admin\\gits\\scratchbook\\CausalAbstraction\\src\\bandit_agents.py:144: RuntimeWarning: divide by zero encountered in log\n",
      "  U = self.c * np.sqrt( np.log(np.sum(self.action_counter)) / self.action_counter  )\n",
      "C:\\Users\\admin\\gits\\scratchbook\\CausalAbstraction\\src\\bandit_agents.py:144: RuntimeWarning: invalid value encountered in sqrt\n",
      "  U = self.c * np.sqrt( np.log(np.sum(self.action_counter)) / self.action_counter  )\n",
      "C:\\Users\\admin\\gits\\scratchbook\\CausalAbstraction\\src\\bandit_agents.py:144: RuntimeWarning: invalid value encountered in divide\n",
      "  U = self.c * np.sqrt( np.log(np.sum(self.action_counter)) / self.action_counter  )\n",
      "C:\\Users\\admin\\gits\\scratchbook\\CausalAbstraction\\src\\bandit_agents.py:144: RuntimeWarning: divide by zero encountered in divide\n",
      "  U = self.c * np.sqrt( np.log(np.sum(self.action_counter)) / self.action_counter  )\n",
      "C:\\Users\\admin\\gits\\scratchbook\\CausalAbstraction\\src\\bandit_agents.py:144: RuntimeWarning: divide by zero encountered in log\n",
      "  U = self.c * np.sqrt( np.log(np.sum(self.action_counter)) / self.action_counter  )\n",
      "C:\\Users\\admin\\gits\\scratchbook\\CausalAbstraction\\src\\bandit_agents.py:144: RuntimeWarning: invalid value encountered in sqrt\n",
      "  U = self.c * np.sqrt( np.log(np.sum(self.action_counter)) / self.action_counter  )\n",
      "C:\\Users\\admin\\gits\\scratchbook\\CausalAbstraction\\src\\bandit_agents.py:144: RuntimeWarning: invalid value encountered in divide\n",
      "  U = self.c * np.sqrt( np.log(np.sum(self.action_counter)) / self.action_counter  )\n",
      "C:\\Users\\admin\\gits\\scratchbook\\CausalAbstraction\\src\\bandit_agents.py:144: RuntimeWarning: divide by zero encountered in divide\n",
      "  U = self.c * np.sqrt( np.log(np.sum(self.action_counter)) / self.action_counter  )\n",
      " 60%|██████████████████████████████████████████████████████████▊                                       | 12/20 [01:51<01:14,  9.35s/it]C:\\Users\\admin\\gits\\scratchbook\\CausalAbstraction\\src\\bandit_agents.py:144: RuntimeWarning: divide by zero encountered in log\n",
      "  U = self.c * np.sqrt( np.log(np.sum(self.action_counter)) / self.action_counter  )\n",
      "C:\\Users\\admin\\gits\\scratchbook\\CausalAbstraction\\src\\bandit_agents.py:144: RuntimeWarning: invalid value encountered in sqrt\n",
      "  U = self.c * np.sqrt( np.log(np.sum(self.action_counter)) / self.action_counter  )\n",
      "C:\\Users\\admin\\gits\\scratchbook\\CausalAbstraction\\src\\bandit_agents.py:144: RuntimeWarning: invalid value encountered in divide\n",
      "  U = self.c * np.sqrt( np.log(np.sum(self.action_counter)) / self.action_counter  )\n",
      "C:\\Users\\admin\\gits\\scratchbook\\CausalAbstraction\\src\\bandit_agents.py:144: RuntimeWarning: divide by zero encountered in divide\n",
      "  U = self.c * np.sqrt( np.log(np.sum(self.action_counter)) / self.action_counter  )\n",
      "C:\\Users\\admin\\gits\\scratchbook\\CausalAbstraction\\src\\bandit_agents.py:144: RuntimeWarning: divide by zero encountered in log\n",
      "  U = self.c * np.sqrt( np.log(np.sum(self.action_counter)) / self.action_counter  )\n",
      "C:\\Users\\admin\\gits\\scratchbook\\CausalAbstraction\\src\\bandit_agents.py:144: RuntimeWarning: invalid value encountered in sqrt\n",
      "  U = self.c * np.sqrt( np.log(np.sum(self.action_counter)) / self.action_counter  )\n",
      "C:\\Users\\admin\\gits\\scratchbook\\CausalAbstraction\\src\\bandit_agents.py:144: RuntimeWarning: invalid value encountered in divide\n",
      "  U = self.c * np.sqrt( np.log(np.sum(self.action_counter)) / self.action_counter  )\n",
      "C:\\Users\\admin\\gits\\scratchbook\\CausalAbstraction\\src\\bandit_agents.py:144: RuntimeWarning: divide by zero encountered in divide\n",
      "  U = self.c * np.sqrt( np.log(np.sum(self.action_counter)) / self.action_counter  )\n",
      " 65%|███████████████████████████████████████████████████████████████▋                                  | 13/20 [02:01<01:06,  9.49s/it]C:\\Users\\admin\\gits\\scratchbook\\CausalAbstraction\\src\\bandit_agents.py:144: RuntimeWarning: divide by zero encountered in log\n",
      "  U = self.c * np.sqrt( np.log(np.sum(self.action_counter)) / self.action_counter  )\n",
      "C:\\Users\\admin\\gits\\scratchbook\\CausalAbstraction\\src\\bandit_agents.py:144: RuntimeWarning: invalid value encountered in sqrt\n",
      "  U = self.c * np.sqrt( np.log(np.sum(self.action_counter)) / self.action_counter  )\n",
      "C:\\Users\\admin\\gits\\scratchbook\\CausalAbstraction\\src\\bandit_agents.py:144: RuntimeWarning: invalid value encountered in divide\n",
      "  U = self.c * np.sqrt( np.log(np.sum(self.action_counter)) / self.action_counter  )\n",
      "C:\\Users\\admin\\gits\\scratchbook\\CausalAbstraction\\src\\bandit_agents.py:144: RuntimeWarning: divide by zero encountered in divide\n",
      "  U = self.c * np.sqrt( np.log(np.sum(self.action_counter)) / self.action_counter  )\n"
     ]
    },
    {
     "name": "stderr",
     "output_type": "stream",
     "text": [
      "C:\\Users\\admin\\gits\\scratchbook\\CausalAbstraction\\src\\bandit_agents.py:144: RuntimeWarning: divide by zero encountered in log\n",
      "  U = self.c * np.sqrt( np.log(np.sum(self.action_counter)) / self.action_counter  )\n",
      "C:\\Users\\admin\\gits\\scratchbook\\CausalAbstraction\\src\\bandit_agents.py:144: RuntimeWarning: invalid value encountered in sqrt\n",
      "  U = self.c * np.sqrt( np.log(np.sum(self.action_counter)) / self.action_counter  )\n",
      "C:\\Users\\admin\\gits\\scratchbook\\CausalAbstraction\\src\\bandit_agents.py:144: RuntimeWarning: invalid value encountered in divide\n",
      "  U = self.c * np.sqrt( np.log(np.sum(self.action_counter)) / self.action_counter  )\n",
      "C:\\Users\\admin\\gits\\scratchbook\\CausalAbstraction\\src\\bandit_agents.py:144: RuntimeWarning: divide by zero encountered in divide\n",
      "  U = self.c * np.sqrt( np.log(np.sum(self.action_counter)) / self.action_counter  )\n",
      " 70%|████████████████████████████████████████████████████████████████████▌                             | 14/20 [02:11<00:57,  9.58s/it]C:\\Users\\admin\\gits\\scratchbook\\CausalAbstraction\\src\\bandit_agents.py:144: RuntimeWarning: divide by zero encountered in log\n",
      "  U = self.c * np.sqrt( np.log(np.sum(self.action_counter)) / self.action_counter  )\n",
      "C:\\Users\\admin\\gits\\scratchbook\\CausalAbstraction\\src\\bandit_agents.py:144: RuntimeWarning: invalid value encountered in sqrt\n",
      "  U = self.c * np.sqrt( np.log(np.sum(self.action_counter)) / self.action_counter  )\n",
      "C:\\Users\\admin\\gits\\scratchbook\\CausalAbstraction\\src\\bandit_agents.py:144: RuntimeWarning: invalid value encountered in divide\n",
      "  U = self.c * np.sqrt( np.log(np.sum(self.action_counter)) / self.action_counter  )\n",
      "C:\\Users\\admin\\gits\\scratchbook\\CausalAbstraction\\src\\bandit_agents.py:144: RuntimeWarning: divide by zero encountered in divide\n",
      "  U = self.c * np.sqrt( np.log(np.sum(self.action_counter)) / self.action_counter  )\n",
      "C:\\Users\\admin\\gits\\scratchbook\\CausalAbstraction\\src\\bandit_agents.py:144: RuntimeWarning: divide by zero encountered in log\n",
      "  U = self.c * np.sqrt( np.log(np.sum(self.action_counter)) / self.action_counter  )\n",
      "C:\\Users\\admin\\gits\\scratchbook\\CausalAbstraction\\src\\bandit_agents.py:144: RuntimeWarning: invalid value encountered in sqrt\n",
      "  U = self.c * np.sqrt( np.log(np.sum(self.action_counter)) / self.action_counter  )\n",
      "C:\\Users\\admin\\gits\\scratchbook\\CausalAbstraction\\src\\bandit_agents.py:144: RuntimeWarning: invalid value encountered in divide\n",
      "  U = self.c * np.sqrt( np.log(np.sum(self.action_counter)) / self.action_counter  )\n",
      "C:\\Users\\admin\\gits\\scratchbook\\CausalAbstraction\\src\\bandit_agents.py:144: RuntimeWarning: divide by zero encountered in divide\n",
      "  U = self.c * np.sqrt( np.log(np.sum(self.action_counter)) / self.action_counter  )\n",
      " 75%|█████████████████████████████████████████████████████████████████████████▌                        | 15/20 [02:20<00:47,  9.41s/it]C:\\Users\\admin\\gits\\scratchbook\\CausalAbstraction\\src\\bandit_agents.py:144: RuntimeWarning: divide by zero encountered in log\n",
      "  U = self.c * np.sqrt( np.log(np.sum(self.action_counter)) / self.action_counter  )\n",
      "C:\\Users\\admin\\gits\\scratchbook\\CausalAbstraction\\src\\bandit_agents.py:144: RuntimeWarning: invalid value encountered in sqrt\n",
      "  U = self.c * np.sqrt( np.log(np.sum(self.action_counter)) / self.action_counter  )\n",
      "C:\\Users\\admin\\gits\\scratchbook\\CausalAbstraction\\src\\bandit_agents.py:144: RuntimeWarning: invalid value encountered in divide\n",
      "  U = self.c * np.sqrt( np.log(np.sum(self.action_counter)) / self.action_counter  )\n",
      "C:\\Users\\admin\\gits\\scratchbook\\CausalAbstraction\\src\\bandit_agents.py:144: RuntimeWarning: divide by zero encountered in divide\n",
      "  U = self.c * np.sqrt( np.log(np.sum(self.action_counter)) / self.action_counter  )\n",
      "C:\\Users\\admin\\gits\\scratchbook\\CausalAbstraction\\src\\bandit_agents.py:144: RuntimeWarning: divide by zero encountered in log\n",
      "  U = self.c * np.sqrt( np.log(np.sum(self.action_counter)) / self.action_counter  )\n",
      "C:\\Users\\admin\\gits\\scratchbook\\CausalAbstraction\\src\\bandit_agents.py:144: RuntimeWarning: invalid value encountered in sqrt\n",
      "  U = self.c * np.sqrt( np.log(np.sum(self.action_counter)) / self.action_counter  )\n",
      "C:\\Users\\admin\\gits\\scratchbook\\CausalAbstraction\\src\\bandit_agents.py:144: RuntimeWarning: invalid value encountered in divide\n",
      "  U = self.c * np.sqrt( np.log(np.sum(self.action_counter)) / self.action_counter  )\n",
      "C:\\Users\\admin\\gits\\scratchbook\\CausalAbstraction\\src\\bandit_agents.py:144: RuntimeWarning: divide by zero encountered in divide\n",
      "  U = self.c * np.sqrt( np.log(np.sum(self.action_counter)) / self.action_counter  )\n",
      " 80%|██████████████████████████████████████████████████████████████████████████████▍                   | 16/20 [02:30<00:38,  9.69s/it]C:\\Users\\admin\\gits\\scratchbook\\CausalAbstraction\\src\\bandit_agents.py:144: RuntimeWarning: divide by zero encountered in log\n",
      "  U = self.c * np.sqrt( np.log(np.sum(self.action_counter)) / self.action_counter  )\n",
      "C:\\Users\\admin\\gits\\scratchbook\\CausalAbstraction\\src\\bandit_agents.py:144: RuntimeWarning: invalid value encountered in sqrt\n",
      "  U = self.c * np.sqrt( np.log(np.sum(self.action_counter)) / self.action_counter  )\n",
      "C:\\Users\\admin\\gits\\scratchbook\\CausalAbstraction\\src\\bandit_agents.py:144: RuntimeWarning: invalid value encountered in divide\n",
      "  U = self.c * np.sqrt( np.log(np.sum(self.action_counter)) / self.action_counter  )\n",
      "C:\\Users\\admin\\gits\\scratchbook\\CausalAbstraction\\src\\bandit_agents.py:144: RuntimeWarning: divide by zero encountered in divide\n",
      "  U = self.c * np.sqrt( np.log(np.sum(self.action_counter)) / self.action_counter  )\n",
      "C:\\Users\\admin\\gits\\scratchbook\\CausalAbstraction\\src\\bandit_agents.py:144: RuntimeWarning: divide by zero encountered in log\n",
      "  U = self.c * np.sqrt( np.log(np.sum(self.action_counter)) / self.action_counter  )\n",
      "C:\\Users\\admin\\gits\\scratchbook\\CausalAbstraction\\src\\bandit_agents.py:144: RuntimeWarning: invalid value encountered in sqrt\n",
      "  U = self.c * np.sqrt( np.log(np.sum(self.action_counter)) / self.action_counter  )\n",
      "C:\\Users\\admin\\gits\\scratchbook\\CausalAbstraction\\src\\bandit_agents.py:144: RuntimeWarning: invalid value encountered in divide\n",
      "  U = self.c * np.sqrt( np.log(np.sum(self.action_counter)) / self.action_counter  )\n",
      "C:\\Users\\admin\\gits\\scratchbook\\CausalAbstraction\\src\\bandit_agents.py:144: RuntimeWarning: divide by zero encountered in divide\n",
      "  U = self.c * np.sqrt( np.log(np.sum(self.action_counter)) / self.action_counter  )\n",
      " 85%|███████████████████████████████████████████████████████████████████████████████████▎              | 17/20 [02:39<00:28,  9.54s/it]C:\\Users\\admin\\gits\\scratchbook\\CausalAbstraction\\src\\bandit_agents.py:144: RuntimeWarning: divide by zero encountered in log\n",
      "  U = self.c * np.sqrt( np.log(np.sum(self.action_counter)) / self.action_counter  )\n",
      "C:\\Users\\admin\\gits\\scratchbook\\CausalAbstraction\\src\\bandit_agents.py:144: RuntimeWarning: invalid value encountered in sqrt\n",
      "  U = self.c * np.sqrt( np.log(np.sum(self.action_counter)) / self.action_counter  )\n",
      "C:\\Users\\admin\\gits\\scratchbook\\CausalAbstraction\\src\\bandit_agents.py:144: RuntimeWarning: invalid value encountered in divide\n",
      "  U = self.c * np.sqrt( np.log(np.sum(self.action_counter)) / self.action_counter  )\n",
      "C:\\Users\\admin\\gits\\scratchbook\\CausalAbstraction\\src\\bandit_agents.py:144: RuntimeWarning: divide by zero encountered in divide\n",
      "  U = self.c * np.sqrt( np.log(np.sum(self.action_counter)) / self.action_counter  )\n",
      "C:\\Users\\admin\\gits\\scratchbook\\CausalAbstraction\\src\\bandit_agents.py:144: RuntimeWarning: divide by zero encountered in log\n",
      "  U = self.c * np.sqrt( np.log(np.sum(self.action_counter)) / self.action_counter  )\n",
      "C:\\Users\\admin\\gits\\scratchbook\\CausalAbstraction\\src\\bandit_agents.py:144: RuntimeWarning: invalid value encountered in sqrt\n",
      "  U = self.c * np.sqrt( np.log(np.sum(self.action_counter)) / self.action_counter  )\n",
      "C:\\Users\\admin\\gits\\scratchbook\\CausalAbstraction\\src\\bandit_agents.py:144: RuntimeWarning: invalid value encountered in divide\n",
      "  U = self.c * np.sqrt( np.log(np.sum(self.action_counter)) / self.action_counter  )\n",
      "C:\\Users\\admin\\gits\\scratchbook\\CausalAbstraction\\src\\bandit_agents.py:144: RuntimeWarning: divide by zero encountered in divide\n",
      "  U = self.c * np.sqrt( np.log(np.sum(self.action_counter)) / self.action_counter  )\n"
     ]
    },
    {
     "name": "stderr",
     "output_type": "stream",
     "text": [
      " 90%|████████████████████████████████████████████████████████████████████████████████████████▏         | 18/20 [02:49<00:19,  9.57s/it]C:\\Users\\admin\\gits\\scratchbook\\CausalAbstraction\\src\\bandit_agents.py:144: RuntimeWarning: divide by zero encountered in log\n",
      "  U = self.c * np.sqrt( np.log(np.sum(self.action_counter)) / self.action_counter  )\n",
      "C:\\Users\\admin\\gits\\scratchbook\\CausalAbstraction\\src\\bandit_agents.py:144: RuntimeWarning: invalid value encountered in sqrt\n",
      "  U = self.c * np.sqrt( np.log(np.sum(self.action_counter)) / self.action_counter  )\n",
      "C:\\Users\\admin\\gits\\scratchbook\\CausalAbstraction\\src\\bandit_agents.py:144: RuntimeWarning: invalid value encountered in divide\n",
      "  U = self.c * np.sqrt( np.log(np.sum(self.action_counter)) / self.action_counter  )\n",
      "C:\\Users\\admin\\gits\\scratchbook\\CausalAbstraction\\src\\bandit_agents.py:144: RuntimeWarning: divide by zero encountered in divide\n",
      "  U = self.c * np.sqrt( np.log(np.sum(self.action_counter)) / self.action_counter  )\n",
      "C:\\Users\\admin\\gits\\scratchbook\\CausalAbstraction\\src\\bandit_agents.py:144: RuntimeWarning: divide by zero encountered in log\n",
      "  U = self.c * np.sqrt( np.log(np.sum(self.action_counter)) / self.action_counter  )\n",
      "C:\\Users\\admin\\gits\\scratchbook\\CausalAbstraction\\src\\bandit_agents.py:144: RuntimeWarning: invalid value encountered in sqrt\n",
      "  U = self.c * np.sqrt( np.log(np.sum(self.action_counter)) / self.action_counter  )\n",
      "C:\\Users\\admin\\gits\\scratchbook\\CausalAbstraction\\src\\bandit_agents.py:144: RuntimeWarning: invalid value encountered in divide\n",
      "  U = self.c * np.sqrt( np.log(np.sum(self.action_counter)) / self.action_counter  )\n",
      "C:\\Users\\admin\\gits\\scratchbook\\CausalAbstraction\\src\\bandit_agents.py:144: RuntimeWarning: divide by zero encountered in divide\n",
      "  U = self.c * np.sqrt( np.log(np.sum(self.action_counter)) / self.action_counter  )\n",
      " 95%|█████████████████████████████████████████████████████████████████████████████████████████████     | 19/20 [02:58<00:09,  9.48s/it]C:\\Users\\admin\\gits\\scratchbook\\CausalAbstraction\\src\\bandit_agents.py:144: RuntimeWarning: divide by zero encountered in log\n",
      "  U = self.c * np.sqrt( np.log(np.sum(self.action_counter)) / self.action_counter  )\n",
      "C:\\Users\\admin\\gits\\scratchbook\\CausalAbstraction\\src\\bandit_agents.py:144: RuntimeWarning: invalid value encountered in sqrt\n",
      "  U = self.c * np.sqrt( np.log(np.sum(self.action_counter)) / self.action_counter  )\n",
      "C:\\Users\\admin\\gits\\scratchbook\\CausalAbstraction\\src\\bandit_agents.py:144: RuntimeWarning: invalid value encountered in divide\n",
      "  U = self.c * np.sqrt( np.log(np.sum(self.action_counter)) / self.action_counter  )\n",
      "C:\\Users\\admin\\gits\\scratchbook\\CausalAbstraction\\src\\bandit_agents.py:144: RuntimeWarning: divide by zero encountered in divide\n",
      "  U = self.c * np.sqrt( np.log(np.sum(self.action_counter)) / self.action_counter  )\n",
      "C:\\Users\\admin\\gits\\scratchbook\\CausalAbstraction\\src\\bandit_agents.py:144: RuntimeWarning: divide by zero encountered in log\n",
      "  U = self.c * np.sqrt( np.log(np.sum(self.action_counter)) / self.action_counter  )\n",
      "C:\\Users\\admin\\gits\\scratchbook\\CausalAbstraction\\src\\bandit_agents.py:144: RuntimeWarning: invalid value encountered in sqrt\n",
      "  U = self.c * np.sqrt( np.log(np.sum(self.action_counter)) / self.action_counter  )\n",
      "C:\\Users\\admin\\gits\\scratchbook\\CausalAbstraction\\src\\bandit_agents.py:144: RuntimeWarning: invalid value encountered in divide\n",
      "  U = self.c * np.sqrt( np.log(np.sum(self.action_counter)) / self.action_counter  )\n",
      "C:\\Users\\admin\\gits\\scratchbook\\CausalAbstraction\\src\\bandit_agents.py:144: RuntimeWarning: divide by zero encountered in divide\n",
      "  U = self.c * np.sqrt( np.log(np.sum(self.action_counter)) / self.action_counter  )\n",
      "100%|██████████████████████████████████████████████████████████████████████████████████████████████████| 20/20 [03:08<00:00,  9.43s/it]\n"
     ]
    }
   ],
   "source": [
    "for t in tqdm(range(n_trials)):\n",
    "    ag0 = CTr.run_trial(bandits[0],n_steps,trainalg[0],\n",
    "                        {k: params[k][0] for k in params.keys()},\n",
    "                        map_actions,map_rewards,map_ydomains)\n",
    "    agents[0].append(ag0)\n",
    "    \n",
    "    for i in range(1,len(labels)):\n",
    "        ag = CTr.run_trial(bandits[i],n_steps,trainalg[i],\n",
    "                           {k: params[k][i] for k in params.keys()},\n",
    "                            map_actions,map_rewards,map_ydomains,base_bandit=ag0)\n",
    "        agents[i].append(ag)"
   ]
  },
  {
   "cell_type": "markdown",
   "id": "1d957d5e",
   "metadata": {},
   "source": [
    "# Persistence"
   ]
  },
  {
   "cell_type": "code",
   "execution_count": 13,
   "id": "bf9a2905",
   "metadata": {},
   "outputs": [],
   "source": [
    "stats = {simulparams[i]: eval(simulparams[i]) for i in range(len(simulparams))}"
   ]
  },
  {
   "cell_type": "raw",
   "id": "049ae67b",
   "metadata": {},
   "source": [
    "joblib.dump(stats,'results/{0}.pkl'.format(simulname))"
   ]
  },
  {
   "cell_type": "markdown",
   "id": "0e4bb16a",
   "metadata": {},
   "source": [
    "# Evaluation of the results"
   ]
  },
  {
   "cell_type": "code",
   "execution_count": 14,
   "id": "448060dc",
   "metadata": {},
   "outputs": [],
   "source": [
    "import matplotlib\n",
    "font = {'family' : 'sans-serif',\n",
    "        'weight' : 'normal',\n",
    "        'size'   : 18}\n",
    "\n",
    "plt.rc('font', **font)"
   ]
  },
  {
   "cell_type": "code",
   "execution_count": 15,
   "id": "6f0f1e5f",
   "metadata": {},
   "outputs": [
    {
     "data": {
      "image/png": "[encoded data removed]",
      "text/plain": [
       "<Figure size 640x480 with 1 Axes>"
      ]
     },
     "metadata": {},
     "output_type": "display_data"
    }
   ],
   "source": [
    "style = ['-','--']\n",
    "for trainmode in [1,2]:\n",
    "    cumregrets = np.array([agents[trainmode][j].get_cumulative_regret() for j in range(n_trials)])\n",
    "    avg = np.mean(cumregrets,axis=0)\n",
    "    std = np.std(cumregrets,axis=0)\n",
    "\n",
    "    plt.plot(np.arange(n_steps),avg,label=labels[trainmode],color=\"C{}\".format(trainmode-1),linestyle=style[trainmode-1])\n",
    "    plt.fill_between(np.arange(n_steps),avg+std,avg-std, color='C{}'.format(trainmode-1), alpha=0.3)\n",
    "    \n",
    "    plt.xlabel('Steps of the CMABs')\n",
    "    plt.ylabel('Cumulative regret')\n",
    "    plt.legend()\n",
    "    #ax[i,0].set_title(labels[i])\n",
    "    #ax[i,0].plot(np.arange(n_steps),np.max(truerewards[i])*np.arange(n_steps),'k')"
   ]
  },
  {
   "cell_type": "code",
   "execution_count": 16,
   "id": "9ebafdd3",
   "metadata": {},
   "outputs": [
    {
     "data": {
      "text/plain": [
       "([], [])"
      ]
     },
     "execution_count": 16,
     "metadata": {},
     "output_type": "execute_result"
    },
    {
     "data": {
      "image/png": "[encoded data removed]",
      "text/plain": [
       "<Figure size 640x480 with 1 Axes>"
      ]
     },
     "metadata": {},
     "output_type": "display_data"
    }
   ],
   "source": [
    "Q_A = bandits[1].expct_rewards\n",
    "\n",
    "hatQs_A1dir = np.array([agents[1][t].Q for t in range(len(agents[1]))])\n",
    "mean_Qs_A1dir = np.mean(hatQs_A1dir,axis=0)\n",
    "std_Qs_A1dir = np.std(hatQs_A1dir,axis=0)\n",
    "\n",
    "hatQs_A1imit = np.array([agents[2][t].Q for t in range(len(agents[2]))])\n",
    "mean_Qs_A1imit = np.mean(hatQs_A1imit,axis=0)\n",
    "std_Qs_A1imit = np.std(hatQs_A1imit,axis=0)\n",
    "\n",
    "plt.bar(np.arange(len(Q_A))-0.2, Q_A, width=0.2, color='black', label='true values')\n",
    "plt.bar(np.arange(len(Q_A))+0, mean_Qs_A1dir, yerr=std_Qs_A1dir, width=0.3, color='C0', label='Abs: ucb')\n",
    "plt.bar(np.arange(len(Q_A))+0.3, mean_Qs_A1imit, yerr=std_Qs_A1imit, width=0.3, color='C1', label='Abs: imitation')\n",
    "plt.xlabel('Actions')\n",
    "plt.ylabel('$E_{Y \\\\vert \\mathrm{do}(\\mathbf{x})}[Y]$')\n",
    "plt.legend()\n",
    "plt.xticks([])"
   ]
  },
  {
   "cell_type": "code",
   "execution_count": null,
   "id": "90a8a53b",
   "metadata": {},
   "outputs": [],
   "source": []
  }
 ],
 "metadata": {
  "kernelspec": {
   "display_name": "Python 3 (ipykernel)",
   "language": "python",
   "name": "python3"
  },
  "language_info": {
   "codemirror_mode": {
    "name": "ipython",
    "version": 3
   },
   "file_extension": ".py",
   "mimetype": "text/x-python",
   "name": "python",
   "nbconvert_exporter": "python",
   "pygments_lexer": "ipython3",
   "version": "3.10.13"
  },
  "toc": {
   "base_numbering": 1,
   "nav_menu": {},
   "number_sections": true,
   "sideBar": true,
   "skip_h1_title": false,
   "title_cell": "Table of Contents",
   "title_sidebar": "Contents",
   "toc_cell": false,
   "toc_position": {
    "height": "calc(100% - 180px)",
    "left": "10px",
    "top": "150px",
    "width": "262.202px"
   },
   "toc_section_display": true,
   "toc_window_display": false
  }
 },
 "nbformat": 4,
 "nbformat_minor": 5
}
