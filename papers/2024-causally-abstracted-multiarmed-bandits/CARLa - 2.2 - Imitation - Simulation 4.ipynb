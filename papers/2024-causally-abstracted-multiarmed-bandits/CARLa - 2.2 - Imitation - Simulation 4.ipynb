{
 "cells": [
  {
   "cell_type": "markdown",
   "id": "9cfa79e3",
   "metadata": {},
   "source": [
    "# CARL Bandits"
   ]
  },
  {
   "cell_type": "markdown",
   "id": "72890c77",
   "metadata": {},
   "source": [
    "## Setup\n",
    "\n",
    "Let us start by importing a couple of generic libraries."
   ]
  },
  {
   "cell_type": "code",
   "execution_count": 1,
   "id": "443a8f5f",
   "metadata": {},
   "outputs": [],
   "source": [
    "import os\n",
    "os.chdir(os.path.abspath(os.path.pardir))\n",
    "\n",
    "import warnings\n",
    "warnings.simplefilter(action='ignore', category=FutureWarning)"
   ]
  },
  {
   "cell_type": "code",
   "execution_count": 2,
   "id": "a32e7c60",
   "metadata": {},
   "outputs": [
    {
     "name": "stderr",
     "output_type": "stream",
     "text": [
      "INFO:numexpr.utils:Note: NumExpr detected 12 cores but \"NUMEXPR_MAX_THREADS\" not set, so enforcing safe limit of 8.\n",
      "INFO:numexpr.utils:NumExpr defaulting to 8 threads.\n"
     ]
    }
   ],
   "source": [
    "import numpy as np\n",
    "import matplotlib.pyplot as plt\n",
    "import joblib\n",
    "from tqdm import tqdm\n",
    "\n",
    "from src.SCMMappings import Abstraction\n",
    "from src.measuring import ICEvaluator\n",
    "from src.examples import smokingmodels as sm\n",
    "import src.evaluationsets as esets\n",
    "\n",
    "import src.bandit_envs as BE\n",
    "import src.bandit_agents as BA\n",
    "import CARLa_trials as CTr\n",
    "import CARLa_plots as Cplt\n",
    "import CARLa_abserr as Cae"
   ]
  },
  {
   "cell_type": "code",
   "execution_count": 3,
   "id": "e77713bb",
   "metadata": {},
   "outputs": [],
   "source": [
    "np.random.seed(0)"
   ]
  },
  {
   "cell_type": "code",
   "execution_count": 4,
   "id": "33cff124",
   "metadata": {},
   "outputs": [],
   "source": [
    "def alpha_pushforward(p,alphamap):\n",
    "    sizecodomain = np.max(list(alphamap.values()))+1\n",
    "    alphap = np.zeros(sizecodomain)\n",
    "    for k in alphamap.keys():\n",
    "        alphap[alphamap[k]] += p[k]\n",
    "    return alphap"
   ]
  },
  {
   "cell_type": "code",
   "execution_count": 5,
   "id": "faf54de6",
   "metadata": {},
   "outputs": [],
   "source": [
    "def build_action_counter(n_actions,history_actions):\n",
    "    counter = np.zeros(n_actions)\n",
    "    for a in history_actions:\n",
    "        counter[a] += 1\n",
    "    return counter\n",
    "    \n",
    "def get_action_distributions(n_actions,Q,c,action_counter):\n",
    "    p = np.zeros(n_actions)\n",
    "    p[np.argmax(Q + c * np.sqrt( np.log(np.sum(action_counter)) / action_counter  ))] = 1\n",
    "    return p"
   ]
  },
  {
   "cell_type": "markdown",
   "id": "bc308652",
   "metadata": {},
   "source": [
    "## Model 1 setup"
   ]
  },
  {
   "cell_type": "code",
   "execution_count": 6,
   "id": "9b1c8669",
   "metadata": {},
   "outputs": [],
   "source": [
    "import src.examples.randomgenerators as rg"
   ]
  },
  {
   "cell_type": "code",
   "execution_count": 7,
   "id": "7a9d8afa",
   "metadata": {},
   "outputs": [],
   "source": [
    "MphiS = np.array([[.8],[.2]])\n",
    "MphiT = np.array([[.2,.8],[.8,.2]])\n",
    "MphiC = np.array([[.7,.3],[.3,.7]])\n",
    "M0 = sm.M_pgmpy_chain_STC(MphiS,MphiT,MphiC,S='T',T='M',C='Y')\n",
    "\n",
    "MphiS = np.array([[.8],[.2]]) \n",
    "MphiC = np.array([[.7,.3],[.3,.7]])\n",
    "M1 = sm.M_pgmpy_chain_SC(MphiS,MphiC,S='T_',C='Y_')   \n",
    "R = ['T','Y']\n",
    "a = {'T': 'T_',\n",
    "    'Y': 'Y_'}\n",
    "alphas = {'T_': np.array([[0,1],[1,0]]),\n",
    "        'Y_': np.array([[0,1],[1,0]])}"
   ]
  },
  {
   "cell_type": "code",
   "execution_count": 8,
   "id": "dca663eb",
   "metadata": {},
   "outputs": [
    {
     "data": {
      "text/plain": [
       "0.2290841420720751"
      ]
     },
     "execution_count": 8,
     "metadata": {},
     "output_type": "execute_result"
    }
   ],
   "source": [
    "Ab = Abstraction(M0,M1,R,a,alphas)\n",
    "Ae = ICEvaluator(Ab)\n",
    "J = esets.get_causal_sets_in_M0_with_directed_path_in_M1_and_M0(Ab.M0,Ab.M1,Ab.a)\n",
    "Ae.compute_overall_error(J)"
   ]
  },
  {
   "cell_type": "code",
   "execution_count": 9,
   "id": "f4dca7f1",
   "metadata": {},
   "outputs": [],
   "source": [
    "map_rewards = {i:np.argmax(alphas['Y_'][:,i]) for i in range(alphas['Y_'].shape[1])}\n",
    "    \n",
    "ydomain0 = lambda x:x\n",
    "ydomain1 = lambda x:x\n",
    "map_ydomains = {ydomain0(i):ydomain1(j) for i,j in map_rewards.items()}\n",
    "\n",
    "actions0=[{}, {'T':0}, {'T':1}]\n",
    "actions1=[{}, {'T_':0}, {'T_':1}]\n",
    "map_actions = {0: 0, 1: 2, 2: 1}"
   ]
  },
  {
   "cell_type": "markdown",
   "id": "3090ec2d",
   "metadata": {},
   "source": [
    "## Experiment settings"
   ]
  },
  {
   "cell_type": "code",
   "execution_count": 10,
   "id": "f6d1ba62",
   "metadata": {},
   "outputs": [],
   "source": [
    "params_to_save_start = set(dir())\n",
    "simulname = 'simul_2_2A'\n",
    "\n",
    "n_trials = 20\n",
    "n_steps = 500"
   ]
  },
  {
   "cell_type": "markdown",
   "id": "85243a97",
   "metadata": {},
   "source": [
    "### Bandits setting"
   ]
  },
  {
   "cell_type": "code",
   "execution_count": 11,
   "id": "32bac12b",
   "metadata": {},
   "outputs": [],
   "source": [
    "B0 = BE.SCMEnv(scm=Ab.M0, actions=[{}, {'T':0}, {'T':1}], target='Y')\n",
    "B1 = BE.SCMEnv(scm=Ab.M1, actions=[{}, {'T_':0}, {'T_':1}], target='Y_')"
   ]
  },
  {
   "cell_type": "markdown",
   "id": "a02be051",
   "metadata": {},
   "source": [
    "### Learning setting"
   ]
  },
  {
   "cell_type": "code",
   "execution_count": 12,
   "id": "241033d5",
   "metadata": {},
   "outputs": [],
   "source": [
    "bandits = [B0,B1,B1]\n",
    "\n",
    "labels = ['M0: ucb','M1: ucb','M1: imitation']\n",
    "trainalg = ['ucb', 'ucb', 'imitation']\n",
    "params = {}\n",
    "\n",
    "# Alg params\n",
    "params['Qinit'] = [BA.initialize_Q_ones,BA.initialize_Q_ones,BA.initialize_Q_ones]\n",
    "\n",
    "# UCB params\n",
    "params['c'] = [1.0] * len(labels)"
   ]
  },
  {
   "cell_type": "markdown",
   "id": "e63903ef",
   "metadata": {},
   "source": [
    "## Statistics settings"
   ]
  },
  {
   "cell_type": "code",
   "execution_count": 13,
   "id": "9740f807",
   "metadata": {},
   "outputs": [],
   "source": [
    "agentsA = [[] for _ in range(len(labels))]\n",
    "\n",
    "params_to_save = set(dir()) - params_to_save_start\n",
    "simulparams = [s for s in params_to_save if s[0]!='_']"
   ]
  },
  {
   "cell_type": "markdown",
   "id": "982c2f7a",
   "metadata": {},
   "source": [
    "# Training"
   ]
  },
  {
   "cell_type": "code",
   "execution_count": 14,
   "id": "9b6690e7",
   "metadata": {},
   "outputs": [
    {
     "name": "stderr",
     "output_type": "stream",
     "text": [
      "  0%|                                                                                                           | 0/20 [00:00<?, ?it/s]C:\\Users\\admin\\gits\\scratchbook\\CausalAbstraction\\src\\bandit_agents.py:144: RuntimeWarning: divide by zero encountered in log\n",
      "  U = self.c * np.sqrt( np.log(np.sum(self.action_counter)) / self.action_counter  )\n",
      "C:\\Users\\admin\\gits\\scratchbook\\CausalAbstraction\\src\\bandit_agents.py:144: RuntimeWarning: invalid value encountered in sqrt\n",
      "  U = self.c * np.sqrt( np.log(np.sum(self.action_counter)) / self.action_counter  )\n",
      "C:\\Users\\admin\\gits\\scratchbook\\CausalAbstraction\\src\\bandit_agents.py:144: RuntimeWarning: invalid value encountered in divide\n",
      "  U = self.c * np.sqrt( np.log(np.sum(self.action_counter)) / self.action_counter  )\n",
      "C:\\Users\\admin\\gits\\scratchbook\\CausalAbstraction\\src\\bandit_agents.py:144: RuntimeWarning: divide by zero encountered in divide\n",
      "  U = self.c * np.sqrt( np.log(np.sum(self.action_counter)) / self.action_counter  )\n",
      "C:\\Users\\admin\\gits\\scratchbook\\CausalAbstraction\\src\\bandit_agents.py:144: RuntimeWarning: divide by zero encountered in log\n",
      "  U = self.c * np.sqrt( np.log(np.sum(self.action_counter)) / self.action_counter  )\n",
      "C:\\Users\\admin\\gits\\scratchbook\\CausalAbstraction\\src\\bandit_agents.py:144: RuntimeWarning: invalid value encountered in sqrt\n",
      "  U = self.c * np.sqrt( np.log(np.sum(self.action_counter)) / self.action_counter  )\n",
      "C:\\Users\\admin\\gits\\scratchbook\\CausalAbstraction\\src\\bandit_agents.py:144: RuntimeWarning: invalid value encountered in divide\n",
      "  U = self.c * np.sqrt( np.log(np.sum(self.action_counter)) / self.action_counter  )\n",
      "C:\\Users\\admin\\gits\\scratchbook\\CausalAbstraction\\src\\bandit_agents.py:144: RuntimeWarning: divide by zero encountered in divide\n",
      "  U = self.c * np.sqrt( np.log(np.sum(self.action_counter)) / self.action_counter  )\n",
      "  5%|████▉                                                                                              | 1/20 [00:19<06:12, 19.62s/it]C:\\Users\\admin\\gits\\scratchbook\\CausalAbstraction\\src\\bandit_agents.py:144: RuntimeWarning: divide by zero encountered in log\n",
      "  U = self.c * np.sqrt( np.log(np.sum(self.action_counter)) / self.action_counter  )\n",
      "C:\\Users\\admin\\gits\\scratchbook\\CausalAbstraction\\src\\bandit_agents.py:144: RuntimeWarning: invalid value encountered in sqrt\n",
      "  U = self.c * np.sqrt( np.log(np.sum(self.action_counter)) / self.action_counter  )\n",
      "C:\\Users\\admin\\gits\\scratchbook\\CausalAbstraction\\src\\bandit_agents.py:144: RuntimeWarning: invalid value encountered in divide\n",
      "  U = self.c * np.sqrt( np.log(np.sum(self.action_counter)) / self.action_counter  )\n",
      "C:\\Users\\admin\\gits\\scratchbook\\CausalAbstraction\\src\\bandit_agents.py:144: RuntimeWarning: divide by zero encountered in divide\n",
      "  U = self.c * np.sqrt( np.log(np.sum(self.action_counter)) / self.action_counter  )\n",
      "C:\\Users\\admin\\gits\\scratchbook\\CausalAbstraction\\src\\bandit_agents.py:144: RuntimeWarning: divide by zero encountered in log\n",
      "  U = self.c * np.sqrt( np.log(np.sum(self.action_counter)) / self.action_counter  )\n",
      "C:\\Users\\admin\\gits\\scratchbook\\CausalAbstraction\\src\\bandit_agents.py:144: RuntimeWarning: invalid value encountered in sqrt\n",
      "  U = self.c * np.sqrt( np.log(np.sum(self.action_counter)) / self.action_counter  )\n",
      "C:\\Users\\admin\\gits\\scratchbook\\CausalAbstraction\\src\\bandit_agents.py:144: RuntimeWarning: invalid value encountered in divide\n",
      "  U = self.c * np.sqrt( np.log(np.sum(self.action_counter)) / self.action_counter  )\n",
      "C:\\Users\\admin\\gits\\scratchbook\\CausalAbstraction\\src\\bandit_agents.py:144: RuntimeWarning: divide by zero encountered in divide\n",
      "  U = self.c * np.sqrt( np.log(np.sum(self.action_counter)) / self.action_counter  )\n",
      " 10%|█████████▉                                                                                         | 2/20 [00:39<06:00, 20.01s/it]C:\\Users\\admin\\gits\\scratchbook\\CausalAbstraction\\src\\bandit_agents.py:144: RuntimeWarning: divide by zero encountered in log\n",
      "  U = self.c * np.sqrt( np.log(np.sum(self.action_counter)) / self.action_counter  )\n",
      "C:\\Users\\admin\\gits\\scratchbook\\CausalAbstraction\\src\\bandit_agents.py:144: RuntimeWarning: invalid value encountered in sqrt\n",
      "  U = self.c * np.sqrt( np.log(np.sum(self.action_counter)) / self.action_counter  )\n",
      "C:\\Users\\admin\\gits\\scratchbook\\CausalAbstraction\\src\\bandit_agents.py:144: RuntimeWarning: invalid value encountered in divide\n",
      "  U = self.c * np.sqrt( np.log(np.sum(self.action_counter)) / self.action_counter  )\n",
      "C:\\Users\\admin\\gits\\scratchbook\\CausalAbstraction\\src\\bandit_agents.py:144: RuntimeWarning: divide by zero encountered in divide\n",
      "  U = self.c * np.sqrt( np.log(np.sum(self.action_counter)) / self.action_counter  )\n",
      "C:\\Users\\admin\\gits\\scratchbook\\CausalAbstraction\\src\\bandit_agents.py:144: RuntimeWarning: divide by zero encountered in log\n",
      "  U = self.c * np.sqrt( np.log(np.sum(self.action_counter)) / self.action_counter  )\n",
      "C:\\Users\\admin\\gits\\scratchbook\\CausalAbstraction\\src\\bandit_agents.py:144: RuntimeWarning: invalid value encountered in sqrt\n",
      "  U = self.c * np.sqrt( np.log(np.sum(self.action_counter)) / self.action_counter  )\n",
      "C:\\Users\\admin\\gits\\scratchbook\\CausalAbstraction\\src\\bandit_agents.py:144: RuntimeWarning: invalid value encountered in divide\n",
      "  U = self.c * np.sqrt( np.log(np.sum(self.action_counter)) / self.action_counter  )\n",
      "C:\\Users\\admin\\gits\\scratchbook\\CausalAbstraction\\src\\bandit_agents.py:144: RuntimeWarning: divide by zero encountered in divide\n",
      "  U = self.c * np.sqrt( np.log(np.sum(self.action_counter)) / self.action_counter  )\n",
      " 15%|██████████████▊                                                                                    | 3/20 [00:58<05:29, 19.38s/it]C:\\Users\\admin\\gits\\scratchbook\\CausalAbstraction\\src\\bandit_agents.py:144: RuntimeWarning: divide by zero encountered in log\n",
      "  U = self.c * np.sqrt( np.log(np.sum(self.action_counter)) / self.action_counter  )\n",
      "C:\\Users\\admin\\gits\\scratchbook\\CausalAbstraction\\src\\bandit_agents.py:144: RuntimeWarning: invalid value encountered in sqrt\n",
      "  U = self.c * np.sqrt( np.log(np.sum(self.action_counter)) / self.action_counter  )\n",
      "C:\\Users\\admin\\gits\\scratchbook\\CausalAbstraction\\src\\bandit_agents.py:144: RuntimeWarning: invalid value encountered in divide\n",
      "  U = self.c * np.sqrt( np.log(np.sum(self.action_counter)) / self.action_counter  )\n",
      "C:\\Users\\admin\\gits\\scratchbook\\CausalAbstraction\\src\\bandit_agents.py:144: RuntimeWarning: divide by zero encountered in divide\n",
      "  U = self.c * np.sqrt( np.log(np.sum(self.action_counter)) / self.action_counter  )\n",
      "C:\\Users\\admin\\gits\\scratchbook\\CausalAbstraction\\src\\bandit_agents.py:144: RuntimeWarning: divide by zero encountered in log\n",
      "  U = self.c * np.sqrt( np.log(np.sum(self.action_counter)) / self.action_counter  )\n",
      "C:\\Users\\admin\\gits\\scratchbook\\CausalAbstraction\\src\\bandit_agents.py:144: RuntimeWarning: invalid value encountered in sqrt\n",
      "  U = self.c * np.sqrt( np.log(np.sum(self.action_counter)) / self.action_counter  )\n",
      "C:\\Users\\admin\\gits\\scratchbook\\CausalAbstraction\\src\\bandit_agents.py:144: RuntimeWarning: invalid value encountered in divide\n",
      "  U = self.c * np.sqrt( np.log(np.sum(self.action_counter)) / self.action_counter  )\n",
      "C:\\Users\\admin\\gits\\scratchbook\\CausalAbstraction\\src\\bandit_agents.py:144: RuntimeWarning: divide by zero encountered in divide\n",
      "  U = self.c * np.sqrt( np.log(np.sum(self.action_counter)) / self.action_counter  )\n",
      " 20%|███████████████████▊                                                                               | 4/20 [01:17<05:07, 19.20s/it]C:\\Users\\admin\\gits\\scratchbook\\CausalAbstraction\\src\\bandit_agents.py:144: RuntimeWarning: divide by zero encountered in log\n",
      "  U = self.c * np.sqrt( np.log(np.sum(self.action_counter)) / self.action_counter  )\n",
      "C:\\Users\\admin\\gits\\scratchbook\\CausalAbstraction\\src\\bandit_agents.py:144: RuntimeWarning: invalid value encountered in sqrt\n",
      "  U = self.c * np.sqrt( np.log(np.sum(self.action_counter)) / self.action_counter  )\n",
      "C:\\Users\\admin\\gits\\scratchbook\\CausalAbstraction\\src\\bandit_agents.py:144: RuntimeWarning: invalid value encountered in divide\n",
      "  U = self.c * np.sqrt( np.log(np.sum(self.action_counter)) / self.action_counter  )\n",
      "C:\\Users\\admin\\gits\\scratchbook\\CausalAbstraction\\src\\bandit_agents.py:144: RuntimeWarning: divide by zero encountered in divide\n",
      "  U = self.c * np.sqrt( np.log(np.sum(self.action_counter)) / self.action_counter  )\n"
     ]
    },
    {
     "name": "stderr",
     "output_type": "stream",
     "text": [
      "C:\\Users\\admin\\gits\\scratchbook\\CausalAbstraction\\src\\bandit_agents.py:144: RuntimeWarning: divide by zero encountered in log\n",
      "  U = self.c * np.sqrt( np.log(np.sum(self.action_counter)) / self.action_counter  )\n",
      "C:\\Users\\admin\\gits\\scratchbook\\CausalAbstraction\\src\\bandit_agents.py:144: RuntimeWarning: invalid value encountered in sqrt\n",
      "  U = self.c * np.sqrt( np.log(np.sum(self.action_counter)) / self.action_counter  )\n",
      "C:\\Users\\admin\\gits\\scratchbook\\CausalAbstraction\\src\\bandit_agents.py:144: RuntimeWarning: invalid value encountered in divide\n",
      "  U = self.c * np.sqrt( np.log(np.sum(self.action_counter)) / self.action_counter  )\n",
      "C:\\Users\\admin\\gits\\scratchbook\\CausalAbstraction\\src\\bandit_agents.py:144: RuntimeWarning: divide by zero encountered in divide\n",
      "  U = self.c * np.sqrt( np.log(np.sum(self.action_counter)) / self.action_counter  )\n",
      " 25%|████████████████████████▊                                                                          | 5/20 [01:34<04:38, 18.54s/it]C:\\Users\\admin\\gits\\scratchbook\\CausalAbstraction\\src\\bandit_agents.py:144: RuntimeWarning: divide by zero encountered in log\n",
      "  U = self.c * np.sqrt( np.log(np.sum(self.action_counter)) / self.action_counter  )\n",
      "C:\\Users\\admin\\gits\\scratchbook\\CausalAbstraction\\src\\bandit_agents.py:144: RuntimeWarning: invalid value encountered in sqrt\n",
      "  U = self.c * np.sqrt( np.log(np.sum(self.action_counter)) / self.action_counter  )\n",
      "C:\\Users\\admin\\gits\\scratchbook\\CausalAbstraction\\src\\bandit_agents.py:144: RuntimeWarning: invalid value encountered in divide\n",
      "  U = self.c * np.sqrt( np.log(np.sum(self.action_counter)) / self.action_counter  )\n",
      "C:\\Users\\admin\\gits\\scratchbook\\CausalAbstraction\\src\\bandit_agents.py:144: RuntimeWarning: divide by zero encountered in divide\n",
      "  U = self.c * np.sqrt( np.log(np.sum(self.action_counter)) / self.action_counter  )\n",
      "C:\\Users\\admin\\gits\\scratchbook\\CausalAbstraction\\src\\bandit_agents.py:144: RuntimeWarning: divide by zero encountered in log\n",
      "  U = self.c * np.sqrt( np.log(np.sum(self.action_counter)) / self.action_counter  )\n",
      "C:\\Users\\admin\\gits\\scratchbook\\CausalAbstraction\\src\\bandit_agents.py:144: RuntimeWarning: invalid value encountered in sqrt\n",
      "  U = self.c * np.sqrt( np.log(np.sum(self.action_counter)) / self.action_counter  )\n",
      "C:\\Users\\admin\\gits\\scratchbook\\CausalAbstraction\\src\\bandit_agents.py:144: RuntimeWarning: invalid value encountered in divide\n",
      "  U = self.c * np.sqrt( np.log(np.sum(self.action_counter)) / self.action_counter  )\n",
      "C:\\Users\\admin\\gits\\scratchbook\\CausalAbstraction\\src\\bandit_agents.py:144: RuntimeWarning: divide by zero encountered in divide\n",
      "  U = self.c * np.sqrt( np.log(np.sum(self.action_counter)) / self.action_counter  )\n",
      " 30%|█████████████████████████████▋                                                                     | 6/20 [01:54<04:26, 19.02s/it]C:\\Users\\admin\\gits\\scratchbook\\CausalAbstraction\\src\\bandit_agents.py:144: RuntimeWarning: divide by zero encountered in log\n",
      "  U = self.c * np.sqrt( np.log(np.sum(self.action_counter)) / self.action_counter  )\n",
      "C:\\Users\\admin\\gits\\scratchbook\\CausalAbstraction\\src\\bandit_agents.py:144: RuntimeWarning: invalid value encountered in sqrt\n",
      "  U = self.c * np.sqrt( np.log(np.sum(self.action_counter)) / self.action_counter  )\n",
      "C:\\Users\\admin\\gits\\scratchbook\\CausalAbstraction\\src\\bandit_agents.py:144: RuntimeWarning: invalid value encountered in divide\n",
      "  U = self.c * np.sqrt( np.log(np.sum(self.action_counter)) / self.action_counter  )\n",
      "C:\\Users\\admin\\gits\\scratchbook\\CausalAbstraction\\src\\bandit_agents.py:144: RuntimeWarning: divide by zero encountered in divide\n",
      "  U = self.c * np.sqrt( np.log(np.sum(self.action_counter)) / self.action_counter  )\n",
      "C:\\Users\\admin\\gits\\scratchbook\\CausalAbstraction\\src\\bandit_agents.py:144: RuntimeWarning: divide by zero encountered in log\n",
      "  U = self.c * np.sqrt( np.log(np.sum(self.action_counter)) / self.action_counter  )\n",
      "C:\\Users\\admin\\gits\\scratchbook\\CausalAbstraction\\src\\bandit_agents.py:144: RuntimeWarning: invalid value encountered in sqrt\n",
      "  U = self.c * np.sqrt( np.log(np.sum(self.action_counter)) / self.action_counter  )\n",
      "C:\\Users\\admin\\gits\\scratchbook\\CausalAbstraction\\src\\bandit_agents.py:144: RuntimeWarning: invalid value encountered in divide\n",
      "  U = self.c * np.sqrt( np.log(np.sum(self.action_counter)) / self.action_counter  )\n",
      "C:\\Users\\admin\\gits\\scratchbook\\CausalAbstraction\\src\\bandit_agents.py:144: RuntimeWarning: divide by zero encountered in divide\n",
      "  U = self.c * np.sqrt( np.log(np.sum(self.action_counter)) / self.action_counter  )\n",
      " 35%|██████████████████████████████████▋                                                                | 7/20 [02:14<04:09, 19.20s/it]C:\\Users\\admin\\gits\\scratchbook\\CausalAbstraction\\src\\bandit_agents.py:144: RuntimeWarning: divide by zero encountered in log\n",
      "  U = self.c * np.sqrt( np.log(np.sum(self.action_counter)) / self.action_counter  )\n",
      "C:\\Users\\admin\\gits\\scratchbook\\CausalAbstraction\\src\\bandit_agents.py:144: RuntimeWarning: invalid value encountered in sqrt\n",
      "  U = self.c * np.sqrt( np.log(np.sum(self.action_counter)) / self.action_counter  )\n",
      "C:\\Users\\admin\\gits\\scratchbook\\CausalAbstraction\\src\\bandit_agents.py:144: RuntimeWarning: invalid value encountered in divide\n",
      "  U = self.c * np.sqrt( np.log(np.sum(self.action_counter)) / self.action_counter  )\n",
      "C:\\Users\\admin\\gits\\scratchbook\\CausalAbstraction\\src\\bandit_agents.py:144: RuntimeWarning: divide by zero encountered in divide\n",
      "  U = self.c * np.sqrt( np.log(np.sum(self.action_counter)) / self.action_counter  )\n",
      "C:\\Users\\admin\\gits\\scratchbook\\CausalAbstraction\\src\\bandit_agents.py:144: RuntimeWarning: divide by zero encountered in log\n",
      "  U = self.c * np.sqrt( np.log(np.sum(self.action_counter)) / self.action_counter  )\n",
      "C:\\Users\\admin\\gits\\scratchbook\\CausalAbstraction\\src\\bandit_agents.py:144: RuntimeWarning: invalid value encountered in sqrt\n",
      "  U = self.c * np.sqrt( np.log(np.sum(self.action_counter)) / self.action_counter  )\n",
      "C:\\Users\\admin\\gits\\scratchbook\\CausalAbstraction\\src\\bandit_agents.py:144: RuntimeWarning: invalid value encountered in divide\n",
      "  U = self.c * np.sqrt( np.log(np.sum(self.action_counter)) / self.action_counter  )\n",
      "C:\\Users\\admin\\gits\\scratchbook\\CausalAbstraction\\src\\bandit_agents.py:144: RuntimeWarning: divide by zero encountered in divide\n",
      "  U = self.c * np.sqrt( np.log(np.sum(self.action_counter)) / self.action_counter  )\n",
      " 40%|███████████████████████████████████████▌                                                           | 8/20 [02:33<03:48, 19.07s/it]C:\\Users\\admin\\gits\\scratchbook\\CausalAbstraction\\src\\bandit_agents.py:144: RuntimeWarning: divide by zero encountered in log\n",
      "  U = self.c * np.sqrt( np.log(np.sum(self.action_counter)) / self.action_counter  )\n",
      "C:\\Users\\admin\\gits\\scratchbook\\CausalAbstraction\\src\\bandit_agents.py:144: RuntimeWarning: invalid value encountered in sqrt\n",
      "  U = self.c * np.sqrt( np.log(np.sum(self.action_counter)) / self.action_counter  )\n",
      "C:\\Users\\admin\\gits\\scratchbook\\CausalAbstraction\\src\\bandit_agents.py:144: RuntimeWarning: invalid value encountered in divide\n",
      "  U = self.c * np.sqrt( np.log(np.sum(self.action_counter)) / self.action_counter  )\n",
      "C:\\Users\\admin\\gits\\scratchbook\\CausalAbstraction\\src\\bandit_agents.py:144: RuntimeWarning: divide by zero encountered in divide\n",
      "  U = self.c * np.sqrt( np.log(np.sum(self.action_counter)) / self.action_counter  )\n",
      "C:\\Users\\admin\\gits\\scratchbook\\CausalAbstraction\\src\\bandit_agents.py:144: RuntimeWarning: divide by zero encountered in log\n",
      "  U = self.c * np.sqrt( np.log(np.sum(self.action_counter)) / self.action_counter  )\n",
      "C:\\Users\\admin\\gits\\scratchbook\\CausalAbstraction\\src\\bandit_agents.py:144: RuntimeWarning: invalid value encountered in sqrt\n",
      "  U = self.c * np.sqrt( np.log(np.sum(self.action_counter)) / self.action_counter  )\n",
      "C:\\Users\\admin\\gits\\scratchbook\\CausalAbstraction\\src\\bandit_agents.py:144: RuntimeWarning: invalid value encountered in divide\n",
      "  U = self.c * np.sqrt( np.log(np.sum(self.action_counter)) / self.action_counter  )\n",
      "C:\\Users\\admin\\gits\\scratchbook\\CausalAbstraction\\src\\bandit_agents.py:144: RuntimeWarning: divide by zero encountered in divide\n",
      "  U = self.c * np.sqrt( np.log(np.sum(self.action_counter)) / self.action_counter  )\n"
     ]
    },
    {
     "name": "stderr",
     "output_type": "stream",
     "text": [
      " 45%|████████████████████████████████████████████▌                                                      | 9/20 [02:51<03:28, 18.91s/it]C:\\Users\\admin\\gits\\scratchbook\\CausalAbstraction\\src\\bandit_agents.py:144: RuntimeWarning: divide by zero encountered in log\n",
      "  U = self.c * np.sqrt( np.log(np.sum(self.action_counter)) / self.action_counter  )\n",
      "C:\\Users\\admin\\gits\\scratchbook\\CausalAbstraction\\src\\bandit_agents.py:144: RuntimeWarning: invalid value encountered in sqrt\n",
      "  U = self.c * np.sqrt( np.log(np.sum(self.action_counter)) / self.action_counter  )\n",
      "C:\\Users\\admin\\gits\\scratchbook\\CausalAbstraction\\src\\bandit_agents.py:144: RuntimeWarning: invalid value encountered in divide\n",
      "  U = self.c * np.sqrt( np.log(np.sum(self.action_counter)) / self.action_counter  )\n",
      "C:\\Users\\admin\\gits\\scratchbook\\CausalAbstraction\\src\\bandit_agents.py:144: RuntimeWarning: divide by zero encountered in divide\n",
      "  U = self.c * np.sqrt( np.log(np.sum(self.action_counter)) / self.action_counter  )\n",
      "C:\\Users\\admin\\gits\\scratchbook\\CausalAbstraction\\src\\bandit_agents.py:144: RuntimeWarning: divide by zero encountered in log\n",
      "  U = self.c * np.sqrt( np.log(np.sum(self.action_counter)) / self.action_counter  )\n",
      "C:\\Users\\admin\\gits\\scratchbook\\CausalAbstraction\\src\\bandit_agents.py:144: RuntimeWarning: invalid value encountered in sqrt\n",
      "  U = self.c * np.sqrt( np.log(np.sum(self.action_counter)) / self.action_counter  )\n",
      "C:\\Users\\admin\\gits\\scratchbook\\CausalAbstraction\\src\\bandit_agents.py:144: RuntimeWarning: invalid value encountered in divide\n",
      "  U = self.c * np.sqrt( np.log(np.sum(self.action_counter)) / self.action_counter  )\n",
      "C:\\Users\\admin\\gits\\scratchbook\\CausalAbstraction\\src\\bandit_agents.py:144: RuntimeWarning: divide by zero encountered in divide\n",
      "  U = self.c * np.sqrt( np.log(np.sum(self.action_counter)) / self.action_counter  )\n",
      " 50%|█████████████████████████████████████████████████                                                 | 10/20 [03:10<03:09, 19.00s/it]C:\\Users\\admin\\gits\\scratchbook\\CausalAbstraction\\src\\bandit_agents.py:144: RuntimeWarning: divide by zero encountered in log\n",
      "  U = self.c * np.sqrt( np.log(np.sum(self.action_counter)) / self.action_counter  )\n",
      "C:\\Users\\admin\\gits\\scratchbook\\CausalAbstraction\\src\\bandit_agents.py:144: RuntimeWarning: invalid value encountered in sqrt\n",
      "  U = self.c * np.sqrt( np.log(np.sum(self.action_counter)) / self.action_counter  )\n",
      "C:\\Users\\admin\\gits\\scratchbook\\CausalAbstraction\\src\\bandit_agents.py:144: RuntimeWarning: invalid value encountered in divide\n",
      "  U = self.c * np.sqrt( np.log(np.sum(self.action_counter)) / self.action_counter  )\n",
      "C:\\Users\\admin\\gits\\scratchbook\\CausalAbstraction\\src\\bandit_agents.py:144: RuntimeWarning: divide by zero encountered in divide\n",
      "  U = self.c * np.sqrt( np.log(np.sum(self.action_counter)) / self.action_counter  )\n",
      "C:\\Users\\admin\\gits\\scratchbook\\CausalAbstraction\\src\\bandit_agents.py:144: RuntimeWarning: divide by zero encountered in log\n",
      "  U = self.c * np.sqrt( np.log(np.sum(self.action_counter)) / self.action_counter  )\n",
      "C:\\Users\\admin\\gits\\scratchbook\\CausalAbstraction\\src\\bandit_agents.py:144: RuntimeWarning: invalid value encountered in sqrt\n",
      "  U = self.c * np.sqrt( np.log(np.sum(self.action_counter)) / self.action_counter  )\n",
      "C:\\Users\\admin\\gits\\scratchbook\\CausalAbstraction\\src\\bandit_agents.py:144: RuntimeWarning: invalid value encountered in divide\n",
      "  U = self.c * np.sqrt( np.log(np.sum(self.action_counter)) / self.action_counter  )\n",
      "C:\\Users\\admin\\gits\\scratchbook\\CausalAbstraction\\src\\bandit_agents.py:144: RuntimeWarning: divide by zero encountered in divide\n",
      "  U = self.c * np.sqrt( np.log(np.sum(self.action_counter)) / self.action_counter  )\n",
      " 55%|█████████████████████████████████████████████████████▉                                            | 11/20 [03:28<02:48, 18.71s/it]C:\\Users\\admin\\gits\\scratchbook\\CausalAbstraction\\src\\bandit_agents.py:144: RuntimeWarning: divide by zero encountered in log\n",
      "  U = self.c * np.sqrt( np.log(np.sum(self.action_counter)) / self.action_counter  )\n",
      "C:\\Users\\admin\\gits\\scratchbook\\CausalAbstraction\\src\\bandit_agents.py:144: RuntimeWarning: invalid value encountered in sqrt\n",
      "  U = self.c * np.sqrt( np.log(np.sum(self.action_counter)) / self.action_counter  )\n",
      "C:\\Users\\admin\\gits\\scratchbook\\CausalAbstraction\\src\\bandit_agents.py:144: RuntimeWarning: invalid value encountered in divide\n",
      "  U = self.c * np.sqrt( np.log(np.sum(self.action_counter)) / self.action_counter  )\n",
      "C:\\Users\\admin\\gits\\scratchbook\\CausalAbstraction\\src\\bandit_agents.py:144: RuntimeWarning: divide by zero encountered in divide\n",
      "  U = self.c * np.sqrt( np.log(np.sum(self.action_counter)) / self.action_counter  )\n",
      "C:\\Users\\admin\\gits\\scratchbook\\CausalAbstraction\\src\\bandit_agents.py:144: RuntimeWarning: divide by zero encountered in log\n",
      "  U = self.c * np.sqrt( np.log(np.sum(self.action_counter)) / self.action_counter  )\n",
      "C:\\Users\\admin\\gits\\scratchbook\\CausalAbstraction\\src\\bandit_agents.py:144: RuntimeWarning: invalid value encountered in sqrt\n",
      "  U = self.c * np.sqrt( np.log(np.sum(self.action_counter)) / self.action_counter  )\n",
      "C:\\Users\\admin\\gits\\scratchbook\\CausalAbstraction\\src\\bandit_agents.py:144: RuntimeWarning: invalid value encountered in divide\n",
      "  U = self.c * np.sqrt( np.log(np.sum(self.action_counter)) / self.action_counter  )\n",
      "C:\\Users\\admin\\gits\\scratchbook\\CausalAbstraction\\src\\bandit_agents.py:144: RuntimeWarning: divide by zero encountered in divide\n",
      "  U = self.c * np.sqrt( np.log(np.sum(self.action_counter)) / self.action_counter  )\n",
      " 60%|██████████████████████████████████████████████████████████▊                                       | 12/20 [03:47<02:29, 18.73s/it]C:\\Users\\admin\\gits\\scratchbook\\CausalAbstraction\\src\\bandit_agents.py:144: RuntimeWarning: divide by zero encountered in log\n",
      "  U = self.c * np.sqrt( np.log(np.sum(self.action_counter)) / self.action_counter  )\n",
      "C:\\Users\\admin\\gits\\scratchbook\\CausalAbstraction\\src\\bandit_agents.py:144: RuntimeWarning: invalid value encountered in sqrt\n",
      "  U = self.c * np.sqrt( np.log(np.sum(self.action_counter)) / self.action_counter  )\n",
      "C:\\Users\\admin\\gits\\scratchbook\\CausalAbstraction\\src\\bandit_agents.py:144: RuntimeWarning: invalid value encountered in divide\n",
      "  U = self.c * np.sqrt( np.log(np.sum(self.action_counter)) / self.action_counter  )\n",
      "C:\\Users\\admin\\gits\\scratchbook\\CausalAbstraction\\src\\bandit_agents.py:144: RuntimeWarning: divide by zero encountered in divide\n",
      "  U = self.c * np.sqrt( np.log(np.sum(self.action_counter)) / self.action_counter  )\n",
      "C:\\Users\\admin\\gits\\scratchbook\\CausalAbstraction\\src\\bandit_agents.py:144: RuntimeWarning: divide by zero encountered in log\n",
      "  U = self.c * np.sqrt( np.log(np.sum(self.action_counter)) / self.action_counter  )\n",
      "C:\\Users\\admin\\gits\\scratchbook\\CausalAbstraction\\src\\bandit_agents.py:144: RuntimeWarning: invalid value encountered in sqrt\n",
      "  U = self.c * np.sqrt( np.log(np.sum(self.action_counter)) / self.action_counter  )\n",
      "C:\\Users\\admin\\gits\\scratchbook\\CausalAbstraction\\src\\bandit_agents.py:144: RuntimeWarning: invalid value encountered in divide\n",
      "  U = self.c * np.sqrt( np.log(np.sum(self.action_counter)) / self.action_counter  )\n",
      "C:\\Users\\admin\\gits\\scratchbook\\CausalAbstraction\\src\\bandit_agents.py:144: RuntimeWarning: divide by zero encountered in divide\n",
      "  U = self.c * np.sqrt( np.log(np.sum(self.action_counter)) / self.action_counter  )\n",
      " 65%|███████████████████████████████████████████████████████████████▋                                  | 13/20 [04:06<02:11, 18.77s/it]C:\\Users\\admin\\gits\\scratchbook\\CausalAbstraction\\src\\bandit_agents.py:144: RuntimeWarning: divide by zero encountered in log\n",
      "  U = self.c * np.sqrt( np.log(np.sum(self.action_counter)) / self.action_counter  )\n",
      "C:\\Users\\admin\\gits\\scratchbook\\CausalAbstraction\\src\\bandit_agents.py:144: RuntimeWarning: invalid value encountered in sqrt\n",
      "  U = self.c * np.sqrt( np.log(np.sum(self.action_counter)) / self.action_counter  )\n",
      "C:\\Users\\admin\\gits\\scratchbook\\CausalAbstraction\\src\\bandit_agents.py:144: RuntimeWarning: invalid value encountered in divide\n",
      "  U = self.c * np.sqrt( np.log(np.sum(self.action_counter)) / self.action_counter  )\n",
      "C:\\Users\\admin\\gits\\scratchbook\\CausalAbstraction\\src\\bandit_agents.py:144: RuntimeWarning: divide by zero encountered in divide\n",
      "  U = self.c * np.sqrt( np.log(np.sum(self.action_counter)) / self.action_counter  )\n"
     ]
    },
    {
     "name": "stderr",
     "output_type": "stream",
     "text": [
      "C:\\Users\\admin\\gits\\scratchbook\\CausalAbstraction\\src\\bandit_agents.py:144: RuntimeWarning: divide by zero encountered in log\n",
      "  U = self.c * np.sqrt( np.log(np.sum(self.action_counter)) / self.action_counter  )\n",
      "C:\\Users\\admin\\gits\\scratchbook\\CausalAbstraction\\src\\bandit_agents.py:144: RuntimeWarning: invalid value encountered in sqrt\n",
      "  U = self.c * np.sqrt( np.log(np.sum(self.action_counter)) / self.action_counter  )\n",
      "C:\\Users\\admin\\gits\\scratchbook\\CausalAbstraction\\src\\bandit_agents.py:144: RuntimeWarning: invalid value encountered in divide\n",
      "  U = self.c * np.sqrt( np.log(np.sum(self.action_counter)) / self.action_counter  )\n",
      "C:\\Users\\admin\\gits\\scratchbook\\CausalAbstraction\\src\\bandit_agents.py:144: RuntimeWarning: divide by zero encountered in divide\n",
      "  U = self.c * np.sqrt( np.log(np.sum(self.action_counter)) / self.action_counter  )\n",
      " 70%|████████████████████████████████████████████████████████████████████▌                             | 14/20 [04:24<01:50, 18.50s/it]C:\\Users\\admin\\gits\\scratchbook\\CausalAbstraction\\src\\bandit_agents.py:144: RuntimeWarning: divide by zero encountered in log\n",
      "  U = self.c * np.sqrt( np.log(np.sum(self.action_counter)) / self.action_counter  )\n",
      "C:\\Users\\admin\\gits\\scratchbook\\CausalAbstraction\\src\\bandit_agents.py:144: RuntimeWarning: invalid value encountered in sqrt\n",
      "  U = self.c * np.sqrt( np.log(np.sum(self.action_counter)) / self.action_counter  )\n",
      "C:\\Users\\admin\\gits\\scratchbook\\CausalAbstraction\\src\\bandit_agents.py:144: RuntimeWarning: invalid value encountered in divide\n",
      "  U = self.c * np.sqrt( np.log(np.sum(self.action_counter)) / self.action_counter  )\n",
      "C:\\Users\\admin\\gits\\scratchbook\\CausalAbstraction\\src\\bandit_agents.py:144: RuntimeWarning: divide by zero encountered in divide\n",
      "  U = self.c * np.sqrt( np.log(np.sum(self.action_counter)) / self.action_counter  )\n",
      "C:\\Users\\admin\\gits\\scratchbook\\CausalAbstraction\\src\\bandit_agents.py:144: RuntimeWarning: divide by zero encountered in log\n",
      "  U = self.c * np.sqrt( np.log(np.sum(self.action_counter)) / self.action_counter  )\n",
      "C:\\Users\\admin\\gits\\scratchbook\\CausalAbstraction\\src\\bandit_agents.py:144: RuntimeWarning: invalid value encountered in sqrt\n",
      "  U = self.c * np.sqrt( np.log(np.sum(self.action_counter)) / self.action_counter  )\n",
      "C:\\Users\\admin\\gits\\scratchbook\\CausalAbstraction\\src\\bandit_agents.py:144: RuntimeWarning: invalid value encountered in divide\n",
      "  U = self.c * np.sqrt( np.log(np.sum(self.action_counter)) / self.action_counter  )\n",
      "C:\\Users\\admin\\gits\\scratchbook\\CausalAbstraction\\src\\bandit_agents.py:144: RuntimeWarning: divide by zero encountered in divide\n",
      "  U = self.c * np.sqrt( np.log(np.sum(self.action_counter)) / self.action_counter  )\n",
      " 75%|█████████████████████████████████████████████████████████████████████████▌                        | 15/20 [04:40<01:29, 17.82s/it]C:\\Users\\admin\\gits\\scratchbook\\CausalAbstraction\\src\\bandit_agents.py:144: RuntimeWarning: divide by zero encountered in log\n",
      "  U = self.c * np.sqrt( np.log(np.sum(self.action_counter)) / self.action_counter  )\n",
      "C:\\Users\\admin\\gits\\scratchbook\\CausalAbstraction\\src\\bandit_agents.py:144: RuntimeWarning: invalid value encountered in sqrt\n",
      "  U = self.c * np.sqrt( np.log(np.sum(self.action_counter)) / self.action_counter  )\n",
      "C:\\Users\\admin\\gits\\scratchbook\\CausalAbstraction\\src\\bandit_agents.py:144: RuntimeWarning: invalid value encountered in divide\n",
      "  U = self.c * np.sqrt( np.log(np.sum(self.action_counter)) / self.action_counter  )\n",
      "C:\\Users\\admin\\gits\\scratchbook\\CausalAbstraction\\src\\bandit_agents.py:144: RuntimeWarning: divide by zero encountered in divide\n",
      "  U = self.c * np.sqrt( np.log(np.sum(self.action_counter)) / self.action_counter  )\n",
      "C:\\Users\\admin\\gits\\scratchbook\\CausalAbstraction\\src\\bandit_agents.py:144: RuntimeWarning: divide by zero encountered in log\n",
      "  U = self.c * np.sqrt( np.log(np.sum(self.action_counter)) / self.action_counter  )\n",
      "C:\\Users\\admin\\gits\\scratchbook\\CausalAbstraction\\src\\bandit_agents.py:144: RuntimeWarning: invalid value encountered in sqrt\n",
      "  U = self.c * np.sqrt( np.log(np.sum(self.action_counter)) / self.action_counter  )\n",
      "C:\\Users\\admin\\gits\\scratchbook\\CausalAbstraction\\src\\bandit_agents.py:144: RuntimeWarning: invalid value encountered in divide\n",
      "  U = self.c * np.sqrt( np.log(np.sum(self.action_counter)) / self.action_counter  )\n",
      "C:\\Users\\admin\\gits\\scratchbook\\CausalAbstraction\\src\\bandit_agents.py:144: RuntimeWarning: divide by zero encountered in divide\n",
      "  U = self.c * np.sqrt( np.log(np.sum(self.action_counter)) / self.action_counter  )\n",
      " 80%|██████████████████████████████████████████████████████████████████████████████▍                   | 16/20 [04:59<01:12, 18.21s/it]C:\\Users\\admin\\gits\\scratchbook\\CausalAbstraction\\src\\bandit_agents.py:144: RuntimeWarning: divide by zero encountered in log\n",
      "  U = self.c * np.sqrt( np.log(np.sum(self.action_counter)) / self.action_counter  )\n",
      "C:\\Users\\admin\\gits\\scratchbook\\CausalAbstraction\\src\\bandit_agents.py:144: RuntimeWarning: invalid value encountered in sqrt\n",
      "  U = self.c * np.sqrt( np.log(np.sum(self.action_counter)) / self.action_counter  )\n",
      "C:\\Users\\admin\\gits\\scratchbook\\CausalAbstraction\\src\\bandit_agents.py:144: RuntimeWarning: invalid value encountered in divide\n",
      "  U = self.c * np.sqrt( np.log(np.sum(self.action_counter)) / self.action_counter  )\n",
      "C:\\Users\\admin\\gits\\scratchbook\\CausalAbstraction\\src\\bandit_agents.py:144: RuntimeWarning: divide by zero encountered in divide\n",
      "  U = self.c * np.sqrt( np.log(np.sum(self.action_counter)) / self.action_counter  )\n",
      "C:\\Users\\admin\\gits\\scratchbook\\CausalAbstraction\\src\\bandit_agents.py:144: RuntimeWarning: divide by zero encountered in log\n",
      "  U = self.c * np.sqrt( np.log(np.sum(self.action_counter)) / self.action_counter  )\n",
      "C:\\Users\\admin\\gits\\scratchbook\\CausalAbstraction\\src\\bandit_agents.py:144: RuntimeWarning: invalid value encountered in sqrt\n",
      "  U = self.c * np.sqrt( np.log(np.sum(self.action_counter)) / self.action_counter  )\n",
      "C:\\Users\\admin\\gits\\scratchbook\\CausalAbstraction\\src\\bandit_agents.py:144: RuntimeWarning: invalid value encountered in divide\n",
      "  U = self.c * np.sqrt( np.log(np.sum(self.action_counter)) / self.action_counter  )\n",
      "C:\\Users\\admin\\gits\\scratchbook\\CausalAbstraction\\src\\bandit_agents.py:144: RuntimeWarning: divide by zero encountered in divide\n",
      "  U = self.c * np.sqrt( np.log(np.sum(self.action_counter)) / self.action_counter  )\n",
      " 85%|███████████████████████████████████████████████████████████████████████████████████▎              | 17/20 [05:17<00:54, 18.20s/it]C:\\Users\\admin\\gits\\scratchbook\\CausalAbstraction\\src\\bandit_agents.py:144: RuntimeWarning: divide by zero encountered in log\n",
      "  U = self.c * np.sqrt( np.log(np.sum(self.action_counter)) / self.action_counter  )\n",
      "C:\\Users\\admin\\gits\\scratchbook\\CausalAbstraction\\src\\bandit_agents.py:144: RuntimeWarning: invalid value encountered in sqrt\n",
      "  U = self.c * np.sqrt( np.log(np.sum(self.action_counter)) / self.action_counter  )\n",
      "C:\\Users\\admin\\gits\\scratchbook\\CausalAbstraction\\src\\bandit_agents.py:144: RuntimeWarning: invalid value encountered in divide\n",
      "  U = self.c * np.sqrt( np.log(np.sum(self.action_counter)) / self.action_counter  )\n",
      "C:\\Users\\admin\\gits\\scratchbook\\CausalAbstraction\\src\\bandit_agents.py:144: RuntimeWarning: divide by zero encountered in divide\n",
      "  U = self.c * np.sqrt( np.log(np.sum(self.action_counter)) / self.action_counter  )\n",
      "C:\\Users\\admin\\gits\\scratchbook\\CausalAbstraction\\src\\bandit_agents.py:144: RuntimeWarning: divide by zero encountered in log\n",
      "  U = self.c * np.sqrt( np.log(np.sum(self.action_counter)) / self.action_counter  )\n",
      "C:\\Users\\admin\\gits\\scratchbook\\CausalAbstraction\\src\\bandit_agents.py:144: RuntimeWarning: invalid value encountered in sqrt\n",
      "  U = self.c * np.sqrt( np.log(np.sum(self.action_counter)) / self.action_counter  )\n",
      "C:\\Users\\admin\\gits\\scratchbook\\CausalAbstraction\\src\\bandit_agents.py:144: RuntimeWarning: invalid value encountered in divide\n",
      "  U = self.c * np.sqrt( np.log(np.sum(self.action_counter)) / self.action_counter  )\n",
      "C:\\Users\\admin\\gits\\scratchbook\\CausalAbstraction\\src\\bandit_agents.py:144: RuntimeWarning: divide by zero encountered in divide\n",
      "  U = self.c * np.sqrt( np.log(np.sum(self.action_counter)) / self.action_counter  )\n"
     ]
    },
    {
     "name": "stderr",
     "output_type": "stream",
     "text": [
      " 90%|████████████████████████████████████████████████████████████████████████████████████████▏         | 18/20 [05:36<00:36, 18.30s/it]C:\\Users\\admin\\gits\\scratchbook\\CausalAbstraction\\src\\bandit_agents.py:144: RuntimeWarning: divide by zero encountered in log\n",
      "  U = self.c * np.sqrt( np.log(np.sum(self.action_counter)) / self.action_counter  )\n",
      "C:\\Users\\admin\\gits\\scratchbook\\CausalAbstraction\\src\\bandit_agents.py:144: RuntimeWarning: invalid value encountered in sqrt\n",
      "  U = self.c * np.sqrt( np.log(np.sum(self.action_counter)) / self.action_counter  )\n",
      "C:\\Users\\admin\\gits\\scratchbook\\CausalAbstraction\\src\\bandit_agents.py:144: RuntimeWarning: invalid value encountered in divide\n",
      "  U = self.c * np.sqrt( np.log(np.sum(self.action_counter)) / self.action_counter  )\n",
      "C:\\Users\\admin\\gits\\scratchbook\\CausalAbstraction\\src\\bandit_agents.py:144: RuntimeWarning: divide by zero encountered in divide\n",
      "  U = self.c * np.sqrt( np.log(np.sum(self.action_counter)) / self.action_counter  )\n",
      "C:\\Users\\admin\\gits\\scratchbook\\CausalAbstraction\\src\\bandit_agents.py:144: RuntimeWarning: divide by zero encountered in log\n",
      "  U = self.c * np.sqrt( np.log(np.sum(self.action_counter)) / self.action_counter  )\n",
      "C:\\Users\\admin\\gits\\scratchbook\\CausalAbstraction\\src\\bandit_agents.py:144: RuntimeWarning: invalid value encountered in sqrt\n",
      "  U = self.c * np.sqrt( np.log(np.sum(self.action_counter)) / self.action_counter  )\n",
      "C:\\Users\\admin\\gits\\scratchbook\\CausalAbstraction\\src\\bandit_agents.py:144: RuntimeWarning: invalid value encountered in divide\n",
      "  U = self.c * np.sqrt( np.log(np.sum(self.action_counter)) / self.action_counter  )\n",
      "C:\\Users\\admin\\gits\\scratchbook\\CausalAbstraction\\src\\bandit_agents.py:144: RuntimeWarning: divide by zero encountered in divide\n",
      "  U = self.c * np.sqrt( np.log(np.sum(self.action_counter)) / self.action_counter  )\n",
      " 95%|█████████████████████████████████████████████████████████████████████████████████████████████     | 19/20 [05:53<00:18, 18.04s/it]C:\\Users\\admin\\gits\\scratchbook\\CausalAbstraction\\src\\bandit_agents.py:144: RuntimeWarning: divide by zero encountered in log\n",
      "  U = self.c * np.sqrt( np.log(np.sum(self.action_counter)) / self.action_counter  )\n",
      "C:\\Users\\admin\\gits\\scratchbook\\CausalAbstraction\\src\\bandit_agents.py:144: RuntimeWarning: invalid value encountered in sqrt\n",
      "  U = self.c * np.sqrt( np.log(np.sum(self.action_counter)) / self.action_counter  )\n",
      "C:\\Users\\admin\\gits\\scratchbook\\CausalAbstraction\\src\\bandit_agents.py:144: RuntimeWarning: invalid value encountered in divide\n",
      "  U = self.c * np.sqrt( np.log(np.sum(self.action_counter)) / self.action_counter  )\n",
      "C:\\Users\\admin\\gits\\scratchbook\\CausalAbstraction\\src\\bandit_agents.py:144: RuntimeWarning: divide by zero encountered in divide\n",
      "  U = self.c * np.sqrt( np.log(np.sum(self.action_counter)) / self.action_counter  )\n",
      "C:\\Users\\admin\\gits\\scratchbook\\CausalAbstraction\\src\\bandit_agents.py:144: RuntimeWarning: divide by zero encountered in log\n",
      "  U = self.c * np.sqrt( np.log(np.sum(self.action_counter)) / self.action_counter  )\n",
      "C:\\Users\\admin\\gits\\scratchbook\\CausalAbstraction\\src\\bandit_agents.py:144: RuntimeWarning: invalid value encountered in sqrt\n",
      "  U = self.c * np.sqrt( np.log(np.sum(self.action_counter)) / self.action_counter  )\n",
      "C:\\Users\\admin\\gits\\scratchbook\\CausalAbstraction\\src\\bandit_agents.py:144: RuntimeWarning: invalid value encountered in divide\n",
      "  U = self.c * np.sqrt( np.log(np.sum(self.action_counter)) / self.action_counter  )\n",
      "C:\\Users\\admin\\gits\\scratchbook\\CausalAbstraction\\src\\bandit_agents.py:144: RuntimeWarning: divide by zero encountered in divide\n",
      "  U = self.c * np.sqrt( np.log(np.sum(self.action_counter)) / self.action_counter  )\n",
      "100%|██████████████████████████████████████████████████████████████████████████████████████████████████| 20/20 [06:13<00:00, 18.67s/it]\n"
     ]
    }
   ],
   "source": [
    "for t in tqdm(range(n_trials)):\n",
    "    ag0 = CTr.run_trial(bandits[0],n_steps,trainalg[0],\n",
    "                        {k: params[k][0] for k in params.keys()},\n",
    "                        map_actions,map_rewards,map_ydomains)\n",
    "    agentsA[0].append(ag0)\n",
    "    \n",
    "    for i in range(1,len(labels)):\n",
    "        ag = CTr.run_trial(bandits[i],n_steps,trainalg[i],\n",
    "                           {k: params[k][i] for k in params.keys()},\n",
    "                            map_actions,map_rewards,map_ydomains,base_bandit=ag0)\n",
    "        agentsA[i].append(ag)"
   ]
  },
  {
   "cell_type": "markdown",
   "id": "f24d1298",
   "metadata": {},
   "source": [
    "# Persistence"
   ]
  },
  {
   "cell_type": "code",
   "execution_count": 15,
   "id": "f0dca822",
   "metadata": {},
   "outputs": [],
   "source": [
    "stats = {simulparams[i]: eval(simulparams[i]) for i in range(len(simulparams))}"
   ]
  },
  {
   "cell_type": "raw",
   "id": "4b19e624",
   "metadata": {},
   "source": [
    "joblib.dump(stats,'results/{0}.pkl'.format(simulname))"
   ]
  },
  {
   "cell_type": "markdown",
   "id": "860bfd39",
   "metadata": {},
   "source": [
    "# Evaluation of the results"
   ]
  },
  {
   "cell_type": "code",
   "execution_count": 16,
   "id": "728d026f",
   "metadata": {},
   "outputs": [
    {
     "name": "stderr",
     "output_type": "stream",
     "text": [
      "C:\\Users\\admin\\AppData\\Local\\Temp\\ipykernel_8616\\442364272.py:9: RuntimeWarning: invalid value encountered in divide\n",
      "  p[np.argmax(Q + c * np.sqrt( np.log(np.sum(action_counter)) / action_counter  ))] = 1\n",
      "C:\\Users\\admin\\AppData\\Local\\Temp\\ipykernel_8616\\442364272.py:9: RuntimeWarning: divide by zero encountered in divide\n",
      "  p[np.argmax(Q + c * np.sqrt( np.log(np.sum(action_counter)) / action_counter  ))] = 1\n"
     ]
    }
   ],
   "source": [
    "cumregret0A = np.zeros((n_trials,n_steps))\n",
    "\n",
    "for trial in range(n_trials):\n",
    "    n_actions = len(B0.actions)\n",
    "    Qs = agentsA[0][trial].history_Qs\n",
    "    actions = agentsA[0][trial].history_actions\n",
    "\n",
    "    for step in range(n_steps):\n",
    "        p = get_action_distributions(n_actions,Qs[step],params['c'][0], build_action_counter(n_actions,actions[0:step+1]))\n",
    "        cumregret0A[trial,step]= cumregret0A[trial,step-1]-np.sum(p*B0.optim_gaps) "
   ]
  },
  {
   "cell_type": "code",
   "execution_count": 17,
   "id": "649fdb4e",
   "metadata": {},
   "outputs": [
    {
     "name": "stderr",
     "output_type": "stream",
     "text": [
      "C:\\Users\\admin\\AppData\\Local\\Temp\\ipykernel_8616\\442364272.py:9: RuntimeWarning: invalid value encountered in divide\n",
      "  p[np.argmax(Q + c * np.sqrt( np.log(np.sum(action_counter)) / action_counter  ))] = 1\n",
      "C:\\Users\\admin\\AppData\\Local\\Temp\\ipykernel_8616\\442364272.py:9: RuntimeWarning: divide by zero encountered in divide\n",
      "  p[np.argmax(Q + c * np.sqrt( np.log(np.sum(action_counter)) / action_counter  ))] = 1\n"
     ]
    }
   ],
   "source": [
    "cumregret1A = np.zeros((n_trials,n_steps))\n",
    "\n",
    "for trial in range(n_trials):\n",
    "    n_actions = len(B1.actions)\n",
    "    Qs = agentsA[1][trial].history_Qs\n",
    "    actions = agentsA[1][trial].history_actions\n",
    "\n",
    "    for step in range(n_steps):\n",
    "        p = get_action_distributions(n_actions,Qs[step],params['c'][1], build_action_counter(n_actions,actions[0:step+1]))\n",
    "        cumregret1A[trial,step]= cumregret1A[trial,step-1]-np.sum(p*B1.optim_gaps)   "
   ]
  },
  {
   "cell_type": "code",
   "execution_count": 18,
   "id": "ca4026b2",
   "metadata": {},
   "outputs": [
    {
     "name": "stderr",
     "output_type": "stream",
     "text": [
      "C:\\Users\\admin\\AppData\\Local\\Temp\\ipykernel_8616\\442364272.py:9: RuntimeWarning: invalid value encountered in divide\n",
      "  p[np.argmax(Q + c * np.sqrt( np.log(np.sum(action_counter)) / action_counter  ))] = 1\n",
      "C:\\Users\\admin\\AppData\\Local\\Temp\\ipykernel_8616\\442364272.py:9: RuntimeWarning: divide by zero encountered in divide\n",
      "  p[np.argmax(Q + c * np.sqrt( np.log(np.sum(action_counter)) / action_counter  ))] = 1\n"
     ]
    }
   ],
   "source": [
    "cumregretAA = np.zeros((n_trials,n_steps))\n",
    "\n",
    "for trial in range(n_trials):\n",
    "    n_actions = len(B1.actions)\n",
    "    Qs = agentsA[0][trial].history_Qs\n",
    "    actions = agentsA[0][trial].history_actions\n",
    "\n",
    "    for step in range(n_steps):\n",
    "        p = get_action_distributions(n_actions,Qs[step],params['c'][0], build_action_counter(n_actions,actions[0:step+1]))\n",
    "        alphap = alpha_pushforward(p,map_actions)\n",
    "        cumregretAA[trial,step]= cumregretAA[trial,step-1]-np.sum(alphap*B1.optim_gaps) "
   ]
  },
  {
   "cell_type": "markdown",
   "id": "9f5b2e92",
   "metadata": {},
   "source": [
    "## Model 2 setup"
   ]
  },
  {
   "cell_type": "code",
   "execution_count": 19,
   "id": "e02a64d6",
   "metadata": {},
   "outputs": [],
   "source": [
    "MphiS = np.array([[.8],[.2]])\n",
    "MphiT = np.array([[.2,.8],[.8,.2]])\n",
    "MphiC = np.array([[.7,.3],[.3,.7]])\n",
    "M0 = sm.M_pgmpy_chain_STC(MphiS,MphiT,MphiC,S='T',T='M',C='Y')\n",
    "\n",
    "MphiS = np.array([[.8],[.2]]) \n",
    "MphiC = np.dot(MphiC,MphiT)\n",
    "M1 = sm.M_pgmpy_chain_SC(MphiS,MphiC,S='T_',C='Y_')   \n",
    "R = ['T','Y']\n",
    "a = {'T': 'T_',\n",
    "    'Y': 'Y_'}\n",
    "alphas = {'T_': np.eye(2),\n",
    "        'Y_': np.eye(2)}"
   ]
  },
  {
   "cell_type": "code",
   "execution_count": 20,
   "id": "01314407",
   "metadata": {},
   "outputs": [
    {
     "data": {
      "text/plain": [
       "0"
      ]
     },
     "execution_count": 20,
     "metadata": {},
     "output_type": "execute_result"
    }
   ],
   "source": [
    "Ab = Abstraction(M0,M1,R,a,alphas)\n",
    "Ae = ICEvaluator(Ab)\n",
    "J = esets.get_causal_sets_in_M0_with_directed_path_in_M1_and_M0(Ab.M0,Ab.M1,Ab.a)\n",
    "Ae.compute_overall_error(J)"
   ]
  },
  {
   "cell_type": "code",
   "execution_count": 21,
   "id": "122ef43b",
   "metadata": {},
   "outputs": [],
   "source": [
    "map_rewards = {i:np.argmax(alphas['Y_'][:,i]) for i in range(alphas['Y_'].shape[1])}\n",
    "    \n",
    "ydomain0 = lambda x:x\n",
    "ydomain1 = lambda x:x\n",
    "map_ydomains = {ydomain0(i):ydomain1(j) for i,j in map_rewards.items()}\n",
    "\n",
    "actions0=[{}, {'T':0}, {'T':1}]\n",
    "actions1=[{}, {'T_':0}, {'T_':1}]\n",
    "map_actions = {0: 0, 1: 1, 2: 2}"
   ]
  },
  {
   "cell_type": "markdown",
   "id": "8eb16db4",
   "metadata": {},
   "source": [
    "## Experiment settings"
   ]
  },
  {
   "cell_type": "code",
   "execution_count": 22,
   "id": "927f51d6",
   "metadata": {},
   "outputs": [],
   "source": [
    "params_to_save_start = set(dir())\n",
    "simulname = 'simul_2_2B'\n",
    "\n",
    "n_trials = 20\n",
    "n_steps = 500"
   ]
  },
  {
   "cell_type": "markdown",
   "id": "425ec51e",
   "metadata": {},
   "source": [
    "### Bandits setting"
   ]
  },
  {
   "cell_type": "code",
   "execution_count": 23,
   "id": "72da1e46",
   "metadata": {},
   "outputs": [],
   "source": [
    "B0 = BE.SCMEnv(scm=Ab.M0, actions=[{}, {'T':0}, {'T':1}], target='Y')\n",
    "B1 = BE.SCMEnv(scm=Ab.M1, actions=[{}, {'T_':0}, {'T_':1}], target='Y_')"
   ]
  },
  {
   "cell_type": "markdown",
   "id": "47d7295d",
   "metadata": {},
   "source": [
    "### Learning setting"
   ]
  },
  {
   "cell_type": "code",
   "execution_count": 24,
   "id": "08d4ea6e",
   "metadata": {},
   "outputs": [],
   "source": [
    "bandits = [B0,B1,B1]\n",
    "\n",
    "labels = ['Base: ucb','Abs: ucb','Abs: imitation']\n",
    "trainmode = ['direct','direct','imitation']\n",
    "trainalg = ['ucb', 'ucb', 'ucb']\n",
    "params = {}\n",
    "\n",
    "# Alg params\n",
    "params['Qinit'] = [BA.initialize_Q_ones,BA.initialize_Q_ones,BA.initialize_Q_ones]\n",
    "\n",
    "# UCB params\n",
    "params['c'] = [1.0] * len(labels)"
   ]
  },
  {
   "cell_type": "markdown",
   "id": "ad92a3e8",
   "metadata": {},
   "source": [
    "## Statistics settings"
   ]
  },
  {
   "cell_type": "code",
   "execution_count": 25,
   "id": "a7310381",
   "metadata": {},
   "outputs": [],
   "source": [
    "agentsB = [[] for _ in range(len(labels))]\n",
    "\n",
    "params_to_save = set(dir()) - params_to_save_start\n",
    "simulparams = [s for s in params_to_save if s[0]!='_']"
   ]
  },
  {
   "cell_type": "markdown",
   "id": "04922467",
   "metadata": {},
   "source": [
    "# Training"
   ]
  },
  {
   "cell_type": "code",
   "execution_count": 26,
   "id": "f9a333dd",
   "metadata": {},
   "outputs": [
    {
     "name": "stderr",
     "output_type": "stream",
     "text": [
      "  0%|                                                                                                           | 0/20 [00:00<?, ?it/s]\n"
     ]
    },
    {
     "ename": "UnboundLocalError",
     "evalue": "local variable 'Ag' referenced before assignment",
     "output_type": "error",
     "traceback": [
      "\u001b[1;31m---------------------------------------------------------------------------\u001b[0m",
      "\u001b[1;31mUnboundLocalError\u001b[0m                         Traceback (most recent call last)",
      "Cell \u001b[1;32mIn[26], line 2\u001b[0m\n\u001b[0;32m      1\u001b[0m \u001b[38;5;28;01mfor\u001b[39;00m t \u001b[38;5;129;01min\u001b[39;00m tqdm(\u001b[38;5;28mrange\u001b[39m(n_trials)):\n\u001b[1;32m----> 2\u001b[0m     ag0 \u001b[38;5;241m=\u001b[39m \u001b[43mCTr\u001b[49m\u001b[38;5;241;43m.\u001b[39;49m\u001b[43mrun_trial\u001b[49m\u001b[43m(\u001b[49m\u001b[43mbandits\u001b[49m\u001b[43m[\u001b[49m\u001b[38;5;241;43m0\u001b[39;49m\u001b[43m]\u001b[49m\u001b[43m,\u001b[49m\u001b[43mn_steps\u001b[49m\u001b[43m,\u001b[49m\u001b[43mtrainmode\u001b[49m\u001b[43m[\u001b[49m\u001b[38;5;241;43m0\u001b[39;49m\u001b[43m]\u001b[49m\u001b[43m,\u001b[49m\u001b[43mtrainalg\u001b[49m\u001b[43m[\u001b[49m\u001b[38;5;241;43m0\u001b[39;49m\u001b[43m]\u001b[49m\u001b[43m,\u001b[49m\n\u001b[0;32m      3\u001b[0m \u001b[43m                        \u001b[49m\u001b[43m{\u001b[49m\u001b[43mk\u001b[49m\u001b[43m:\u001b[49m\u001b[43m \u001b[49m\u001b[43mparams\u001b[49m\u001b[43m[\u001b[49m\u001b[43mk\u001b[49m\u001b[43m]\u001b[49m\u001b[43m[\u001b[49m\u001b[38;5;241;43m0\u001b[39;49m\u001b[43m]\u001b[49m\u001b[43m \u001b[49m\u001b[38;5;28;43;01mfor\u001b[39;49;00m\u001b[43m \u001b[49m\u001b[43mk\u001b[49m\u001b[43m \u001b[49m\u001b[38;5;129;43;01min\u001b[39;49;00m\u001b[43m \u001b[49m\u001b[43mparams\u001b[49m\u001b[38;5;241;43m.\u001b[39;49m\u001b[43mkeys\u001b[49m\u001b[43m(\u001b[49m\u001b[43m)\u001b[49m\u001b[43m}\u001b[49m\u001b[43m,\u001b[49m\n\u001b[0;32m      4\u001b[0m \u001b[43m                        \u001b[49m\u001b[43mmap_actions\u001b[49m\u001b[43m,\u001b[49m\u001b[43mmap_rewards\u001b[49m\u001b[43m,\u001b[49m\u001b[43mmap_ydomains\u001b[49m\u001b[43m)\u001b[49m\n\u001b[0;32m      5\u001b[0m     agentsB[\u001b[38;5;241m0\u001b[39m]\u001b[38;5;241m.\u001b[39mappend(ag0)\n\u001b[0;32m      7\u001b[0m     \u001b[38;5;28;01mfor\u001b[39;00m i \u001b[38;5;129;01min\u001b[39;00m \u001b[38;5;28mrange\u001b[39m(\u001b[38;5;241m1\u001b[39m,\u001b[38;5;28mlen\u001b[39m(labels)):\n",
      "File \u001b[1;32m~\\gits\\scratchbook\\CausalAbstraction\\proj CARLa 3_0\\CARLa_trials.py:96\u001b[0m, in \u001b[0;36mrun_trial\u001b[1;34m(env, n_steps, alg, params, map_actions, map_rewards, map_ydomains, base_bandit)\u001b[0m\n\u001b[0;32m     93\u001b[0m     check_bounds(Ag,params[\u001b[38;5;124m'\u001b[39m\u001b[38;5;124mdelta\u001b[39m\u001b[38;5;124m'\u001b[39m],params[\u001b[38;5;124m'\u001b[39m\u001b[38;5;124mabserr\u001b[39m\u001b[38;5;124m'\u001b[39m],np\u001b[38;5;241m.\u001b[39mabs(np\u001b[38;5;241m.\u001b[39mmean(errors)))\n\u001b[0;32m     94\u001b[0m     Ag\u001b[38;5;241m.\u001b[39mrun(n_steps)\n\u001b[1;32m---> 96\u001b[0m \u001b[38;5;28;01mreturn\u001b[39;00m \u001b[43mAg\u001b[49m\n",
      "\u001b[1;31mUnboundLocalError\u001b[0m: local variable 'Ag' referenced before assignment"
     ]
    }
   ],
   "source": [
    "for t in tqdm(range(n_trials)):\n",
    "    ag0 = CTr.run_trial(bandits[0],n_steps,trainmode[0],trainalg[0],\n",
    "                        {k: params[k][0] for k in params.keys()},\n",
    "                        map_actions,map_rewards,map_ydomains)\n",
    "    agentsB[0].append(ag0)\n",
    "    \n",
    "    for i in range(1,len(labels)):\n",
    "        ag = CTr.run_trial(bandits[i],n_steps,trainmode[i],trainalg[i],\n",
    "                           {k: params[k][i] for k in params.keys()},\n",
    "                            map_actions,map_rewards,map_ydomains,base_bandit=ag0)\n",
    "        agentsB[i].append(ag)"
   ]
  },
  {
   "cell_type": "markdown",
   "id": "1d957d5e",
   "metadata": {},
   "source": [
    "# Persistence"
   ]
  },
  {
   "cell_type": "code",
   "execution_count": null,
   "id": "bf9a2905",
   "metadata": {},
   "outputs": [],
   "source": [
    "stats = {simulparams[i]: eval(simulparams[i]) for i in range(len(simulparams))}"
   ]
  },
  {
   "cell_type": "raw",
   "id": "049ae67b",
   "metadata": {},
   "source": [
    "joblib.dump(stats,'results/{0}.pkl'.format(simulname))"
   ]
  },
  {
   "cell_type": "markdown",
   "id": "0e4bb16a",
   "metadata": {},
   "source": [
    "# Evaluation of the results"
   ]
  },
  {
   "cell_type": "code",
   "execution_count": null,
   "id": "a35e966f",
   "metadata": {},
   "outputs": [],
   "source": [
    "cumregret0B = np.zeros((n_trials,n_steps))\n",
    "\n",
    "for trial in range(n_trials):\n",
    "    n_actions = len(B0.actions)\n",
    "    Qs = agentsB[0][trial].history_Qs\n",
    "    actions = agentsB[0][trial].history_actions\n",
    "\n",
    "    for step in range(n_steps):\n",
    "        p = get_action_distributions(n_actions,Qs[step],params['c'][0], build_action_counter(n_actions,actions[0:step+1]))\n",
    "        cumregret0B[trial,step]= cumregret0B[trial,step-1]-np.sum(p*B0.optim_gaps) "
   ]
  },
  {
   "cell_type": "code",
   "execution_count": null,
   "id": "e2785192",
   "metadata": {},
   "outputs": [],
   "source": [
    "cumregret1B = np.zeros((n_trials,n_steps))\n",
    "\n",
    "for trial in range(n_trials):\n",
    "    n_actions = len(B1.actions)\n",
    "    Qs = agentsB[1][trial].history_Qs\n",
    "    actions = agentsB[1][trial].history_actions\n",
    "\n",
    "    for step in range(n_steps):\n",
    "        p = get_action_distributions(n_actions,Qs[step],params['c'][1], build_action_counter(n_actions,actions[0:step+1]))\n",
    "        cumregret1B[trial,step]= cumregret1B[trial,step-1]-np.sum(p*B1.optim_gaps)   "
   ]
  },
  {
   "cell_type": "code",
   "execution_count": null,
   "id": "677ee557",
   "metadata": {},
   "outputs": [],
   "source": [
    "cumregretAB = np.zeros((n_trials,n_steps))\n",
    "\n",
    "for trial in range(n_trials):\n",
    "    n_actions = len(B1.actions)\n",
    "    Qs = agentsB[0][trial].history_Qs\n",
    "    actions = agentsB[0][trial].history_actions\n",
    "\n",
    "    for step in range(n_steps):\n",
    "        p = get_action_distributions(n_actions,Qs[step],params['c'][0], build_action_counter(n_actions,actions[0:step+1]))\n",
    "        alphap = alpha_pushforward(p,map_actions)\n",
    "        cumregretAB[trial,step]= cumregretAB[trial,step-1]-np.sum(alphap*B1.optim_gaps) "
   ]
  },
  {
   "cell_type": "code",
   "execution_count": null,
   "id": "70250908",
   "metadata": {},
   "outputs": [],
   "source": [
    "import matplotlib\n",
    "font = {'family' : 'sans-serif',\n",
    "        'weight' : 'normal',\n",
    "        'size'   : 18}\n",
    "\n",
    "plt.rc('font', **font)"
   ]
  },
  {
   "cell_type": "code",
   "execution_count": null,
   "id": "4f5b9a6b",
   "metadata": {
    "scrolled": true
   },
   "outputs": [],
   "source": [
    "plt.plot(np.mean(cumregretAA,axis=0)-np.mean(cumregret1A,axis=0),label='Non-zero IC')\n",
    "plt.plot(np.mean(cumregretAB,axis=0)-np.mean(cumregret1B,axis=0),label='Zero IC',linestyle='--')\n",
    "plt.xlabel('Steps')\n",
    "plt.ylabel('Regret Difference')\n",
    "plt.legend()"
   ]
  },
  {
   "cell_type": "code",
   "execution_count": null,
   "id": "6f0f1e5f",
   "metadata": {},
   "outputs": [],
   "source": [
    "style = ['-','--']\n",
    "for trainmode in [1,2]:\n",
    "    cumregrets = np.array([agentsB[trainmode][j].get_cumulative_regret() for j in range(n_trials)])\n",
    "    avg = np.mean(cumregrets,axis=0)\n",
    "    std = np.std(cumregrets,axis=0)\n",
    "\n",
    "    plt.plot(np.arange(n_steps),avg,label=labels[trainmode],color=\"C{}\".format(trainmode-1),linestyle=style[trainmode-1])\n",
    "    plt.fill_between(np.arange(n_steps),avg+std,avg-std, color='C{}'.format(trainmode-1), alpha=0.3)\n",
    "    \n",
    "    plt.xlabel('Steps')\n",
    "    plt.ylabel('Cumulative regret')\n",
    "    plt.legend()\n",
    "    #ax[i,0].set_title(labels[i])\n",
    "    #ax[i,0].plot(np.arange(n_steps),np.max(truerewards[i])*np.arange(n_steps),'k')"
   ]
  },
  {
   "cell_type": "code",
   "execution_count": null,
   "id": "c5120ac5",
   "metadata": {},
   "outputs": [],
   "source": []
  },
  {
   "cell_type": "code",
   "execution_count": null,
   "id": "90a8a53b",
   "metadata": {},
   "outputs": [],
   "source": []
  }
 ],
 "metadata": {
  "kernelspec": {
   "display_name": "Python 3 (ipykernel)",
   "language": "python",
   "name": "python3"
  },
  "language_info": {
   "codemirror_mode": {
    "name": "ipython",
    "version": 3
   },
   "file_extension": ".py",
   "mimetype": "text/x-python",
   "name": "python",
   "nbconvert_exporter": "python",
   "pygments_lexer": "ipython3",
   "version": "3.10.13"
  },
  "toc": {
   "base_numbering": 1,
   "nav_menu": {},
   "number_sections": true,
   "sideBar": true,
   "skip_h1_title": false,
   "title_cell": "Table of Contents",
   "title_sidebar": "Contents",
   "toc_cell": false,
   "toc_position": {
    "height": "calc(100% - 180px)",
    "left": "10px",
    "top": "150px",
    "width": "262.202px"
   },
   "toc_section_display": true,
   "toc_window_display": false
  }
 },
 "nbformat": 4,
 "nbformat_minor": 5
}
