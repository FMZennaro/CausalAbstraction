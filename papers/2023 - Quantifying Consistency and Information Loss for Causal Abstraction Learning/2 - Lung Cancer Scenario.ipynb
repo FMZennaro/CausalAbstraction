{
 "cells": [
  {
   "cell_type": "markdown",
   "id": "e2e51f66",
   "metadata": {},
   "source": [
    "# Measures on LUCAS example: lung cancer scenario\n",
    "\n",
    "This notebook implements the second scenario in the paper."
   ]
  },
  {
   "cell_type": "code",
   "execution_count": 1,
   "id": "e328e1c0",
   "metadata": {},
   "outputs": [],
   "source": [
    "import numpy as np\n",
    "import pandas as pd\n",
    "import matplotlib.pyplot as plt\n",
    "import time\n",
    "\n",
    "from pgmpy.models import BayesianNetwork as BN\n",
    "from pgmpy.factors.discrete import TabularCPD as CPD\n",
    "from pgmpy.inference import VariableElimination\n",
    "\n",
    "from src.SCMMappings_1_1 import Abstraction\n",
    "from src.measuring import ICEvaluator,IILEvaluator,ISILEvaluator,ISCEvaluator\n",
    "from src.examples import LUCASmodels as lucas\n",
    "import src.evaluationsets as es\n",
    "import src.learning as lng"
   ]
  },
  {
   "cell_type": "code",
   "execution_count": 2,
   "id": "3639ac75",
   "metadata": {},
   "outputs": [],
   "source": [
    "np.random.seed(0)"
   ]
  },
  {
   "cell_type": "code",
   "execution_count": 3,
   "id": "61888cf8",
   "metadata": {},
   "outputs": [],
   "source": [
    "def rank_solutions(A,J):\n",
    "    measures = [ICEvaluator,IILEvaluator,ISILEvaluator,ISCEvaluator]\n",
    "    \n",
    "    alphas = []\n",
    "    results = []\n",
    "    for m in measures:\n",
    "        c_errors,c_alphas = lng.list_all_alphas_and_errors(A,J,m)\n",
    "        alphas.append(c_alphas) \n",
    "        results.append(c_errors)\n",
    "    res = np.array(results) \n",
    "    \n",
    "    sortings = [np.argsort(res[i,:]) for i in range (len(measures))]\n",
    "    sortedvals = [res[i,:][sortings[i]] for i in range (len(measures))]\n",
    "    sortedsols = []\n",
    "    for i in range (len(measures)):\n",
    "        sortedsols.append([alphas[i][sortings[i][j]] for j in range(len(sortings[i]))])\n",
    "        \n",
    "    data = {\n",
    "        'IC_val' : sortedvals[0],\n",
    "        'IC_rank' : sortedsols[0],\n",
    "        'IIL_val' : sortedvals[1],\n",
    "        'IIL_rank' : sortedsols[1],\n",
    "        'ISIL_val' : sortedvals[2],\n",
    "        'ISIL_rank' : sortedsols[2],\n",
    "        'ISC_val' : sortedvals[3],\n",
    "        'ISC_rank' : sortedsols[3],\n",
    "    }\n",
    "    df = pd.DataFrame(data)\n",
    "\n",
    "    return alphas,res,df"
   ]
  },
  {
   "cell_type": "markdown",
   "id": "de300c6e",
   "metadata": {},
   "source": [
    "## LUCAS Model"
   ]
  },
  {
   "cell_type": "code",
   "execution_count": 4,
   "id": "847057a8",
   "metadata": {},
   "outputs": [],
   "source": [
    "M0 = lucas.lucas0()"
   ]
  },
  {
   "cell_type": "code",
   "execution_count": 5,
   "id": "b126f80d",
   "metadata": {
    "scrolled": true
   },
   "outputs": [
    {
     "name": "stdout",
     "output_type": "stream",
     "text": [
      "+----------------+------------+------------------+------------------------------------------+\n",
      "| Lung Cancer    | Anxiety    | Peer Pressure    |   phi(Lung Cancer,Anxiety,Peer Pressure) |\n",
      "+================+============+==================+==========================================+\n",
      "| Lung Cancer(0) | Anxiety(0) | Peer Pressure(0) |                                   0.4379 |\n",
      "+----------------+------------+------------------+------------------------------------------+\n",
      "| Lung Cancer(0) | Anxiety(0) | Peer Pressure(1) |                                   0.2709 |\n",
      "+----------------+------------+------------------+------------------------------------------+\n",
      "| Lung Cancer(0) | Anxiety(1) | Peer Pressure(0) |                                   0.2058 |\n",
      "+----------------+------------+------------------+------------------------------------------+\n",
      "| Lung Cancer(0) | Anxiety(1) | Peer Pressure(1) |                                   0.1808 |\n",
      "+----------------+------------+------------------+------------------------------------------+\n",
      "| Lung Cancer(1) | Anxiety(0) | Peer Pressure(0) |                                   0.5621 |\n",
      "+----------------+------------+------------------+------------------------------------------+\n",
      "| Lung Cancer(1) | Anxiety(0) | Peer Pressure(1) |                                   0.7291 |\n",
      "+----------------+------------+------------------+------------------------------------------+\n",
      "| Lung Cancer(1) | Anxiety(1) | Peer Pressure(0) |                                   0.7942 |\n",
      "+----------------+------------+------------------+------------------------------------------+\n",
      "| Lung Cancer(1) | Anxiety(1) | Peer Pressure(1) |                                   0.8192 |\n",
      "+----------------+------------+------------------+------------------------------------------+\n"
     ]
    }
   ],
   "source": [
    "M0do1 = M0.do(['Anxiety','Peer Pressure'])\n",
    "infer = VariableElimination(M0do1)\n",
    "P_FS = infer.query(['Lung Cancer','Anxiety','Peer Pressure'])\n",
    "P_S = infer.query(['Anxiety','Peer Pressure'])\n",
    "print(P_FS/P_S)\n",
    "mu1 = (P_FS/P_S).values.reshape((2,4))"
   ]
  },
  {
   "cell_type": "code",
   "execution_count": 6,
   "id": "2db5f12a",
   "metadata": {},
   "outputs": [
    {
     "data": {
      "text/plain": [
       "array([[0.43788959, 0.27088918, 0.20578805, 0.18076425],\n",
       "       [0.56211041, 0.72911082, 0.79421195, 0.81923575]])"
      ]
     },
     "execution_count": 6,
     "metadata": {},
     "output_type": "execute_result"
    }
   ],
   "source": [
    "mu1"
   ]
  },
  {
   "cell_type": "markdown",
   "id": "b7b93acb",
   "metadata": {},
   "source": [
    "## Lung Cancer Model"
   ]
  },
  {
   "cell_type": "code",
   "execution_count": 7,
   "id": "0feb9cf8",
   "metadata": {},
   "outputs": [
    {
     "data": {
      "text/plain": [
       "True"
      ]
     },
     "execution_count": 7,
     "metadata": {},
     "output_type": "execute_result"
    }
   ],
   "source": [
    "M1 = BN([('Environment','Lung Cancer'),('Genetics','Lung Cancer')])\n",
    "nu = np.array([[.8,.45,.55,.4,.45,.3],[.2,.55,.45,.6,.55,.7]])\n",
    "\n",
    "cpd = CPD(variable='Environment',\n",
    "         variable_card = 3,\n",
    "         values = np.array([[.7],[.1],[.2]]),\n",
    "         evidence = None,\n",
    "         evidence_card = None)\n",
    "M1.add_cpds(cpd)\n",
    "\n",
    "cpd = CPD(variable='Genetics',\n",
    "         variable_card = 2,\n",
    "         values = np.array([[.3],[.7]]),\n",
    "         evidence = None,\n",
    "         evidence_card = None)\n",
    "M1.add_cpds(cpd)\n",
    "\n",
    "cpd = CPD(variable='Lung Cancer',\n",
    "         variable_card = 2,\n",
    "         values = nu,\n",
    "         evidence = ['Environment','Genetics'],\n",
    "         evidence_card = [3,2])\n",
    "M1.add_cpds(cpd)\n",
    "M1.check_model()"
   ]
  },
  {
   "cell_type": "code",
   "execution_count": 8,
   "id": "c23c64f2",
   "metadata": {
    "scrolled": true
   },
   "outputs": [
    {
     "name": "stdout",
     "output_type": "stream",
     "text": [
      "+----------------+----------------+--------------------------------+\n",
      "| Lung Cancer    | Environment    |   phi(Lung Cancer,Environment) |\n",
      "+================+================+================================+\n",
      "| Lung Cancer(0) | Environment(0) |                         0.5550 |\n",
      "+----------------+----------------+--------------------------------+\n",
      "| Lung Cancer(0) | Environment(1) |                         0.4450 |\n",
      "+----------------+----------------+--------------------------------+\n",
      "| Lung Cancer(0) | Environment(2) |                         0.3450 |\n",
      "+----------------+----------------+--------------------------------+\n",
      "| Lung Cancer(1) | Environment(0) |                         0.4450 |\n",
      "+----------------+----------------+--------------------------------+\n",
      "| Lung Cancer(1) | Environment(1) |                         0.5550 |\n",
      "+----------------+----------------+--------------------------------+\n",
      "| Lung Cancer(1) | Environment(2) |                         0.6550 |\n",
      "+----------------+----------------+--------------------------------+\n"
     ]
    }
   ],
   "source": [
    "M1do1 = M1.do(['Environment'])\n",
    "infer = VariableElimination(M1do1)\n",
    "P_FS = infer.query(['Lung Cancer','Environment'])\n",
    "P_S = infer.query(['Environment'])\n",
    "print(P_FS/P_S)\n",
    "nu1 = (P_FS/P_S).values"
   ]
  },
  {
   "cell_type": "code",
   "execution_count": 9,
   "id": "fe39cad0",
   "metadata": {},
   "outputs": [],
   "source": [
    "R = ['Anxiety','Peer Pressure','Genetics','Allergy','Lung Cancer']\n",
    "a = {'Anxiety': 'Environment',\n",
    "     'Peer Pressure': 'Environment',\n",
    "    'Genetics': 'Genetics',\n",
    "    'Allergy': 'Genetics',\n",
    "    'Lung Cancer': 'Lung Cancer'}\n",
    "A = Abstraction(M0,M1,R,a)"
   ]
  },
  {
   "cell_type": "markdown",
   "id": "44f2d325",
   "metadata": {},
   "source": [
    "## Abstraction evaluation"
   ]
  },
  {
   "cell_type": "code",
   "execution_count": 10,
   "id": "c5680823",
   "metadata": {},
   "outputs": [],
   "source": [
    "Jparental = [[['Environment','Genetics'], ['Lung Cancer']]]\n",
    "alphas_par,res_par,df_par = rank_solutions(A,Jparental)"
   ]
  },
  {
   "cell_type": "code",
   "execution_count": 11,
   "id": "51cb1349",
   "metadata": {},
   "outputs": [],
   "source": [
    "Jcausal = [[['Environment'], ['Lung Cancer']],\n",
    "          [['Genetics'], ['Lung Cancer']],\n",
    "          [['Environment','Genetics'],['Lung Cancer']]]\n",
    "alphas_cau,res_cau,df_cau = rank_solutions(A,Jcausal)"
   ]
  },
  {
   "cell_type": "code",
   "execution_count": 12,
   "id": "2da3ed68",
   "metadata": {},
   "outputs": [],
   "source": [
    "Juser = [[['Environment'], ['Lung Cancer']]]\n",
    "alphas_use,res_use,df_use = rank_solutions(A,Juser)"
   ]
  },
  {
   "cell_type": "code",
   "execution_count": 13,
   "id": "51388f46",
   "metadata": {},
   "outputs": [
    {
     "data": {
      "text/html": [
       "<div>\n",
       "<style scoped>\n",
       "    .dataframe tbody tr th:only-of-type {\n",
       "        vertical-align: middle;\n",
       "    }\n",
       "\n",
       "    .dataframe tbody tr th {\n",
       "        vertical-align: top;\n",
       "    }\n",
       "\n",
       "    .dataframe thead th {\n",
       "        text-align: right;\n",
       "    }\n",
       "</style>\n",
       "<table border=\"1\" class=\"dataframe\">\n",
       "  <thead>\n",
       "    <tr style=\"text-align: right;\">\n",
       "      <th></th>\n",
       "      <th>IC_val</th>\n",
       "      <th>IC_rank</th>\n",
       "      <th>IIL_val</th>\n",
       "      <th>IIL_rank</th>\n",
       "      <th>ISIL_val</th>\n",
       "      <th>ISIL_rank</th>\n",
       "      <th>ISC_val</th>\n",
       "      <th>ISC_rank</th>\n",
       "    </tr>\n",
       "  </thead>\n",
       "  <tbody>\n",
       "    <tr>\n",
       "      <th>0</th>\n",
       "      <td>0.329364</td>\n",
       "      <td>{'Environment': [[1, 0, 0, 0], [0, 1, 0, 0], [...</td>\n",
       "      <td>0.329364</td>\n",
       "      <td>{'Environment': [[1, 0, 0, 0], [0, 1, 0, 0], [...</td>\n",
       "      <td>0.220678</td>\n",
       "      <td>{'Environment': [[1, 0, 0, 0], [0, 1, 0, 0], [...</td>\n",
       "      <td>0.220678</td>\n",
       "      <td>{'Environment': [[1, 0, 0, 0], [0, 1, 0, 0], [...</td>\n",
       "    </tr>\n",
       "    <tr>\n",
       "      <th>1</th>\n",
       "      <td>0.329364</td>\n",
       "      <td>{'Environment': [[1, 0, 0, 0], [0, 1, 0, 0], [...</td>\n",
       "      <td>0.329364</td>\n",
       "      <td>{'Environment': [[1, 0, 0, 0], [0, 1, 0, 0], [...</td>\n",
       "      <td>0.220678</td>\n",
       "      <td>{'Environment': [[1, 0, 0, 0], [0, 1, 0, 0], [...</td>\n",
       "      <td>0.220678</td>\n",
       "      <td>{'Environment': [[1, 0, 0, 0], [0, 1, 0, 0], [...</td>\n",
       "    </tr>\n",
       "    <tr>\n",
       "      <th>2</th>\n",
       "      <td>0.329364</td>\n",
       "      <td>{'Environment': [[1, 0, 0, 0], [0, 1, 0, 0], [...</td>\n",
       "      <td>0.329364</td>\n",
       "      <td>{'Environment': [[1, 0, 0, 0], [0, 1, 0, 0], [...</td>\n",
       "      <td>0.237869</td>\n",
       "      <td>{'Environment': [[1, 0, 0, 0], [0, 1, 1, 0], [...</td>\n",
       "      <td>0.237869</td>\n",
       "      <td>{'Environment': [[1, 0, 0, 0], [0, 1, 1, 0], [...</td>\n",
       "    </tr>\n",
       "    <tr>\n",
       "      <th>3</th>\n",
       "      <td>0.353581</td>\n",
       "      <td>{'Environment': [[1, 0, 0, 0], [0, 1, 1, 0], [...</td>\n",
       "      <td>0.353581</td>\n",
       "      <td>{'Environment': [[1, 0, 0, 0], [0, 1, 1, 0], [...</td>\n",
       "      <td>0.237869</td>\n",
       "      <td>{'Environment': [[1, 0, 0, 0], [0, 1, 1, 0], [...</td>\n",
       "      <td>0.237869</td>\n",
       "      <td>{'Environment': [[1, 0, 0, 0], [0, 1, 1, 0], [...</td>\n",
       "    </tr>\n",
       "    <tr>\n",
       "      <th>4</th>\n",
       "      <td>0.353581</td>\n",
       "      <td>{'Environment': [[1, 0, 0, 0], [0, 1, 1, 0], [...</td>\n",
       "      <td>0.353581</td>\n",
       "      <td>{'Environment': [[1, 0, 0, 0], [0, 1, 1, 0], [...</td>\n",
       "      <td>0.244987</td>\n",
       "      <td>{'Environment': [[1, 0, 0, 0], [0, 1, 0, 1], [...</td>\n",
       "      <td>0.244987</td>\n",
       "      <td>{'Environment': [[1, 0, 0, 0], [0, 1, 0, 1], [...</td>\n",
       "    </tr>\n",
       "    <tr>\n",
       "      <th>...</th>\n",
       "      <td>...</td>\n",
       "      <td>...</td>\n",
       "      <td>...</td>\n",
       "      <td>...</td>\n",
       "      <td>...</td>\n",
       "      <td>...</td>\n",
       "      <td>...</td>\n",
       "      <td>...</td>\n",
       "    </tr>\n",
       "    <tr>\n",
       "      <th>1003</th>\n",
       "      <td>0.619059</td>\n",
       "      <td>{'Environment': [[0, 0, 0, 1], [1, 0, 1, 0], [...</td>\n",
       "      <td>0.619059</td>\n",
       "      <td>{'Environment': [[0, 0, 0, 1], [1, 0, 1, 0], [...</td>\n",
       "      <td>0.619059</td>\n",
       "      <td>{'Environment': [[0, 0, 0, 1], [1, 1, 0, 0], [...</td>\n",
       "      <td>0.619059</td>\n",
       "      <td>{'Environment': [[0, 0, 0, 1], [1, 1, 0, 0], [...</td>\n",
       "    </tr>\n",
       "    <tr>\n",
       "      <th>1004</th>\n",
       "      <td>0.619059</td>\n",
       "      <td>{'Environment': [[0, 0, 0, 1], [1, 0, 1, 0], [...</td>\n",
       "      <td>0.619059</td>\n",
       "      <td>{'Environment': [[0, 0, 0, 1], [1, 0, 1, 0], [...</td>\n",
       "      <td>0.619059</td>\n",
       "      <td>{'Environment': [[0, 0, 0, 1], [1, 1, 0, 0], [...</td>\n",
       "      <td>0.619059</td>\n",
       "      <td>{'Environment': [[0, 0, 0, 1], [1, 1, 0, 0], [...</td>\n",
       "    </tr>\n",
       "    <tr>\n",
       "      <th>1005</th>\n",
       "      <td>0.619059</td>\n",
       "      <td>{'Environment': [[0, 0, 0, 1], [1, 0, 1, 0], [...</td>\n",
       "      <td>0.619059</td>\n",
       "      <td>{'Environment': [[0, 0, 0, 1], [1, 0, 1, 0], [...</td>\n",
       "      <td>0.619059</td>\n",
       "      <td>{'Environment': [[0, 0, 0, 1], [1, 0, 1, 0], [...</td>\n",
       "      <td>0.619059</td>\n",
       "      <td>{'Environment': [[0, 0, 0, 1], [1, 0, 1, 0], [...</td>\n",
       "    </tr>\n",
       "    <tr>\n",
       "      <th>1006</th>\n",
       "      <td>0.619059</td>\n",
       "      <td>{'Environment': [[0, 0, 0, 1], [0, 1, 0, 0], [...</td>\n",
       "      <td>0.619059</td>\n",
       "      <td>{'Environment': [[0, 0, 0, 1], [0, 1, 0, 0], [...</td>\n",
       "      <td>0.619059</td>\n",
       "      <td>{'Environment': [[0, 0, 0, 1], [0, 0, 1, 0], [...</td>\n",
       "      <td>0.619059</td>\n",
       "      <td>{'Environment': [[0, 0, 0, 1], [0, 0, 1, 0], [...</td>\n",
       "    </tr>\n",
       "    <tr>\n",
       "      <th>1007</th>\n",
       "      <td>0.619059</td>\n",
       "      <td>{'Environment': [[0, 1, 0, 1], [1, 0, 0, 0], [...</td>\n",
       "      <td>0.619059</td>\n",
       "      <td>{'Environment': [[0, 1, 0, 1], [1, 0, 0, 0], [...</td>\n",
       "      <td>0.619059</td>\n",
       "      <td>{'Environment': [[0, 0, 0, 1], [0, 1, 0, 0], [...</td>\n",
       "      <td>0.619059</td>\n",
       "      <td>{'Environment': [[0, 0, 0, 1], [0, 1, 0, 0], [...</td>\n",
       "    </tr>\n",
       "  </tbody>\n",
       "</table>\n",
       "<p>1008 rows × 8 columns</p>\n",
       "</div>"
      ],
      "text/plain": [
       "        IC_val                                            IC_rank   IIL_val  \\\n",
       "0     0.329364  {'Environment': [[1, 0, 0, 0], [0, 1, 0, 0], [...  0.329364   \n",
       "1     0.329364  {'Environment': [[1, 0, 0, 0], [0, 1, 0, 0], [...  0.329364   \n",
       "2     0.329364  {'Environment': [[1, 0, 0, 0], [0, 1, 0, 0], [...  0.329364   \n",
       "3     0.353581  {'Environment': [[1, 0, 0, 0], [0, 1, 1, 0], [...  0.353581   \n",
       "4     0.353581  {'Environment': [[1, 0, 0, 0], [0, 1, 1, 0], [...  0.353581   \n",
       "...        ...                                                ...       ...   \n",
       "1003  0.619059  {'Environment': [[0, 0, 0, 1], [1, 0, 1, 0], [...  0.619059   \n",
       "1004  0.619059  {'Environment': [[0, 0, 0, 1], [1, 0, 1, 0], [...  0.619059   \n",
       "1005  0.619059  {'Environment': [[0, 0, 0, 1], [1, 0, 1, 0], [...  0.619059   \n",
       "1006  0.619059  {'Environment': [[0, 0, 0, 1], [0, 1, 0, 0], [...  0.619059   \n",
       "1007  0.619059  {'Environment': [[0, 1, 0, 1], [1, 0, 0, 0], [...  0.619059   \n",
       "\n",
       "                                               IIL_rank  ISIL_val  \\\n",
       "0     {'Environment': [[1, 0, 0, 0], [0, 1, 0, 0], [...  0.220678   \n",
       "1     {'Environment': [[1, 0, 0, 0], [0, 1, 0, 0], [...  0.220678   \n",
       "2     {'Environment': [[1, 0, 0, 0], [0, 1, 0, 0], [...  0.237869   \n",
       "3     {'Environment': [[1, 0, 0, 0], [0, 1, 1, 0], [...  0.237869   \n",
       "4     {'Environment': [[1, 0, 0, 0], [0, 1, 1, 0], [...  0.244987   \n",
       "...                                                 ...       ...   \n",
       "1003  {'Environment': [[0, 0, 0, 1], [1, 0, 1, 0], [...  0.619059   \n",
       "1004  {'Environment': [[0, 0, 0, 1], [1, 0, 1, 0], [...  0.619059   \n",
       "1005  {'Environment': [[0, 0, 0, 1], [1, 0, 1, 0], [...  0.619059   \n",
       "1006  {'Environment': [[0, 0, 0, 1], [0, 1, 0, 0], [...  0.619059   \n",
       "1007  {'Environment': [[0, 1, 0, 1], [1, 0, 0, 0], [...  0.619059   \n",
       "\n",
       "                                              ISIL_rank   ISC_val  \\\n",
       "0     {'Environment': [[1, 0, 0, 0], [0, 1, 0, 0], [...  0.220678   \n",
       "1     {'Environment': [[1, 0, 0, 0], [0, 1, 0, 0], [...  0.220678   \n",
       "2     {'Environment': [[1, 0, 0, 0], [0, 1, 1, 0], [...  0.237869   \n",
       "3     {'Environment': [[1, 0, 0, 0], [0, 1, 1, 0], [...  0.237869   \n",
       "4     {'Environment': [[1, 0, 0, 0], [0, 1, 0, 1], [...  0.244987   \n",
       "...                                                 ...       ...   \n",
       "1003  {'Environment': [[0, 0, 0, 1], [1, 1, 0, 0], [...  0.619059   \n",
       "1004  {'Environment': [[0, 0, 0, 1], [1, 1, 0, 0], [...  0.619059   \n",
       "1005  {'Environment': [[0, 0, 0, 1], [1, 0, 1, 0], [...  0.619059   \n",
       "1006  {'Environment': [[0, 0, 0, 1], [0, 0, 1, 0], [...  0.619059   \n",
       "1007  {'Environment': [[0, 0, 0, 1], [0, 1, 0, 0], [...  0.619059   \n",
       "\n",
       "                                               ISC_rank  \n",
       "0     {'Environment': [[1, 0, 0, 0], [0, 1, 0, 0], [...  \n",
       "1     {'Environment': [[1, 0, 0, 0], [0, 1, 0, 0], [...  \n",
       "2     {'Environment': [[1, 0, 0, 0], [0, 1, 1, 0], [...  \n",
       "3     {'Environment': [[1, 0, 0, 0], [0, 1, 1, 0], [...  \n",
       "4     {'Environment': [[1, 0, 0, 0], [0, 1, 0, 1], [...  \n",
       "...                                                 ...  \n",
       "1003  {'Environment': [[0, 0, 0, 1], [1, 1, 0, 0], [...  \n",
       "1004  {'Environment': [[0, 0, 0, 1], [1, 1, 0, 0], [...  \n",
       "1005  {'Environment': [[0, 0, 0, 1], [1, 0, 1, 0], [...  \n",
       "1006  {'Environment': [[0, 0, 0, 1], [0, 0, 1, 0], [...  \n",
       "1007  {'Environment': [[0, 0, 0, 1], [0, 1, 0, 0], [...  \n",
       "\n",
       "[1008 rows x 8 columns]"
      ]
     },
     "execution_count": 13,
     "metadata": {},
     "output_type": "execute_result"
    }
   ],
   "source": [
    "df_par"
   ]
  },
  {
   "cell_type": "code",
   "execution_count": 14,
   "id": "9a3ac2e7",
   "metadata": {
    "scrolled": true
   },
   "outputs": [
    {
     "data": {
      "text/plain": [
       "{'Environment': array([[0, 0, 1, 1],\n",
       "        [0, 1, 0, 0],\n",
       "        [1, 0, 0, 0]], dtype=int32),\n",
       " 'Lung Cancer': array([[0, 1],\n",
       "        [1, 0]], dtype=int32),\n",
       " 'Genetics': array([[0, 1, 1, 1],\n",
       "        [1, 0, 0, 0]], dtype=int32)}"
      ]
     },
     "execution_count": 14,
     "metadata": {},
     "output_type": "execute_result"
    }
   ],
   "source": [
    "df_cau['ISIL_rank'][0]"
   ]
  },
  {
   "cell_type": "code",
   "execution_count": 15,
   "id": "635025a3",
   "metadata": {},
   "outputs": [
    {
     "name": "stdout",
     "output_type": "stream",
     "text": [
      "IS paths: \n",
      " [[0.555 0.445 0.345]\n",
      " [0.445 0.555 0.655]] \n",
      " [[0.80672385 0.72911082 0.56211041]\n",
      " [0.19327615 0.27088918 0.43788959]]\n"
     ]
    }
   ],
   "source": [
    "aA_Jc = df_cau['ISIL_rank'][0]['Environment']\n",
    "aB_Jc = df_cau['ISIL_rank'][0]['Lung Cancer']\n",
    "print('IS paths: \\n {0} \\n {1}'.format(nu1,aB_Jc@mu1@np.linalg.pinv(aA_Jc)))"
   ]
  },
  {
   "cell_type": "code",
   "execution_count": 16,
   "id": "949727cb",
   "metadata": {},
   "outputs": [
    {
     "data": {
      "text/plain": [
       "{'Environment': array([[1, 0, 0, 0],\n",
       "        [0, 1, 0, 0],\n",
       "        [0, 0, 1, 1]], dtype=int32),\n",
       " 'Lung Cancer': array([[1, 0],\n",
       "        [0, 1]], dtype=int32),\n",
       " 'Genetics': array([[0, 1, 0, 0],\n",
       "        [1, 0, 1, 1]], dtype=int32)}"
      ]
     },
     "execution_count": 16,
     "metadata": {},
     "output_type": "execute_result"
    }
   ],
   "source": [
    "df_par['ISIL_rank'][0]"
   ]
  },
  {
   "cell_type": "code",
   "execution_count": 17,
   "id": "eb9da5ae",
   "metadata": {
    "scrolled": true
   },
   "outputs": [
    {
     "name": "stdout",
     "output_type": "stream",
     "text": [
      "IS paths: \n",
      " [[0.555 0.445 0.345]\n",
      " [0.445 0.555 0.655]] \n",
      " [[0.43788959 0.27088918 0.19327615]\n",
      " [0.56211041 0.72911082 0.80672385]]\n"
     ]
    }
   ],
   "source": [
    "aA_Jp = df_par['ISIL_rank'][0]['Environment']\n",
    "aB_Jp = df_par['ISIL_rank'][0]['Lung Cancer']\n",
    "print('IS paths: \\n {0} \\n {1}'.format(nu1,aB_Jp@mu1@np.linalg.pinv(aA_Jp)))"
   ]
  },
  {
   "cell_type": "code",
   "execution_count": 18,
   "id": "1d386211",
   "metadata": {},
   "outputs": [
    {
     "data": {
      "text/plain": [
       "{'Environment': array([[1, 0, 0, 0],\n",
       "        [0, 1, 0, 0],\n",
       "        [0, 0, 1, 1]], dtype=int32),\n",
       " 'Lung Cancer': array([[1, 0],\n",
       "        [0, 1]], dtype=int32),\n",
       " 'Genetics': array([[1, 1, 1, 0],\n",
       "        [0, 0, 0, 1]], dtype=int32)}"
      ]
     },
     "execution_count": 18,
     "metadata": {},
     "output_type": "execute_result"
    }
   ],
   "source": [
    "df_use['ISIL_rank'][0]"
   ]
  },
  {
   "cell_type": "code",
   "execution_count": 19,
   "id": "37cfcb0e",
   "metadata": {
    "scrolled": true
   },
   "outputs": [
    {
     "name": "stdout",
     "output_type": "stream",
     "text": [
      "IS paths: \n",
      " [[0.555 0.445 0.345]\n",
      " [0.445 0.555 0.655]] \n",
      " [[0.43788959 0.27088918 0.19327615]\n",
      " [0.56211041 0.72911082 0.80672385]]\n"
     ]
    }
   ],
   "source": [
    "aA_Ju = df_use['ISIL_rank'][0]['Environment']\n",
    "aB_Ju = df_use['ISIL_rank'][0]['Lung Cancer']\n",
    "print('IS paths: \\n {0} \\n {1}'.format(nu1,aB_Ju@mu1@np.linalg.pinv(aA_Ju)))"
   ]
  },
  {
   "cell_type": "markdown",
   "id": "555bbc27",
   "metadata": {},
   "source": [
    "## Downstream task: exam"
   ]
  },
  {
   "cell_type": "code",
   "execution_count": 20,
   "id": "771568e8",
   "metadata": {},
   "outputs": [],
   "source": [
    "n_simul = 10\n",
    "n_samples = 10000"
   ]
  },
  {
   "cell_type": "code",
   "execution_count": 21,
   "id": "5ffcb548",
   "metadata": {},
   "outputs": [
    {
     "name": "stdout",
     "output_type": "stream",
     "text": [
      "Abstracted model: 4447.5 +- 31.572931444514303\n",
      "J_cau abstraction: 1936.8 +- 32.276307099790706\n",
      "J_par abstraction: 5630.0 +- 52.434721320895754\n",
      "J_use abstraction: 5574.9 +- 45.33310048959811\n"
     ]
    }
   ],
   "source": [
    "samples = np.zeros((n_simul,4))\n",
    "\n",
    "for i in range(n_simul):\n",
    "    sample_M1_do0 = M1.simulate(n_samples=n_samples, do={'Environment':0}, show_progress=False)\n",
    "    samples[i,0] = sample_M1_do0['Lung Cancer'].sum()\n",
    "    \n",
    "    samples_AnxPP = np.random.choice(4,size=n_samples,p=np.linalg.pinv(aA_Jc)[:,0])\n",
    "    samples_J = 0\n",
    "    for j in range(4):\n",
    "        n_interv = np.sum(samples_AnxPP==j)\n",
    "        if(n_interv>0):\n",
    "            if j==0: \n",
    "                sample_M0_do0 = M0.simulate(n_samples=n_interv, do={'Anxiety':0, 'Peer Pressure':0}, show_progress=False)\n",
    "                samples_J = samples_J + sample_M0_do0['Lung Cancer'].sum()\n",
    "            if j==1: \n",
    "                sample_M0_do0 = M0.simulate(n_samples=n_interv, do={'Anxiety':0, 'Peer Pressure':1}, show_progress=False)\n",
    "                samples_J = samples_J + sample_M0_do0['Lung Cancer'].sum()\n",
    "            if j==2: \n",
    "                sample_M0_do0 = M0.simulate(n_samples=n_interv, do={'Anxiety':1, 'Peer Pressure':0}, show_progress=False)\n",
    "                samples_J = samples_J + sample_M0_do0['Lung Cancer'].sum()\n",
    "            if j==3: \n",
    "                sample_M0_do0 = M0.simulate(n_samples=n_interv, do={'Anxiety':1, 'Peer Pressure':1}, show_progress=False)\n",
    "                samples_J = samples_J + sample_M0_do0['Lung Cancer'].sum()\n",
    "    samples[i,1] = n_samples - samples_J\n",
    "    \n",
    "    samples_AnxPP = np.random.choice(4,size=n_samples,p=np.linalg.pinv(aA_Jp)[:,0])\n",
    "    samples_J = 0\n",
    "    for j in range(4):\n",
    "        n_interv = np.sum(samples_AnxPP==j)\n",
    "        if(n_interv>0):\n",
    "            if j==0: \n",
    "                sample_M0_do0 = M0.simulate(n_samples=n_interv, do={'Anxiety':0, 'Peer Pressure':0}, show_progress=False)\n",
    "                samples_J = samples_J + sample_M0_do0['Lung Cancer'].sum()\n",
    "            if j==1: \n",
    "                sample_M0_do0 = M0.simulate(n_samples=n_interv, do={'Anxiety':0, 'Peer Pressure':1}, show_progress=False)\n",
    "                samples_J = samples_J + sample_M0_do0['Lung Cancer'].sum()\n",
    "            if j==2: \n",
    "                sample_M0_do0 = M0.simulate(n_samples=n_interv, do={'Anxiety':1, 'Peer Pressure':0}, show_progress=False)\n",
    "                samples_J = samples_J + sample_M0_do0['Lung Cancer'].sum()\n",
    "            if j==3: \n",
    "                sample_M0_do0 = M0.simulate(n_samples=n_interv, do={'Anxiety':1, 'Peer Pressure':1}, show_progress=False)\n",
    "                samples_J = samples_J + sample_M0_do0['Lung Cancer'].sum()\n",
    "    samples[i,2] =  samples_J\n",
    "    \n",
    "    samples_AnxPP = np.random.choice(4,size=n_samples,p=np.linalg.pinv(aA_Ju)[:,0])\n",
    "    samples_J = 0\n",
    "    for j in range(4):\n",
    "        n_interv = np.sum(samples_AnxPP==j)\n",
    "        if(n_interv>0):\n",
    "            if j==0: \n",
    "                sample_M0_do0 = M0.simulate(n_samples=n_interv, do={'Anxiety':0, 'Peer Pressure':0}, show_progress=False)\n",
    "                samples_J = samples_J + sample_M0_do0['Lung Cancer'].sum()\n",
    "            if j==1: \n",
    "                sample_M0_do0 = M0.simulate(n_samples=n_interv, do={'Anxiety':0, 'Peer Pressure':1}, show_progress=False)\n",
    "                samples_J = samples_J + sample_M0_do0['Lung Cancer'].sum()\n",
    "            if j==2: \n",
    "                sample_M0_do0 = M0.simulate(n_samples=n_interv, do={'Anxiety':1, 'Peer Pressure':0}, show_progress=False)\n",
    "                samples_J = samples_J + sample_M0_do0['Lung Cancer'].sum()\n",
    "            if j==3: \n",
    "                sample_M0_do0 = M0.simulate(n_samples=n_interv, do={'Anxiety':1, 'Peer Pressure':1}, show_progress=False)\n",
    "                samples_J = samples_J + sample_M0_do0['Lung Cancer'].sum()\n",
    "    samples[i,3] = samples_J\n",
    "    \n",
    "\n",
    "\n",
    "print('Abstracted model: {0} +- {1}'.format(np.mean(samples[:,0]), np.std(samples[:,0])))\n",
    "print('J_cau abstraction: {0} +- {1}'.format(np.mean(samples[:,1]), np.std(samples[:,1])))\n",
    "print('J_par abstraction: {0} +- {1}'.format(np.mean(samples[:,2]), np.std(samples[:,2])))\n",
    "print('J_use abstraction: {0} +- {1}'.format(np.mean(samples[:,3]), np.std(samples[:,3])))\n"
   ]
  },
  {
   "cell_type": "code",
   "execution_count": 22,
   "id": "d3dc84e7",
   "metadata": {},
   "outputs": [
    {
     "name": "stdout",
     "output_type": "stream",
     "text": [
      "Abstracted model: 5549.3 +- 34.287169611970015\n",
      "J_cau abstraction: 2706.2 +- 46.893069850458716\n",
      "J_par abstraction: 7302.4 +- 50.8865404601256\n",
      "J_use abstraction: 7296.7 +- 51.544252831911336\n"
     ]
    }
   ],
   "source": [
    "samples = np.zeros((n_simul,4))\n",
    "\n",
    "for i in range(n_simul):\n",
    "    sample_M1_do0 = M1.simulate(n_samples=n_samples, do={'Environment':1}, show_progress=False)\n",
    "    samples[i,0] = sample_M1_do0['Lung Cancer'].sum()\n",
    "    \n",
    "    samples_AnxPP = np.random.choice(4,size=n_samples,p=np.linalg.pinv(aA_Jc)[:,1])\n",
    "    samples_J = 0\n",
    "    for j in range(4):\n",
    "        n_interv = np.sum(samples_AnxPP==j)\n",
    "        if(n_interv>0):\n",
    "            if j==0: \n",
    "                sample_M0_do0 = M0.simulate(n_samples=n_interv, do={'Anxiety':0, 'Peer Pressure':0}, show_progress=False)\n",
    "                samples_J = samples_J + sample_M0_do0['Lung Cancer'].sum()\n",
    "            if j==1: \n",
    "                sample_M0_do0 = M0.simulate(n_samples=n_interv, do={'Anxiety':0, 'Peer Pressure':1}, show_progress=False)\n",
    "                samples_J = samples_J + sample_M0_do0['Lung Cancer'].sum()\n",
    "            if j==2: \n",
    "                sample_M0_do0 = M0.simulate(n_samples=n_interv, do={'Anxiety':1, 'Peer Pressure':0}, show_progress=False)\n",
    "                samples_J = samples_J + sample_M0_do0['Lung Cancer'].sum()\n",
    "            if j==3: \n",
    "                sample_M0_do0 = M0.simulate(n_samples=n_interv, do={'Anxiety':1, 'Peer Pressure':1}, show_progress=False)\n",
    "                samples_J = samples_J + sample_M0_do0['Lung Cancer'].sum()\n",
    "    samples[i,1] = n_samples - samples_J\n",
    "    \n",
    "    samples_AnxPP = np.random.choice(4,size=n_samples,p=np.linalg.pinv(aA_Jp)[:,1])\n",
    "    samples_J = 0\n",
    "    for j in range(4):\n",
    "        n_interv = np.sum(samples_AnxPP==j)\n",
    "        if(n_interv>0):\n",
    "            if j==0: \n",
    "                sample_M0_do0 = M0.simulate(n_samples=n_interv, do={'Anxiety':0, 'Peer Pressure':0}, show_progress=False)\n",
    "                samples_J = samples_J + sample_M0_do0['Lung Cancer'].sum()\n",
    "            if j==1: \n",
    "                sample_M0_do0 = M0.simulate(n_samples=n_interv, do={'Anxiety':0, 'Peer Pressure':1}, show_progress=False)\n",
    "                samples_J = samples_J + sample_M0_do0['Lung Cancer'].sum()\n",
    "            if j==2: \n",
    "                sample_M0_do0 = M0.simulate(n_samples=n_interv, do={'Anxiety':1, 'Peer Pressure':0}, show_progress=False)\n",
    "                samples_J = samples_J + sample_M0_do0['Lung Cancer'].sum()\n",
    "            if j==3: \n",
    "                sample_M0_do0 = M0.simulate(n_samples=n_interv, do={'Anxiety':1, 'Peer Pressure':1}, show_progress=False)\n",
    "                samples_J = samples_J + sample_M0_do0['Lung Cancer'].sum()\n",
    "    samples[i,2] = samples_J\n",
    "    \n",
    "    samples_AnxPP = np.random.choice(4,size=n_samples,p=np.linalg.pinv(aA_Ju)[:,1])\n",
    "    samples_J = 0\n",
    "    for j in range(4):\n",
    "        n_interv = np.sum(samples_AnxPP==j)\n",
    "        if(n_interv>0):\n",
    "            if j==0: \n",
    "                sample_M0_do0 = M0.simulate(n_samples=n_interv, do={'Anxiety':0, 'Peer Pressure':0}, show_progress=False)\n",
    "                samples_J = samples_J + sample_M0_do0['Lung Cancer'].sum()\n",
    "            if j==1: \n",
    "                sample_M0_do0 = M0.simulate(n_samples=n_interv, do={'Anxiety':0, 'Peer Pressure':1}, show_progress=False)\n",
    "                samples_J = samples_J + sample_M0_do0['Lung Cancer'].sum()\n",
    "            if j==2: \n",
    "                sample_M0_do0 = M0.simulate(n_samples=n_interv, do={'Anxiety':1, 'Peer Pressure':0}, show_progress=False)\n",
    "                samples_J = samples_J + sample_M0_do0['Lung Cancer'].sum()\n",
    "            if j==3: \n",
    "                sample_M0_do0 = M0.simulate(n_samples=n_interv, do={'Anxiety':1, 'Peer Pressure':1}, show_progress=False)\n",
    "                samples_J = samples_J + sample_M0_do0['Lung Cancer'].sum()\n",
    "    samples[i,3] = samples_J\n",
    "    \n",
    "\n",
    "\n",
    "print('Abstracted model: {0} +- {1}'.format(np.mean(samples[:,0]), np.std(samples[:,0])))\n",
    "print('J_cau abstraction: {0} +- {1}'.format(np.mean(samples[:,1]), np.std(samples[:,1])))\n",
    "print('J_par abstraction: {0} +- {1}'.format(np.mean(samples[:,2]), np.std(samples[:,2])))\n",
    "print('J_use abstraction: {0} +- {1}'.format(np.mean(samples[:,3]), np.std(samples[:,3])))\n"
   ]
  },
  {
   "cell_type": "code",
   "execution_count": 23,
   "id": "d4ba41a1",
   "metadata": {},
   "outputs": [
    {
     "name": "stdout",
     "output_type": "stream",
     "text": [
      "Abstracted model: 6551.8 +- 44.57532949962344\n",
      "J_cau abstraction: 4384.6 +- 53.868729333445394\n",
      "J_par abstraction: 8073.2 +- 31.031596800680433\n",
      "J_use abstraction: 8063.9 +- 35.1580716194731\n"
     ]
    }
   ],
   "source": [
    "samples = np.zeros((n_simul,4))\n",
    "\n",
    "for i in range(n_simul):\n",
    "    sample_M1_do0 = M1.simulate(n_samples=n_samples, do={'Environment':2}, show_progress=False)\n",
    "    samples[i,0] = sample_M1_do0['Lung Cancer'].sum()\n",
    "    \n",
    "    samples_AnxPP = np.random.choice(4,size=n_samples,p=np.around(np.linalg.pinv(aA_Jc)[:,2],decimals=10))\n",
    "    samples_J = 0\n",
    "    for j in range(4):\n",
    "        n_interv = np.sum(samples_AnxPP==j)\n",
    "        if(n_interv>0):\n",
    "            if j==0: \n",
    "                sample_M0_do0 = M0.simulate(n_samples=n_interv, do={'Anxiety':0, 'Peer Pressure':0}, show_progress=False)\n",
    "                samples_J = samples_J + sample_M0_do0['Lung Cancer'].sum()\n",
    "            if j==1: \n",
    "                sample_M0_do0 = M0.simulate(n_samples=n_interv, do={'Anxiety':0, 'Peer Pressure':1}, show_progress=False)\n",
    "                samples_J = samples_J + sample_M0_do0['Lung Cancer'].sum()\n",
    "            if j==2: \n",
    "                sample_M0_do0 = M0.simulate(n_samples=n_interv, do={'Anxiety':1, 'Peer Pressure':0}, show_progress=False)\n",
    "                samples_J = samples_J + sample_M0_do0['Lung Cancer'].sum()\n",
    "            if j==3: \n",
    "                sample_M0_do0 = M0.simulate(n_samples=n_interv, do={'Anxiety':1, 'Peer Pressure':1}, show_progress=False)\n",
    "                samples_J = samples_J + sample_M0_do0['Lung Cancer'].sum()\n",
    "    samples[i,1] = n_samples - samples_J\n",
    "    \n",
    "    samples_AnxPP = np.random.choice(4,size=n_samples,p=np.linalg.pinv(aA_Jp)[:,2])\n",
    "    samples_J = 0\n",
    "    for j in range(4):\n",
    "        n_interv = np.sum(samples_AnxPP==j)\n",
    "        if(n_interv>0):\n",
    "            if j==0: \n",
    "                sample_M0_do0 = M0.simulate(n_samples=n_interv, do={'Anxiety':0, 'Peer Pressure':0}, show_progress=False)\n",
    "                samples_J = samples_J + sample_M0_do0['Lung Cancer'].sum()\n",
    "            if j==1: \n",
    "                sample_M0_do0 = M0.simulate(n_samples=n_interv, do={'Anxiety':0, 'Peer Pressure':1}, show_progress=False)\n",
    "                samples_J = samples_J + sample_M0_do0['Lung Cancer'].sum()\n",
    "            if j==2: \n",
    "                sample_M0_do0 = M0.simulate(n_samples=n_interv, do={'Anxiety':1, 'Peer Pressure':0}, show_progress=False)\n",
    "                samples_J = samples_J + sample_M0_do0['Lung Cancer'].sum()\n",
    "            if j==3: \n",
    "                sample_M0_do0 = M0.simulate(n_samples=n_interv, do={'Anxiety':1, 'Peer Pressure':1}, show_progress=False)\n",
    "                samples_J = samples_J + sample_M0_do0['Lung Cancer'].sum()\n",
    "    samples[i,2] = samples_J\n",
    "    \n",
    "    samples_AnxPP = np.random.choice(4,size=n_samples,p=np.linalg.pinv(aA_Ju)[:,2])\n",
    "    samples_J = 0\n",
    "    for j in range(4):\n",
    "        n_interv = np.sum(samples_AnxPP==j)\n",
    "        if(n_interv>0):\n",
    "            if j==0: \n",
    "                sample_M0_do0 = M0.simulate(n_samples=n_interv, do={'Anxiety':0, 'Peer Pressure':0}, show_progress=False)\n",
    "                samples_J = samples_J + sample_M0_do0['Lung Cancer'].sum()\n",
    "            if j==1: \n",
    "                sample_M0_do0 = M0.simulate(n_samples=n_interv, do={'Anxiety':0, 'Peer Pressure':1}, show_progress=False)\n",
    "                samples_J = samples_J + sample_M0_do0['Lung Cancer'].sum()\n",
    "            if j==2: \n",
    "                sample_M0_do0 = M0.simulate(n_samples=n_interv, do={'Anxiety':1, 'Peer Pressure':0}, show_progress=False)\n",
    "                samples_J = samples_J + sample_M0_do0['Lung Cancer'].sum()\n",
    "            if j==3: \n",
    "                sample_M0_do0 = M0.simulate(n_samples=n_interv, do={'Anxiety':1, 'Peer Pressure':1}, show_progress=False)\n",
    "                samples_J = samples_J + sample_M0_do0['Lung Cancer'].sum()\n",
    "    samples[i,3] = samples_J\n",
    "    \n",
    "\n",
    "\n",
    "print('Abstracted model: {0} +- {1}'.format(np.mean(samples[:,0]), np.std(samples[:,0])))\n",
    "print('J_cau abstraction: {0} +- {1}'.format(np.mean(samples[:,1]), np.std(samples[:,1])))\n",
    "print('J_par abstraction: {0} +- {1}'.format(np.mean(samples[:,2]), np.std(samples[:,2])))\n",
    "print('J_use abstraction: {0} +- {1}'.format(np.mean(samples[:,3]), np.std(samples[:,3])))\n"
   ]
  },
  {
   "cell_type": "markdown",
   "id": "69baff4f",
   "metadata": {},
   "source": [
    "## Timing "
   ]
  },
  {
   "cell_type": "code",
   "execution_count": 24,
   "id": "3d266b72",
   "metadata": {},
   "outputs": [
    {
     "name": "stdout",
     "output_type": "stream",
     "text": [
      "J_par time: 8.806398344039916 +- 0.027615619112968986\n"
     ]
    }
   ],
   "source": [
    "ts_par = []\n",
    "for _ in range(n_simul):\n",
    "    Jparental = [[['Environment','Genetics'], ['Lung Cancer']]]\n",
    "    t0 = time.time()\n",
    "    alphas_par,res_par,df_par = rank_solutions(A,Jparental)\n",
    "    t1 = time.time()\n",
    "    ts_par.append(t1-t0)\n",
    "print('J_par time: {0} +- {1}'.format(np.mean(ts_par), np.std(ts_par)))"
   ]
  },
  {
   "cell_type": "code",
   "execution_count": 25,
   "id": "2d681be3",
   "metadata": {},
   "outputs": [
    {
     "name": "stdout",
     "output_type": "stream",
     "text": [
      "J_cau time: 23.921667623519898 +- 0.1328557116751109\n"
     ]
    }
   ],
   "source": [
    "ts_cau = []\n",
    "for _ in range(n_simul):\n",
    "    Jcausal = [[['Environment'], ['Lung Cancer']],\n",
    "          [['Genetics'], ['Lung Cancer']],\n",
    "          [['Environment','Genetics'],['Lung Cancer']]]\n",
    "    t0 = time.time()\n",
    "    alphas_cau,res_cau,df_cau = rank_solutions(A,Jcausal)\n",
    "    t1 = time.time()\n",
    "    ts_cau.append(t1-t0)\n",
    "print('J_cau time: {0} +- {1}'.format(np.mean(ts_cau), np.std(ts_cau)))"
   ]
  },
  {
   "cell_type": "code",
   "execution_count": 26,
   "id": "7325ce2f",
   "metadata": {},
   "outputs": [
    {
     "name": "stdout",
     "output_type": "stream",
     "text": [
      "J_cau time: 8.089930653572083 +- 0.09501055856625364\n"
     ]
    }
   ],
   "source": [
    "ts_use = []\n",
    "for _ in range(n_simul):\n",
    "    Juser = [[['Environment'], ['Lung Cancer']]]\n",
    "    t0 = time.time()\n",
    "    alphas_use,res_use,df_use = rank_solutions(A,Juser)\n",
    "    t1 = time.time()\n",
    "    ts_use.append(t1-t0)\n",
    "print('J_cau time: {0} +- {1}'.format(np.mean(ts_use), np.std(ts_use)))"
   ]
  },
  {
   "cell_type": "code",
   "execution_count": null,
   "id": "bbe9dcea",
   "metadata": {},
   "outputs": [],
   "source": []
  }
 ],
 "metadata": {
  "kernelspec": {
   "display_name": "Python 3",
   "language": "python",
   "name": "python3"
  },
  "language_info": {
   "codemirror_mode": {
    "name": "ipython",
    "version": 3
   },
   "file_extension": ".py",
   "mimetype": "text/x-python",
   "name": "python",
   "nbconvert_exporter": "python",
   "pygments_lexer": "ipython3",
   "version": "3.9.14"
  },
  "toc": {
   "base_numbering": 1,
   "nav_menu": {},
   "number_sections": true,
   "sideBar": true,
   "skip_h1_title": false,
   "title_cell": "Table of Contents",
   "title_sidebar": "Contents",
   "toc_cell": false,
   "toc_position": {},
   "toc_section_display": true,
   "toc_window_display": false
  }
 },
 "nbformat": 4,
 "nbformat_minor": 5
}
