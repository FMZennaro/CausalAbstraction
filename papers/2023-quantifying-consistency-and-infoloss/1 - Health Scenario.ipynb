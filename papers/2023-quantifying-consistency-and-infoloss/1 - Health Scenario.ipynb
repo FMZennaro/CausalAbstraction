{
 "cells": [
  {
   "cell_type": "markdown",
   "id": "2c1bfcfe",
   "metadata": {},
   "source": [
    "# Measures on LUCAS example: health scenario\n",
    "\n",
    "This notebook implements the first scenario in the paper."
   ]
  },
  {
   "cell_type": "code",
   "execution_count": 1,
   "id": "e328e1c0",
   "metadata": {},
   "outputs": [],
   "source": [
    "import numpy as np\n",
    "import pandas as pd\n",
    "import matplotlib.pyplot as plt\n",
    "\n",
    "from pgmpy.models import BayesianNetwork as BN\n",
    "from pgmpy.factors.discrete import TabularCPD as CPD\n",
    "from pgmpy.inference import VariableElimination\n",
    "\n",
    "from src.SCMMappings_1_1 import Abstraction\n",
    "from src.measuring import ICEvaluator,IILEvaluator,ISILEvaluator,ISCEvaluator\n",
    "from src.examples import LUCASmodels as lucas\n",
    "import src.evaluationsets as es\n",
    "import src.learning as lng"
   ]
  },
  {
   "cell_type": "code",
   "execution_count": 2,
   "id": "1bf4ef2b",
   "metadata": {},
   "outputs": [],
   "source": [
    "np.random.seed(0)"
   ]
  },
  {
   "cell_type": "code",
   "execution_count": 3,
   "id": "61888cf8",
   "metadata": {},
   "outputs": [],
   "source": [
    "def rank_solutions(A):\n",
    "    measures = [ICEvaluator,IILEvaluator,ISILEvaluator,ISCEvaluator]\n",
    "    J = es.get_causal_sets_in_M1_with_directed_path_in_M1_and_M0(A.M0,A.M1,A.a)\n",
    "    \n",
    "    alphas = []\n",
    "    results = []\n",
    "    for m in measures:\n",
    "        c_errors,c_alphas = lng.list_all_alphas_and_errors(A,J,m)\n",
    "        alphas.append(c_alphas) \n",
    "        results.append(c_errors)\n",
    "    res = np.array(results) \n",
    "    \n",
    "    sortings = [np.argsort(res[i,:]) for i in range (len(measures))]\n",
    "    sortedvals = [res[i,:][sortings[i]] for i in range (len(measures))]\n",
    "    sortedsols = []\n",
    "    for i in range (len(measures)):\n",
    "        sortedsols.append([alphas[i][sortings[i][j]] for j in range(len(sortings[i]))])\n",
    "        \n",
    "    data = {\n",
    "        'IC_val' : sortedvals[0],\n",
    "        'IC_rank' : sortedsols[0],\n",
    "        'IIL_val' : sortedvals[1],\n",
    "        'IIL_rank' : sortedsols[1],\n",
    "        'ISIL_val' : sortedvals[2],\n",
    "        'ISIL_rank' : sortedsols[2],\n",
    "        'ISC_val' : sortedvals[3],\n",
    "        'ISC_rank' : sortedsols[3],\n",
    "    }\n",
    "    df = pd.DataFrame(data)\n",
    "\n",
    "    return alphas,res,df"
   ]
  },
  {
   "cell_type": "markdown",
   "id": "de300c6e",
   "metadata": {},
   "source": [
    "## LUCAS Model"
   ]
  },
  {
   "cell_type": "code",
   "execution_count": 4,
   "id": "847057a8",
   "metadata": {},
   "outputs": [],
   "source": [
    "M0 = lucas.lucas0()"
   ]
  },
  {
   "cell_type": "code",
   "execution_count": 5,
   "id": "701996c4",
   "metadata": {},
   "outputs": [
    {
     "name": "stdout",
     "output_type": "stream",
     "text": [
      "+------------+-------------+------------+---------------------------------+\n",
      "| Smoking    | Coughing    | Fatigue    |   phi(Smoking,Coughing,Fatigue) |\n",
      "+============+=============+============+=================================+\n",
      "| Smoking(0) | Coughing(0) | Fatigue(0) |                          0.3240 |\n",
      "+------------+-------------+------------+---------------------------------+\n",
      "| Smoking(0) | Coughing(0) | Fatigue(1) |                          0.1933 |\n",
      "+------------+-------------+------------+---------------------------------+\n",
      "| Smoking(0) | Coughing(1) | Fatigue(0) |                          0.0696 |\n",
      "+------------+-------------+------------+---------------------------------+\n",
      "| Smoking(0) | Coughing(1) | Fatigue(1) |                          0.4131 |\n",
      "+------------+-------------+------------+---------------------------------+\n",
      "| Smoking(1) | Coughing(0) | Fatigue(0) |                          0.1205 |\n",
      "+------------+-------------+------------+---------------------------------+\n",
      "| Smoking(1) | Coughing(0) | Fatigue(1) |                          0.1101 |\n",
      "+------------+-------------+------------+---------------------------------+\n",
      "| Smoking(1) | Coughing(1) | Fatigue(0) |                          0.0840 |\n",
      "+------------+-------------+------------+---------------------------------+\n",
      "| Smoking(1) | Coughing(1) | Fatigue(1) |                          0.6854 |\n",
      "+------------+-------------+------------+---------------------------------+\n"
     ]
    }
   ],
   "source": [
    "M0do = M0.do(['Smoking'])\n",
    "infer = VariableElimination(M0do)\n",
    "P_FS = infer.query(['Smoking','Coughing','Fatigue'])\n",
    "P_S = infer.query(['Smoking'])\n",
    "print(P_FS/P_S)"
   ]
  },
  {
   "cell_type": "code",
   "execution_count": 6,
   "id": "d7099f71",
   "metadata": {},
   "outputs": [],
   "source": [
    "mu = (P_FS/P_S).values.reshape((2,4)).T"
   ]
  },
  {
   "cell_type": "markdown",
   "id": "b7b93acb",
   "metadata": {},
   "source": [
    "## Health Model"
   ]
  },
  {
   "cell_type": "code",
   "execution_count": 7,
   "id": "0feb9cf8",
   "metadata": {},
   "outputs": [],
   "source": [
    "def healthM(nu):\n",
    "\n",
    "    M = BN([('Smoking','Health')])\n",
    "\n",
    "    cpd = CPD(variable='Smoking',\n",
    "             variable_card = 2,\n",
    "             values = [[.5],[.5]],\n",
    "             evidence = None,\n",
    "             evidence_card = None)\n",
    "    M.add_cpds(cpd)\n",
    "\n",
    "    cpd = CPD(variable='Health',\n",
    "             variable_card = 2,\n",
    "             values = nu,\n",
    "             evidence = ['Smoking'],\n",
    "             evidence_card = [2])\n",
    "    M.add_cpds(cpd)\n",
    "    if M.check_model(): return M\n",
    "    \n",
    "def healthA(nu):\n",
    "    M1 = healthM(nu)\n",
    "    R = ['Smoking','Coughing','Fatigue']\n",
    "    a = {'Smoking': 'Smoking',\n",
    "         'Coughing': 'Health',\n",
    "        'Fatigue': 'Health'}\n",
    "    return Abstraction(M0,M1,R,a)"
   ]
  },
  {
   "cell_type": "code",
   "execution_count": 8,
   "id": "51388f46",
   "metadata": {},
   "outputs": [],
   "source": [
    "nus = [np.array([[.3,.2],[.7,.8]]),\n",
    "       np.array([[.4,.2],[.6,.8]]),\n",
    "       np.array([[.5,.2],[.5,.8]])]\n",
    "       \n",
    "alphas_nu = []; res_nu = []; df_nu = []\n",
    "for nu in nus:\n",
    "    A = healthA(nu)\n",
    "    alphas,res,df = rank_solutions(A)\n",
    "    alphas_nu.append(alphas)\n",
    "    res_nu.append(res)\n",
    "    df_nu.append(df)"
   ]
  },
  {
   "cell_type": "markdown",
   "id": "64dc8aab",
   "metadata": {},
   "source": [
    "## Abstraction learning"
   ]
  },
  {
   "cell_type": "code",
   "execution_count": 9,
   "id": "425dccd0",
   "metadata": {
    "scrolled": true
   },
   "outputs": [
    {
     "data": {
      "text/html": [
       "<div>\n",
       "<style scoped>\n",
       "    .dataframe tbody tr th:only-of-type {\n",
       "        vertical-align: middle;\n",
       "    }\n",
       "\n",
       "    .dataframe tbody tr th {\n",
       "        vertical-align: top;\n",
       "    }\n",
       "\n",
       "    .dataframe thead th {\n",
       "        text-align: right;\n",
       "    }\n",
       "</style>\n",
       "<table border=\"1\" class=\"dataframe\">\n",
       "  <thead>\n",
       "    <tr style=\"text-align: right;\">\n",
       "      <th></th>\n",
       "      <th>IC_val</th>\n",
       "      <th>IC_rank</th>\n",
       "      <th>IIL_val</th>\n",
       "      <th>IIL_rank</th>\n",
       "      <th>ISIL_val</th>\n",
       "      <th>ISIL_rank</th>\n",
       "      <th>ISC_val</th>\n",
       "      <th>ISC_rank</th>\n",
       "    </tr>\n",
       "  </thead>\n",
       "  <tbody>\n",
       "    <tr>\n",
       "      <th>0</th>\n",
       "      <td>0.029201</td>\n",
       "      <td>{'Smoking': [[1, 0], [0, 1]], 'Health': [[0, 1...</td>\n",
       "      <td>0.242400</td>\n",
       "      <td>{'Smoking': [[1, 0], [0, 1]], 'Health': [[1, 1...</td>\n",
       "      <td>0.029201</td>\n",
       "      <td>{'Smoking': [[1, 0], [0, 1]], 'Health': [[0, 1...</td>\n",
       "      <td>0.242400</td>\n",
       "      <td>{'Smoking': [[1, 0], [0, 1]], 'Health': [[1, 1...</td>\n",
       "    </tr>\n",
       "    <tr>\n",
       "      <th>1</th>\n",
       "      <td>0.069582</td>\n",
       "      <td>{'Smoking': [[1, 0], [0, 1]], 'Health': [[1, 0...</td>\n",
       "      <td>0.242953</td>\n",
       "      <td>{'Smoking': [[1, 0], [0, 1]], 'Health': [[0, 1...</td>\n",
       "      <td>0.069582</td>\n",
       "      <td>{'Smoking': [[1, 0], [0, 1]], 'Health': [[1, 0...</td>\n",
       "      <td>0.242953</td>\n",
       "      <td>{'Smoking': [[1, 0], [0, 1]], 'Health': [[0, 1...</td>\n",
       "    </tr>\n",
       "    <tr>\n",
       "      <th>2</th>\n",
       "      <td>0.076978</td>\n",
       "      <td>{'Smoking': [[1, 0], [0, 1]], 'Health': [[1, 0...</td>\n",
       "      <td>0.251244</td>\n",
       "      <td>{'Smoking': [[0, 1], [1, 0]], 'Health': [[0, 1...</td>\n",
       "      <td>0.076978</td>\n",
       "      <td>{'Smoking': [[1, 0], [0, 1]], 'Health': [[1, 0...</td>\n",
       "      <td>0.251244</td>\n",
       "      <td>{'Smoking': [[0, 1], [1, 0]], 'Health': [[0, 1...</td>\n",
       "    </tr>\n",
       "    <tr>\n",
       "      <th>3</th>\n",
       "      <td>0.087037</td>\n",
       "      <td>{'Smoking': [[0, 1], [1, 0]], 'Health': [[0, 1...</td>\n",
       "      <td>0.252111</td>\n",
       "      <td>{'Smoking': [[1, 0], [0, 1]], 'Health': [[1, 0...</td>\n",
       "      <td>0.087037</td>\n",
       "      <td>{'Smoking': [[0, 1], [1, 0]], 'Health': [[0, 1...</td>\n",
       "      <td>0.252111</td>\n",
       "      <td>{'Smoking': [[1, 0], [0, 1]], 'Health': [[1, 0...</td>\n",
       "    </tr>\n",
       "    <tr>\n",
       "      <th>4</th>\n",
       "      <td>0.088358</td>\n",
       "      <td>{'Smoking': [[1, 0], [0, 1]], 'Health': [[0, 1...</td>\n",
       "      <td>0.256987</td>\n",
       "      <td>{'Smoking': [[0, 1], [1, 0]], 'Health': [[1, 0...</td>\n",
       "      <td>0.088358</td>\n",
       "      <td>{'Smoking': [[1, 0], [0, 1]], 'Health': [[0, 1...</td>\n",
       "      <td>0.256987</td>\n",
       "      <td>{'Smoking': [[0, 1], [1, 0]], 'Health': [[1, 0...</td>\n",
       "    </tr>\n",
       "  </tbody>\n",
       "</table>\n",
       "</div>"
      ],
      "text/plain": [
       "     IC_val                                            IC_rank   IIL_val  \\\n",
       "0  0.029201  {'Smoking': [[1, 0], [0, 1]], 'Health': [[0, 1...  0.242400   \n",
       "1  0.069582  {'Smoking': [[1, 0], [0, 1]], 'Health': [[1, 0...  0.242953   \n",
       "2  0.076978  {'Smoking': [[1, 0], [0, 1]], 'Health': [[1, 0...  0.251244   \n",
       "3  0.087037  {'Smoking': [[0, 1], [1, 0]], 'Health': [[0, 1...  0.252111   \n",
       "4  0.088358  {'Smoking': [[1, 0], [0, 1]], 'Health': [[0, 1...  0.256987   \n",
       "\n",
       "                                            IIL_rank  ISIL_val  \\\n",
       "0  {'Smoking': [[1, 0], [0, 1]], 'Health': [[1, 1...  0.029201   \n",
       "1  {'Smoking': [[1, 0], [0, 1]], 'Health': [[0, 1...  0.069582   \n",
       "2  {'Smoking': [[0, 1], [1, 0]], 'Health': [[0, 1...  0.076978   \n",
       "3  {'Smoking': [[1, 0], [0, 1]], 'Health': [[1, 0...  0.087037   \n",
       "4  {'Smoking': [[0, 1], [1, 0]], 'Health': [[1, 0...  0.088358   \n",
       "\n",
       "                                           ISIL_rank   ISC_val  \\\n",
       "0  {'Smoking': [[1, 0], [0, 1]], 'Health': [[0, 1...  0.242400   \n",
       "1  {'Smoking': [[1, 0], [0, 1]], 'Health': [[1, 0...  0.242953   \n",
       "2  {'Smoking': [[1, 0], [0, 1]], 'Health': [[1, 0...  0.251244   \n",
       "3  {'Smoking': [[0, 1], [1, 0]], 'Health': [[0, 1...  0.252111   \n",
       "4  {'Smoking': [[1, 0], [0, 1]], 'Health': [[0, 1...  0.256987   \n",
       "\n",
       "                                            ISC_rank  \n",
       "0  {'Smoking': [[1, 0], [0, 1]], 'Health': [[1, 1...  \n",
       "1  {'Smoking': [[1, 0], [0, 1]], 'Health': [[0, 1...  \n",
       "2  {'Smoking': [[0, 1], [1, 0]], 'Health': [[0, 1...  \n",
       "3  {'Smoking': [[1, 0], [0, 1]], 'Health': [[1, 0...  \n",
       "4  {'Smoking': [[0, 1], [1, 0]], 'Health': [[1, 0...  "
      ]
     },
     "execution_count": 9,
     "metadata": {},
     "output_type": "execute_result"
    }
   ],
   "source": [
    "df_nu[0].head()"
   ]
  },
  {
   "cell_type": "code",
   "execution_count": 10,
   "id": "4fb16498",
   "metadata": {},
   "outputs": [
    {
     "data": {
      "text/plain": [
       "{'Smoking': array([[1, 0],\n",
       "        [0, 1]], dtype=int32),\n",
       " 'Health': array([[0, 1, 1, 0],\n",
       "        [1, 0, 0, 1]], dtype=int32)}"
      ]
     },
     "execution_count": 10,
     "metadata": {},
     "output_type": "execute_result"
    }
   ],
   "source": [
    "df_nu[0]['IC_rank'][0]"
   ]
  },
  {
   "cell_type": "code",
   "execution_count": 11,
   "id": "ca77fc1d",
   "metadata": {},
   "outputs": [
    {
     "data": {
      "text/html": [
       "<div>\n",
       "<style scoped>\n",
       "    .dataframe tbody tr th:only-of-type {\n",
       "        vertical-align: middle;\n",
       "    }\n",
       "\n",
       "    .dataframe tbody tr th {\n",
       "        vertical-align: top;\n",
       "    }\n",
       "\n",
       "    .dataframe thead th {\n",
       "        text-align: right;\n",
       "    }\n",
       "</style>\n",
       "<table border=\"1\" class=\"dataframe\">\n",
       "  <thead>\n",
       "    <tr style=\"text-align: right;\">\n",
       "      <th></th>\n",
       "      <th>IC_val</th>\n",
       "      <th>IC_rank</th>\n",
       "      <th>IIL_val</th>\n",
       "      <th>IIL_rank</th>\n",
       "      <th>ISIL_val</th>\n",
       "      <th>ISIL_rank</th>\n",
       "      <th>ISC_val</th>\n",
       "      <th>ISC_rank</th>\n",
       "    </tr>\n",
       "  </thead>\n",
       "  <tbody>\n",
       "    <tr>\n",
       "      <th>0</th>\n",
       "      <td>0.004652</td>\n",
       "      <td>{'Smoking': [[1, 0], [0, 1]], 'Health': [[1, 0...</td>\n",
       "      <td>0.192412</td>\n",
       "      <td>{'Smoking': [[1, 0], [0, 1]], 'Health': [[1, 1...</td>\n",
       "      <td>0.004652</td>\n",
       "      <td>{'Smoking': [[1, 0], [0, 1]], 'Health': [[1, 0...</td>\n",
       "      <td>0.192412</td>\n",
       "      <td>{'Smoking': [[1, 0], [0, 1]], 'Health': [[1, 1...</td>\n",
       "    </tr>\n",
       "    <tr>\n",
       "      <th>1</th>\n",
       "      <td>0.076978</td>\n",
       "      <td>{'Smoking': [[1, 0], [0, 1]], 'Health': [[1, 0...</td>\n",
       "      <td>0.232522</td>\n",
       "      <td>{'Smoking': [[0, 1], [1, 0]], 'Health': [[0, 0...</td>\n",
       "      <td>0.076978</td>\n",
       "      <td>{'Smoking': [[1, 0], [0, 1]], 'Health': [[1, 0...</td>\n",
       "      <td>0.232522</td>\n",
       "      <td>{'Smoking': [[0, 1], [1, 0]], 'Health': [[0, 0...</td>\n",
       "    </tr>\n",
       "    <tr>\n",
       "      <th>2</th>\n",
       "      <td>0.083328</td>\n",
       "      <td>{'Smoking': [[1, 0], [0, 1]], 'Health': [[1, 1...</td>\n",
       "      <td>0.242953</td>\n",
       "      <td>{'Smoking': [[1, 0], [0, 1]], 'Health': [[0, 1...</td>\n",
       "      <td>0.083328</td>\n",
       "      <td>{'Smoking': [[1, 0], [0, 1]], 'Health': [[1, 1...</td>\n",
       "      <td>0.242953</td>\n",
       "      <td>{'Smoking': [[1, 0], [0, 1]], 'Health': [[0, 1...</td>\n",
       "    </tr>\n",
       "    <tr>\n",
       "      <th>3</th>\n",
       "      <td>0.103276</td>\n",
       "      <td>{'Smoking': [[1, 0], [0, 1]], 'Health': [[0, 1...</td>\n",
       "      <td>0.252111</td>\n",
       "      <td>{'Smoking': [[1, 0], [0, 1]], 'Health': [[1, 0...</td>\n",
       "      <td>0.103276</td>\n",
       "      <td>{'Smoking': [[1, 0], [0, 1]], 'Health': [[0, 1...</td>\n",
       "      <td>0.252111</td>\n",
       "      <td>{'Smoking': [[1, 0], [0, 1]], 'Health': [[1, 0...</td>\n",
       "    </tr>\n",
       "    <tr>\n",
       "      <th>4</th>\n",
       "      <td>0.132535</td>\n",
       "      <td>{'Smoking': [[1, 0], [0, 1]], 'Health': [[1, 1...</td>\n",
       "      <td>0.274988</td>\n",
       "      <td>{'Smoking': [[1, 0], [0, 1]], 'Health': [[1, 1...</td>\n",
       "      <td>0.132535</td>\n",
       "      <td>{'Smoking': [[1, 0], [0, 1]], 'Health': [[1, 1...</td>\n",
       "      <td>0.274988</td>\n",
       "      <td>{'Smoking': [[1, 0], [0, 1]], 'Health': [[1, 1...</td>\n",
       "    </tr>\n",
       "  </tbody>\n",
       "</table>\n",
       "</div>"
      ],
      "text/plain": [
       "     IC_val                                            IC_rank   IIL_val  \\\n",
       "0  0.004652  {'Smoking': [[1, 0], [0, 1]], 'Health': [[1, 0...  0.192412   \n",
       "1  0.076978  {'Smoking': [[1, 0], [0, 1]], 'Health': [[1, 0...  0.232522   \n",
       "2  0.083328  {'Smoking': [[1, 0], [0, 1]], 'Health': [[1, 1...  0.242953   \n",
       "3  0.103276  {'Smoking': [[1, 0], [0, 1]], 'Health': [[0, 1...  0.252111   \n",
       "4  0.132535  {'Smoking': [[1, 0], [0, 1]], 'Health': [[1, 1...  0.274988   \n",
       "\n",
       "                                            IIL_rank  ISIL_val  \\\n",
       "0  {'Smoking': [[1, 0], [0, 1]], 'Health': [[1, 1...  0.004652   \n",
       "1  {'Smoking': [[0, 1], [1, 0]], 'Health': [[0, 0...  0.076978   \n",
       "2  {'Smoking': [[1, 0], [0, 1]], 'Health': [[0, 1...  0.083328   \n",
       "3  {'Smoking': [[1, 0], [0, 1]], 'Health': [[1, 0...  0.103276   \n",
       "4  {'Smoking': [[1, 0], [0, 1]], 'Health': [[1, 1...  0.132535   \n",
       "\n",
       "                                           ISIL_rank   ISC_val  \\\n",
       "0  {'Smoking': [[1, 0], [0, 1]], 'Health': [[1, 0...  0.192412   \n",
       "1  {'Smoking': [[1, 0], [0, 1]], 'Health': [[1, 0...  0.232522   \n",
       "2  {'Smoking': [[1, 0], [0, 1]], 'Health': [[1, 1...  0.242953   \n",
       "3  {'Smoking': [[1, 0], [0, 1]], 'Health': [[0, 1...  0.252111   \n",
       "4  {'Smoking': [[1, 0], [0, 1]], 'Health': [[1, 1...  0.274988   \n",
       "\n",
       "                                            ISC_rank  \n",
       "0  {'Smoking': [[1, 0], [0, 1]], 'Health': [[1, 1...  \n",
       "1  {'Smoking': [[0, 1], [1, 0]], 'Health': [[0, 0...  \n",
       "2  {'Smoking': [[1, 0], [0, 1]], 'Health': [[0, 1...  \n",
       "3  {'Smoking': [[1, 0], [0, 1]], 'Health': [[1, 0...  \n",
       "4  {'Smoking': [[1, 0], [0, 1]], 'Health': [[1, 1...  "
      ]
     },
     "execution_count": 11,
     "metadata": {},
     "output_type": "execute_result"
    }
   ],
   "source": [
    "df_nu[1].head()"
   ]
  },
  {
   "cell_type": "code",
   "execution_count": 12,
   "id": "e5981a4c",
   "metadata": {},
   "outputs": [
    {
     "data": {
      "text/html": [
       "<div>\n",
       "<style scoped>\n",
       "    .dataframe tbody tr th:only-of-type {\n",
       "        vertical-align: middle;\n",
       "    }\n",
       "\n",
       "    .dataframe tbody tr th {\n",
       "        vertical-align: top;\n",
       "    }\n",
       "\n",
       "    .dataframe thead th {\n",
       "        text-align: right;\n",
       "    }\n",
       "</style>\n",
       "<table border=\"1\" class=\"dataframe\">\n",
       "  <thead>\n",
       "    <tr style=\"text-align: right;\">\n",
       "      <th></th>\n",
       "      <th>IC_val</th>\n",
       "      <th>IC_rank</th>\n",
       "      <th>IIL_val</th>\n",
       "      <th>IIL_rank</th>\n",
       "      <th>ISIL_val</th>\n",
       "      <th>ISIL_rank</th>\n",
       "      <th>ISC_val</th>\n",
       "      <th>ISC_rank</th>\n",
       "    </tr>\n",
       "  </thead>\n",
       "  <tbody>\n",
       "    <tr>\n",
       "      <th>0</th>\n",
       "      <td>0.026314</td>\n",
       "      <td>{'Smoking': [[1, 0], [0, 1]], 'Health': [[1, 1...</td>\n",
       "      <td>0.160249</td>\n",
       "      <td>{'Smoking': [[1, 0], [0, 1]], 'Health': [[1, 1...</td>\n",
       "      <td>0.026314</td>\n",
       "      <td>{'Smoking': [[1, 0], [0, 1]], 'Health': [[1, 1...</td>\n",
       "      <td>0.160249</td>\n",
       "      <td>{'Smoking': [[1, 0], [0, 1]], 'Health': [[1, 1...</td>\n",
       "    </tr>\n",
       "    <tr>\n",
       "      <th>1</th>\n",
       "      <td>0.075769</td>\n",
       "      <td>{'Smoking': [[1, 0], [0, 1]], 'Health': [[1, 0...</td>\n",
       "      <td>0.232522</td>\n",
       "      <td>{'Smoking': [[0, 1], [1, 0]], 'Health': [[0, 0...</td>\n",
       "      <td>0.075769</td>\n",
       "      <td>{'Smoking': [[1, 0], [0, 1]], 'Health': [[1, 0...</td>\n",
       "      <td>0.232522</td>\n",
       "      <td>{'Smoking': [[0, 1], [1, 0]], 'Health': [[0, 0...</td>\n",
       "    </tr>\n",
       "    <tr>\n",
       "      <th>2</th>\n",
       "      <td>0.093007</td>\n",
       "      <td>{'Smoking': [[1, 0], [0, 1]], 'Health': [[1, 1...</td>\n",
       "      <td>0.242953</td>\n",
       "      <td>{'Smoking': [[1, 0], [0, 1]], 'Health': [[0, 1...</td>\n",
       "      <td>0.093007</td>\n",
       "      <td>{'Smoking': [[1, 0], [0, 1]], 'Health': [[1, 1...</td>\n",
       "      <td>0.242953</td>\n",
       "      <td>{'Smoking': [[1, 0], [0, 1]], 'Health': [[0, 1...</td>\n",
       "    </tr>\n",
       "    <tr>\n",
       "      <th>3</th>\n",
       "      <td>0.126812</td>\n",
       "      <td>{'Smoking': [[1, 0], [0, 1]], 'Health': [[1, 0...</td>\n",
       "      <td>0.252111</td>\n",
       "      <td>{'Smoking': [[1, 0], [0, 1]], 'Health': [[1, 0...</td>\n",
       "      <td>0.126812</td>\n",
       "      <td>{'Smoking': [[1, 0], [0, 1]], 'Health': [[1, 0...</td>\n",
       "      <td>0.252111</td>\n",
       "      <td>{'Smoking': [[1, 0], [0, 1]], 'Health': [[1, 0...</td>\n",
       "    </tr>\n",
       "    <tr>\n",
       "      <th>4</th>\n",
       "      <td>0.164729</td>\n",
       "      <td>{'Smoking': [[0, 1], [1, 0]], 'Health': [[0, 0...</td>\n",
       "      <td>0.274988</td>\n",
       "      <td>{'Smoking': [[1, 0], [0, 1]], 'Health': [[1, 1...</td>\n",
       "      <td>0.164729</td>\n",
       "      <td>{'Smoking': [[0, 1], [1, 0]], 'Health': [[0, 0...</td>\n",
       "      <td>0.274988</td>\n",
       "      <td>{'Smoking': [[1, 0], [0, 1]], 'Health': [[1, 1...</td>\n",
       "    </tr>\n",
       "  </tbody>\n",
       "</table>\n",
       "</div>"
      ],
      "text/plain": [
       "     IC_val                                            IC_rank   IIL_val  \\\n",
       "0  0.026314  {'Smoking': [[1, 0], [0, 1]], 'Health': [[1, 1...  0.160249   \n",
       "1  0.075769  {'Smoking': [[1, 0], [0, 1]], 'Health': [[1, 0...  0.232522   \n",
       "2  0.093007  {'Smoking': [[1, 0], [0, 1]], 'Health': [[1, 1...  0.242953   \n",
       "3  0.126812  {'Smoking': [[1, 0], [0, 1]], 'Health': [[1, 0...  0.252111   \n",
       "4  0.164729  {'Smoking': [[0, 1], [1, 0]], 'Health': [[0, 0...  0.274988   \n",
       "\n",
       "                                            IIL_rank  ISIL_val  \\\n",
       "0  {'Smoking': [[1, 0], [0, 1]], 'Health': [[1, 1...  0.026314   \n",
       "1  {'Smoking': [[0, 1], [1, 0]], 'Health': [[0, 0...  0.075769   \n",
       "2  {'Smoking': [[1, 0], [0, 1]], 'Health': [[0, 1...  0.093007   \n",
       "3  {'Smoking': [[1, 0], [0, 1]], 'Health': [[1, 0...  0.126812   \n",
       "4  {'Smoking': [[1, 0], [0, 1]], 'Health': [[1, 1...  0.164729   \n",
       "\n",
       "                                           ISIL_rank   ISC_val  \\\n",
       "0  {'Smoking': [[1, 0], [0, 1]], 'Health': [[1, 1...  0.160249   \n",
       "1  {'Smoking': [[1, 0], [0, 1]], 'Health': [[1, 0...  0.232522   \n",
       "2  {'Smoking': [[1, 0], [0, 1]], 'Health': [[1, 1...  0.242953   \n",
       "3  {'Smoking': [[1, 0], [0, 1]], 'Health': [[1, 0...  0.252111   \n",
       "4  {'Smoking': [[0, 1], [1, 0]], 'Health': [[0, 0...  0.274988   \n",
       "\n",
       "                                            ISC_rank  \n",
       "0  {'Smoking': [[1, 0], [0, 1]], 'Health': [[1, 1...  \n",
       "1  {'Smoking': [[0, 1], [1, 0]], 'Health': [[0, 0...  \n",
       "2  {'Smoking': [[1, 0], [0, 1]], 'Health': [[0, 1...  \n",
       "3  {'Smoking': [[1, 0], [0, 1]], 'Health': [[1, 0...  \n",
       "4  {'Smoking': [[1, 0], [0, 1]], 'Health': [[1, 1...  "
      ]
     },
     "execution_count": 12,
     "metadata": {},
     "output_type": "execute_result"
    }
   ],
   "source": [
    "df_nu[2].head()"
   ]
  },
  {
   "cell_type": "markdown",
   "id": "3ff46119",
   "metadata": {},
   "source": [
    "### Best IC "
   ]
  },
  {
   "cell_type": "code",
   "execution_count": 13,
   "id": "57af0a35",
   "metadata": {},
   "outputs": [
    {
     "data": {
      "text/plain": [
       "0.004652475014112519"
      ]
     },
     "execution_count": 13,
     "metadata": {},
     "output_type": "execute_result"
    }
   ],
   "source": [
    "df_nu[1]['IC_val'][0]"
   ]
  },
  {
   "cell_type": "code",
   "execution_count": 14,
   "id": "01e42fef",
   "metadata": {},
   "outputs": [
    {
     "data": {
      "text/plain": [
       "{'Smoking': array([[1, 0],\n",
       "        [0, 1]], dtype=int32),\n",
       " 'Health': array([[1, 1, 1, 0],\n",
       "        [0, 0, 0, 1]], dtype=int32)}"
      ]
     },
     "execution_count": 14,
     "metadata": {},
     "output_type": "execute_result"
    }
   ],
   "source": [
    "df_nu[2]['IIL_rank'][0]"
   ]
  },
  {
   "cell_type": "code",
   "execution_count": 15,
   "id": "b6c75c31",
   "metadata": {},
   "outputs": [],
   "source": [
    "nu_IC = nus[1]\n",
    "bestIC = df_nu[1]['IC_rank'][0]\n",
    "aA_IC = bestIC['Smoking']\n",
    "aB_IC = bestIC['Health']"
   ]
  },
  {
   "cell_type": "code",
   "execution_count": 16,
   "id": "c485f104",
   "metadata": {
    "scrolled": true
   },
   "outputs": [
    {
     "name": "stdout",
     "output_type": "stream",
     "text": [
      "IC paths: \n",
      " [[0.39356216 0.20453014]\n",
      " [0.60643784 0.79546986]] \n",
      " [[0.4 0.2]\n",
      " [0.6 0.8]]\n"
     ]
    }
   ],
   "source": [
    "print('IC paths: \\n {0} \\n {1}'.format(aB_IC@mu,nu_IC@aA_IC))"
   ]
  },
  {
   "cell_type": "code",
   "execution_count": 17,
   "id": "373ef182",
   "metadata": {},
   "outputs": [
    {
     "name": "stdout",
     "output_type": "stream",
     "text": [
      "IIL paths: \n",
      " [[0.32399659 0.1204845 ]\n",
      " [0.19330332 0.11009622]\n",
      " [0.06956557 0.08404563]\n",
      " [0.41313452 0.68537365]] \n",
      " [[0.2 0.1]\n",
      " [0.3 0.4]\n",
      " [0.2 0.1]\n",
      " [0.3 0.4]]\n"
     ]
    }
   ],
   "source": [
    "print('IIL paths: \\n {0} \\n {1}'.format(mu,np.linalg.pinv(aB_IC)@nu_IC@aA_IC))"
   ]
  },
  {
   "cell_type": "markdown",
   "id": "234b1c0a",
   "metadata": {},
   "source": [
    "### Best IIL"
   ]
  },
  {
   "cell_type": "code",
   "execution_count": 18,
   "id": "77abfaed",
   "metadata": {},
   "outputs": [
    {
     "data": {
      "text/plain": [
       "0.16024852410132379"
      ]
     },
     "execution_count": 18,
     "metadata": {},
     "output_type": "execute_result"
    }
   ],
   "source": [
    "df_nu[2]['IIL_val'][0]"
   ]
  },
  {
   "cell_type": "code",
   "execution_count": 19,
   "id": "c7197b66",
   "metadata": {},
   "outputs": [
    {
     "data": {
      "text/plain": [
       "{'Smoking': array([[1, 0],\n",
       "        [0, 1]], dtype=int32),\n",
       " 'Health': array([[1, 1, 1, 0],\n",
       "        [0, 0, 0, 1]], dtype=int32)}"
      ]
     },
     "execution_count": 19,
     "metadata": {},
     "output_type": "execute_result"
    }
   ],
   "source": [
    "df_nu[2]['IIL_rank'][0]"
   ]
  },
  {
   "cell_type": "code",
   "execution_count": 20,
   "id": "4b2de086",
   "metadata": {},
   "outputs": [],
   "source": [
    "nu_IIL = nus[2]\n",
    "bestIIL = df_nu[2]['IIL_rank'][0]\n",
    "aA_IIL = bestIIL['Smoking']\n",
    "aB_IIL = bestIIL['Health']"
   ]
  },
  {
   "cell_type": "code",
   "execution_count": 21,
   "id": "80bba393",
   "metadata": {
    "scrolled": true
   },
   "outputs": [
    {
     "name": "stdout",
     "output_type": "stream",
     "text": [
      "IC paths: \n",
      " [[0.58686548 0.31462635]\n",
      " [0.41313452 0.68537365]] \n",
      " [[0.5 0.2]\n",
      " [0.5 0.8]]\n"
     ]
    }
   ],
   "source": [
    "print('IC paths: \\n {0} \\n {1}'.format(aB_IIL@mu,nu_IIL@aA_IIL))"
   ]
  },
  {
   "cell_type": "code",
   "execution_count": 22,
   "id": "ecba4df7",
   "metadata": {},
   "outputs": [
    {
     "name": "stdout",
     "output_type": "stream",
     "text": [
      "IIL paths: \n",
      " [[0.32399659 0.1204845 ]\n",
      " [0.19330332 0.11009622]\n",
      " [0.06956557 0.08404563]\n",
      " [0.41313452 0.68537365]] \n",
      " [[0.16666667 0.06666667]\n",
      " [0.16666667 0.06666667]\n",
      " [0.16666667 0.06666667]\n",
      " [0.5        0.8       ]]\n"
     ]
    }
   ],
   "source": [
    "print('IIL paths: \\n {0} \\n {1}'.format(mu,np.linalg.pinv(aB_IIL)@nu_IIL@aA_IIL))"
   ]
  },
  {
   "cell_type": "code",
   "execution_count": null,
   "id": "c2003ea4",
   "metadata": {},
   "outputs": [],
   "source": []
  },
  {
   "cell_type": "code",
   "execution_count": null,
   "id": "0324a363",
   "metadata": {},
   "outputs": [],
   "source": []
  },
  {
   "cell_type": "markdown",
   "id": "3eba1063",
   "metadata": {},
   "source": [
    "## Downstream task: exam"
   ]
  },
  {
   "cell_type": "code",
   "execution_count": 23,
   "id": "c1d81e0e",
   "metadata": {},
   "outputs": [],
   "source": [
    "n_simul = 10\n",
    "n_samples = 10000\n",
    "M1_IC = healthM(nu_IC)\n",
    "M1_IIL = healthM(nu_IIL)"
   ]
  },
  {
   "cell_type": "code",
   "execution_count": 24,
   "id": "3307ec02",
   "metadata": {},
   "outputs": [
    {
     "name": "stdout",
     "output_type": "stream",
     "text": [
      "Base model: 6075.2 +- 34.466795615490575\n",
      "IC_opt abstraction: 6001.9 +- 32.485227411855995\n",
      "Base model: 4132.8 +- 63.13445968724212\n",
      "IIL_opt abstraction: 4981.5 +- 56.789523681749614\n"
     ]
    }
   ],
   "source": [
    "samples = np.zeros((n_simul,4))\n",
    "\n",
    "for i in range(n_simul):\n",
    "    sample_M0_do0 = A.M0.simulate(n_samples=n_samples, do={'Smoking':0}, show_progress=False)\n",
    "    BF_samples = sample_M0_do0[['Coughing','Fatigue']].values\n",
    "    BF_samples_int = [x[0]*2**1 + x[1]*2**0 for x in BF_samples]\n",
    "    H_samples = [np.argmax(aB_IC[:,x]) for x in BF_samples_int]\n",
    "    samples[i,0] = np.sum(H_samples)\n",
    "    \n",
    "    sample_M1_do0 = M1_IC.simulate(n_samples=n_samples, do={'Smoking':0}, show_progress=False)\n",
    "    samples[i,1] = sample_M1_do0['Health'].sum()\n",
    "    \n",
    "    sample_M0_do0 = A.M0.simulate(n_samples=n_samples, do={'Smoking':0}, show_progress=False)\n",
    "    BF_samples = sample_M0_do0[['Coughing','Fatigue']].values\n",
    "    BF_samples_int = [x[0]*2**1 + x[1]*2**0 for x in BF_samples]\n",
    "    H_samples = [np.argmax(aB_IIL[:,x]) for x in BF_samples_int]\n",
    "    samples[i,2] = np.sum(H_samples)\n",
    "\n",
    "    sample_M1_do0 = M1_IIL.simulate(n_samples=n_samples, do={'Smoking':0}, show_progress=False)\n",
    "    samples[i,3] = sample_M1_do0['Health'].sum()\n",
    "\n",
    "print('Base model: {0} +- {1}'.format(np.mean(samples[:,0]), np.std(samples[:,0])))\n",
    "print('IC_opt abstraction: {0} +- {1}'.format(np.mean(samples[:,1]), np.std(samples[:,1])))\n",
    "\n",
    "print('Base model: {0} +- {1}'.format(np.mean(samples[:,2]), np.std(samples[:,2])))\n",
    "print('IIL_opt abstraction: {0} +- {1}'.format(np.mean(samples[:,3]), np.std(samples[:,3])))  "
   ]
  },
  {
   "cell_type": "code",
   "execution_count": 25,
   "id": "afa128fe",
   "metadata": {},
   "outputs": [
    {
     "name": "stdout",
     "output_type": "stream",
     "text": [
      "Base model: 7968.2 +- 33.36405251164792\n",
      "IC_opt abstraction: 7994.8 +- 42.64223258695539\n",
      "Base model: 6814.8 +- 48.45988031351295\n",
      "IIL_opt abstraction: 7986.6 +- 43.79771683546986\n"
     ]
    }
   ],
   "source": [
    "samples = np.zeros((n_simul,4))\n",
    "\n",
    "for i in range(n_simul):\n",
    "    sample_M0_do0 = A.M0.simulate(n_samples=n_samples, do={'Smoking':1}, show_progress=False)\n",
    "    BF_samples = sample_M0_do0[['Coughing','Fatigue']].values\n",
    "    BF_samples_int = [x[0]*2**1 + x[1]*2**0 for x in BF_samples]\n",
    "    H_samples = [np.argmax(aB_IC[:,x]) for x in BF_samples_int]\n",
    "    samples[i,0] = np.sum(H_samples)\n",
    "    \n",
    "    sample_M1_do0 = M1_IC.simulate(n_samples=n_samples, do={'Smoking':1}, show_progress=False)\n",
    "    samples[i,1] = sample_M1_do0['Health'].sum()\n",
    "    \n",
    "    sample_M0_do0 = A.M0.simulate(n_samples=n_samples, do={'Smoking':1}, show_progress=False)\n",
    "    BF_samples = sample_M0_do0[['Coughing','Fatigue']].values\n",
    "    BF_samples_int = [x[0]*2**1 + x[1]*2**0 for x in BF_samples]\n",
    "    H_samples = [np.argmax(aB_IIL[:,x]) for x in BF_samples_int]\n",
    "    samples[i,2] = np.sum(H_samples)\n",
    "\n",
    "    sample_M1_do0 = M1_IIL.simulate(n_samples=n_samples, do={'Smoking':1}, show_progress=False)\n",
    "    samples[i,3] = sample_M1_do0['Health'].sum()\n",
    "\n",
    "print('Base model: {0} +- {1}'.format(np.mean(samples[:,0]), np.std(samples[:,0])))\n",
    "print('IC_opt abstraction: {0} +- {1}'.format(np.mean(samples[:,1]), np.std(samples[:,1])))\n",
    "\n",
    "print('Base model: {0} +- {1}'.format(np.mean(samples[:,2]), np.std(samples[:,2])))\n",
    "print('IIL_opt abstraction: {0} +- {1}'.format(np.mean(samples[:,3]), np.std(samples[:,3])))  "
   ]
  },
  {
   "cell_type": "markdown",
   "id": "9729a125",
   "metadata": {},
   "source": [
    "## Downstream task: car accident"
   ]
  },
  {
   "cell_type": "code",
   "execution_count": 26,
   "id": "da0e6b84",
   "metadata": {},
   "outputs": [],
   "source": [
    "stats = np.zeros((n_simul,3))\n",
    "\n",
    "for s in range(n_simul):\n",
    "    sample_M0_do0 = A.M0.simulate(n_samples=n_samples, do={'Smoking':0}, show_progress=False)\n",
    "    stats[s,0] = np.sum(sample_M0_do0['Car Accident'].values)\n",
    "\n",
    "    # Simulate M1 (IC optimized) and record the number of Hea=0 and Hea=1\n",
    "    sample_M1_do0 = M1_IC.simulate(n_samples=n_samples, do={'Smoking':0}, show_progress=False)\n",
    "    H_samples = sample_M1_do0['Health'].values\n",
    "    n_H1_samples = np.sum(H_samples)\n",
    "    n_H0_samples = n_samples - np.sum(H_samples)\n",
    "\n",
    "    # For each Hea=0 and Hea=1, compute a possible combination of (Cou,Fat)\n",
    "    n_CF_samples = np.zeros(4)\n",
    "\n",
    "    CF_samples = np.random.choice(4,size=n_H0_samples,p=np.linalg.pinv(aB_IC)[:,0])\n",
    "    for i in range(4):\n",
    "        n_CF_samples[i] += np.sum(CF_samples==i)\n",
    "    #print(np.linalg.pinv(aB_IC),n_CF_samples)\n",
    "\n",
    "    CF_samples = np.random.choice(4,size=n_H1_samples,p=np.linalg.pinv(aB_IC)[:,1])\n",
    "    for i in range(4):\n",
    "        n_CF_samples[i] += np.sum(CF_samples==i)\n",
    "\n",
    "    # Simulate (M0) assuming that (Cou,Fat) have been computed in M1 (IC optimized)\n",
    "    CA_samples = np.array([])\n",
    "    for i in range(4):\n",
    "        do_Cou = int(np.binary_repr(i,width=2)[1])\n",
    "        do_Fat = int(np.binary_repr(i,width=2)[0])\n",
    "        #print(np.binary_repr(i,width=2),do_Cou,do_Fat)\n",
    "        sample_M01_do0 = A.M0.simulate(n_samples=int(n_CF_samples[i]), do={'Smoking':0,'Coughing':do_Cou,'Fatigue':do_Fat}, show_progress=False)\n",
    "        CA_samples = np.concatenate((CA_samples, sample_M01_do0['Car Accident'].values))\n",
    "    stats[s,1] = np.sum(sample_M01_do0['Car Accident'].values)\n",
    "        \n",
    "    # Simulate M1 (IIL optimized) and record the number of Hea=0 and Hea=1\n",
    "    sample_M1_do0 = M1_IIL.simulate(n_samples=n_samples, do={'Smoking':0}, show_progress=False)\n",
    "    H_samples = sample_M1_do0['Health'].values\n",
    "    n_H1_samples = np.sum(H_samples)\n",
    "    n_H0_samples = n_samples - np.sum(H_samples)\n",
    "\n",
    "    # For each Hea=0 and Hea=1, compute a possible combination of (Cou,Fat)\n",
    "    n_CF_samples = np.zeros(4)\n",
    "\n",
    "    CF_samples = np.random.choice(4,size=n_H0_samples,p=np.linalg.pinv(aB_IIL)[:,0])\n",
    "    for i in range(4):\n",
    "        n_CF_samples[i] += np.sum(CF_samples==i)\n",
    "\n",
    "    CF_samples = np.random.choice(4,size=n_H1_samples,p=np.linalg.pinv(aB_IIL)[:,1])\n",
    "    for i in range(4):\n",
    "        n_CF_samples[i] += np.sum(CF_samples==i)\n",
    "\n",
    "    # Simulate (M0) assuming that (Cou,Fat) have been computed in M1 (IIL optimized)\n",
    "    CA_samples = np.array([])\n",
    "    for i in range(4):\n",
    "        do_Cou = int(np.binary_repr(i,width=2)[1])\n",
    "        do_Fat = int(np.binary_repr(i,width=2)[0])\n",
    "        sample_M02_do0 = A.M0.simulate(n_samples=int(n_CF_samples[i]), do={'Smoking':0,'Coughing':do_Cou,'Fatigue':do_Fat}, show_progress=False)\n",
    "        CA_samples = np.concatenate((CA_samples, sample_M02_do0['Car Accident'].values))\n",
    "    \n",
    "    stats[s,2] = np.sum(sample_M02_do0['Car Accident'].values)"
   ]
  },
  {
   "cell_type": "code",
   "execution_count": 27,
   "id": "fba956a0",
   "metadata": {},
   "outputs": [
    {
     "name": "stdout",
     "output_type": "stream",
     "text": [
      "6785.9 +- 37.52719014261526\n",
      "2562.2 +- 56.82393861745242\n",
      "4266.5 +- 53.917065943910565\n"
     ]
    }
   ],
   "source": [
    "for i in range(3):\n",
    "    print('{0} +- {1}'.format(np.mean(stats[:,i]),np.std(stats[:,i])))"
   ]
  },
  {
   "cell_type": "code",
   "execution_count": 28,
   "id": "df33b454",
   "metadata": {},
   "outputs": [],
   "source": [
    "stats = np.zeros((n_simul,3))\n",
    "\n",
    "for s in range(n_simul):\n",
    "    sample_M0_do0 = A.M0.simulate(n_samples=n_samples, do={'Smoking':1}, show_progress=False)\n",
    "    stats[s,0] = np.sum(sample_M0_do0['Car Accident'].values)\n",
    "\n",
    "    # Simulate M1 (IC optimized) and record the number of Hea=0 and Hea=1\n",
    "    sample_M1_do0 = M1_IC.simulate(n_samples=n_samples, do={'Smoking':1}, show_progress=False)\n",
    "    H_samples = sample_M1_do0['Health'].values\n",
    "    n_H1_samples = np.sum(H_samples)\n",
    "    n_H0_samples = n_samples - np.sum(H_samples)\n",
    "\n",
    "    # For each Hea=0 and Hea=1, compute a possible combination of (Cou,Fat)\n",
    "    n_CF_samples = np.zeros(4)\n",
    "\n",
    "    CF_samples = np.random.choice(4,size=n_H0_samples,p=np.linalg.pinv(aB_IC)[:,0])\n",
    "    for i in range(4):\n",
    "        n_CF_samples[i] += np.sum(CF_samples==i)\n",
    "    #print(np.linalg.pinv(aB_IC),n_CF_samples)\n",
    "\n",
    "    CF_samples = np.random.choice(4,size=n_H1_samples,p=np.linalg.pinv(aB_IC)[:,1])\n",
    "    for i in range(4):\n",
    "        n_CF_samples[i] += np.sum(CF_samples==i)\n",
    "\n",
    "    # Simulate (M0) assuming that (Cou,Fat) have been computed in M1 (IC optimized)\n",
    "    CA_samples = np.array([])\n",
    "    for i in range(4):\n",
    "        do_Cou = int(np.binary_repr(i,width=2)[1])\n",
    "        do_Fat = int(np.binary_repr(i,width=2)[0])\n",
    "        #print(np.binary_repr(i,width=2),do_Cou,do_Fat)\n",
    "        sample_M01_do0 = A.M0.simulate(n_samples=int(n_CF_samples[i]), do={'Smoking':1,'Coughing':do_Cou,'Fatigue':do_Fat}, show_progress=False)\n",
    "        CA_samples = np.concatenate((CA_samples, sample_M01_do0['Car Accident'].values))\n",
    "    stats[s,1] = np.sum(sample_M01_do0['Car Accident'].values)\n",
    "        \n",
    "    # Simulate M1 (IIL optimized) and record the number of Hea=0 and Hea=1\n",
    "    sample_M1_do0 = M1_IIL.simulate(n_samples=n_samples, do={'Smoking':1}, show_progress=False)\n",
    "    H_samples = sample_M1_do0['Health'].values\n",
    "    n_H1_samples = np.sum(H_samples)\n",
    "    n_H0_samples = n_samples - np.sum(H_samples)\n",
    "\n",
    "    # For each Hea=0 and Hea=1, compute a possible combination of (Cou,Fat)\n",
    "    n_CF_samples = np.zeros(4)\n",
    "\n",
    "    CF_samples = np.random.choice(4,size=n_H0_samples,p=np.linalg.pinv(aB_IIL)[:,0])\n",
    "    for i in range(4):\n",
    "        n_CF_samples[i] += np.sum(CF_samples==i)\n",
    "\n",
    "    CF_samples = np.random.choice(4,size=n_H1_samples,p=np.linalg.pinv(aB_IIL)[:,1])\n",
    "    for i in range(4):\n",
    "        n_CF_samples[i] += np.sum(CF_samples==i)\n",
    "\n",
    "    # Simulate (M0) assuming that (Cou,Fat) have been computed in M1 (IIL optimized)\n",
    "    CA_samples = np.array([])\n",
    "    for i in range(4):\n",
    "        do_Cou = int(np.binary_repr(i,width=2)[1])\n",
    "        do_Fat = int(np.binary_repr(i,width=2)[0])\n",
    "        sample_M02_do0 = A.M0.simulate(n_samples=int(n_CF_samples[i]), do={'Smoking':1,'Coughing':do_Cou,'Fatigue':do_Fat}, show_progress=False)\n",
    "        CA_samples = np.concatenate((CA_samples, sample_M02_do0['Car Accident'].values))\n",
    "    \n",
    "    stats[s,2] = np.sum(sample_M02_do0['Car Accident'].values)"
   ]
  },
  {
   "cell_type": "code",
   "execution_count": 29,
   "id": "d733a294",
   "metadata": {},
   "outputs": [
    {
     "name": "stdout",
     "output_type": "stream",
     "text": [
      "7656.9 +- 51.66323644527121\n",
      "3411.9 +- 47.94048393581358\n",
      "6801.0 +- 51.69912958648337\n"
     ]
    }
   ],
   "source": [
    "for i in range(3):\n",
    "    print('{0} +- {1}'.format(np.mean(stats[:,i]),np.std(stats[:,i])))"
   ]
  }
 ],
 "metadata": {
  "kernelspec": {
   "display_name": "Python 3",
   "language": "python",
   "name": "python3"
  },
  "language_info": {
   "codemirror_mode": {
    "name": "ipython",
    "version": 3
   },
   "file_extension": ".py",
   "mimetype": "text/x-python",
   "name": "python",
   "nbconvert_exporter": "python",
   "pygments_lexer": "ipython3",
   "version": "3.9.14"
  },
  "toc": {
   "base_numbering": 1,
   "nav_menu": {},
   "number_sections": true,
   "sideBar": true,
   "skip_h1_title": false,
   "title_cell": "Table of Contents",
   "title_sidebar": "Contents",
   "toc_cell": false,
   "toc_position": {},
   "toc_section_display": true,
   "toc_window_display": false
  }
 },
 "nbformat": 4,
 "nbformat_minor": 5
}
