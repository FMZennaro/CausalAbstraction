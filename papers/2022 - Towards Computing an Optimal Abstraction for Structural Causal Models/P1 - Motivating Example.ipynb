{
 "cells": [
  {
   "cell_type": "code",
   "execution_count": 1,
   "id": "0a9f44a4",
   "metadata": {},
   "outputs": [],
   "source": [
    "import numpy as np\n",
    "import networkx as nx\n",
    "import itertools\n",
    "\n",
    "import src.utils as ut\n",
    "from src.legacy.SCMMappings_1_0 import Abstraction\n",
    "\n",
    "from pgmpy.models import BayesianNetwork as BN\n",
    "from pgmpy.factors.discrete import TabularCPD as cpd\n",
    "from pgmpy.inference import VariableElimination"
   ]
  },
  {
   "cell_type": "code",
   "execution_count": 2,
   "id": "55aa8bcb",
   "metadata": {},
   "outputs": [],
   "source": [
    "np.random.seed(0)\n",
    "verbose = False"
   ]
  },
  {
   "cell_type": "markdown",
   "id": "6b253358",
   "metadata": {},
   "source": [
    "## Base model M0"
   ]
  },
  {
   "cell_type": "code",
   "execution_count": 3,
   "id": "4fdefd61",
   "metadata": {},
   "outputs": [
    {
     "data": {
      "text/plain": [
       "True"
      ]
     },
     "execution_count": 3,
     "metadata": {},
     "output_type": "execute_result"
    }
   ],
   "source": [
    "M0 = BN([('Env','Smoke'),('Env','Cancer'),('Smoke','Cancer')])\n",
    "\n",
    "cpdE = cpd(variable='Env',\n",
    "          variable_card=2,\n",
    "          values=[[.8],[.2]],\n",
    "          evidence=None,\n",
    "          evidence_card=None)\n",
    "cpdS = cpd(variable='Smoke',\n",
    "          variable_card=2,\n",
    "          values=[[.8,.6],[.2,.4]],\n",
    "          evidence=['Env'],\n",
    "          evidence_card=[2])\n",
    "cpdC = cpd(variable='Cancer',\n",
    "          variable_card=2,\n",
    "          values=[[.9,.8,.4,.3],[.1,.2,.6,.7]],\n",
    "          evidence=['Smoke','Env'],\n",
    "          evidence_card=[2,2])\n",
    "\n",
    "M0.add_cpds(cpdE,cpdS,cpdC)\n",
    "M0.check_model()"
   ]
  },
  {
   "cell_type": "markdown",
   "id": "9ab8bfbc",
   "metadata": {},
   "source": [
    "### Distributions over M0"
   ]
  },
  {
   "cell_type": "code",
   "execution_count": 4,
   "id": "b5be61f1",
   "metadata": {},
   "outputs": [],
   "source": [
    "inferM0 = VariableElimination(M0)\n",
    "M0_P_ESC = inferM0.query(['Env','Smoke','Cancer'], show_progress=False)\n",
    "M0_P_SC = inferM0.query(['Smoke','Cancer'], show_progress=False)\n",
    "M0_P_ES = inferM0.query(['Env','Smoke'], show_progress=False)\n",
    "M0_P_EC = inferM0.query(['Env','Cancer'], show_progress=False)\n",
    "M0_P_S = inferM0.query(['Smoke'], show_progress=False)\n",
    "M0_P_C = inferM0.query(['Cancer'], show_progress=False)\n",
    "M0_P_E = inferM0.query(['Env'], show_progress=False)\n",
    "M0_P_C_givenS = M0_P_SC/M0_P_S\n",
    "M0_P_C_givenE = M0_P_EC/M0_P_E\n",
    "M0_P_S_givenC = M0_P_SC/M0_P_C\n",
    "M0_P_C_givenES = M0_P_ESC/M0_P_ES\n",
    "\n",
    "M0do = M0.do(['Smoke'])\n",
    "infer0do = VariableElimination(M0do)\n",
    "M0_P_C_doS0 = infer0do.query(['Cancer'], evidence={'Smoke':0}, show_progress=False)\n",
    "M0_P_C_doS1 = infer0do.query(['Cancer'], evidence={'Smoke':1}, show_progress=False)"
   ]
  },
  {
   "cell_type": "code",
   "execution_count": 5,
   "id": "4345a41b",
   "metadata": {},
   "outputs": [
    {
     "name": "stdout",
     "output_type": "stream",
     "text": [
      "+----------+-----------+---------------------+\n",
      "| Smoke    | Cancer    |   phi(Smoke,Cancer) |\n",
      "+==========+===========+=====================+\n",
      "| Smoke(0) | Cancer(0) |              0.8842 |\n",
      "+----------+-----------+---------------------+\n",
      "| Smoke(0) | Cancer(1) |              0.3667 |\n",
      "+----------+-----------+---------------------+\n",
      "| Smoke(1) | Cancer(0) |              0.1158 |\n",
      "+----------+-----------+---------------------+\n",
      "| Smoke(1) | Cancer(1) |              0.6333 |\n",
      "+----------+-----------+---------------------+\n"
     ]
    }
   ],
   "source": [
    "print(M0_P_S_givenC)"
   ]
  },
  {
   "cell_type": "markdown",
   "id": "19f9082a",
   "metadata": {},
   "source": [
    "## Abstracted Model M1"
   ]
  },
  {
   "cell_type": "code",
   "execution_count": 6,
   "id": "d16114dd",
   "metadata": {},
   "outputs": [
    {
     "data": {
      "text/plain": [
       "True"
      ]
     },
     "execution_count": 6,
     "metadata": {},
     "output_type": "execute_result"
    }
   ],
   "source": [
    "M1 = BN([('Smoke_','Cancer_')])\n",
    "\n",
    "cpdS_ = cpd(variable='Smoke_',\n",
    "          variable_card=2,\n",
    "          values=[[.2],[.8]],\n",
    "          evidence=None,\n",
    "          evidence_card=None)\n",
    "cpdC_ = cpd(variable='Cancer_',\n",
    "          variable_card=2,\n",
    "          values=[[.88,.38],[.12,.62]],\n",
    "          evidence=['Smoke_'],\n",
    "          evidence_card=[2])\n",
    "\n",
    "M1.add_cpds(cpdS_,cpdC_)\n",
    "M1.check_model()"
   ]
  },
  {
   "cell_type": "markdown",
   "id": "7c8110c8",
   "metadata": {},
   "source": [
    "### Distributions over M1 "
   ]
  },
  {
   "cell_type": "code",
   "execution_count": 7,
   "id": "e2b6e531",
   "metadata": {},
   "outputs": [],
   "source": [
    "inferM1 = VariableElimination(M1)\n",
    "M1_P_SC = inferM1.query(['Smoke_','Cancer_'], show_progress=False)\n",
    "M1_P_S = inferM1.query(['Smoke_'], show_progress=False)\n",
    "M1_P_C = inferM1.query(['Cancer_'], show_progress=False)\n",
    "M1_P_C_givenS = M1_P_SC/M1_P_S\n",
    "M1_P_S_givenC = M1_P_SC/M1_P_C\n",
    "\n",
    "M1do = M1.do(['Smoke_'])\n",
    "infer1do = VariableElimination(M1do)\n",
    "M1_P_C_doS0 = infer1do.query(['Cancer_'], evidence={'Smoke_':0}, show_progress=False)\n",
    "M1_P_C_doS1 = infer1do.query(['Cancer_'], evidence={'Smoke_':1}, show_progress=False)"
   ]
  },
  {
   "cell_type": "code",
   "execution_count": 8,
   "id": "cd4b7636",
   "metadata": {},
   "outputs": [
    {
     "name": "stdout",
     "output_type": "stream",
     "text": [
      "+-----------+------------+-----------------------+\n",
      "| Smoke_    | Cancer_    |   phi(Smoke_,Cancer_) |\n",
      "+===========+============+=======================+\n",
      "| Smoke_(0) | Cancer_(0) |                0.3667 |\n",
      "+-----------+------------+-----------------------+\n",
      "| Smoke_(0) | Cancer_(1) |                0.0462 |\n",
      "+-----------+------------+-----------------------+\n",
      "| Smoke_(1) | Cancer_(0) |                0.6333 |\n",
      "+-----------+------------+-----------------------+\n",
      "| Smoke_(1) | Cancer_(1) |                0.9538 |\n",
      "+-----------+------------+-----------------------+\n"
     ]
    }
   ],
   "source": [
    "print(M1_P_S_givenC)"
   ]
  },
  {
   "cell_type": "markdown",
   "id": "a7e63e27",
   "metadata": {},
   "source": [
    "### Abstraction $\\alpha$: M0 ->M1"
   ]
  },
  {
   "cell_type": "code",
   "execution_count": 9,
   "id": "0880631c",
   "metadata": {},
   "outputs": [],
   "source": [
    "R = ['Smoke', 'Cancer']\n",
    "a = {'Smoke': 'Smoke_',\n",
    "    'Cancer': 'Cancer_'}\n",
    "alphas = {'Smoke_': np.eye(2),\n",
    "          'Cancer_': np.eye(2)}"
   ]
  },
  {
   "cell_type": "code",
   "execution_count": 10,
   "id": "cfcd6349",
   "metadata": {},
   "outputs": [],
   "source": [
    "A = Abstraction(M0,M1,R,a,alphas)"
   ]
  },
  {
   "cell_type": "code",
   "execution_count": 11,
   "id": "c88b8b58",
   "metadata": {},
   "outputs": [
    {
     "name": "stdout",
     "output_type": "stream",
     "text": [
      "[[1. 0.]\n",
      " [0. 1.]]\n"
     ]
    },
    {
     "data": {
      "text/plain": [
       "[3.650024149988857e-09]"
      ]
     },
     "execution_count": 11,
     "metadata": {},
     "output_type": "execute_result"
    }
   ],
   "source": [
    "A.evaluate_abstraction_error()"
   ]
  },
  {
   "cell_type": "code",
   "execution_count": 12,
   "id": "48ddcfd3",
   "metadata": {},
   "outputs": [
    {
     "name": "stdout",
     "output_type": "stream",
     "text": [
      "['Smoke_', 'Cancer_']\n"
     ]
    },
    {
     "data": {
      "text/plain": [
       "array([0.44320847])"
      ]
     },
     "execution_count": 12,
     "metadata": {},
     "output_type": "execute_result"
    }
   ],
   "source": [
    "A.evaluate_info_loss()"
   ]
  },
  {
   "cell_type": "markdown",
   "id": "8495ed41",
   "metadata": {},
   "source": [
    "### Inverse $\\alpha^{*}$"
   ]
  },
  {
   "cell_type": "code",
   "execution_count": 13,
   "id": "2cf81c03",
   "metadata": {},
   "outputs": [
    {
     "name": "stdout",
     "output_type": "stream",
     "text": [
      "['Smoke_', 'Cancer_']\n",
      "[[0.5 0.  0.  0. ]\n",
      " [0.  0.5 0.  0. ]\n",
      " [0.  0.  0.5 0. ]\n",
      " [0.  0.  0.  0.5]\n",
      " [0.5 0.  0.  0. ]\n",
      " [0.  0.5 0.  0. ]\n",
      " [0.  0.  0.5 0. ]\n",
      " [0.  0.  0.  0.5]]\n"
     ]
    }
   ],
   "source": [
    "_,_,invalpha = A.compute_joints_and_invalpha()\n",
    "print(invalpha)"
   ]
  },
  {
   "cell_type": "markdown",
   "id": "e7eda517",
   "metadata": {},
   "source": [
    "### Abstraction $\\beta$: M0 ->M1"
   ]
  },
  {
   "cell_type": "code",
   "execution_count": 14,
   "id": "e4ab1d94",
   "metadata": {},
   "outputs": [],
   "source": [
    "R = ['Smoke', 'Cancer']\n",
    "a = {'Smoke': 'Smoke_',\n",
    "    'Cancer': 'Cancer_'}\n",
    "alphas = {'Smoke_': np.array([[0,1.],[1.,0]]),\n",
    "          'Cancer_': np.array([[0,1.],[1.,0]])}"
   ]
  },
  {
   "cell_type": "code",
   "execution_count": 15,
   "id": "fd67280e",
   "metadata": {},
   "outputs": [],
   "source": [
    "A = Abstraction(M0,M1,R,a,alphas)"
   ]
  },
  {
   "cell_type": "code",
   "execution_count": 16,
   "id": "b4fb35c5",
   "metadata": {},
   "outputs": [
    {
     "name": "stdout",
     "output_type": "stream",
     "text": [
      "[[0. 1.]\n",
      " [1. 0.]]\n"
     ]
    },
    {
     "data": {
      "text/plain": [
       "[0.2164268599328641]"
      ]
     },
     "execution_count": 16,
     "metadata": {},
     "output_type": "execute_result"
    }
   ],
   "source": [
    "A.evaluate_abstraction_error()"
   ]
  },
  {
   "cell_type": "code",
   "execution_count": 17,
   "id": "96c5e37d",
   "metadata": {},
   "outputs": [
    {
     "name": "stdout",
     "output_type": "stream",
     "text": [
      "['Smoke_', 'Cancer_']\n"
     ]
    },
    {
     "data": {
      "text/plain": [
       "array([0.31430371])"
      ]
     },
     "execution_count": 17,
     "metadata": {},
     "output_type": "execute_result"
    }
   ],
   "source": [
    "A.evaluate_info_loss()"
   ]
  },
  {
   "cell_type": "markdown",
   "id": "c9920575",
   "metadata": {},
   "source": [
    "### Inverse $\\beta^{*}$"
   ]
  },
  {
   "cell_type": "code",
   "execution_count": 18,
   "id": "f0d6f754",
   "metadata": {},
   "outputs": [
    {
     "name": "stdout",
     "output_type": "stream",
     "text": [
      "['Smoke_', 'Cancer_']\n",
      "[[0.  0.  0.  0.5]\n",
      " [0.  0.  0.5 0. ]\n",
      " [0.  0.5 0.  0. ]\n",
      " [0.5 0.  0.  0. ]\n",
      " [0.  0.  0.  0.5]\n",
      " [0.  0.  0.5 0. ]\n",
      " [0.  0.5 0.  0. ]\n",
      " [0.5 0.  0.  0. ]]\n"
     ]
    }
   ],
   "source": [
    "_,_,invbeta = A.compute_joints_and_invalpha()\n",
    "print(invbeta)"
   ]
  },
  {
   "cell_type": "markdown",
   "id": "b06f6fe1",
   "metadata": {},
   "source": [
    "## Abstracted Model M2"
   ]
  },
  {
   "cell_type": "code",
   "execution_count": 19,
   "id": "30c25977",
   "metadata": {},
   "outputs": [
    {
     "data": {
      "text/plain": [
       "True"
      ]
     },
     "execution_count": 19,
     "metadata": {},
     "output_type": "execute_result"
    }
   ],
   "source": [
    "M2 = BN([('Smoke_','Cancer_')])\n",
    "\n",
    "cpdS_ = cpd(variable='Smoke_',\n",
    "          variable_card=2,\n",
    "          values=[[.2],[.8]],\n",
    "          evidence=None,\n",
    "          evidence_card=None)\n",
    "cpdC_ = cpd(variable='Cancer_',\n",
    "          variable_card=2,\n",
    "          values=[[.8,.3],[.2,.7]],\n",
    "          evidence=['Smoke_'],\n",
    "          evidence_card=[2])\n",
    "\n",
    "M2.add_cpds(cpdS_,cpdC_)\n",
    "M2.check_model()"
   ]
  },
  {
   "cell_type": "markdown",
   "id": "d3c508c7",
   "metadata": {},
   "source": [
    "### Abstraction $\\alpha$: M0 ->M2"
   ]
  },
  {
   "cell_type": "code",
   "execution_count": 20,
   "id": "14ac825c",
   "metadata": {},
   "outputs": [],
   "source": [
    "R = ['Smoke', 'Cancer']\n",
    "a = {'Smoke': 'Smoke_',\n",
    "    'Cancer': 'Cancer_'}\n",
    "alphas = {'Smoke_': np.eye(2),\n",
    "          'Cancer_': np.eye(2)}"
   ]
  },
  {
   "cell_type": "code",
   "execution_count": 21,
   "id": "8f148cd2",
   "metadata": {},
   "outputs": [],
   "source": [
    "A = Abstraction(M0,M2,R,a,alphas)"
   ]
  },
  {
   "cell_type": "code",
   "execution_count": 22,
   "id": "ecb01ea6",
   "metadata": {},
   "outputs": [
    {
     "name": "stdout",
     "output_type": "stream",
     "text": [
      "[[1. 0.]\n",
      " [0. 1.]]\n"
     ]
    },
    {
     "data": {
      "text/plain": [
       "[0.07749949674607028]"
      ]
     },
     "execution_count": 22,
     "metadata": {},
     "output_type": "execute_result"
    }
   ],
   "source": [
    "A.evaluate_abstraction_error()"
   ]
  },
  {
   "cell_type": "code",
   "execution_count": 23,
   "id": "b5a4fc2c",
   "metadata": {},
   "outputs": [
    {
     "name": "stdout",
     "output_type": "stream",
     "text": [
      "['Smoke_', 'Cancer_']\n"
     ]
    },
    {
     "data": {
      "text/plain": [
       "array([0.44531366])"
      ]
     },
     "execution_count": 23,
     "metadata": {},
     "output_type": "execute_result"
    }
   ],
   "source": [
    "A.evaluate_info_loss()"
   ]
  },
  {
   "cell_type": "markdown",
   "id": "e04898b8",
   "metadata": {},
   "source": [
    "## Abstracted Model M3"
   ]
  },
  {
   "cell_type": "code",
   "execution_count": 24,
   "id": "b8be5e8c",
   "metadata": {},
   "outputs": [
    {
     "data": {
      "text/plain": [
       "True"
      ]
     },
     "execution_count": 24,
     "metadata": {},
     "output_type": "execute_result"
    }
   ],
   "source": [
    "M3 = BN([('Smoke_','Cancer_')])\n",
    "\n",
    "cpdS_ = cpd(variable='Smoke_',\n",
    "          variable_card=2,\n",
    "          values=[[.8],[.2]],\n",
    "          evidence=None,\n",
    "          evidence_card=None)\n",
    "cpdC_ = cpd(variable='Cancer_',\n",
    "          variable_card=2,\n",
    "          values=[[.88,.38],[.12,.62]],\n",
    "          evidence=['Smoke_'],\n",
    "          evidence_card=[2])\n",
    "\n",
    "M3.add_cpds(cpdS_,cpdC_)\n",
    "M3.check_model()"
   ]
  },
  {
   "cell_type": "markdown",
   "id": "4fb75aba",
   "metadata": {},
   "source": [
    "### Abstraction $\\alpha$: M0 ->M3"
   ]
  },
  {
   "cell_type": "code",
   "execution_count": 25,
   "id": "1b07eb65",
   "metadata": {},
   "outputs": [],
   "source": [
    "R = ['Smoke', 'Cancer']\n",
    "a = {'Smoke': 'Smoke_',\n",
    "    'Cancer': 'Cancer_'}\n",
    "alphas = {'Smoke_': np.eye(2),\n",
    "          'Cancer_': np.eye(2)}"
   ]
  },
  {
   "cell_type": "code",
   "execution_count": 26,
   "id": "b955d0ed",
   "metadata": {},
   "outputs": [],
   "source": [
    "A = Abstraction(M0,M3,R,a,alphas)"
   ]
  },
  {
   "cell_type": "code",
   "execution_count": 27,
   "id": "4e57dfe3",
   "metadata": {},
   "outputs": [
    {
     "name": "stdout",
     "output_type": "stream",
     "text": [
      "[[1. 0.]\n",
      " [0. 1.]]\n"
     ]
    },
    {
     "data": {
      "text/plain": [
       "[3.650024149988857e-09]"
      ]
     },
     "execution_count": 27,
     "metadata": {},
     "output_type": "execute_result"
    }
   ],
   "source": [
    "A.evaluate_abstraction_error()"
   ]
  },
  {
   "cell_type": "code",
   "execution_count": 28,
   "id": "d4b0ae55",
   "metadata": {},
   "outputs": [
    {
     "name": "stdout",
     "output_type": "stream",
     "text": [
      "['Smoke_', 'Cancer_']\n"
     ]
    },
    {
     "data": {
      "text/plain": [
       "array([0.24399835])"
      ]
     },
     "execution_count": 28,
     "metadata": {},
     "output_type": "execute_result"
    }
   ],
   "source": [
    "A.evaluate_info_loss()"
   ]
  },
  {
   "cell_type": "markdown",
   "id": "1fd7ad69",
   "metadata": {},
   "source": [
    "## Abstracted singleton model Ms"
   ]
  },
  {
   "cell_type": "code",
   "execution_count": 29,
   "id": "7c7f9acc",
   "metadata": {},
   "outputs": [
    {
     "data": {
      "text/plain": [
       "True"
      ]
     },
     "execution_count": 29,
     "metadata": {},
     "output_type": "execute_result"
    }
   ],
   "source": [
    "Ms = BN()\n",
    "Ms.add_node('Star')\n",
    "\n",
    "cpdS = cpd(variable='Star',\n",
    "          variable_card=1,\n",
    "          values=[[1.]],\n",
    "          evidence=None,\n",
    "          evidence_card=None)\n",
    "\n",
    "Ms.add_cpds(cpdS)\n",
    "Ms.check_model()"
   ]
  },
  {
   "cell_type": "markdown",
   "id": "4752e054",
   "metadata": {},
   "source": [
    "### Abstraction $\\gamma$: M0 -> Ms "
   ]
  },
  {
   "cell_type": "code",
   "execution_count": 30,
   "id": "72edee58",
   "metadata": {},
   "outputs": [],
   "source": [
    "R = ['Env','Smoke', 'Cancer']\n",
    "a = {'Env': 'Star',\n",
    "    'Smoke': 'Star',\n",
    "    'Cancer': 'Star'}\n",
    "alphas = {'Star': np.ones(shape=(1,8))}"
   ]
  },
  {
   "cell_type": "code",
   "execution_count": 31,
   "id": "c09fabd9",
   "metadata": {},
   "outputs": [],
   "source": [
    "As = Abstraction(M0,Ms,R,a,alphas)"
   ]
  },
  {
   "cell_type": "code",
   "execution_count": 32,
   "id": "0a565597",
   "metadata": {},
   "outputs": [
    {
     "data": {
      "text/plain": [
       "[]"
      ]
     },
     "execution_count": 32,
     "metadata": {},
     "output_type": "execute_result"
    }
   ],
   "source": [
    "As.evaluate_abstraction_error()"
   ]
  },
  {
   "cell_type": "code",
   "execution_count": 33,
   "id": "77eb7b84",
   "metadata": {},
   "outputs": [
    {
     "name": "stdout",
     "output_type": "stream",
     "text": [
      "Alpha^-1: [[0.125]\n",
      " [0.125]\n",
      " [0.125]\n",
      " [0.125]\n",
      " [0.125]\n",
      " [0.125]\n",
      " [0.125]\n",
      " [0.125]]\n",
      "['Star']\n",
      "M0 joint: [[0.576]\n",
      " [0.064]\n",
      " [0.064]\n",
      " [0.096]\n",
      " [0.096]\n",
      " [0.024]\n",
      " [0.024]\n",
      " [0.056]]\n",
      "M1 joint: [[1.]]\n",
      "Transformed M1 joint: [[0.125]\n",
      " [0.125]\n",
      " [0.125]\n",
      " [0.125]\n",
      " [0.125]\n",
      " [0.125]\n",
      " [0.125]\n",
      " [0.125]]\n"
     ]
    },
    {
     "data": {
      "text/plain": [
       "array([0.36715392])"
      ]
     },
     "execution_count": 33,
     "metadata": {},
     "output_type": "execute_result"
    }
   ],
   "source": [
    "As.evaluate_info_loss(verbose=True)"
   ]
  },
  {
   "cell_type": "markdown",
   "id": "8d18b47a",
   "metadata": {},
   "source": [
    "### Inverse $\\gamma^{*}$"
   ]
  },
  {
   "cell_type": "code",
   "execution_count": 34,
   "id": "cf2fae3a",
   "metadata": {},
   "outputs": [
    {
     "name": "stdout",
     "output_type": "stream",
     "text": [
      "['Star']\n",
      "[[0.125]\n",
      " [0.125]\n",
      " [0.125]\n",
      " [0.125]\n",
      " [0.125]\n",
      " [0.125]\n",
      " [0.125]\n",
      " [0.125]]\n"
     ]
    }
   ],
   "source": [
    "_,_,invgamma = As.compute_joints_and_invalpha()\n",
    "print(invgamma)"
   ]
  },
  {
   "cell_type": "markdown",
   "id": "3a5e972d",
   "metadata": {},
   "source": [
    "## Evaluating all abstractions from M0 to M1"
   ]
  },
  {
   "cell_type": "markdown",
   "id": "83935abd",
   "metadata": {},
   "source": [
    "### Support functions"
   ]
  },
  {
   "cell_type": "code",
   "execution_count": 35,
   "id": "85efbb59",
   "metadata": {},
   "outputs": [],
   "source": [
    "def enumerate_all_surjective_maps(dom,codom):\n",
    "    diff = dom - codom\n",
    "    surjective = np.arange(0,codom,dtype=int)\n",
    "    nonsurjective = np.array(list(itertools.combinations(surjective,diff)))\n",
    "    \n",
    "    surjectives = np.tile(surjective,(nonsurjective.shape[0],1))\n",
    "    if nonsurjective.size:\n",
    "        mappings = np.hstack((surjectives,nonsurjective))\n",
    "    else:\n",
    "        mappings = surjectives\n",
    "    \n",
    "    allmaps = []\n",
    "    for m in mappings:\n",
    "        ms = list(itertools.permutations(m))\n",
    "        allmaps.extend(ms)\n",
    "    \n",
    "    return set(allmaps)"
   ]
  },
  {
   "cell_type": "code",
   "execution_count": 36,
   "id": "a20ce5fc",
   "metadata": {},
   "outputs": [],
   "source": [
    "def transform_list_into_matrix(l,codom):\n",
    "    alpha = np.zeros((codom,len(l)))\n",
    "    for i in range(len(l)):\n",
    "        alpha[l[i],i] = 1\n",
    "    return alpha"
   ]
  },
  {
   "cell_type": "code",
   "execution_count": 37,
   "id": "996553f6",
   "metadata": {},
   "outputs": [],
   "source": [
    "def produce_all_abstraction_matrices(dom,codom):\n",
    "    ls = enumerate_all_surjective_maps(dom,codom)\n",
    "    \n",
    "    Ms = []\n",
    "    for l in ls:\n",
    "        Ms.append(transform_list_into_matrix(l,codom))\n",
    "    return Ms"
   ]
  },
  {
   "cell_type": "markdown",
   "id": "e13923ad",
   "metadata": {},
   "source": [
    "### Enumeration and evalution of abstractions"
   ]
  },
  {
   "cell_type": "code",
   "execution_count": 38,
   "id": "1855ef16",
   "metadata": {},
   "outputs": [],
   "source": [
    "R = ['Smoke', 'Cancer']\n",
    "a = {'Smoke': 'Smoke_',\n",
    "    'Cancer': 'Cancer_'}"
   ]
  },
  {
   "cell_type": "code",
   "execution_count": 39,
   "id": "e575ce21",
   "metadata": {},
   "outputs": [],
   "source": [
    "alphas_S_ = produce_all_abstraction_matrices(2,2)\n",
    "alphas_C_ = produce_all_abstraction_matrices(2,2)"
   ]
  },
  {
   "cell_type": "code",
   "execution_count": 40,
   "id": "cecba43f",
   "metadata": {},
   "outputs": [
    {
     "name": "stdout",
     "output_type": "stream",
     "text": [
      "[[1. 0.]\n",
      " [0. 1.]]\n",
      "['Smoke_', 'Cancer_']\n",
      "\n",
      "alpha_S_:\n",
      "[[1. 0.]\n",
      " [0. 1.]], \n",
      "alpha_C_:\n",
      "[[1. 0.]\n",
      " [0. 1.]]\n",
      "e(alpha) = [3.650024149988857e-09]\n",
      "i(alpha) = [0.44320847]\n",
      "['Smoke_', 'Cancer_']\n",
      "[[1. 0.]\n",
      " [0. 1.]]\n",
      "['Smoke_', 'Cancer_']\n",
      "\n",
      "alpha_S_:\n",
      "[[1. 0.]\n",
      " [0. 1.]], \n",
      "alpha_C_:\n",
      "[[0. 1.]\n",
      " [1. 0.]]\n",
      "e(alpha) = [0.5711586375843717]\n",
      "i(alpha) = [0.54873453]\n",
      "['Smoke_', 'Cancer_']\n",
      "[[0. 1.]\n",
      " [1. 0.]]\n",
      "['Smoke_', 'Cancer_']\n",
      "\n",
      "alpha_S_:\n",
      "[[0. 1.]\n",
      " [1. 0.]], \n",
      "alpha_C_:\n",
      "[[1. 0.]\n",
      " [0. 1.]]\n",
      "e(alpha) = [0.3787626192810662]\n",
      "i(alpha) = [0.43432526]\n",
      "['Smoke_', 'Cancer_']\n",
      "[[0. 1.]\n",
      " [1. 0.]]\n",
      "['Smoke_', 'Cancer_']\n",
      "\n",
      "alpha_S_:\n",
      "[[0. 1.]\n",
      " [1. 0.]], \n",
      "alpha_C_:\n",
      "[[0. 1.]\n",
      " [1. 0.]]\n",
      "e(alpha) = [0.2164268599328641]\n",
      "i(alpha) = [0.31430371]\n",
      "['Smoke_', 'Cancer_']\n"
     ]
    }
   ],
   "source": [
    "for alpha_S_ in alphas_S_:\n",
    "    for alpha_C_ in alphas_C_:\n",
    "        alphas = {'Smoke_': alpha_S_,\n",
    "                 'Cancer_': alpha_C_}\n",
    "\n",
    "        A = Abstraction(M0,M1,R,a,alphas)\n",
    "        \n",
    "        e = A.evaluate_abstraction_error()\n",
    "        i = A.evaluate_info_loss()\n",
    "        \n",
    "        print('\\nalpha_S_:\\n{0}, \\nalpha_C_:\\n{1}'.format(alpha_S_,alpha_C_))\n",
    "        print('e(alpha) = {0}'.format(e))\n",
    "        print('i(alpha) = {0}'.format(i))\n",
    "        \n",
    "        joint_M0,joint_M1,invalpha = A.compute_joints_and_invalpha()\n",
    "        #print(joint_M0)\n",
    "        #print(np.dot(invalpha,joint_M1))\n",
    "        #print(np.sum(np.abs(joint_M0 - np.dot(invalpha,joint_M1))))"
   ]
  },
  {
   "cell_type": "markdown",
   "id": "764ae99c",
   "metadata": {},
   "source": [
    "### Analysis of the distributions"
   ]
  },
  {
   "cell_type": "code",
   "execution_count": 41,
   "id": "8ab75d64",
   "metadata": {},
   "outputs": [
    {
     "name": "stdout",
     "output_type": "stream",
     "text": [
      "['Smoke_', 'Cancer_']\n",
      "['Smoke_', 'Cancer_']\n"
     ]
    }
   ],
   "source": [
    "alphas1 = {'Smoke_': alphas_S_[0],\n",
    "         'Cancer_': alphas_C_[0]}\n",
    "A1 = Abstraction(M0,M1,R,a,alphas1)\n",
    "joint_M0,joint_M1_1,invalpha_1 = A1.compute_joints_and_invalpha()\n",
    "\n",
    "alphas4 = {'Smoke_': alphas_S_[1],\n",
    "         'Cancer_': alphas_C_[1]}\n",
    "A4 = Abstraction(M0,M1,R,a,alphas4)\n",
    "joint_M0,joint_M1_4,invalpha_4 = A4.compute_joints_and_invalpha()"
   ]
  },
  {
   "cell_type": "code",
   "execution_count": 42,
   "id": "6c273c6f",
   "metadata": {},
   "outputs": [],
   "source": [
    "from pgmpy.factors.discrete import JointProbabilityDistribution as JPD\n",
    "\n",
    "p0 = JPD(['E','S','C'],[2,2,2],joint_M0)\n",
    "p1_1 = JPD(['E','S','C'],[2,2,2],np.dot(invalpha_1,joint_M1_1))\n",
    "p1_4 = JPD(['E','S','C'],[2,2,2],np.dot(invalpha_4,joint_M1_4))"
   ]
  },
  {
   "cell_type": "code",
   "execution_count": 43,
   "id": "3675997c",
   "metadata": {},
   "outputs": [
    {
     "name": "stdout",
     "output_type": "stream",
     "text": [
      "+------+------+------+------------+\n",
      "| E    | S    | C    |   P(E,S,C) |\n",
      "+======+======+======+============+\n",
      "| E(0) | S(0) | C(0) |     0.0880 |\n",
      "+------+------+------+------------+\n",
      "| E(0) | S(0) | C(1) |     0.0120 |\n",
      "+------+------+------+------------+\n",
      "| E(0) | S(1) | C(0) |     0.1520 |\n",
      "+------+------+------+------------+\n",
      "| E(0) | S(1) | C(1) |     0.2480 |\n",
      "+------+------+------+------------+\n",
      "| E(1) | S(0) | C(0) |     0.0880 |\n",
      "+------+------+------+------------+\n",
      "| E(1) | S(0) | C(1) |     0.0120 |\n",
      "+------+------+------+------------+\n",
      "| E(1) | S(1) | C(0) |     0.1520 |\n",
      "+------+------+------+------------+\n",
      "| E(1) | S(1) | C(1) |     0.2480 |\n",
      "+------+------+------+------------+\n"
     ]
    }
   ],
   "source": [
    "print(p1_1)"
   ]
  },
  {
   "cell_type": "code",
   "execution_count": 44,
   "id": "3c860adb",
   "metadata": {},
   "outputs": [
    {
     "name": "stdout",
     "output_type": "stream",
     "text": [
      "+------+--------+\n",
      "| S    |   P(S) |\n",
      "+======+========+\n",
      "| S(0) | 0.8842 |\n",
      "+------+--------+\n",
      "| S(1) | 0.1158 |\n",
      "+------+--------+\n",
      "+------+--------+\n",
      "| S    |   P(S) |\n",
      "+======+========+\n",
      "| S(0) | 0.3667 |\n",
      "+------+--------+\n",
      "| S(1) | 0.6333 |\n",
      "+------+--------+\n",
      "+------+--------+\n",
      "| S    |   P(S) |\n",
      "+======+========+\n",
      "| S(0) | 0.9538 |\n",
      "+------+--------+\n",
      "| S(1) | 0.0462 |\n",
      "+------+--------+\n"
     ]
    }
   ],
   "source": [
    "marg = ['S','C']\n",
    "cond = [('C',0)]\n",
    "\n",
    "\n",
    "p1 = JPD(['E','S','C'],[2,2,2],joint_M0)\n",
    "p1.marginal_distribution(marg)\n",
    "p1.conditional_distribution(cond)\n",
    "\n",
    "p1_1 = JPD(['E','S','C'],[2,2,2],np.dot(invalpha_1,joint_M1_1))\n",
    "p1_1.marginal_distribution(marg)\n",
    "p1_1.conditional_distribution(cond)\n",
    "p1_4 = JPD(['E','S','C'],[2,2,2],np.dot(invalpha_4,joint_M1_4))\n",
    "p1_4.marginal_distribution(marg)\n",
    "p1_4.conditional_distribution(cond)\n",
    "\n",
    "print(p1)\n",
    "print(p1_1)\n",
    "print(p1_4)"
   ]
  },
  {
   "cell_type": "code",
   "execution_count": 45,
   "id": "93e91b9d",
   "metadata": {},
   "outputs": [
    {
     "name": "stdout",
     "output_type": "stream",
     "text": [
      "+------+--------+\n",
      "| S    |   P(S) |\n",
      "+======+========+\n",
      "| S(0) | 0.2000 |\n",
      "+------+--------+\n",
      "| S(1) | 0.8000 |\n",
      "+------+--------+\n"
     ]
    }
   ],
   "source": [
    "p1_1 = JPD(['E','S','C'],[2,2,2],np.dot(invalpha_1,joint_M1_1))\n",
    "p1_1.marginal_distribution(['S'])\n",
    "print(p1_1)"
   ]
  },
  {
   "cell_type": "code",
   "execution_count": null,
   "id": "a89935eb",
   "metadata": {},
   "outputs": [],
   "source": []
  },
  {
   "cell_type": "code",
   "execution_count": null,
   "id": "d02ae6f2",
   "metadata": {},
   "outputs": [],
   "source": []
  }
 ],
 "metadata": {
  "kernelspec": {
   "display_name": "Python 3",
   "language": "python",
   "name": "python3"
  },
  "language_info": {
   "codemirror_mode": {
    "name": "ipython",
    "version": 3
   },
   "file_extension": ".py",
   "mimetype": "text/x-python",
   "name": "python",
   "nbconvert_exporter": "python",
   "pygments_lexer": "ipython3",
   "version": "3.9.14"
  },
  "toc": {
   "base_numbering": 1,
   "nav_menu": {},
   "number_sections": true,
   "sideBar": true,
   "skip_h1_title": false,
   "title_cell": "Table of Contents",
   "title_sidebar": "Contents",
   "toc_cell": false,
   "toc_position": {
    "height": "calc(100% - 180px)",
    "left": "10px",
    "top": "150px",
    "width": "274.908px"
   },
   "toc_section_display": true,
   "toc_window_display": true
  }
 },
 "nbformat": 4,
 "nbformat_minor": 5
}
